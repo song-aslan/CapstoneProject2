{
 "cells": [
  {
   "cell_type": "markdown",
   "metadata": {},
   "source": [
    "# 4 Pre-Processing and Training Data<a id='4_Pre-Processing_and_Training_Data'></a>"
   ]
  },
  {
   "cell_type": "markdown",
   "metadata": {},
   "source": [
    "## 4.1 Contents<a id='4.1_Contents'></a>\n",
    "* [4 Pre-Processing and Training Data](#4_Pre-Processing_and_Training_Data)\n",
    "  * [4.1 Contents](#4.1_Contents)\n",
    "  * [4.2 Introduction](#4.2_Introduction)\n",
    "  * [4.3 Imports](#4.3_Imports)\n",
    "  * [4.4 Load data](#4.4_Load_Data)\n",
    "  * [4.5 Set the index](#4.5_set_the_index)\n",
    "  * [4.6 Reorder the columns](#4.6_reorder_the_columns)\n",
    "  * [4.7 Impute the missing feature (predictor) values](#4.7_impute_the_missing_values)\n",
    "  * [4.8 Select the 100 most useful features](#4.8_select_100_best)\n",
    "  * [4.9 Filter the data to include only the best features](#4.9_filter_the_data)\n",
    "  * [4.10 Define X and y](#4.10_define_x_and_y)\n",
    "  * [4.11 Train/test split](#4.11_train_test_split)\n",
    "  * [4.12 Random forest model](#4.12_random_forest_model)\n",
    "       * [4.12.1 First model](#4.12.1_first_model)\n",
    "       * [4.12.2 Define the pipeline](#4.12.2_define_the_pipeline)\n",
    "       * [4.12.3 Fit and assess performance using cross-validation](#4.12.3_fit_and_assess_performance_using_cross-validation)\n",
    "       * [4.12.4 Hyperparameter search using GridSearchCV](#4.12.4_hyperparameter_search_using_GridSearchCV)       \n",
    " * [4.13 k-NN model](#4.13_knn_model)\n",
    "       * [4.13.1 First model](#4.13.1_first_model)\n",
    "       * [4.13.2 Hyperparameter search using GridSearchCV](#4.13.2_hyperparameter_search_using_GridSearchCV)     \n",
    "  * [4.14 Final model selection](#4.14_final_model_selection)\n",
    "    * [4.14.1 Random forest classification model performance](#4.14.1_random_forest_model_performance)\n",
    "    * [4.14.2 k-NN model performance](#4.14.2_knn_model_performance)\n",
    "    * [4.14.3 Conclusion](#4.14.3_conclusion)\n",
    "  * [4.15 Save best model object from pipeline](#4.15_save_best_model_object_from_pipeline)\n",
    "\n"
   ]
  },
  {
   "cell_type": "markdown",
   "metadata": {},
   "source": [
    "## 4.2 Introduction<a id='4.2_Introduction'></a>"
   ]
  },
  {
   "cell_type": "markdown",
   "metadata": {},
   "source": [
    "In preceding notebooks, we transformed data from one \"raw\" data form into another format in order to to make it more appropriate and valuable for our analysis. In this step we will do the followings:\n",
    "\n",
    "  * Impute the missing values\n",
    "  * Select the most useful 100 features. \n",
    "  * Filter the data based on the selected features\n",
    "  * Split the data\n",
    "  * Try out two machine learning models:\n",
    "      * Random Forest Classifier\n",
    "      * KNN\n",
    "  * Compare the performance of the models\n",
    "  "
   ]
  },
  {
   "cell_type": "markdown",
   "metadata": {},
   "source": [
    "## 4.3 Imports<a id='4.3_Imports'></a>"
   ]
  },
  {
   "cell_type": "code",
   "execution_count": 1,
   "metadata": {},
   "outputs": [],
   "source": [
    "import pandas as pd\n",
    "import numpy as np\n",
    "import os\n",
    "import pickle\n",
    "import matplotlib.pyplot as plt\n",
    "import seaborn as sns\n",
    "import datetime\n",
    "\n",
    "from sklearn import __version__ as sklearn_version\n",
    "from sklearn.decomposition import PCA\n",
    "from sklearn.preprocessing import scale\n",
    "from sklearn.model_selection import train_test_split, cross_validate, GridSearchCV, learning_curve\n",
    "from sklearn.preprocessing import StandardScaler, MinMaxScaler\n",
    "from sklearn.dummy import DummyRegressor\n",
    "from sklearn.linear_model import LinearRegression\n",
    "from sklearn.ensemble import RandomForestClassifier\n",
    "from sklearn.metrics import r2_score,accuracy_score, mean_squared_error, mean_absolute_error, precision_recall_fscore_support\n",
    "from sklearn import metrics\n",
    "from sklearn.metrics import roc_auc_score\n",
    "from sklearn.pipeline import make_pipeline\n",
    "from sklearn.metrics import multilabel_confusion_matrix\n",
    "from sklearn.metrics import classification_report\n",
    "from sklearn.datasets import make_classification\n",
    "from sklearn.model_selection import train_test_split\n",
    "from sklearn.preprocessing import StandardScaler\n",
    "from sklearn.neighbors import KNeighborsClassifier \n",
    "from sklearn import metrics\n",
    "from sklearn.impute import SimpleImputer\n",
    "from sklearn.feature_selection import SelectKBest, f_regression, chi2\n",
    "from sklearn.ensemble import ExtraTreesClassifier\n",
    "\n",
    "from ipynb.fs.full.auxiliary_functions import save_file\n",
    "\n",
    "%matplotlib inline\n"
   ]
  },
  {
   "cell_type": "markdown",
   "metadata": {},
   "source": [
    "## 4.4 Load data<a id='4.4_Load_Data'></a>"
   ]
  },
  {
   "cell_type": "code",
   "execution_count": 2,
   "metadata": {},
   "outputs": [
    {
     "data": {
      "text/html": [
       "<div>\n",
       "<style scoped>\n",
       "    .dataframe tbody tr th:only-of-type {\n",
       "        vertical-align: middle;\n",
       "    }\n",
       "\n",
       "    .dataframe tbody tr th {\n",
       "        vertical-align: top;\n",
       "    }\n",
       "\n",
       "    .dataframe thead th {\n",
       "        text-align: right;\n",
       "    }\n",
       "</style>\n",
       "<table border=\"1\" class=\"dataframe\">\n",
       "  <thead>\n",
       "    <tr style=\"text-align: right;\">\n",
       "      <th></th>\n",
       "      <th>member_id</th>\n",
       "      <th>icd_I10</th>\n",
       "      <th>icd_I10_chronic</th>\n",
       "      <th>icd_I739</th>\n",
       "      <th>icd_I739_chronic</th>\n",
       "      <th>num_of_visit</th>\n",
       "      <th>v1</th>\n",
       "      <th>v1_re_adm</th>\n",
       "      <th>v1_er_to_inp</th>\n",
       "      <th>v1_days_to_prev</th>\n",
       "      <th>...</th>\n",
       "      <th>ndc#_59746038410_refill</th>\n",
       "      <th>ndc#_68382013710_refill</th>\n",
       "      <th>ndc#_16252060102_refill</th>\n",
       "      <th>ndc#_10135018210_refill</th>\n",
       "      <th>ndc#_832102510_refill</th>\n",
       "      <th>ndc#_71093012105_refill</th>\n",
       "      <th>ndc#_43598075360_refill</th>\n",
       "      <th>ndc#_64380086106_refill</th>\n",
       "      <th>num_of_drugs</th>\n",
       "      <th>num_of_tests</th>\n",
       "    </tr>\n",
       "  </thead>\n",
       "  <tbody>\n",
       "    <tr>\n",
       "      <th>0</th>\n",
       "      <td>nr+43zfHQPKSwx2IJuJI5Q==</td>\n",
       "      <td>1.0</td>\n",
       "      <td>0.0</td>\n",
       "      <td>0.0</td>\n",
       "      <td>0.0</td>\n",
       "      <td>1.0</td>\n",
       "      <td>1.0</td>\n",
       "      <td>0.0</td>\n",
       "      <td>0.0</td>\n",
       "      <td>NaN</td>\n",
       "      <td>...</td>\n",
       "      <td>NaN</td>\n",
       "      <td>NaN</td>\n",
       "      <td>NaN</td>\n",
       "      <td>NaN</td>\n",
       "      <td>NaN</td>\n",
       "      <td>NaN</td>\n",
       "      <td>NaN</td>\n",
       "      <td>NaN</td>\n",
       "      <td>49.0</td>\n",
       "      <td>311.0</td>\n",
       "    </tr>\n",
       "    <tr>\n",
       "      <th>1</th>\n",
       "      <td>Vwf7mI0tTGC4amYJPD6uJg==</td>\n",
       "      <td>0.0</td>\n",
       "      <td>0.0</td>\n",
       "      <td>1.0</td>\n",
       "      <td>1.0</td>\n",
       "      <td>1.0</td>\n",
       "      <td>1.0</td>\n",
       "      <td>0.0</td>\n",
       "      <td>0.0</td>\n",
       "      <td>NaN</td>\n",
       "      <td>...</td>\n",
       "      <td>NaN</td>\n",
       "      <td>NaN</td>\n",
       "      <td>NaN</td>\n",
       "      <td>NaN</td>\n",
       "      <td>NaN</td>\n",
       "      <td>NaN</td>\n",
       "      <td>NaN</td>\n",
       "      <td>NaN</td>\n",
       "      <td>41.0</td>\n",
       "      <td>132.0</td>\n",
       "    </tr>\n",
       "    <tr>\n",
       "      <th>2</th>\n",
       "      <td>TRudRczSQt6dwb6EeZ1RLA==</td>\n",
       "      <td>0.0</td>\n",
       "      <td>0.0</td>\n",
       "      <td>1.0</td>\n",
       "      <td>1.0</td>\n",
       "      <td>NaN</td>\n",
       "      <td>NaN</td>\n",
       "      <td>NaN</td>\n",
       "      <td>NaN</td>\n",
       "      <td>NaN</td>\n",
       "      <td>...</td>\n",
       "      <td>NaN</td>\n",
       "      <td>NaN</td>\n",
       "      <td>NaN</td>\n",
       "      <td>NaN</td>\n",
       "      <td>NaN</td>\n",
       "      <td>NaN</td>\n",
       "      <td>NaN</td>\n",
       "      <td>NaN</td>\n",
       "      <td>133.0</td>\n",
       "      <td>115.0</td>\n",
       "    </tr>\n",
       "    <tr>\n",
       "      <th>3</th>\n",
       "      <td>VjG87+cBSB2B1+loMmoHCg==</td>\n",
       "      <td>0.0</td>\n",
       "      <td>0.0</td>\n",
       "      <td>1.0</td>\n",
       "      <td>1.0</td>\n",
       "      <td>2.0</td>\n",
       "      <td>1.0</td>\n",
       "      <td>0.0</td>\n",
       "      <td>0.0</td>\n",
       "      <td>NaN</td>\n",
       "      <td>...</td>\n",
       "      <td>NaN</td>\n",
       "      <td>NaN</td>\n",
       "      <td>NaN</td>\n",
       "      <td>NaN</td>\n",
       "      <td>NaN</td>\n",
       "      <td>NaN</td>\n",
       "      <td>NaN</td>\n",
       "      <td>NaN</td>\n",
       "      <td>202.0</td>\n",
       "      <td>283.0</td>\n",
       "    </tr>\n",
       "    <tr>\n",
       "      <th>4</th>\n",
       "      <td>7CfP6Hq5Qy6J0rXIuTc7kw==</td>\n",
       "      <td>1.0</td>\n",
       "      <td>0.0</td>\n",
       "      <td>0.0</td>\n",
       "      <td>0.0</td>\n",
       "      <td>NaN</td>\n",
       "      <td>NaN</td>\n",
       "      <td>NaN</td>\n",
       "      <td>NaN</td>\n",
       "      <td>NaN</td>\n",
       "      <td>...</td>\n",
       "      <td>NaN</td>\n",
       "      <td>NaN</td>\n",
       "      <td>NaN</td>\n",
       "      <td>NaN</td>\n",
       "      <td>NaN</td>\n",
       "      <td>NaN</td>\n",
       "      <td>NaN</td>\n",
       "      <td>NaN</td>\n",
       "      <td>102.0</td>\n",
       "      <td>NaN</td>\n",
       "    </tr>\n",
       "  </tbody>\n",
       "</table>\n",
       "<p>5 rows × 30057 columns</p>\n",
       "</div>"
      ],
      "text/plain": [
       "                  member_id  icd_I10  icd_I10_chronic  icd_I739  \\\n",
       "0  nr+43zfHQPKSwx2IJuJI5Q==      1.0              0.0       0.0   \n",
       "1  Vwf7mI0tTGC4amYJPD6uJg==      0.0              0.0       1.0   \n",
       "2  TRudRczSQt6dwb6EeZ1RLA==      0.0              0.0       1.0   \n",
       "3  VjG87+cBSB2B1+loMmoHCg==      0.0              0.0       1.0   \n",
       "4  7CfP6Hq5Qy6J0rXIuTc7kw==      1.0              0.0       0.0   \n",
       "\n",
       "   icd_I739_chronic  num_of_visit   v1  v1_re_adm  v1_er_to_inp  \\\n",
       "0               0.0           1.0  1.0        0.0           0.0   \n",
       "1               1.0           1.0  1.0        0.0           0.0   \n",
       "2               1.0           NaN  NaN        NaN           NaN   \n",
       "3               1.0           2.0  1.0        0.0           0.0   \n",
       "4               0.0           NaN  NaN        NaN           NaN   \n",
       "\n",
       "   v1_days_to_prev  ...  ndc#_59746038410_refill  ndc#_68382013710_refill  \\\n",
       "0              NaN  ...                      NaN                      NaN   \n",
       "1              NaN  ...                      NaN                      NaN   \n",
       "2              NaN  ...                      NaN                      NaN   \n",
       "3              NaN  ...                      NaN                      NaN   \n",
       "4              NaN  ...                      NaN                      NaN   \n",
       "\n",
       "   ndc#_16252060102_refill  ndc#_10135018210_refill  ndc#_832102510_refill  \\\n",
       "0                      NaN                      NaN                    NaN   \n",
       "1                      NaN                      NaN                    NaN   \n",
       "2                      NaN                      NaN                    NaN   \n",
       "3                      NaN                      NaN                    NaN   \n",
       "4                      NaN                      NaN                    NaN   \n",
       "\n",
       "   ndc#_71093012105_refill  ndc#_43598075360_refill  ndc#_64380086106_refill  \\\n",
       "0                      NaN                      NaN                      NaN   \n",
       "1                      NaN                      NaN                      NaN   \n",
       "2                      NaN                      NaN                      NaN   \n",
       "3                      NaN                      NaN                      NaN   \n",
       "4                      NaN                      NaN                      NaN   \n",
       "\n",
       "   num_of_drugs  num_of_tests  \n",
       "0          49.0         311.0  \n",
       "1          41.0         132.0  \n",
       "2         133.0         115.0  \n",
       "3         202.0         283.0  \n",
       "4         102.0           NaN  \n",
       "\n",
       "[5 rows x 30057 columns]"
      ]
     },
     "execution_count": 2,
     "metadata": {},
     "output_type": "execute_result"
    }
   ],
   "source": [
    "df_final = pd.read_csv('df_final.csv')\n",
    "df_final.head()"
   ]
  },
  {
   "cell_type": "code",
   "execution_count": 3,
   "metadata": {},
   "outputs": [
    {
     "name": "stdout",
     "output_type": "stream",
     "text": [
      "<class 'pandas.core.frame.DataFrame'>\n",
      "RangeIndex: 1941 entries, 0 to 1940\n",
      "Columns: 30057 entries, member_id to num_of_tests\n",
      "dtypes: float64(30056), object(1)\n",
      "memory usage: 445.1+ MB\n"
     ]
    }
   ],
   "source": [
    "df_final.info()"
   ]
  },
  {
   "cell_type": "markdown",
   "metadata": {},
   "source": [
    "## 4.5 Set the index <a id='4.5_set_the_index'></a>"
   ]
  },
  {
   "cell_type": "markdown",
   "metadata": {},
   "source": [
    "In the following we set 'member_id' as index."
   ]
  },
  {
   "cell_type": "code",
   "execution_count": 4,
   "metadata": {},
   "outputs": [
    {
     "data": {
      "text/html": [
       "<div>\n",
       "<style scoped>\n",
       "    .dataframe tbody tr th:only-of-type {\n",
       "        vertical-align: middle;\n",
       "    }\n",
       "\n",
       "    .dataframe tbody tr th {\n",
       "        vertical-align: top;\n",
       "    }\n",
       "\n",
       "    .dataframe thead th {\n",
       "        text-align: right;\n",
       "    }\n",
       "</style>\n",
       "<table border=\"1\" class=\"dataframe\">\n",
       "  <thead>\n",
       "    <tr style=\"text-align: right;\">\n",
       "      <th></th>\n",
       "      <th>icd_I10</th>\n",
       "      <th>icd_I10_chronic</th>\n",
       "      <th>icd_I739</th>\n",
       "      <th>icd_I739_chronic</th>\n",
       "      <th>num_of_visit</th>\n",
       "      <th>v1</th>\n",
       "      <th>v1_re_adm</th>\n",
       "      <th>v1_er_to_inp</th>\n",
       "      <th>v1_days_to_prev</th>\n",
       "      <th>v1_len</th>\n",
       "      <th>...</th>\n",
       "      <th>ndc#_59746038410_refill</th>\n",
       "      <th>ndc#_68382013710_refill</th>\n",
       "      <th>ndc#_16252060102_refill</th>\n",
       "      <th>ndc#_10135018210_refill</th>\n",
       "      <th>ndc#_832102510_refill</th>\n",
       "      <th>ndc#_71093012105_refill</th>\n",
       "      <th>ndc#_43598075360_refill</th>\n",
       "      <th>ndc#_64380086106_refill</th>\n",
       "      <th>num_of_drugs</th>\n",
       "      <th>num_of_tests</th>\n",
       "    </tr>\n",
       "    <tr>\n",
       "      <th>member_id</th>\n",
       "      <th></th>\n",
       "      <th></th>\n",
       "      <th></th>\n",
       "      <th></th>\n",
       "      <th></th>\n",
       "      <th></th>\n",
       "      <th></th>\n",
       "      <th></th>\n",
       "      <th></th>\n",
       "      <th></th>\n",
       "      <th></th>\n",
       "      <th></th>\n",
       "      <th></th>\n",
       "      <th></th>\n",
       "      <th></th>\n",
       "      <th></th>\n",
       "      <th></th>\n",
       "      <th></th>\n",
       "      <th></th>\n",
       "      <th></th>\n",
       "      <th></th>\n",
       "    </tr>\n",
       "  </thead>\n",
       "  <tbody>\n",
       "    <tr>\n",
       "      <th>nr+43zfHQPKSwx2IJuJI5Q==</th>\n",
       "      <td>1.0</td>\n",
       "      <td>0.0</td>\n",
       "      <td>0.0</td>\n",
       "      <td>0.0</td>\n",
       "      <td>1.0</td>\n",
       "      <td>1.0</td>\n",
       "      <td>0.0</td>\n",
       "      <td>0.0</td>\n",
       "      <td>NaN</td>\n",
       "      <td>0.0</td>\n",
       "      <td>...</td>\n",
       "      <td>NaN</td>\n",
       "      <td>NaN</td>\n",
       "      <td>NaN</td>\n",
       "      <td>NaN</td>\n",
       "      <td>NaN</td>\n",
       "      <td>NaN</td>\n",
       "      <td>NaN</td>\n",
       "      <td>NaN</td>\n",
       "      <td>49.0</td>\n",
       "      <td>311.0</td>\n",
       "    </tr>\n",
       "    <tr>\n",
       "      <th>Vwf7mI0tTGC4amYJPD6uJg==</th>\n",
       "      <td>0.0</td>\n",
       "      <td>0.0</td>\n",
       "      <td>1.0</td>\n",
       "      <td>1.0</td>\n",
       "      <td>1.0</td>\n",
       "      <td>1.0</td>\n",
       "      <td>0.0</td>\n",
       "      <td>0.0</td>\n",
       "      <td>NaN</td>\n",
       "      <td>0.0</td>\n",
       "      <td>...</td>\n",
       "      <td>NaN</td>\n",
       "      <td>NaN</td>\n",
       "      <td>NaN</td>\n",
       "      <td>NaN</td>\n",
       "      <td>NaN</td>\n",
       "      <td>NaN</td>\n",
       "      <td>NaN</td>\n",
       "      <td>NaN</td>\n",
       "      <td>41.0</td>\n",
       "      <td>132.0</td>\n",
       "    </tr>\n",
       "    <tr>\n",
       "      <th>TRudRczSQt6dwb6EeZ1RLA==</th>\n",
       "      <td>0.0</td>\n",
       "      <td>0.0</td>\n",
       "      <td>1.0</td>\n",
       "      <td>1.0</td>\n",
       "      <td>NaN</td>\n",
       "      <td>NaN</td>\n",
       "      <td>NaN</td>\n",
       "      <td>NaN</td>\n",
       "      <td>NaN</td>\n",
       "      <td>NaN</td>\n",
       "      <td>...</td>\n",
       "      <td>NaN</td>\n",
       "      <td>NaN</td>\n",
       "      <td>NaN</td>\n",
       "      <td>NaN</td>\n",
       "      <td>NaN</td>\n",
       "      <td>NaN</td>\n",
       "      <td>NaN</td>\n",
       "      <td>NaN</td>\n",
       "      <td>133.0</td>\n",
       "      <td>115.0</td>\n",
       "    </tr>\n",
       "    <tr>\n",
       "      <th>VjG87+cBSB2B1+loMmoHCg==</th>\n",
       "      <td>0.0</td>\n",
       "      <td>0.0</td>\n",
       "      <td>1.0</td>\n",
       "      <td>1.0</td>\n",
       "      <td>2.0</td>\n",
       "      <td>1.0</td>\n",
       "      <td>0.0</td>\n",
       "      <td>0.0</td>\n",
       "      <td>NaN</td>\n",
       "      <td>1.0</td>\n",
       "      <td>...</td>\n",
       "      <td>NaN</td>\n",
       "      <td>NaN</td>\n",
       "      <td>NaN</td>\n",
       "      <td>NaN</td>\n",
       "      <td>NaN</td>\n",
       "      <td>NaN</td>\n",
       "      <td>NaN</td>\n",
       "      <td>NaN</td>\n",
       "      <td>202.0</td>\n",
       "      <td>283.0</td>\n",
       "    </tr>\n",
       "    <tr>\n",
       "      <th>7CfP6Hq5Qy6J0rXIuTc7kw==</th>\n",
       "      <td>1.0</td>\n",
       "      <td>0.0</td>\n",
       "      <td>0.0</td>\n",
       "      <td>0.0</td>\n",
       "      <td>NaN</td>\n",
       "      <td>NaN</td>\n",
       "      <td>NaN</td>\n",
       "      <td>NaN</td>\n",
       "      <td>NaN</td>\n",
       "      <td>NaN</td>\n",
       "      <td>...</td>\n",
       "      <td>NaN</td>\n",
       "      <td>NaN</td>\n",
       "      <td>NaN</td>\n",
       "      <td>NaN</td>\n",
       "      <td>NaN</td>\n",
       "      <td>NaN</td>\n",
       "      <td>NaN</td>\n",
       "      <td>NaN</td>\n",
       "      <td>102.0</td>\n",
       "      <td>NaN</td>\n",
       "    </tr>\n",
       "  </tbody>\n",
       "</table>\n",
       "<p>5 rows × 30056 columns</p>\n",
       "</div>"
      ],
      "text/plain": [
       "                          icd_I10  icd_I10_chronic  icd_I739  \\\n",
       "member_id                                                      \n",
       "nr+43zfHQPKSwx2IJuJI5Q==      1.0              0.0       0.0   \n",
       "Vwf7mI0tTGC4amYJPD6uJg==      0.0              0.0       1.0   \n",
       "TRudRczSQt6dwb6EeZ1RLA==      0.0              0.0       1.0   \n",
       "VjG87+cBSB2B1+loMmoHCg==      0.0              0.0       1.0   \n",
       "7CfP6Hq5Qy6J0rXIuTc7kw==      1.0              0.0       0.0   \n",
       "\n",
       "                          icd_I739_chronic  num_of_visit   v1  v1_re_adm  \\\n",
       "member_id                                                                  \n",
       "nr+43zfHQPKSwx2IJuJI5Q==               0.0           1.0  1.0        0.0   \n",
       "Vwf7mI0tTGC4amYJPD6uJg==               1.0           1.0  1.0        0.0   \n",
       "TRudRczSQt6dwb6EeZ1RLA==               1.0           NaN  NaN        NaN   \n",
       "VjG87+cBSB2B1+loMmoHCg==               1.0           2.0  1.0        0.0   \n",
       "7CfP6Hq5Qy6J0rXIuTc7kw==               0.0           NaN  NaN        NaN   \n",
       "\n",
       "                          v1_er_to_inp  v1_days_to_prev  v1_len  ...  \\\n",
       "member_id                                                        ...   \n",
       "nr+43zfHQPKSwx2IJuJI5Q==           0.0              NaN     0.0  ...   \n",
       "Vwf7mI0tTGC4amYJPD6uJg==           0.0              NaN     0.0  ...   \n",
       "TRudRczSQt6dwb6EeZ1RLA==           NaN              NaN     NaN  ...   \n",
       "VjG87+cBSB2B1+loMmoHCg==           0.0              NaN     1.0  ...   \n",
       "7CfP6Hq5Qy6J0rXIuTc7kw==           NaN              NaN     NaN  ...   \n",
       "\n",
       "                          ndc#_59746038410_refill  ndc#_68382013710_refill  \\\n",
       "member_id                                                                    \n",
       "nr+43zfHQPKSwx2IJuJI5Q==                      NaN                      NaN   \n",
       "Vwf7mI0tTGC4amYJPD6uJg==                      NaN                      NaN   \n",
       "TRudRczSQt6dwb6EeZ1RLA==                      NaN                      NaN   \n",
       "VjG87+cBSB2B1+loMmoHCg==                      NaN                      NaN   \n",
       "7CfP6Hq5Qy6J0rXIuTc7kw==                      NaN                      NaN   \n",
       "\n",
       "                          ndc#_16252060102_refill  ndc#_10135018210_refill  \\\n",
       "member_id                                                                    \n",
       "nr+43zfHQPKSwx2IJuJI5Q==                      NaN                      NaN   \n",
       "Vwf7mI0tTGC4amYJPD6uJg==                      NaN                      NaN   \n",
       "TRudRczSQt6dwb6EeZ1RLA==                      NaN                      NaN   \n",
       "VjG87+cBSB2B1+loMmoHCg==                      NaN                      NaN   \n",
       "7CfP6Hq5Qy6J0rXIuTc7kw==                      NaN                      NaN   \n",
       "\n",
       "                          ndc#_832102510_refill  ndc#_71093012105_refill  \\\n",
       "member_id                                                                  \n",
       "nr+43zfHQPKSwx2IJuJI5Q==                    NaN                      NaN   \n",
       "Vwf7mI0tTGC4amYJPD6uJg==                    NaN                      NaN   \n",
       "TRudRczSQt6dwb6EeZ1RLA==                    NaN                      NaN   \n",
       "VjG87+cBSB2B1+loMmoHCg==                    NaN                      NaN   \n",
       "7CfP6Hq5Qy6J0rXIuTc7kw==                    NaN                      NaN   \n",
       "\n",
       "                          ndc#_43598075360_refill  ndc#_64380086106_refill  \\\n",
       "member_id                                                                    \n",
       "nr+43zfHQPKSwx2IJuJI5Q==                      NaN                      NaN   \n",
       "Vwf7mI0tTGC4amYJPD6uJg==                      NaN                      NaN   \n",
       "TRudRczSQt6dwb6EeZ1RLA==                      NaN                      NaN   \n",
       "VjG87+cBSB2B1+loMmoHCg==                      NaN                      NaN   \n",
       "7CfP6Hq5Qy6J0rXIuTc7kw==                      NaN                      NaN   \n",
       "\n",
       "                          num_of_drugs  num_of_tests  \n",
       "member_id                                             \n",
       "nr+43zfHQPKSwx2IJuJI5Q==          49.0         311.0  \n",
       "Vwf7mI0tTGC4amYJPD6uJg==          41.0         132.0  \n",
       "TRudRczSQt6dwb6EeZ1RLA==         133.0         115.0  \n",
       "VjG87+cBSB2B1+loMmoHCg==         202.0         283.0  \n",
       "7CfP6Hq5Qy6J0rXIuTc7kw==         102.0           NaN  \n",
       "\n",
       "[5 rows x 30056 columns]"
      ]
     },
     "execution_count": 4,
     "metadata": {},
     "output_type": "execute_result"
    }
   ],
   "source": [
    "df_final.set_index('member_id', inplace=True)\n",
    "df_final.head()"
   ]
  },
  {
   "cell_type": "markdown",
   "metadata": {},
   "source": [
    "## 4.6 Reorder the columns<a id='4.6_reorder_the_columns'></a>"
   ]
  },
  {
   "cell_type": "markdown",
   "metadata": {},
   "source": [
    "In order to define X, independent variable and y, dependent variable (target feature), we change the order of the columns."
   ]
  },
  {
   "cell_type": "code",
   "execution_count": 5,
   "metadata": {},
   "outputs": [
    {
     "data": {
      "text/html": [
       "<div>\n",
       "<style scoped>\n",
       "    .dataframe tbody tr th:only-of-type {\n",
       "        vertical-align: middle;\n",
       "    }\n",
       "\n",
       "    .dataframe tbody tr th {\n",
       "        vertical-align: top;\n",
       "    }\n",
       "\n",
       "    .dataframe thead th {\n",
       "        text-align: right;\n",
       "    }\n",
       "</style>\n",
       "<table border=\"1\" class=\"dataframe\">\n",
       "  <thead>\n",
       "    <tr style=\"text-align: right;\">\n",
       "      <th></th>\n",
       "      <th>icd_I10</th>\n",
       "      <th>icd_I739</th>\n",
       "      <th>icd_I10_chronic</th>\n",
       "      <th>icd_I739_chronic</th>\n",
       "      <th>num_of_visit</th>\n",
       "      <th>v1</th>\n",
       "      <th>v1_re_adm</th>\n",
       "      <th>v1_er_to_inp</th>\n",
       "      <th>v1_days_to_prev</th>\n",
       "      <th>v1_len</th>\n",
       "      <th>...</th>\n",
       "      <th>ndc#_59746038410_refill</th>\n",
       "      <th>ndc#_68382013710_refill</th>\n",
       "      <th>ndc#_16252060102_refill</th>\n",
       "      <th>ndc#_10135018210_refill</th>\n",
       "      <th>ndc#_832102510_refill</th>\n",
       "      <th>ndc#_71093012105_refill</th>\n",
       "      <th>ndc#_43598075360_refill</th>\n",
       "      <th>ndc#_64380086106_refill</th>\n",
       "      <th>num_of_drugs</th>\n",
       "      <th>num_of_tests</th>\n",
       "    </tr>\n",
       "    <tr>\n",
       "      <th>member_id</th>\n",
       "      <th></th>\n",
       "      <th></th>\n",
       "      <th></th>\n",
       "      <th></th>\n",
       "      <th></th>\n",
       "      <th></th>\n",
       "      <th></th>\n",
       "      <th></th>\n",
       "      <th></th>\n",
       "      <th></th>\n",
       "      <th></th>\n",
       "      <th></th>\n",
       "      <th></th>\n",
       "      <th></th>\n",
       "      <th></th>\n",
       "      <th></th>\n",
       "      <th></th>\n",
       "      <th></th>\n",
       "      <th></th>\n",
       "      <th></th>\n",
       "      <th></th>\n",
       "    </tr>\n",
       "  </thead>\n",
       "  <tbody>\n",
       "    <tr>\n",
       "      <th>nr+43zfHQPKSwx2IJuJI5Q==</th>\n",
       "      <td>1.0</td>\n",
       "      <td>0.0</td>\n",
       "      <td>0.0</td>\n",
       "      <td>0.0</td>\n",
       "      <td>1.0</td>\n",
       "      <td>1.0</td>\n",
       "      <td>0.0</td>\n",
       "      <td>0.0</td>\n",
       "      <td>NaN</td>\n",
       "      <td>0.0</td>\n",
       "      <td>...</td>\n",
       "      <td>NaN</td>\n",
       "      <td>NaN</td>\n",
       "      <td>NaN</td>\n",
       "      <td>NaN</td>\n",
       "      <td>NaN</td>\n",
       "      <td>NaN</td>\n",
       "      <td>NaN</td>\n",
       "      <td>NaN</td>\n",
       "      <td>49.0</td>\n",
       "      <td>311.0</td>\n",
       "    </tr>\n",
       "    <tr>\n",
       "      <th>Vwf7mI0tTGC4amYJPD6uJg==</th>\n",
       "      <td>0.0</td>\n",
       "      <td>1.0</td>\n",
       "      <td>0.0</td>\n",
       "      <td>1.0</td>\n",
       "      <td>1.0</td>\n",
       "      <td>1.0</td>\n",
       "      <td>0.0</td>\n",
       "      <td>0.0</td>\n",
       "      <td>NaN</td>\n",
       "      <td>0.0</td>\n",
       "      <td>...</td>\n",
       "      <td>NaN</td>\n",
       "      <td>NaN</td>\n",
       "      <td>NaN</td>\n",
       "      <td>NaN</td>\n",
       "      <td>NaN</td>\n",
       "      <td>NaN</td>\n",
       "      <td>NaN</td>\n",
       "      <td>NaN</td>\n",
       "      <td>41.0</td>\n",
       "      <td>132.0</td>\n",
       "    </tr>\n",
       "    <tr>\n",
       "      <th>TRudRczSQt6dwb6EeZ1RLA==</th>\n",
       "      <td>0.0</td>\n",
       "      <td>1.0</td>\n",
       "      <td>0.0</td>\n",
       "      <td>1.0</td>\n",
       "      <td>NaN</td>\n",
       "      <td>NaN</td>\n",
       "      <td>NaN</td>\n",
       "      <td>NaN</td>\n",
       "      <td>NaN</td>\n",
       "      <td>NaN</td>\n",
       "      <td>...</td>\n",
       "      <td>NaN</td>\n",
       "      <td>NaN</td>\n",
       "      <td>NaN</td>\n",
       "      <td>NaN</td>\n",
       "      <td>NaN</td>\n",
       "      <td>NaN</td>\n",
       "      <td>NaN</td>\n",
       "      <td>NaN</td>\n",
       "      <td>133.0</td>\n",
       "      <td>115.0</td>\n",
       "    </tr>\n",
       "    <tr>\n",
       "      <th>VjG87+cBSB2B1+loMmoHCg==</th>\n",
       "      <td>0.0</td>\n",
       "      <td>1.0</td>\n",
       "      <td>0.0</td>\n",
       "      <td>1.0</td>\n",
       "      <td>2.0</td>\n",
       "      <td>1.0</td>\n",
       "      <td>0.0</td>\n",
       "      <td>0.0</td>\n",
       "      <td>NaN</td>\n",
       "      <td>1.0</td>\n",
       "      <td>...</td>\n",
       "      <td>NaN</td>\n",
       "      <td>NaN</td>\n",
       "      <td>NaN</td>\n",
       "      <td>NaN</td>\n",
       "      <td>NaN</td>\n",
       "      <td>NaN</td>\n",
       "      <td>NaN</td>\n",
       "      <td>NaN</td>\n",
       "      <td>202.0</td>\n",
       "      <td>283.0</td>\n",
       "    </tr>\n",
       "    <tr>\n",
       "      <th>7CfP6Hq5Qy6J0rXIuTc7kw==</th>\n",
       "      <td>1.0</td>\n",
       "      <td>0.0</td>\n",
       "      <td>0.0</td>\n",
       "      <td>0.0</td>\n",
       "      <td>NaN</td>\n",
       "      <td>NaN</td>\n",
       "      <td>NaN</td>\n",
       "      <td>NaN</td>\n",
       "      <td>NaN</td>\n",
       "      <td>NaN</td>\n",
       "      <td>...</td>\n",
       "      <td>NaN</td>\n",
       "      <td>NaN</td>\n",
       "      <td>NaN</td>\n",
       "      <td>NaN</td>\n",
       "      <td>NaN</td>\n",
       "      <td>NaN</td>\n",
       "      <td>NaN</td>\n",
       "      <td>NaN</td>\n",
       "      <td>102.0</td>\n",
       "      <td>NaN</td>\n",
       "    </tr>\n",
       "  </tbody>\n",
       "</table>\n",
       "<p>5 rows × 30056 columns</p>\n",
       "</div>"
      ],
      "text/plain": [
       "                          icd_I10  icd_I739  icd_I10_chronic  \\\n",
       "member_id                                                      \n",
       "nr+43zfHQPKSwx2IJuJI5Q==      1.0       0.0              0.0   \n",
       "Vwf7mI0tTGC4amYJPD6uJg==      0.0       1.0              0.0   \n",
       "TRudRczSQt6dwb6EeZ1RLA==      0.0       1.0              0.0   \n",
       "VjG87+cBSB2B1+loMmoHCg==      0.0       1.0              0.0   \n",
       "7CfP6Hq5Qy6J0rXIuTc7kw==      1.0       0.0              0.0   \n",
       "\n",
       "                          icd_I739_chronic  num_of_visit   v1  v1_re_adm  \\\n",
       "member_id                                                                  \n",
       "nr+43zfHQPKSwx2IJuJI5Q==               0.0           1.0  1.0        0.0   \n",
       "Vwf7mI0tTGC4amYJPD6uJg==               1.0           1.0  1.0        0.0   \n",
       "TRudRczSQt6dwb6EeZ1RLA==               1.0           NaN  NaN        NaN   \n",
       "VjG87+cBSB2B1+loMmoHCg==               1.0           2.0  1.0        0.0   \n",
       "7CfP6Hq5Qy6J0rXIuTc7kw==               0.0           NaN  NaN        NaN   \n",
       "\n",
       "                          v1_er_to_inp  v1_days_to_prev  v1_len  ...  \\\n",
       "member_id                                                        ...   \n",
       "nr+43zfHQPKSwx2IJuJI5Q==           0.0              NaN     0.0  ...   \n",
       "Vwf7mI0tTGC4amYJPD6uJg==           0.0              NaN     0.0  ...   \n",
       "TRudRczSQt6dwb6EeZ1RLA==           NaN              NaN     NaN  ...   \n",
       "VjG87+cBSB2B1+loMmoHCg==           0.0              NaN     1.0  ...   \n",
       "7CfP6Hq5Qy6J0rXIuTc7kw==           NaN              NaN     NaN  ...   \n",
       "\n",
       "                          ndc#_59746038410_refill  ndc#_68382013710_refill  \\\n",
       "member_id                                                                    \n",
       "nr+43zfHQPKSwx2IJuJI5Q==                      NaN                      NaN   \n",
       "Vwf7mI0tTGC4amYJPD6uJg==                      NaN                      NaN   \n",
       "TRudRczSQt6dwb6EeZ1RLA==                      NaN                      NaN   \n",
       "VjG87+cBSB2B1+loMmoHCg==                      NaN                      NaN   \n",
       "7CfP6Hq5Qy6J0rXIuTc7kw==                      NaN                      NaN   \n",
       "\n",
       "                          ndc#_16252060102_refill  ndc#_10135018210_refill  \\\n",
       "member_id                                                                    \n",
       "nr+43zfHQPKSwx2IJuJI5Q==                      NaN                      NaN   \n",
       "Vwf7mI0tTGC4amYJPD6uJg==                      NaN                      NaN   \n",
       "TRudRczSQt6dwb6EeZ1RLA==                      NaN                      NaN   \n",
       "VjG87+cBSB2B1+loMmoHCg==                      NaN                      NaN   \n",
       "7CfP6Hq5Qy6J0rXIuTc7kw==                      NaN                      NaN   \n",
       "\n",
       "                          ndc#_832102510_refill  ndc#_71093012105_refill  \\\n",
       "member_id                                                                  \n",
       "nr+43zfHQPKSwx2IJuJI5Q==                    NaN                      NaN   \n",
       "Vwf7mI0tTGC4amYJPD6uJg==                    NaN                      NaN   \n",
       "TRudRczSQt6dwb6EeZ1RLA==                    NaN                      NaN   \n",
       "VjG87+cBSB2B1+loMmoHCg==                    NaN                      NaN   \n",
       "7CfP6Hq5Qy6J0rXIuTc7kw==                    NaN                      NaN   \n",
       "\n",
       "                          ndc#_43598075360_refill  ndc#_64380086106_refill  \\\n",
       "member_id                                                                    \n",
       "nr+43zfHQPKSwx2IJuJI5Q==                      NaN                      NaN   \n",
       "Vwf7mI0tTGC4amYJPD6uJg==                      NaN                      NaN   \n",
       "TRudRczSQt6dwb6EeZ1RLA==                      NaN                      NaN   \n",
       "VjG87+cBSB2B1+loMmoHCg==                      NaN                      NaN   \n",
       "7CfP6Hq5Qy6J0rXIuTc7kw==                      NaN                      NaN   \n",
       "\n",
       "                          num_of_drugs  num_of_tests  \n",
       "member_id                                             \n",
       "nr+43zfHQPKSwx2IJuJI5Q==          49.0         311.0  \n",
       "Vwf7mI0tTGC4amYJPD6uJg==          41.0         132.0  \n",
       "TRudRczSQt6dwb6EeZ1RLA==         133.0         115.0  \n",
       "VjG87+cBSB2B1+loMmoHCg==         202.0         283.0  \n",
       "7CfP6Hq5Qy6J0rXIuTc7kw==         102.0           NaN  \n",
       "\n",
       "[5 rows x 30056 columns]"
      ]
     },
     "execution_count": 5,
     "metadata": {},
     "output_type": "execute_result"
    }
   ],
   "source": [
    "col=list(df_final.columns)\n",
    "ordered_col=['icd_I10', 'icd_I739', 'icd_I10_chronic', 'icd_I739_chronic']+col[4:]\n",
    "# reorder the columns of df_final\n",
    "\n",
    "df_final=df_final[ordered_col]\n",
    "df_final.head()"
   ]
  },
  {
   "cell_type": "markdown",
   "metadata": {},
   "source": [
    "We change the dtypes of columns 'icd_I10' and 'icd_I739' into 'int'."
   ]
  },
  {
   "cell_type": "code",
   "execution_count": 6,
   "metadata": {},
   "outputs": [
    {
     "name": "stdout",
     "output_type": "stream",
     "text": [
      "<class 'pandas.core.frame.DataFrame'>\n",
      "Index: 1941 entries, nr+43zfHQPKSwx2IJuJI5Q== to ZtdvAJtHT/uuwJWbulElSA==\n",
      "Columns: 30056 entries, icd_I10 to num_of_tests\n",
      "dtypes: float64(30054), int64(2)\n",
      "memory usage: 445.1+ MB\n"
     ]
    }
   ],
   "source": [
    "df_final['icd_I10']=df_final['icd_I10'].astype('int')\n",
    "df_final['icd_I739']=df_final['icd_I739'].astype('int')\n",
    "df_final.info()"
   ]
  },
  {
   "cell_type": "markdown",
   "metadata": {},
   "source": [
    "## 4.7 Impute the missing feature (predictor) values <a id=4.7_impute_the_missing_values ><a/>"
   ]
  },
  {
   "cell_type": "markdown",
   "metadata": {},
   "source": [
    "We have some 'inf' and '-inf' values in our dataframe. We will replace these values with np.nan. Also, we replace all nulls with 0 to make sure that our algorithms will work. "
   ]
  },
  {
   "cell_type": "code",
   "execution_count": 7,
   "metadata": {},
   "outputs": [],
   "source": [
    "df_final.replace([np.inf, -np.inf], np.nan, inplace=True)\n",
    "df_final.replace([np.inf, -np.inf], np.nan, inplace=True)\n",
    "df_final.fillna(0, inplace=True)"
   ]
  },
  {
   "cell_type": "markdown",
   "metadata": {},
   "source": [
    "We apply 'abs()' to make sure that we don't have negative values."
   ]
  },
  {
   "cell_type": "code",
   "execution_count": 8,
   "metadata": {},
   "outputs": [],
   "source": [
    "df_final=df_final[df_final.columns].abs()"
   ]
  },
  {
   "cell_type": "markdown",
   "metadata": {},
   "source": [
    "We define X and y."
   ]
  },
  {
   "cell_type": "code",
   "execution_count": 9,
   "metadata": {},
   "outputs": [
    {
     "name": "stdout",
     "output_type": "stream",
     "text": [
      "(1941, 30053) (1941, 2)\n"
     ]
    }
   ],
   "source": [
    "X=df_final.iloc[:, 3:]\n",
    "y=df_final.iloc[:, 0:2]\n",
    "print(X.shape, y.shape)"
   ]
  },
  {
   "cell_type": "markdown",
   "metadata": {},
   "source": [
    "## 4.8 Select the 100 most useful features <a id=4.8_select_100_best><a/>"
   ]
  },
  {
   "cell_type": "markdown",
   "metadata": {},
   "source": [
    "We use 'SelectKBest()' function to determine the best 100 features among 30054 features."
   ]
  },
  {
   "cell_type": "code",
   "execution_count": 10,
   "metadata": {},
   "outputs": [
    {
     "data": {
      "text/html": [
       "<div>\n",
       "<style scoped>\n",
       "    .dataframe tbody tr th:only-of-type {\n",
       "        vertical-align: middle;\n",
       "    }\n",
       "\n",
       "    .dataframe tbody tr th {\n",
       "        vertical-align: top;\n",
       "    }\n",
       "\n",
       "    .dataframe thead th {\n",
       "        text-align: right;\n",
       "    }\n",
       "</style>\n",
       "<table border=\"1\" class=\"dataframe\">\n",
       "  <thead>\n",
       "    <tr style=\"text-align: right;\">\n",
       "      <th></th>\n",
       "      <th>features</th>\n",
       "      <th>scores</th>\n",
       "    </tr>\n",
       "  </thead>\n",
       "  <tbody>\n",
       "    <tr>\n",
       "      <th>19</th>\n",
       "      <td>v2_days_to_prev</td>\n",
       "      <td>2305.372136</td>\n",
       "    </tr>\n",
       "    <tr>\n",
       "      <th>5</th>\n",
       "      <td>v1_days_to_prev</td>\n",
       "      <td>1561.350298</td>\n",
       "    </tr>\n",
       "    <tr>\n",
       "      <th>33</th>\n",
       "      <td>v3_days_to_prev</td>\n",
       "      <td>1339.846479</td>\n",
       "    </tr>\n",
       "    <tr>\n",
       "      <th>0</th>\n",
       "      <td>icd_I739_chronic</td>\n",
       "      <td>1133.172308</td>\n",
       "    </tr>\n",
       "    <tr>\n",
       "      <th>47</th>\n",
       "      <td>v4_days_to_prev</td>\n",
       "      <td>658.510282</td>\n",
       "    </tr>\n",
       "    <tr>\n",
       "      <th>159</th>\n",
       "      <td>v12_days_to_prev</td>\n",
       "      <td>476.908073</td>\n",
       "    </tr>\n",
       "    <tr>\n",
       "      <th>30052</th>\n",
       "      <td>num_of_tests</td>\n",
       "      <td>417.215788</td>\n",
       "    </tr>\n",
       "    <tr>\n",
       "      <th>30051</th>\n",
       "      <td>num_of_drugs</td>\n",
       "      <td>416.337624</td>\n",
       "    </tr>\n",
       "    <tr>\n",
       "      <th>131</th>\n",
       "      <td>v10_days_to_prev</td>\n",
       "      <td>246.103004</td>\n",
       "    </tr>\n",
       "    <tr>\n",
       "      <th>145</th>\n",
       "      <td>v11_days_to_prev</td>\n",
       "      <td>204.106950</td>\n",
       "    </tr>\n",
       "    <tr>\n",
       "      <th>61</th>\n",
       "      <td>v5_days_to_prev</td>\n",
       "      <td>171.706800</td>\n",
       "    </tr>\n",
       "    <tr>\n",
       "      <th>10882</th>\n",
       "      <td>ndc#_55513071001_rate</td>\n",
       "      <td>169.241283</td>\n",
       "    </tr>\n",
       "    <tr>\n",
       "      <th>75</th>\n",
       "      <td>v6_days_to_prev</td>\n",
       "      <td>155.884021</td>\n",
       "    </tr>\n",
       "    <tr>\n",
       "      <th>103</th>\n",
       "      <td>v8_days_to_prev</td>\n",
       "      <td>138.498025</td>\n",
       "    </tr>\n",
       "    <tr>\n",
       "      <th>3790</th>\n",
       "      <td>ndc#_6483703_rate</td>\n",
       "      <td>132.153353</td>\n",
       "    </tr>\n",
       "    <tr>\n",
       "      <th>173</th>\n",
       "      <td>v13_days_to_prev</td>\n",
       "      <td>128.015269</td>\n",
       "    </tr>\n",
       "    <tr>\n",
       "      <th>21196</th>\n",
       "      <td>ndc#_186091612_rate</td>\n",
       "      <td>93.530783</td>\n",
       "    </tr>\n",
       "    <tr>\n",
       "      <th>6727</th>\n",
       "      <td>ndc#_65702072310_rate</td>\n",
       "      <td>85.566987</td>\n",
       "    </tr>\n",
       "    <tr>\n",
       "      <th>9655</th>\n",
       "      <td>ndc#_6494300_rate</td>\n",
       "      <td>70.338935</td>\n",
       "    </tr>\n",
       "    <tr>\n",
       "      <th>6106</th>\n",
       "      <td>ndc#_65702010110_rate</td>\n",
       "      <td>69.789279</td>\n",
       "    </tr>\n",
       "    <tr>\n",
       "      <th>35</th>\n",
       "      <td>v3_len_pos</td>\n",
       "      <td>64.428726</td>\n",
       "    </tr>\n",
       "    <tr>\n",
       "      <th>11464</th>\n",
       "      <td>ndc#_58160089852_rate</td>\n",
       "      <td>59.190705</td>\n",
       "    </tr>\n",
       "    <tr>\n",
       "      <th>34</th>\n",
       "      <td>v3_len</td>\n",
       "      <td>56.522611</td>\n",
       "    </tr>\n",
       "    <tr>\n",
       "      <th>19906</th>\n",
       "      <td>ndc#_8373982700_rate</td>\n",
       "      <td>56.075405</td>\n",
       "    </tr>\n",
       "    <tr>\n",
       "      <th>21604</th>\n",
       "      <td>ndc#_65702048110_rate</td>\n",
       "      <td>56.075405</td>\n",
       "    </tr>\n",
       "    <tr>\n",
       "      <th>1</th>\n",
       "      <td>num_of_visit</td>\n",
       "      <td>55.043771</td>\n",
       "    </tr>\n",
       "    <tr>\n",
       "      <th>3730</th>\n",
       "      <td>ndc#_33332031901_rate</td>\n",
       "      <td>53.030972</td>\n",
       "    </tr>\n",
       "    <tr>\n",
       "      <th>25774</th>\n",
       "      <td>ndc#_23334807_rate</td>\n",
       "      <td>52.337045</td>\n",
       "    </tr>\n",
       "    <tr>\n",
       "      <th>271</th>\n",
       "      <td>v20_days_to_prev</td>\n",
       "      <td>51.441931</td>\n",
       "    </tr>\n",
       "    <tr>\n",
       "      <th>201</th>\n",
       "      <td>v15_days_to_prev</td>\n",
       "      <td>50.691113</td>\n",
       "    </tr>\n",
       "  </tbody>\n",
       "</table>\n",
       "</div>"
      ],
      "text/plain": [
       "                    features       scores\n",
       "19           v2_days_to_prev  2305.372136\n",
       "5            v1_days_to_prev  1561.350298\n",
       "33           v3_days_to_prev  1339.846479\n",
       "0           icd_I739_chronic  1133.172308\n",
       "47           v4_days_to_prev   658.510282\n",
       "159         v12_days_to_prev   476.908073\n",
       "30052           num_of_tests   417.215788\n",
       "30051           num_of_drugs   416.337624\n",
       "131         v10_days_to_prev   246.103004\n",
       "145         v11_days_to_prev   204.106950\n",
       "61           v5_days_to_prev   171.706800\n",
       "10882  ndc#_55513071001_rate   169.241283\n",
       "75           v6_days_to_prev   155.884021\n",
       "103          v8_days_to_prev   138.498025\n",
       "3790       ndc#_6483703_rate   132.153353\n",
       "173         v13_days_to_prev   128.015269\n",
       "21196    ndc#_186091612_rate    93.530783\n",
       "6727   ndc#_65702072310_rate    85.566987\n",
       "9655       ndc#_6494300_rate    70.338935\n",
       "6106   ndc#_65702010110_rate    69.789279\n",
       "35                v3_len_pos    64.428726\n",
       "11464  ndc#_58160089852_rate    59.190705\n",
       "34                    v3_len    56.522611\n",
       "19906   ndc#_8373982700_rate    56.075405\n",
       "21604  ndc#_65702048110_rate    56.075405\n",
       "1               num_of_visit    55.043771\n",
       "3730   ndc#_33332031901_rate    53.030972\n",
       "25774     ndc#_23334807_rate    52.337045\n",
       "271         v20_days_to_prev    51.441931\n",
       "201         v15_days_to_prev    50.691113"
      ]
     },
     "execution_count": 10,
     "metadata": {},
     "output_type": "execute_result"
    }
   ],
   "source": [
    "bestfeatures = SelectKBest(score_func=chi2, k=100)\n",
    "fit = bestfeatures.fit(X,y)\n",
    "dfscores = pd.DataFrame(fit.scores_)\n",
    "dfcolumns = pd.DataFrame(X.columns)\n",
    "#concat two dataframes for better visualization \n",
    "featureScores = pd.concat([dfcolumns,dfscores],axis=1)\n",
    "featureScores.columns = ['features','scores']  #naming the dataframe columns\n",
    "featureScores.nlargest(100,'scores').head(30) #print 100 best features"
   ]
  },
  {
   "cell_type": "code",
   "execution_count": 11,
   "metadata": {},
   "outputs": [
    {
     "name": "stdout",
     "output_type": "stream",
     "text": [
      "Directory ../Outputs was created.\n",
      "Writing file.  \"../Outputs/feature_scores_100_largest.csv\"\n"
     ]
    }
   ],
   "source": [
    "# save the data to a new csv file\n",
    "datapath = '../Outputs'\n",
    "save_file(featureScores.nlargest(100, 'scores'), 'feature_scores_100_largest.csv', datapath)"
   ]
  },
  {
   "cell_type": "markdown",
   "metadata": {},
   "source": [
    "The 100 most useful features can be summarized in the following manner:\n",
    " * Created from 'days_to_prev_admission' which is one of the column of the admissions data.\n",
    " * Duration of the hospital visits.\n",
    " * Drug quantity rate. \n",
    " * Total number of hospital visits. \n",
    " * Total number of lab tests administered.  \n",
    " * Total number of medicines prescribed. "
   ]
  },
  {
   "cell_type": "markdown",
   "metadata": {},
   "source": [
    "## 4.9 Filter the data to include only the best features <a id=4.9_filter_the_data ><a/>"
   ]
  },
  {
   "cell_type": "markdown",
   "metadata": {},
   "source": [
    "We filter our dataframe to include only the best 100 features."
   ]
  },
  {
   "cell_type": "code",
   "execution_count": 12,
   "metadata": {},
   "outputs": [
    {
     "data": {
      "text/html": [
       "<div>\n",
       "<style scoped>\n",
       "    .dataframe tbody tr th:only-of-type {\n",
       "        vertical-align: middle;\n",
       "    }\n",
       "\n",
       "    .dataframe tbody tr th {\n",
       "        vertical-align: top;\n",
       "    }\n",
       "\n",
       "    .dataframe thead th {\n",
       "        text-align: right;\n",
       "    }\n",
       "</style>\n",
       "<table border=\"1\" class=\"dataframe\">\n",
       "  <thead>\n",
       "    <tr style=\"text-align: right;\">\n",
       "      <th></th>\n",
       "      <th>icd_I10</th>\n",
       "      <th>icd_I739</th>\n",
       "      <th>v2_days_to_prev</th>\n",
       "      <th>v1_days_to_prev</th>\n",
       "      <th>v3_days_to_prev</th>\n",
       "      <th>icd_I739_chronic</th>\n",
       "      <th>v4_days_to_prev</th>\n",
       "      <th>v12_days_to_prev</th>\n",
       "      <th>num_of_tests</th>\n",
       "      <th>num_of_drugs</th>\n",
       "      <th>...</th>\n",
       "      <th>ndc#_17478071511_rate</th>\n",
       "      <th>ndc#_53885020801_rate</th>\n",
       "      <th>ndc#_70461041910_rate</th>\n",
       "      <th>ndc#_59676036001_rate</th>\n",
       "      <th>ndc#_60505279500_rate</th>\n",
       "      <th>ndc#_781620693_rate</th>\n",
       "      <th>ndc#_53885004601_rate</th>\n",
       "      <th>ndc#_23114501_rate</th>\n",
       "      <th>ndc#_169413212_rate</th>\n",
       "      <th>v15_len</th>\n",
       "    </tr>\n",
       "    <tr>\n",
       "      <th>member_id</th>\n",
       "      <th></th>\n",
       "      <th></th>\n",
       "      <th></th>\n",
       "      <th></th>\n",
       "      <th></th>\n",
       "      <th></th>\n",
       "      <th></th>\n",
       "      <th></th>\n",
       "      <th></th>\n",
       "      <th></th>\n",
       "      <th></th>\n",
       "      <th></th>\n",
       "      <th></th>\n",
       "      <th></th>\n",
       "      <th></th>\n",
       "      <th></th>\n",
       "      <th></th>\n",
       "      <th></th>\n",
       "      <th></th>\n",
       "      <th></th>\n",
       "      <th></th>\n",
       "    </tr>\n",
       "  </thead>\n",
       "  <tbody>\n",
       "    <tr>\n",
       "      <th>nr+43zfHQPKSwx2IJuJI5Q==</th>\n",
       "      <td>1.0</td>\n",
       "      <td>0.0</td>\n",
       "      <td>0.0</td>\n",
       "      <td>0.0</td>\n",
       "      <td>0.0</td>\n",
       "      <td>0.0</td>\n",
       "      <td>0.0</td>\n",
       "      <td>0.0</td>\n",
       "      <td>311.0</td>\n",
       "      <td>49.0</td>\n",
       "      <td>...</td>\n",
       "      <td>0.0</td>\n",
       "      <td>0.0</td>\n",
       "      <td>0.0</td>\n",
       "      <td>0.0</td>\n",
       "      <td>0.0</td>\n",
       "      <td>0.0</td>\n",
       "      <td>0.0</td>\n",
       "      <td>0.0</td>\n",
       "      <td>0.0</td>\n",
       "      <td>0.0</td>\n",
       "    </tr>\n",
       "    <tr>\n",
       "      <th>Vwf7mI0tTGC4amYJPD6uJg==</th>\n",
       "      <td>0.0</td>\n",
       "      <td>1.0</td>\n",
       "      <td>0.0</td>\n",
       "      <td>0.0</td>\n",
       "      <td>0.0</td>\n",
       "      <td>1.0</td>\n",
       "      <td>0.0</td>\n",
       "      <td>0.0</td>\n",
       "      <td>132.0</td>\n",
       "      <td>41.0</td>\n",
       "      <td>...</td>\n",
       "      <td>0.0</td>\n",
       "      <td>0.0</td>\n",
       "      <td>0.0</td>\n",
       "      <td>0.0</td>\n",
       "      <td>0.0</td>\n",
       "      <td>0.0</td>\n",
       "      <td>0.0</td>\n",
       "      <td>0.0</td>\n",
       "      <td>0.0</td>\n",
       "      <td>0.0</td>\n",
       "    </tr>\n",
       "    <tr>\n",
       "      <th>TRudRczSQt6dwb6EeZ1RLA==</th>\n",
       "      <td>0.0</td>\n",
       "      <td>1.0</td>\n",
       "      <td>0.0</td>\n",
       "      <td>0.0</td>\n",
       "      <td>0.0</td>\n",
       "      <td>1.0</td>\n",
       "      <td>0.0</td>\n",
       "      <td>0.0</td>\n",
       "      <td>115.0</td>\n",
       "      <td>133.0</td>\n",
       "      <td>...</td>\n",
       "      <td>0.0</td>\n",
       "      <td>0.0</td>\n",
       "      <td>0.0</td>\n",
       "      <td>0.0</td>\n",
       "      <td>0.0</td>\n",
       "      <td>0.0</td>\n",
       "      <td>0.0</td>\n",
       "      <td>0.0</td>\n",
       "      <td>0.0</td>\n",
       "      <td>0.0</td>\n",
       "    </tr>\n",
       "    <tr>\n",
       "      <th>VjG87+cBSB2B1+loMmoHCg==</th>\n",
       "      <td>0.0</td>\n",
       "      <td>1.0</td>\n",
       "      <td>267.0</td>\n",
       "      <td>0.0</td>\n",
       "      <td>0.0</td>\n",
       "      <td>1.0</td>\n",
       "      <td>0.0</td>\n",
       "      <td>0.0</td>\n",
       "      <td>283.0</td>\n",
       "      <td>202.0</td>\n",
       "      <td>...</td>\n",
       "      <td>0.0</td>\n",
       "      <td>0.0</td>\n",
       "      <td>0.0</td>\n",
       "      <td>0.0</td>\n",
       "      <td>0.0</td>\n",
       "      <td>0.0</td>\n",
       "      <td>0.0</td>\n",
       "      <td>0.0</td>\n",
       "      <td>0.0</td>\n",
       "      <td>0.0</td>\n",
       "    </tr>\n",
       "    <tr>\n",
       "      <th>7CfP6Hq5Qy6J0rXIuTc7kw==</th>\n",
       "      <td>1.0</td>\n",
       "      <td>0.0</td>\n",
       "      <td>0.0</td>\n",
       "      <td>0.0</td>\n",
       "      <td>0.0</td>\n",
       "      <td>0.0</td>\n",
       "      <td>0.0</td>\n",
       "      <td>0.0</td>\n",
       "      <td>0.0</td>\n",
       "      <td>102.0</td>\n",
       "      <td>...</td>\n",
       "      <td>0.0</td>\n",
       "      <td>0.0</td>\n",
       "      <td>0.0</td>\n",
       "      <td>0.0</td>\n",
       "      <td>0.0</td>\n",
       "      <td>0.0</td>\n",
       "      <td>0.0</td>\n",
       "      <td>0.0</td>\n",
       "      <td>0.0</td>\n",
       "      <td>0.0</td>\n",
       "    </tr>\n",
       "  </tbody>\n",
       "</table>\n",
       "<p>5 rows × 102 columns</p>\n",
       "</div>"
      ],
      "text/plain": [
       "                          icd_I10  icd_I739  v2_days_to_prev  v1_days_to_prev  \\\n",
       "member_id                                                                       \n",
       "nr+43zfHQPKSwx2IJuJI5Q==      1.0       0.0              0.0              0.0   \n",
       "Vwf7mI0tTGC4amYJPD6uJg==      0.0       1.0              0.0              0.0   \n",
       "TRudRczSQt6dwb6EeZ1RLA==      0.0       1.0              0.0              0.0   \n",
       "VjG87+cBSB2B1+loMmoHCg==      0.0       1.0            267.0              0.0   \n",
       "7CfP6Hq5Qy6J0rXIuTc7kw==      1.0       0.0              0.0              0.0   \n",
       "\n",
       "                          v3_days_to_prev  icd_I739_chronic  v4_days_to_prev  \\\n",
       "member_id                                                                      \n",
       "nr+43zfHQPKSwx2IJuJI5Q==              0.0               0.0              0.0   \n",
       "Vwf7mI0tTGC4amYJPD6uJg==              0.0               1.0              0.0   \n",
       "TRudRczSQt6dwb6EeZ1RLA==              0.0               1.0              0.0   \n",
       "VjG87+cBSB2B1+loMmoHCg==              0.0               1.0              0.0   \n",
       "7CfP6Hq5Qy6J0rXIuTc7kw==              0.0               0.0              0.0   \n",
       "\n",
       "                          v12_days_to_prev  num_of_tests  num_of_drugs  ...  \\\n",
       "member_id                                                               ...   \n",
       "nr+43zfHQPKSwx2IJuJI5Q==               0.0         311.0          49.0  ...   \n",
       "Vwf7mI0tTGC4amYJPD6uJg==               0.0         132.0          41.0  ...   \n",
       "TRudRczSQt6dwb6EeZ1RLA==               0.0         115.0         133.0  ...   \n",
       "VjG87+cBSB2B1+loMmoHCg==               0.0         283.0         202.0  ...   \n",
       "7CfP6Hq5Qy6J0rXIuTc7kw==               0.0           0.0         102.0  ...   \n",
       "\n",
       "                          ndc#_17478071511_rate  ndc#_53885020801_rate  \\\n",
       "member_id                                                                \n",
       "nr+43zfHQPKSwx2IJuJI5Q==                    0.0                    0.0   \n",
       "Vwf7mI0tTGC4amYJPD6uJg==                    0.0                    0.0   \n",
       "TRudRczSQt6dwb6EeZ1RLA==                    0.0                    0.0   \n",
       "VjG87+cBSB2B1+loMmoHCg==                    0.0                    0.0   \n",
       "7CfP6Hq5Qy6J0rXIuTc7kw==                    0.0                    0.0   \n",
       "\n",
       "                          ndc#_70461041910_rate  ndc#_59676036001_rate  \\\n",
       "member_id                                                                \n",
       "nr+43zfHQPKSwx2IJuJI5Q==                    0.0                    0.0   \n",
       "Vwf7mI0tTGC4amYJPD6uJg==                    0.0                    0.0   \n",
       "TRudRczSQt6dwb6EeZ1RLA==                    0.0                    0.0   \n",
       "VjG87+cBSB2B1+loMmoHCg==                    0.0                    0.0   \n",
       "7CfP6Hq5Qy6J0rXIuTc7kw==                    0.0                    0.0   \n",
       "\n",
       "                          ndc#_60505279500_rate  ndc#_781620693_rate  \\\n",
       "member_id                                                              \n",
       "nr+43zfHQPKSwx2IJuJI5Q==                    0.0                  0.0   \n",
       "Vwf7mI0tTGC4amYJPD6uJg==                    0.0                  0.0   \n",
       "TRudRczSQt6dwb6EeZ1RLA==                    0.0                  0.0   \n",
       "VjG87+cBSB2B1+loMmoHCg==                    0.0                  0.0   \n",
       "7CfP6Hq5Qy6J0rXIuTc7kw==                    0.0                  0.0   \n",
       "\n",
       "                          ndc#_53885004601_rate  ndc#_23114501_rate  \\\n",
       "member_id                                                             \n",
       "nr+43zfHQPKSwx2IJuJI5Q==                    0.0                 0.0   \n",
       "Vwf7mI0tTGC4amYJPD6uJg==                    0.0                 0.0   \n",
       "TRudRczSQt6dwb6EeZ1RLA==                    0.0                 0.0   \n",
       "VjG87+cBSB2B1+loMmoHCg==                    0.0                 0.0   \n",
       "7CfP6Hq5Qy6J0rXIuTc7kw==                    0.0                 0.0   \n",
       "\n",
       "                          ndc#_169413212_rate  v15_len  \n",
       "member_id                                               \n",
       "nr+43zfHQPKSwx2IJuJI5Q==                  0.0      0.0  \n",
       "Vwf7mI0tTGC4amYJPD6uJg==                  0.0      0.0  \n",
       "TRudRczSQt6dwb6EeZ1RLA==                  0.0      0.0  \n",
       "VjG87+cBSB2B1+loMmoHCg==                  0.0      0.0  \n",
       "7CfP6Hq5Qy6J0rXIuTc7kw==                  0.0      0.0  \n",
       "\n",
       "[5 rows x 102 columns]"
      ]
     },
     "execution_count": 12,
     "metadata": {},
     "output_type": "execute_result"
    }
   ],
   "source": [
    "df=df_final[['icd_I10', 'icd_I739']+list(featureScores.nlargest(100, 'scores')['features'])]\n",
    "df.head()"
   ]
  },
  {
   "cell_type": "markdown",
   "metadata": {},
   "source": [
    "## 4.10 Define X and y <a id=4.10_define_x_and_y><a/>"
   ]
  },
  {
   "cell_type": "code",
   "execution_count": 13,
   "metadata": {},
   "outputs": [],
   "source": [
    "X=df.iloc[:, 2:]\n",
    "y=df.iloc[:, 0:2]"
   ]
  },
  {
   "cell_type": "markdown",
   "metadata": {},
   "source": [
    "## 4.11 Train/test split<a id='4.11_train_test_split'></a>"
   ]
  },
  {
   "cell_type": "markdown",
   "metadata": {},
   "source": [
    "We split the data 30% to 70%. We use 30% for testing and 70% for training. "
   ]
  },
  {
   "cell_type": "code",
   "execution_count": 14,
   "metadata": {},
   "outputs": [],
   "source": [
    "X_train, X_test, y_train, y_test = train_test_split(X, y, test_size=0.3) # 70% training and 30% test"
   ]
  },
  {
   "cell_type": "markdown",
   "metadata": {},
   "source": [
    "## 4.12 Random forest model<a id='4.12_random_forest_model'></a>"
   ]
  },
  {
   "cell_type": "markdown",
   "metadata": {},
   "source": [
    "## 4.12.1 First model <a id=4.12.1_first_model><a/>    "
   ]
  },
  {
   "cell_type": "markdown",
   "metadata": {},
   "source": [
    "We will try the random forest model first. For classification, this is provided by `sklearn`'s `RandomForestClassifier` class. We will set the hyperparameter 'n_estimators' to 10 which is the square root of the number of features included in the data. Later on we will pick different values for 'n_estimators' and compare the performance of the models."
   ]
  },
  {
   "cell_type": "code",
   "execution_count": 15,
   "metadata": {},
   "outputs": [],
   "source": [
    "X=df.iloc[:, 2:]\n",
    "y=df.iloc[:, 0:2]\n",
    "X_train, X_test, y_train, y_test = train_test_split(X, y, test_size=0.3, random_state=24) # 70% training and 30% testing\n",
    "clf=RandomForestClassifier(n_estimators=10)\n",
    "\n",
    "#Train the model using the training sets y_pred=clf.predict(X_test)\n",
    "clf.fit(X_train,y_train)\n",
    "y_pred_train=clf.predict(X_train)\n",
    "y_pred_test=clf.predict(X_test)\n"
   ]
  },
  {
   "cell_type": "markdown",
   "metadata": {},
   "source": [
    "Below, we check the performance of our model for the training set."
   ]
  },
  {
   "cell_type": "code",
   "execution_count": 16,
   "metadata": {},
   "outputs": [
    {
     "name": "stdout",
     "output_type": "stream",
     "text": [
      "Accuracy_train: 0.9941089837997055\n",
      "-----------------------------------------------------------\n",
      "              precision    recall  f1-score   support\n",
      "\n",
      "         I10       1.00      0.99      1.00       844\n",
      "        I739       1.00      1.00      1.00       535\n",
      "\n",
      "   micro avg       1.00      0.99      1.00      1379\n",
      "   macro avg       1.00      0.99      1.00      1379\n",
      "weighted avg       1.00      0.99      1.00      1379\n",
      " samples avg       1.00      1.00      1.00      1379\n",
      "\n"
     ]
    }
   ],
   "source": [
    "print(\"Accuracy_train:\",metrics.accuracy_score(y_train, y_pred_train))\n",
    "print('-----------------------------------------------------------')\n",
    "# Model Accuracy, how often is the classifier correct?\n",
    "print(classification_report(y_train, y_pred_train, target_names=[\"I10\", \"I739\"]))\n"
   ]
  },
  {
   "cell_type": "markdown",
   "metadata": {},
   "source": [
    "From the classification report, it can be seen that the model has an average performance of around 99% ranging from precision, recall, f1-score, and support."
   ]
  },
  {
   "cell_type": "code",
   "execution_count": 17,
   "metadata": {},
   "outputs": [
    {
     "name": "stdout",
     "output_type": "stream",
     "text": [
      "ROC AUC: 0.9969728692417769\n"
     ]
    }
   ],
   "source": [
    "print('ROC AUC:', roc_auc_score(y_train, y_pred_train))"
   ]
  },
  {
   "cell_type": "markdown",
   "metadata": {},
   "source": [
    "Next, we check the performance of our model for the training set."
   ]
  },
  {
   "cell_type": "code",
   "execution_count": 18,
   "metadata": {},
   "outputs": [
    {
     "name": "stdout",
     "output_type": "stream",
     "text": [
      "Accuracy_test: 0.9742710120068611\n",
      "---------------------------------------------------------\n",
      "              precision    recall  f1-score   support\n",
      "\n",
      "         I10       0.99      0.98      0.98       363\n",
      "        I739       1.00      0.98      0.99       228\n",
      "\n",
      "   micro avg       0.99      0.98      0.99       591\n",
      "   macro avg       0.99      0.98      0.99       591\n",
      "weighted avg       0.99      0.98      0.99       591\n",
      " samples avg       0.99      0.99      0.99       591\n",
      "\n"
     ]
    },
    {
     "name": "stderr",
     "output_type": "stream",
     "text": [
      "/Users/songulaslan/opt/anaconda3/lib/python3.8/site-packages/sklearn/metrics/_classification.py:1221: UndefinedMetricWarning: Precision and F-score are ill-defined and being set to 0.0 in samples with no predicted labels. Use `zero_division` parameter to control this behavior.\n",
      "  _warn_prf(average, modifier, msg_start, len(result))\n"
     ]
    }
   ],
   "source": [
    "print(\"Accuracy_test:\",metrics.accuracy_score(y_test, y_pred_test))\n",
    "print('---------------------------------------------------------')\n",
    "print(classification_report(y_test, y_pred_test, target_names=[\"I10\", \"I739\"]))     \n",
    "      "
   ]
  },
  {
   "cell_type": "markdown",
   "metadata": {},
   "source": [
    "From the classification report, it can be seen that the model has an average performance of around 97% ranging from precision, recall, f1-score, and support. This is a very good result if we consider the fact that our classes are well balanced (the ratio of the two classes is approx. 5 to 3). "
   ]
  },
  {
   "cell_type": "code",
   "execution_count": 19,
   "metadata": {},
   "outputs": [
    {
     "name": "stdout",
     "output_type": "stream",
     "text": [
      "ROC AUC: 0.9840147890387125\n"
     ]
    }
   ],
   "source": [
    "print('ROC AUC:', roc_auc_score(y_test, y_pred_test))"
   ]
  },
  {
   "cell_type": "markdown",
   "metadata": {},
   "source": [
    "Our first model did well on both training set and the testing set. We will try to improve the performance before we use a different machine learning model."
   ]
  },
  {
   "cell_type": "markdown",
   "metadata": {},
   "source": [
    "## 4.12.2 Define the pipeline <a id=4.12.2_define_the_pipeline><a/>"
   ]
  },
  {
   "cell_type": "markdown",
   "metadata": {},
   "source": [
    "Next we will try cross-validation. We define a pipeline to assess performance. That way we don't have to check performance on the test split repeatedly. Also, cross_validate will perform the fitting as part of the process. This uses the default settings for the random forest so we can then proceed to investigate different hyperparameters."
   ]
  },
  {
   "cell_type": "code",
   "execution_count": 20,
   "metadata": {},
   "outputs": [],
   "source": [
    "#Define a pipeline comprising the steps:\n",
    "rf_pipe = make_pipeline(\n",
    "    SimpleImputer(strategy='median'),\n",
    "    StandardScaler(),\n",
    "    RandomForestClassifier(random_state=47)\n",
    ")"
   ]
  },
  {
   "cell_type": "markdown",
   "metadata": {},
   "source": [
    "## 4.12.3 Fit and assess performance using cross-validation<a id='4.12.3_fit_and_assess_performance_using_cross-validation'></a>"
   ]
  },
  {
   "cell_type": "code",
   "execution_count": 21,
   "metadata": {},
   "outputs": [],
   "source": [
    "# call `cross_validate` to estimate the pipeline's performance.\n",
    "# pass it the random forest pipe object, `X_train` and `y_train`,\n",
    "# get it to use 5-fold cross-validation\n",
    "rf_default_cv_results = cross_validate(rf_pipe, X_train, y_train, cv=5)"
   ]
  },
  {
   "cell_type": "code",
   "execution_count": 22,
   "metadata": {},
   "outputs": [
    {
     "data": {
      "text/plain": [
       "array([0.98529412, 0.97794118, 0.97058824, 0.97785978, 0.98892989])"
      ]
     },
     "execution_count": 22,
     "metadata": {},
     "output_type": "execute_result"
    }
   ],
   "source": [
    "rf_cv_scores = rf_default_cv_results['test_score']\n",
    "rf_cv_scores"
   ]
  },
  {
   "cell_type": "code",
   "execution_count": 23,
   "metadata": {},
   "outputs": [
    {
     "data": {
      "text/plain": [
       "(0.9801226394616889, 0.006404623630131836)"
      ]
     },
     "execution_count": 23,
     "metadata": {},
     "output_type": "execute_result"
    }
   ],
   "source": [
    "np.mean(rf_cv_scores), np.std(rf_cv_scores)"
   ]
  },
  {
   "cell_type": "markdown",
   "metadata": {},
   "source": [
    "### 4.12.4 Hyperparameter search using GridSearchCV<a id='4.12.4_hyperparameter_search_using_GridSearchCV'></a>"
   ]
  },
  {
   "cell_type": "markdown",
   "metadata": {},
   "source": [
    "We will explore the hyperparameter 'randomforestclassifier__n_estimators' which represents the number of trees in our random forest model. For the sake of simplicity we try only 8 values ranging between 5 and 40 for the parameter. "
   ]
  },
  {
   "cell_type": "code",
   "execution_count": 24,
   "metadata": {},
   "outputs": [
    {
     "data": {
      "text/plain": [
       "{'randomforestclassifier__n_estimators': [5,\n",
       "  10,\n",
       "  15,\n",
       "  20,\n",
       "  25,\n",
       "  30,\n",
       "  35,\n",
       "  40,\n",
       "  45,\n",
       "  50],\n",
       " 'standardscaler': [StandardScaler(), None],\n",
       " 'simpleimputer__strategy': ['mean', 'median']}"
      ]
     },
     "execution_count": 24,
     "metadata": {},
     "output_type": "execute_result"
    }
   ],
   "source": [
    "n_est = [5, 10, 15, 20, 25, 30, 35, 40, 45, 50]\n",
    "grid_params = {\n",
    "        'randomforestclassifier__n_estimators': n_est,\n",
    "        'standardscaler': [StandardScaler(), None],\n",
    "        'simpleimputer__strategy': ['mean', 'median']\n",
    "}\n",
    "grid_params"
   ]
  },
  {
   "cell_type": "code",
   "execution_count": 25,
   "metadata": {},
   "outputs": [],
   "source": [
    "# we call `GridSearchCV` with the random forest pipeline, passing in the above `grid_params`\n",
    "# dict for parameters to evaluate, 5-fold cross-validation, and all available CPU cores (if desired)\n",
    "rf_grid_cv = GridSearchCV(rf_pipe, param_grid=grid_params, cv=5, n_jobs=-1)"
   ]
  },
  {
   "cell_type": "code",
   "execution_count": 26,
   "metadata": {},
   "outputs": [
    {
     "data": {
      "text/plain": [
       "GridSearchCV(cv=5,\n",
       "             estimator=Pipeline(steps=[('simpleimputer',\n",
       "                                        SimpleImputer(strategy='median')),\n",
       "                                       ('standardscaler', StandardScaler()),\n",
       "                                       ('randomforestclassifier',\n",
       "                                        RandomForestClassifier(random_state=47))]),\n",
       "             n_jobs=-1,\n",
       "             param_grid={'randomforestclassifier__n_estimators': [5, 10, 15, 20,\n",
       "                                                                  25, 30, 35,\n",
       "                                                                  40, 45, 50],\n",
       "                         'simpleimputer__strategy': ['mean', 'median'],\n",
       "                         'standardscaler': [StandardScaler(), None]})"
      ]
     },
     "execution_count": 26,
     "metadata": {},
     "output_type": "execute_result"
    }
   ],
   "source": [
    "# Now call the `GridSearchCV`'s `fit()` method with `X_train` and `y_train` as arguments\n",
    "rf_grid_cv.fit(X_train, y_train)"
   ]
  },
  {
   "cell_type": "code",
   "execution_count": 27,
   "metadata": {},
   "outputs": [
    {
     "data": {
      "text/plain": [
       "{'randomforestclassifier__n_estimators': 30,\n",
       " 'simpleimputer__strategy': 'mean',\n",
       " 'standardscaler': StandardScaler()}"
      ]
     },
     "execution_count": 27,
     "metadata": {},
     "output_type": "execute_result"
    }
   ],
   "source": [
    "# we print the best params (`best_params_` attribute) from the grid search\n",
    "rf_grid_cv.best_params_"
   ]
  },
  {
   "cell_type": "markdown",
   "metadata": {},
   "source": [
    "Notice the best result is obtained when the number of trees (n_estimators) is 30 with approx. The average of the best scores is 0.98% (see below). This result is also better than our first result with approx. 0.97% where we only have 10 trees in the model. "
   ]
  },
  {
   "cell_type": "code",
   "execution_count": 28,
   "metadata": {},
   "outputs": [
    {
     "data": {
      "text/plain": [
       "array([0.98529412, 0.97794118, 0.97058824, 0.97416974, 0.99261993])"
      ]
     },
     "execution_count": 28,
     "metadata": {},
     "output_type": "execute_result"
    }
   ],
   "source": [
    "rf_best_cv_results = cross_validate(rf_grid_cv.best_estimator_, X_train, y_train, cv=5)\n",
    "rf_best_scores = rf_best_cv_results['test_score']\n",
    "rf_best_scores"
   ]
  },
  {
   "cell_type": "code",
   "execution_count": 29,
   "metadata": {},
   "outputs": [
    {
     "data": {
      "text/plain": [
       "(0.9801226394616889, 0.007924985776982736)"
      ]
     },
     "execution_count": 29,
     "metadata": {},
     "output_type": "execute_result"
    }
   ],
   "source": [
    "np.mean(rf_best_scores), np.std(rf_best_scores)"
   ]
  },
  {
   "cell_type": "markdown",
   "metadata": {},
   "source": [
    "In the following cell we see the relationship between 'n_estimators' and testing accuracy which is consistent with our observations earlier."
   ]
  },
  {
   "cell_type": "code",
   "execution_count": 30,
   "metadata": {},
   "outputs": [
    {
     "data": {
      "text/plain": [
       "Text(0, 0.5, 'Testing Accuracy')"
      ]
     },
     "execution_count": 30,
     "metadata": {},
     "output_type": "execute_result"
    },
    {
     "data": {
      "image/png": "[encoded data removed]",
      "text/plain": [
       "<Figure size 432x288 with 1 Axes>"
      ]
     },
     "metadata": {
      "needs_background": "light"
     },
     "output_type": "display_data"
    }
   ],
   "source": [
    "scores =[]\n",
    "for k in [i for i in range(1, 50)]:\n",
    "    clf = RandomForestClassifier(n_estimators=k)\n",
    "    clf.fit(X_train, y_train)\n",
    "    y_pred_test = clf.predict(X_test)\n",
    "    scores.append(accuracy_score(y_test, y_pred_test))\n",
    "\n",
    "# plot the relationship between K and testing accuracy\n",
    "plt.plot([i for i in range(1, 50)], scores)\n",
    "plt.xlabel('Value of n_estimators for Random Forest Classifier')\n",
    "plt.ylabel('Testing Accuracy')\n"
   ]
  },
  {
   "cell_type": "markdown",
   "metadata": {},
   "source": [
    "## 4.13 k-NN model <a id=4.13_knn_model><a/>      "
   ]
  },
  {
   "cell_type": "markdown",
   "metadata": {},
   "source": [
    "## 4.13.1 First model <a id=4.13.1_first_model><a/>     "
   ]
  },
  {
   "cell_type": "markdown",
   "metadata": {},
   "source": [
    "We explore the KNN algorithm next. We set the number of neighbors to 10 for our first model. We will also try out the model with different number of neighbors and compare the results. "
   ]
  },
  {
   "cell_type": "code",
   "execution_count": 31,
   "metadata": {},
   "outputs": [
    {
     "data": {
      "text/plain": [
       "(1941, 100)"
      ]
     },
     "execution_count": 31,
     "metadata": {},
     "output_type": "execute_result"
    }
   ],
   "source": [
    "sc= StandardScaler()\n",
    "sc.fit(X_train)\n",
    "X_train= sc.transform(X_train)\n",
    "sc.fit(X_test)\n",
    "X_test= sc.transform(X_test)\n",
    "X.shape"
   ]
  },
  {
   "cell_type": "code",
   "execution_count": 32,
   "metadata": {},
   "outputs": [
    {
     "name": "stdout",
     "output_type": "stream",
     "text": [
      "test_score: 0.9528718703976435\n",
      "train_score: 0.9451114922813036\n"
     ]
    }
   ],
   "source": [
    "knn= KNeighborsClassifier(n_neighbors=10)\n",
    "knn.fit(X_train,y_train)\n",
    "y_pred_test= knn.predict(X_test)\n",
    "y_pred_train=knn.predict(X_train)\n",
    "print('test_score:', metrics.accuracy_score(y_train,y_pred_train))\n",
    "print('train_score:', metrics.accuracy_score(y_test,y_pred_test))\n"
   ]
  },
  {
   "cell_type": "markdown",
   "metadata": {},
   "source": [
    "We get approx. 0.95 accuracy score in our first KNN model with 10 neighbors. This result is worse than any random forest model we have so far. We will work on improving the performance.  "
   ]
  },
  {
   "cell_type": "markdown",
   "metadata": {},
   "source": [
    "## 4.13.2 Hyperparameter search using GridSearchCV <a id=4.13.2_hyperparameter_search_using_GridSearchCV><a/>     "
   ]
  },
  {
   "cell_type": "code",
   "execution_count": 33,
   "metadata": {},
   "outputs": [
    {
     "name": "stdout",
     "output_type": "stream",
     "text": [
      "Fitting 10 folds for each of 49 candidates, totalling 490 fits\n"
     ]
    },
    {
     "name": "stderr",
     "output_type": "stream",
     "text": [
      "[Parallel(n_jobs=1)]: Using backend SequentialBackend with 1 concurrent workers.\n",
      "[Parallel(n_jobs=1)]: Done 490 out of 490 | elapsed:   18.1s finished\n"
     ]
    }
   ],
   "source": [
    "knn = KNeighborsClassifier()\n",
    "from sklearn.model_selection import GridSearchCV\n",
    "k_range = list(range(1,50))\n",
    "param_grid = dict(n_neighbors=k_range)\n",
    "  \n",
    "# defining parameter range\n",
    "knn_grid_cv = GridSearchCV(knn, param_grid, cv=10, scoring='accuracy', return_train_score=False,verbose=1)\n",
    "  \n",
    "# fitting the model for grid search\n",
    "grid_search=knn_grid_cv.fit(X_train, y_train)"
   ]
  },
  {
   "cell_type": "code",
   "execution_count": 34,
   "metadata": {},
   "outputs": [
    {
     "name": "stdout",
     "output_type": "stream",
     "text": [
      "{'n_neighbors': 45}\n"
     ]
    }
   ],
   "source": [
    "print(grid_search.best_params_)"
   ]
  },
  {
   "cell_type": "code",
   "execution_count": 35,
   "metadata": {},
   "outputs": [
    {
     "name": "stdout",
     "output_type": "stream",
     "text": [
      "Accuracy for our training dataset with tuning is : 96.02%\n"
     ]
    }
   ],
   "source": [
    "accuracy = grid_search.best_score_ *100\n",
    "print(\"Accuracy for our training dataset with tuning is : {:.2f}%\".format(accuracy) )"
   ]
  },
  {
   "cell_type": "markdown",
   "metadata": {},
   "source": [
    "We get 96.02% as the best accuracy score in our grid search. This result is better than our first k-NN model accuracy score. We also observe that the number of neighbors must be 45 among the values we tried. This is consistent with the relationship between the error and the number of neighbors shown below."
   ]
  },
  {
   "cell_type": "code",
   "execution_count": 37,
   "metadata": {},
   "outputs": [
    {
     "data": {
      "text/plain": [
       "<matplotlib.legend.Legend at 0x7fd8e871b790>"
      ]
     },
     "execution_count": 37,
     "metadata": {},
     "output_type": "execute_result"
    },
    {
     "data": {
      "image/png": "[encoded data removed]",
      "text/plain": [
       "<Figure size 576x360 with 1 Axes>"
      ]
     },
     "metadata": {
      "needs_background": "light"
     },
     "output_type": "display_data"
    }
   ],
   "source": [
    "error1= []\n",
    "error2= []\n",
    "for k in range(1,45):\n",
    "    knn= KNeighborsClassifier(n_neighbors=k)\n",
    "    knn.fit(X_train,y_train)\n",
    "    y_pred_train= knn.predict(X_train)\n",
    "    error1.append(np.mean(y_train!= y_pred_train))\n",
    "    y_pred_test= knn.predict(X_test)\n",
    "    error2.append(np.mean(y_test!= y_pred_test))\n",
    "plt.subplots(figsize=(8, 5))\n",
    "#plt.plot(range(1,30),error1,label=\"train\")\n",
    "plt.plot(range(1,45),error2,label=\"test\")\n",
    "plt.xlabel('k Value')\n",
    "plt.ylabel('Error')\n",
    "plt.legend()"
   ]
  },
  {
   "cell_type": "markdown",
   "metadata": {},
   "source": [
    "## 4.14 Final model selection<a id='4.14_final_model_selection'></a>"
   ]
  },
  {
   "cell_type": "markdown",
   "metadata": {},
   "source": [
    "Time to select your final model to use for further business modeling! It would be good to revisit the above model selection; there is undoubtedly more that could be done to explore possible hyperparameters.\n",
    "It would also be worthwhile to investigate removing the least useful features. Gathering or calculating, and storing, features adds business cost and dependencies, so if features genuinely are not needed they should be removed.\n",
    "Building a simpler model with fewer features can also have the advantage of being easier to sell (and/or explain) to stakeholders.\n",
    "Certainly there seem to be four strong features here and so a model using only those would probably work well.\n",
    "However, you want to explore some different scenarios where other features vary so keep the fuller \n",
    "model for now. \n",
    "The business is waiting for this model and you have something that you have confidence in to be much better than guessing with the average price.\n",
    "\n",
    "Or, rather, you have two \"somethings\". You built a best linear model and a best random forest model. You need to finally choose between them. You can calculate the mean absolute error using cross-validation. Although `cross-validate` defaults to the $R^2$ [metric for scoring](https://scikit-learn.org/stable/modules/model_evaluation.html#scoring) regression, you can specify the mean absolute error as an alternative via\n",
    "the `scoring` parameter."
   ]
  },
  {
   "cell_type": "markdown",
   "metadata": {},
   "source": [
    "## 4.14.1 Random forest classification model performance <a id='4.14.1_random_forest_model_performance'></a>"
   ]
  },
  {
   "cell_type": "code",
   "execution_count": 38,
   "metadata": {},
   "outputs": [],
   "source": [
    "rf_cv_accuracy = cross_validate(rf_grid_cv.best_estimator_, X_train, y_train, \n",
    "                            scoring='accuracy', cv=5, n_jobs=-1)"
   ]
  },
  {
   "cell_type": "code",
   "execution_count": 39,
   "metadata": {},
   "outputs": [
    {
     "data": {
      "text/plain": [
       "0.9801226394616889"
      ]
     },
     "execution_count": 39,
     "metadata": {},
     "output_type": "execute_result"
    }
   ],
   "source": [
    "rf_cv_accuracy = np.mean(rf_cv_accuracy['test_score'])\n",
    "rf_cv_accuracy"
   ]
  },
  {
   "cell_type": "markdown",
   "metadata": {},
   "source": [
    "### 4.14.2 k-NN model performance<a id='4.14.2_knn_model_performance'></a>"
   ]
  },
  {
   "cell_type": "code",
   "execution_count": 40,
   "metadata": {},
   "outputs": [],
   "source": [
    "knn_cv_accuracy = cross_validate(knn_grid_cv.best_estimator_, X_train, y_train, \n",
    "                            scoring='accuracy', cv=5, n_jobs=-1)"
   ]
  },
  {
   "cell_type": "code",
   "execution_count": 41,
   "metadata": {},
   "outputs": [
    {
     "data": {
      "text/plain": [
       "0.9609670067288908"
      ]
     },
     "execution_count": 41,
     "metadata": {},
     "output_type": "execute_result"
    }
   ],
   "source": [
    "knn_cv_accuracy=np.mean(knn_cv_accuracy['test_score'])\n",
    "knn_cv_accuracy"
   ]
  },
  {
   "cell_type": "code",
   "execution_count": null,
   "metadata": {},
   "outputs": [],
   "source": []
  },
  {
   "cell_type": "markdown",
   "metadata": {},
   "source": [
    "### 4.14.3 Conclusion<a id='4.14.3_conclusion'></a>"
   ]
  },
  {
   "cell_type": "markdown",
   "metadata": {},
   "source": [
    "The random forest model has a higher cross-validation test score compare to k-NN model by almost 2%. It also exhibits less variability. Verifying performance on the test set produces performance consistent with the cross-validation results."
   ]
  },
  {
   "cell_type": "markdown",
   "metadata": {},
   "source": [
    "This shows that you seem to have plenty of data. There's an initial rapid improvement in model scores as one would expect, but it's essentially levelled off by around a sample size of 40-50."
   ]
  },
  {
   "cell_type": "markdown",
   "metadata": {},
   "source": [
    "## 4.15 Save best model object from pipeline<a id='4.15_save_best_model_object_from_pipeline'></a>"
   ]
  },
  {
   "cell_type": "code",
   "execution_count": 43,
   "metadata": {},
   "outputs": [],
   "source": [
    "# set the best model\n",
    "best_model = rf_grid_cv.best_estimator_\n",
    "best_model.version = '1.0'\n",
    "best_model.pandas_version = pd.__version__\n",
    "best_model.numpy_version = np.__version__\n",
    "best_model.sklearn_version = sklearn_version\n",
    "best_model.X_columns = [col for col in X.columns]\n",
    "best_model.build_datetime = datetime.datetime.now()"
   ]
  },
  {
   "cell_type": "code",
   "execution_count": 44,
   "metadata": {},
   "outputs": [
    {
     "name": "stdout",
     "output_type": "stream",
     "text": [
      "Writing file.  \"../Outputs/best_model.pkl\"\n"
     ]
    }
   ],
   "source": [
    "# save the model\n",
    "modelpath = '../Outputs'\n",
    "save_file(best_model, 'best_model.pkl', modelpath)"
   ]
  },
  {
   "cell_type": "code",
   "execution_count": null,
   "metadata": {},
   "outputs": [],
   "source": []
  }
 ],
 "metadata": {
  "kernelspec": {
   "display_name": "Python 3",
   "language": "python",
   "name": "python3"
  },
  "language_info": {
   "codemirror_mode": {
    "name": "ipython",
    "version": 3
   },
   "file_extension": ".py",
   "mimetype": "text/x-python",
   "name": "python",
   "nbconvert_exporter": "python",
   "pygments_lexer": "ipython3",
   "version": "3.8.2"
  },
  "toc": {
   "base_numbering": 1,
   "nav_menu": {},
   "number_sections": true,
   "sideBar": true,
   "skip_h1_title": false,
   "title_cell": "Table of Contents",
   "title_sidebar": "Contents",
   "toc_cell": false,
   "toc_position": {},
   "toc_section_display": true,
   "toc_window_display": true
  },
  "varInspector": {
   "cols": {
    "lenName": 16,
    "lenType": 16,
    "lenVar": 40
   },
   "kernels_config": {
    "python": {
     "delete_cmd_postfix": "",
     "delete_cmd_prefix": "del ",
     "library": "var_list.py",
     "varRefreshCmd": "print(var_dic_list())"
    },
    "r": {
     "delete_cmd_postfix": ") ",
     "delete_cmd_prefix": "rm(",
     "library": "var_list.r",
     "varRefreshCmd": "cat(var_dic_list()) "
    }
   },
   "types_to_exclude": [
    "module",
    "function",
    "builtin_function_or_method",
    "instance",
    "_Feature"
   ],
   "window_display": false
  }
 },
 "nbformat": 4,
 "nbformat_minor": 4
}
