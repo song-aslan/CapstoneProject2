{
 "cells": [
  {
   "cell_type": "markdown",
   "metadata": {},
   "source": [
    "# 2 Data Wrangling <a id='2_Data_wrangling'></a>"
   ]
  },
  {
   "cell_type": "markdown",
   "metadata": {},
   "source": [
    "## Contents<a id='2.1_Contents'></a>\n",
    "\n",
    "### Part A <a id='Part_A'></a>\n",
    "* [2.1 Introduction](#2.1_Introduction)\n",
    "  * [2.1.1 Recap Of Data Science Problem](#2.1.1_Recap_Of_Data_Science_Problem)\n",
    "* [2.2 Imports](#2.2_Imports)\n",
    "* [2.3 Files](#2.3_Files)\n",
    "* [2.4 Columns](#2.4_Columns)\n",
    "* [2.5 Objectives](#2.5_Objectives)\n",
    "* [2.6 Load the Data](#2.6_Load_the_Data)\n",
    "* [2.7 Explore the Data](#2.7_Explore_the_Data)\n",
    "    * [2.7.1 Admissions Data](#2.7.1_Admissions_Data)       \n",
    "    * [2.7.2 Disease Data](#2.7.2_Disease_Data)    \n",
    "    * [2.7.3 Labs Data](#2.7.3_Labs_Data)\n",
    "    * [2.7.4 Patients Data](#2.7.4_Patients_Data)\n",
    "    * [2.7.5 Prescriptions Data](#2.7.5_Prescriptions_Data)    \n",
    "    * [2.7.6 Train Data](#2.7.6_Train_Data)\n",
    "\n",
    "### Part B <a id='Part_B'></a> \n",
    "* [2.8 Subset the Data](#2.8_Subset_the_Data)\n",
    "    * [2.8.1 Subset the Disease Data](#2.8.1_Subset_Admissions_Data)       \n",
    "    * [2.8.2 Subset the Admissions Data](#2.8.2_Subset_Admission_Data)    \n",
    "    * [2.8.3 Subset the Labs Data](#2.8.3_Subset_Labs_Data)    \n",
    "    * [2.8.4 Subset the Prescriptions Data](#2.8.4_Subset_Prescriptions_Data)    \n",
    "* [2.9 One Record per Member Id](#2.9_One_Record_per_Member_Id)\n",
    "    * [2.9.1  Admissions Data Converted](#2.9.1_Admissions_Data) \n",
    "    * [2.9.2  Disease Data Converted](#2.9.1_Disease_Data)    \n",
    "    * [2.9.3  Labs Data Converted](#2.9.3_Labs_Data)   \n",
    "    * [2.9.4 Patients Data Converted](#2.9.4_Patients_Data)    \n",
    "    * [2.9.5  Prescriptions Data Converted](#2.9.5_Prescriptions_Data)\n",
    "   \n",
    "### Part C <a id='Part_C'></a>  \n",
    "* [2.10  Join the Converted Dataframes](#2.10_Join_the_Dataframes)\n",
    "* [2.11  Save the Final Dataframe](#2.11_Save_the_Data)\n",
    "* [2.12  Final Remarks](#2.12_Final_Remarks)\n",
    "     "
   ]
  },
  {
   "cell_type": "markdown",
   "metadata": {},
   "source": [
    "## 2.1 Introduction<a id='2.1_Introduction'></a>"
   ]
  },
  {
   "cell_type": "markdown",
   "metadata": {},
   "source": [
    "This step focuses on collecting the data, organizing, and making sure factors are well defined. The majority of the data will be cleaned in this step."
   ]
  },
  {
   "cell_type": "markdown",
   "metadata": {},
   "source": [
    "### 2.1.1 Recap Of Data Science Problem<a id='2.1.1_Recap_Of_Data_Science_Problem'></a>"
   ]
  },
  {
   "cell_type": "markdown",
   "metadata": {},
   "source": [
    "HCC is contingent on ICD-10 coding to attribute risk scores to patients. Along with demographic factors (such as age and gender), Anthem uses HCC coding to assign patients a RAF. HCC coding provides Anthem with a method of evaluating health risk(s) in order to predict the costs associated with each patient. The purpose of this data science project is to come up with a model for predicting new diseases for 2020 using data from 2018-2019 period. "
   ]
  },
  {
   "cell_type": "markdown",
   "metadata": {},
   "source": [
    "## 2.2 Imports<a id='2.2_Imports'></a>"
   ]
  },
  {
   "cell_type": "code",
   "execution_count": 1,
   "metadata": {},
   "outputs": [],
   "source": [
    "import pandas as pd\n",
    "import numpy as np\n",
    "import matplotlib.pyplot as plt\n",
    "import seaborn as sns\n",
    "import os\n",
    "#from library.sb_utils import save_file\n",
    "\n",
    "from ipynb.fs.full.auxiliary_functions import save_file\n",
    "\n",
    "from ipynb.fs.full.auxiliary_functions import extract_icd_code \n",
    "# Extracts the icd codes from the icd_code column and return a dictionary where keys are member_ids and values are the corresponding icd codes, \n",
    "# see 'auxiliary_functions.ipynb' in the directory.\n",
    "\n",
    "from ipynb.fs.full.auxiliary_functions import df1_one_record_per_member_id \n",
    "# Creates a df out of df1_subset where there is one record per member id\n",
    "\n",
    "from ipynb.fs.full.auxiliary_functions import fill_df1_res \n",
    "# Fills df1_res\n",
    "\n",
    "from ipynb.fs.full.auxiliary_functions import df2_one_record_per_member_id \n",
    "# Creates a df out of df2_subset where there is one record per member id\n",
    "\n",
    "from ipynb.fs.full.auxiliary_functions import fill_df2_res \n",
    "# Fills the df2_res \n",
    "\n",
    "from ipynb.fs.full.auxiliary_functions import df3_one_record_per_member_id \n",
    "# Creates a df out of df3_subset where there is one record per member id\n",
    "\n",
    "from ipynb.fs.full.auxiliary_functions import fill_df3_res \n",
    "# Fills df3_res\n",
    "\n",
    "from ipynb.fs.full.auxiliary_functions import df5_one_record_per_member_id \n",
    "# Creates a df out of df5_subset where there is one record per member id\n",
    "\n",
    "from ipynb.fs.full.auxiliary_functions import fill_df5_res \n",
    "# Fills df5_res"
   ]
  },
  {
   "cell_type": "markdown",
   "metadata": {},
   "source": [
    "## 2.3 Files<a id='2.3_Files'></a> "
   ]
  },
  {
   "cell_type": "markdown",
   "metadata": {},
   "source": [
    "\n",
    "* admissions_data.csv - contains information about hospital admissions for 2018-2019\n",
    "* disease_data.csv - contains information about ICD and HCC for 2018-2019\n",
    "* labs_data.csv - contains information about laboratory tests for 2018-2019\n",
    "* patients_data.csv - contains member data such as gender, age, etc. for 2018-2019\n",
    "* prescriptions_data.csv - contains drug prescriptions for 2018-2019\n",
    "* train_labels.csv - contains labels for 2019 (new diseases discovered that year)\n"
   ]
  },
  {
   "cell_type": "markdown",
   "metadata": {},
   "source": [
    "## 2.4 Columns<a id='2.4_Columns'></a>"
   ]
  },
  {
   "cell_type": "markdown",
   "metadata": {},
   "source": [
    "* member_id - patients' ID\n",
    "* admission_date - a date when hospital admission occurred\n",
    "* discharge_date - date when member was discharge from the hospital\n",
    "* admission_type - a hospital admission type\n",
    "* icd_code - an ICD code (diagnosis) used for hospital admission\n",
    "* is_readmission - 1 if member was already in the hospital in last 30 days, otherwise 0\n",
    "* er_to_inp_admission_transfer - 1 if member had inpatient (INP) and ER (emergency) hospital admission same day, otherwise 0\n",
    "* days_to_prev_admission - a number of days since last admission\n",
    "* year_of_service - a year when ICD / HCC was detected by doctors\n",
    "* icd_code - an ICD code (disease)\n",
    "* icd_chronic_or_acute - a chronic / acute disease type\n",
    "* hcc_code - a HCC coding for ICD\n",
    "* hcc_chronic_or_acute - a chronic / acute HCC type\n",
    "* date_of_service - a date when some service was provided to patients\n",
    "* loinc_code - a laboratory test code\n",
    "* performed_test_name - a laboratory test name\n",
    "* abnormal_code - a flag that tells about low (L) or high (H) lab results\n",
    "* result_value - a result value\n",
    "* normal_low_value_numeric - a lower bound for reference lab result\n",
    "* normal_high_value_numeric - an upper bound for reference lab result\n",
    "* date_of_service - a date when some service was provided to patients\n",
    "* patient_age - a patient's age\n",
    "* patient_gender - a patient's gender\n",
    "* patient_age - a patient's age\n",
    "* dual_status - a flag that tells about Medicaid / Medicate insurance programms\n",
    "* patient_age - a patient's age\n",
    "* insurance_company - a company providing medical insurance\n",
    "* insurance_type - an insurance type\n",
    "* pbp_type - a member's risk group\n",
    "* county - a member's county\n",
    "* city - a member's city\n",
    "* date_filled - a date when prescription was filled for the member\n",
    "* ndc_number - a unique drug ID\n",
    "* days_supply - a number of days for which the prescription was filled\n",
    "* drug_name - a drug name\n",
    "* metric_quantity - a drug dosage\n",
    "* new_or_refill - 1 if a new drug was prescribed, otherwise 0\n",
    "* hcc_9 - a flag that identifies that member has HCC 9. Similar logic should be used for other hcc_N columns"
   ]
  },
  {
   "cell_type": "markdown",
   "metadata": {},
   "source": [
    "## 2.5 Objectives<a id='2.5_Objectives'></a>"
   ]
  },
  {
   "cell_type": "markdown",
   "metadata": {},
   "source": [
    "There are some fundamental questions to resolve in this notebook before we move on:\n",
    "\n",
    "   * What are the required target ilnesses?\n",
    "   * Are there potentially useful features?\n",
    "   * Are there any fundamental issues with the data?"
   ]
  },
  {
   "cell_type": "markdown",
   "metadata": {},
   "source": [
    "## 2.6 Load the Data<a id='2.6_Load_the_Data'></a>"
   ]
  },
  {
   "cell_type": "code",
   "execution_count": 2,
   "metadata": {},
   "outputs": [],
   "source": [
    "df1 = pd.read_csv('admissions_data.csv')\n",
    "df2 = pd.read_csv('disease_data.csv')\n",
    "df3 = pd.read_csv('labs_data.csv')\n",
    "df4 = pd.read_csv('patients_data.csv')\n",
    "df5 = pd.read_csv('prescriptions_data.csv')\n",
    "df6 = pd.read_csv('train_labels.csv')"
   ]
  },
  {
   "cell_type": "markdown",
   "metadata": {},
   "source": [
    "## 2.7  Explore the Data<a id='2.7_Explore_the_Data'></a>"
   ]
  },
  {
   "cell_type": "markdown",
   "metadata": {},
   "source": [
    "### 2.7.1 Admissions Data<a id='2.7.1_Admissions_Data'></a>"
   ]
  },
  {
   "cell_type": "markdown",
   "metadata": {},
   "source": [
    "We call the info method to see a summary of the data. We also display the first few records using the head method."
   ]
  },
  {
   "cell_type": "code",
   "execution_count": 3,
   "metadata": {},
   "outputs": [
    {
     "data": {
      "text/html": [
       "<div>\n",
       "<style scoped>\n",
       "    .dataframe tbody tr th:only-of-type {\n",
       "        vertical-align: middle;\n",
       "    }\n",
       "\n",
       "    .dataframe tbody tr th {\n",
       "        vertical-align: top;\n",
       "    }\n",
       "\n",
       "    .dataframe thead th {\n",
       "        text-align: right;\n",
       "    }\n",
       "</style>\n",
       "<table border=\"1\" class=\"dataframe\">\n",
       "  <thead>\n",
       "    <tr style=\"text-align: right;\">\n",
       "      <th></th>\n",
       "      <th>member_id</th>\n",
       "      <th>admission_date</th>\n",
       "      <th>discharge_date</th>\n",
       "      <th>admission_type</th>\n",
       "      <th>icd_code</th>\n",
       "      <th>is_readmission</th>\n",
       "      <th>er_to_inp_admission_transfer</th>\n",
       "      <th>days_to_prev_admission</th>\n",
       "    </tr>\n",
       "  </thead>\n",
       "  <tbody>\n",
       "    <tr>\n",
       "      <th>0</th>\n",
       "      <td>AAoq6W9QR0G/kOfNZnoCPg==</td>\n",
       "      <td>2018-04-03</td>\n",
       "      <td>2018-04-03</td>\n",
       "      <td>OTH</td>\n",
       "      <td>NaN</td>\n",
       "      <td>No</td>\n",
       "      <td>N</td>\n",
       "      <td>NaN</td>\n",
       "    </tr>\n",
       "    <tr>\n",
       "      <th>1</th>\n",
       "      <td>AAoq6W9QR0G/kOfNZnoCPg==</td>\n",
       "      <td>2018-06-04</td>\n",
       "      <td>2018-06-04</td>\n",
       "      <td>OTH</td>\n",
       "      <td>NaN</td>\n",
       "      <td>No</td>\n",
       "      <td>N</td>\n",
       "      <td>62.0</td>\n",
       "    </tr>\n",
       "    <tr>\n",
       "      <th>2</th>\n",
       "      <td>AAoq6W9QR0G/kOfNZnoCPg==</td>\n",
       "      <td>2018-06-18</td>\n",
       "      <td>2018-06-18</td>\n",
       "      <td>OTH</td>\n",
       "      <td>NaN</td>\n",
       "      <td>No</td>\n",
       "      <td>N</td>\n",
       "      <td>14.0</td>\n",
       "    </tr>\n",
       "    <tr>\n",
       "      <th>3</th>\n",
       "      <td>AAoq6W9QR0G/kOfNZnoCPg==</td>\n",
       "      <td>2018-10-11</td>\n",
       "      <td>2018-10-11</td>\n",
       "      <td>OTH</td>\n",
       "      <td>NaN</td>\n",
       "      <td>No</td>\n",
       "      <td>N</td>\n",
       "      <td>115.0</td>\n",
       "    </tr>\n",
       "    <tr>\n",
       "      <th>4</th>\n",
       "      <td>AAoq6W9QR0G/kOfNZnoCPg==</td>\n",
       "      <td>2018-11-02</td>\n",
       "      <td>2018-11-02</td>\n",
       "      <td>OTH</td>\n",
       "      <td>NaN</td>\n",
       "      <td>No</td>\n",
       "      <td>N</td>\n",
       "      <td>22.0</td>\n",
       "    </tr>\n",
       "  </tbody>\n",
       "</table>\n",
       "</div>"
      ],
      "text/plain": [
       "                  member_id admission_date discharge_date admission_type  \\\n",
       "0  AAoq6W9QR0G/kOfNZnoCPg==     2018-04-03     2018-04-03            OTH   \n",
       "1  AAoq6W9QR0G/kOfNZnoCPg==     2018-06-04     2018-06-04            OTH   \n",
       "2  AAoq6W9QR0G/kOfNZnoCPg==     2018-06-18     2018-06-18            OTH   \n",
       "3  AAoq6W9QR0G/kOfNZnoCPg==     2018-10-11     2018-10-11            OTH   \n",
       "4  AAoq6W9QR0G/kOfNZnoCPg==     2018-11-02     2018-11-02            OTH   \n",
       "\n",
       "  icd_code is_readmission er_to_inp_admission_transfer  days_to_prev_admission  \n",
       "0      NaN             No                            N                     NaN  \n",
       "1      NaN             No                            N                    62.0  \n",
       "2      NaN             No                            N                    14.0  \n",
       "3      NaN             No                            N                   115.0  \n",
       "4      NaN             No                            N                    22.0  "
      ]
     },
     "execution_count": 3,
     "metadata": {},
     "output_type": "execute_result"
    }
   ],
   "source": [
    "df1.head()"
   ]
  },
  {
   "cell_type": "code",
   "execution_count": 4,
   "metadata": {},
   "outputs": [
    {
     "name": "stdout",
     "output_type": "stream",
     "text": [
      "<class 'pandas.core.frame.DataFrame'>\n",
      "RangeIndex: 26479 entries, 0 to 26478\n",
      "Data columns (total 8 columns):\n",
      " #   Column                        Non-Null Count  Dtype  \n",
      "---  ------                        --------------  -----  \n",
      " 0   member_id                     26479 non-null  object \n",
      " 1   admission_date                26479 non-null  object \n",
      " 2   discharge_date                26479 non-null  object \n",
      " 3   admission_type                26479 non-null  object \n",
      " 4   icd_code                      18792 non-null  object \n",
      " 5   is_readmission                26479 non-null  object \n",
      " 6   er_to_inp_admission_transfer  26479 non-null  object \n",
      " 7   days_to_prev_admission        11508 non-null  float64\n",
      "dtypes: float64(1), object(7)\n",
      "memory usage: 1.6+ MB\n"
     ]
    }
   ],
   "source": [
    "df1.info()"
   ]
  },
  {
   "cell_type": "code",
   "execution_count": 5,
   "metadata": {},
   "outputs": [
    {
     "data": {
      "text/plain": [
       "member_id                       9354\n",
       "admission_date                   730\n",
       "discharge_date                   755\n",
       "admission_type                     9\n",
       "icd_code                        5829\n",
       "is_readmission                     2\n",
       "er_to_inp_admission_transfer       2\n",
       "days_to_prev_admission           852\n",
       "dtype: int64"
      ]
     },
     "execution_count": 5,
     "metadata": {},
     "output_type": "execute_result"
    }
   ],
   "source": [
    "df1.nunique()"
   ]
  },
  {
   "cell_type": "markdown",
   "metadata": {},
   "source": [
    "In order to use the date time specific functions in Pandas, we need to convert `admission_date` and `discharge_date` into an appropriate format.  "
   ]
  },
  {
   "cell_type": "code",
   "execution_count": 6,
   "metadata": {},
   "outputs": [
    {
     "name": "stdout",
     "output_type": "stream",
     "text": [
      "<class 'pandas.core.frame.DataFrame'>\n",
      "RangeIndex: 26479 entries, 0 to 26478\n",
      "Data columns (total 8 columns):\n",
      " #   Column                        Non-Null Count  Dtype         \n",
      "---  ------                        --------------  -----         \n",
      " 0   member_id                     26479 non-null  object        \n",
      " 1   admission_date                26479 non-null  datetime64[ns]\n",
      " 2   discharge_date                26479 non-null  datetime64[ns]\n",
      " 3   admission_type                26479 non-null  object        \n",
      " 4   icd_code                      18792 non-null  object        \n",
      " 5   is_readmission                26479 non-null  object        \n",
      " 6   er_to_inp_admission_transfer  26479 non-null  object        \n",
      " 7   days_to_prev_admission        11508 non-null  float64       \n",
      "dtypes: datetime64[ns](2), float64(1), object(5)\n",
      "memory usage: 1.6+ MB\n"
     ]
    }
   ],
   "source": [
    "df1['admission_date']=pd.to_datetime(df1['admission_date'])\n",
    "df1['discharge_date']=pd.to_datetime(df1['discharge_date'])\n",
    "df1.info() # we double check the data type"
   ]
  },
  {
   "cell_type": "markdown",
   "metadata": {},
   "source": [
    "In our analysis we only consider records from 2018 and 2019. We will check unique values for the years of `admission_date` and `discharge_date` columns to see whether we need to eliminate any records that do not meet that criteria."
   ]
  },
  {
   "cell_type": "code",
   "execution_count": 7,
   "metadata": {},
   "outputs": [
    {
     "data": {
      "text/plain": [
       "Int64Index([2018, 2019], dtype='int64', name='admission_date')"
      ]
     },
     "execution_count": 7,
     "metadata": {},
     "output_type": "execute_result"
    }
   ],
   "source": [
    "pd.DatetimeIndex(df1['admission_date']).year.unique()"
   ]
  },
  {
   "cell_type": "code",
   "execution_count": 8,
   "metadata": {},
   "outputs": [
    {
     "data": {
      "text/plain": [
       "Int64Index([2018, 2019, 2020], dtype='int64', name='discharge_date')"
      ]
     },
     "execution_count": 8,
     "metadata": {},
     "output_type": "execute_result"
    }
   ],
   "source": [
    "pd.DatetimeIndex(df1['discharge_date']).year.unique()"
   ]
  },
  {
   "cell_type": "code",
   "execution_count": 9,
   "metadata": {},
   "outputs": [
    {
     "data": {
      "text/plain": [
       "Int64Index([2018, 2019], dtype='int64', name='discharge_date')"
      ]
     },
     "execution_count": 9,
     "metadata": {},
     "output_type": "execute_result"
    }
   ],
   "source": [
    "df1=df1[df1['discharge_date']<='2019-12-31']           # eliminate records from 2020\n",
    "pd.DatetimeIndex(df1['discharge_date']).year.unique()  # check the update"
   ]
  },
  {
   "cell_type": "code",
   "execution_count": 10,
   "metadata": {},
   "outputs": [
    {
     "data": {
      "text/html": [
       "<div>\n",
       "<style scoped>\n",
       "    .dataframe tbody tr th:only-of-type {\n",
       "        vertical-align: middle;\n",
       "    }\n",
       "\n",
       "    .dataframe tbody tr th {\n",
       "        vertical-align: top;\n",
       "    }\n",
       "\n",
       "    .dataframe thead th {\n",
       "        text-align: right;\n",
       "    }\n",
       "</style>\n",
       "<table border=\"1\" class=\"dataframe\">\n",
       "  <thead>\n",
       "    <tr style=\"text-align: right;\">\n",
       "      <th></th>\n",
       "      <th>member_id</th>\n",
       "      <th>admission_date</th>\n",
       "      <th>discharge_date</th>\n",
       "      <th>admission_type</th>\n",
       "      <th>icd_code</th>\n",
       "      <th>is_readmission</th>\n",
       "      <th>er_to_inp_admission_transfer</th>\n",
       "      <th>days_to_prev_admission</th>\n",
       "    </tr>\n",
       "  </thead>\n",
       "  <tbody>\n",
       "    <tr>\n",
       "      <th>475</th>\n",
       "      <td>BCe7vxpdQd+7exQf6EjkMQ==</td>\n",
       "      <td>2019-07-02</td>\n",
       "      <td>2019-06-20</td>\n",
       "      <td>INP</td>\n",
       "      <td>M1611</td>\n",
       "      <td>No</td>\n",
       "      <td>N</td>\n",
       "      <td>12.0</td>\n",
       "    </tr>\n",
       "    <tr>\n",
       "      <th>3576</th>\n",
       "      <td>IvBP0/7WQ/+IA0oLycHUDw==</td>\n",
       "      <td>2018-07-10</td>\n",
       "      <td>2018-06-21</td>\n",
       "      <td>INP</td>\n",
       "      <td>M1712;M25562</td>\n",
       "      <td>No</td>\n",
       "      <td>N</td>\n",
       "      <td>19.0</td>\n",
       "    </tr>\n",
       "    <tr>\n",
       "      <th>5310</th>\n",
       "      <td>MtKBVgQaQQWMV7/u5A6L7Q==</td>\n",
       "      <td>2019-12-02</td>\n",
       "      <td>2019-11-07</td>\n",
       "      <td>INP</td>\n",
       "      <td>M48061;M5136</td>\n",
       "      <td>Yes</td>\n",
       "      <td>N</td>\n",
       "      <td>15.0</td>\n",
       "    </tr>\n",
       "  </tbody>\n",
       "</table>\n",
       "</div>"
      ],
      "text/plain": [
       "                     member_id admission_date discharge_date admission_type  \\\n",
       "475   BCe7vxpdQd+7exQf6EjkMQ==     2019-07-02     2019-06-20            INP   \n",
       "3576  IvBP0/7WQ/+IA0oLycHUDw==     2018-07-10     2018-06-21            INP   \n",
       "5310  MtKBVgQaQQWMV7/u5A6L7Q==     2019-12-02     2019-11-07            INP   \n",
       "\n",
       "          icd_code is_readmission er_to_inp_admission_transfer  \\\n",
       "475          M1611             No                            N   \n",
       "3576  M1712;M25562             No                            N   \n",
       "5310  M48061;M5136            Yes                            N   \n",
       "\n",
       "      days_to_prev_admission  \n",
       "475                     12.0  \n",
       "3576                    19.0  \n",
       "5310                    15.0  "
      ]
     },
     "execution_count": 10,
     "metadata": {},
     "output_type": "execute_result"
    }
   ],
   "source": [
    "df1[(df1['discharge_date']-df1['admission_date']).dt.days<0].head(3)"
   ]
  },
  {
   "cell_type": "markdown",
   "metadata": {},
   "source": [
    "Now `discharge_date` must be later than `admission_date` for each patient. However, when we checked the difference of these columns (see above) we saw that we have 13 records with negative difference, which must be an error. This error might be that the dates were swapped when entered. To fix this issue we will swap the dates for these records (see below)."
   ]
  },
  {
   "cell_type": "code",
   "execution_count": 11,
   "metadata": {},
   "outputs": [],
   "source": [
    "num_days = (df1['discharge_date']-df1['admission_date']).dt.days<0 # durations that are smaller than zero.\n",
    "\n",
    "df1.loc[num_days,['admission_date','discharge_date']] = df1.loc[num_days,['discharge_date','admission_date']].values.astype('datetime64[D]')"
   ]
  },
  {
   "cell_type": "code",
   "execution_count": 12,
   "metadata": {},
   "outputs": [
    {
     "data": {
      "text/html": [
       "<div>\n",
       "<style scoped>\n",
       "    .dataframe tbody tr th:only-of-type {\n",
       "        vertical-align: middle;\n",
       "    }\n",
       "\n",
       "    .dataframe tbody tr th {\n",
       "        vertical-align: top;\n",
       "    }\n",
       "\n",
       "    .dataframe thead th {\n",
       "        text-align: right;\n",
       "    }\n",
       "</style>\n",
       "<table border=\"1\" class=\"dataframe\">\n",
       "  <thead>\n",
       "    <tr style=\"text-align: right;\">\n",
       "      <th></th>\n",
       "      <th>member_id</th>\n",
       "      <th>admission_date</th>\n",
       "      <th>discharge_date</th>\n",
       "      <th>admission_type</th>\n",
       "      <th>icd_code</th>\n",
       "      <th>is_readmission</th>\n",
       "      <th>er_to_inp_admission_transfer</th>\n",
       "      <th>days_to_prev_admission</th>\n",
       "    </tr>\n",
       "  </thead>\n",
       "  <tbody>\n",
       "  </tbody>\n",
       "</table>\n",
       "</div>"
      ],
      "text/plain": [
       "Empty DataFrame\n",
       "Columns: [member_id, admission_date, discharge_date, admission_type, icd_code, is_readmission, er_to_inp_admission_transfer, days_to_prev_admission]\n",
       "Index: []"
      ]
     },
     "execution_count": 12,
     "metadata": {},
     "output_type": "execute_result"
    }
   ],
   "source": [
    "df1[(df1['discharge_date']-df1['admission_date']).dt.days<0] # check the update"
   ]
  },
  {
   "cell_type": "markdown",
   "metadata": {},
   "source": [
    "Next we will add one more column to keep track of the duration of each visit."
   ]
  },
  {
   "cell_type": "code",
   "execution_count": 13,
   "metadata": {},
   "outputs": [
    {
     "data": {
      "text/html": [
       "<div>\n",
       "<style scoped>\n",
       "    .dataframe tbody tr th:only-of-type {\n",
       "        vertical-align: middle;\n",
       "    }\n",
       "\n",
       "    .dataframe tbody tr th {\n",
       "        vertical-align: top;\n",
       "    }\n",
       "\n",
       "    .dataframe thead th {\n",
       "        text-align: right;\n",
       "    }\n",
       "</style>\n",
       "<table border=\"1\" class=\"dataframe\">\n",
       "  <thead>\n",
       "    <tr style=\"text-align: right;\">\n",
       "      <th></th>\n",
       "      <th>member_id</th>\n",
       "      <th>admission_date</th>\n",
       "      <th>discharge_date</th>\n",
       "      <th>admission_type</th>\n",
       "      <th>icd_code</th>\n",
       "      <th>is_readmission</th>\n",
       "      <th>er_to_inp_admission_transfer</th>\n",
       "      <th>days_to_prev_admission</th>\n",
       "      <th>visit_duration</th>\n",
       "    </tr>\n",
       "  </thead>\n",
       "  <tbody>\n",
       "    <tr>\n",
       "      <th>0</th>\n",
       "      <td>AAoq6W9QR0G/kOfNZnoCPg==</td>\n",
       "      <td>2018-04-03 00:00:00</td>\n",
       "      <td>2018-04-03 00:00:00</td>\n",
       "      <td>OTH</td>\n",
       "      <td>NaN</td>\n",
       "      <td>No</td>\n",
       "      <td>N</td>\n",
       "      <td>NaN</td>\n",
       "      <td>0</td>\n",
       "    </tr>\n",
       "    <tr>\n",
       "      <th>1</th>\n",
       "      <td>AAoq6W9QR0G/kOfNZnoCPg==</td>\n",
       "      <td>2018-06-04 00:00:00</td>\n",
       "      <td>2018-06-04 00:00:00</td>\n",
       "      <td>OTH</td>\n",
       "      <td>NaN</td>\n",
       "      <td>No</td>\n",
       "      <td>N</td>\n",
       "      <td>62.0</td>\n",
       "      <td>0</td>\n",
       "    </tr>\n",
       "    <tr>\n",
       "      <th>2</th>\n",
       "      <td>AAoq6W9QR0G/kOfNZnoCPg==</td>\n",
       "      <td>2018-06-18 00:00:00</td>\n",
       "      <td>2018-06-18 00:00:00</td>\n",
       "      <td>OTH</td>\n",
       "      <td>NaN</td>\n",
       "      <td>No</td>\n",
       "      <td>N</td>\n",
       "      <td>14.0</td>\n",
       "      <td>0</td>\n",
       "    </tr>\n",
       "  </tbody>\n",
       "</table>\n",
       "</div>"
      ],
      "text/plain": [
       "                  member_id       admission_date       discharge_date  \\\n",
       "0  AAoq6W9QR0G/kOfNZnoCPg==  2018-04-03 00:00:00  2018-04-03 00:00:00   \n",
       "1  AAoq6W9QR0G/kOfNZnoCPg==  2018-06-04 00:00:00  2018-06-04 00:00:00   \n",
       "2  AAoq6W9QR0G/kOfNZnoCPg==  2018-06-18 00:00:00  2018-06-18 00:00:00   \n",
       "\n",
       "  admission_type icd_code is_readmission er_to_inp_admission_transfer  \\\n",
       "0            OTH      NaN             No                            N   \n",
       "1            OTH      NaN             No                            N   \n",
       "2            OTH      NaN             No                            N   \n",
       "\n",
       "   days_to_prev_admission  visit_duration  \n",
       "0                     NaN               0  \n",
       "1                    62.0               0  \n",
       "2                    14.0               0  "
      ]
     },
     "execution_count": 13,
     "metadata": {},
     "output_type": "execute_result"
    }
   ],
   "source": [
    "df1['visit_duration']=(df1['discharge_date']-df1['admission_date']).dt.days\n",
    "df1.head(3) # check the update"
   ]
  },
  {
   "cell_type": "markdown",
   "metadata": {},
   "source": [
    "Notice that if a patient was admitted and discharged on the same day then the duration of the visit is 0. To distinguish a patient with a visit of 0 duration from the patients who did not visit the hospital we will create a column whose values are equal to `visit_duration` values increased by 1.   "
   ]
  },
  {
   "cell_type": "code",
   "execution_count": 14,
   "metadata": {},
   "outputs": [
    {
     "data": {
      "text/html": [
       "<div>\n",
       "<style scoped>\n",
       "    .dataframe tbody tr th:only-of-type {\n",
       "        vertical-align: middle;\n",
       "    }\n",
       "\n",
       "    .dataframe tbody tr th {\n",
       "        vertical-align: top;\n",
       "    }\n",
       "\n",
       "    .dataframe thead th {\n",
       "        text-align: right;\n",
       "    }\n",
       "</style>\n",
       "<table border=\"1\" class=\"dataframe\">\n",
       "  <thead>\n",
       "    <tr style=\"text-align: right;\">\n",
       "      <th></th>\n",
       "      <th>member_id</th>\n",
       "      <th>admission_date</th>\n",
       "      <th>discharge_date</th>\n",
       "      <th>admission_type</th>\n",
       "      <th>icd_code</th>\n",
       "      <th>is_readmission</th>\n",
       "      <th>er_to_inp_admission_transfer</th>\n",
       "      <th>days_to_prev_admission</th>\n",
       "      <th>visit_duration</th>\n",
       "      <th>visit_duration_updated</th>\n",
       "    </tr>\n",
       "  </thead>\n",
       "  <tbody>\n",
       "    <tr>\n",
       "      <th>0</th>\n",
       "      <td>AAoq6W9QR0G/kOfNZnoCPg==</td>\n",
       "      <td>2018-04-03 00:00:00</td>\n",
       "      <td>2018-04-03 00:00:00</td>\n",
       "      <td>OTH</td>\n",
       "      <td>NaN</td>\n",
       "      <td>No</td>\n",
       "      <td>N</td>\n",
       "      <td>NaN</td>\n",
       "      <td>0</td>\n",
       "      <td>1</td>\n",
       "    </tr>\n",
       "    <tr>\n",
       "      <th>1</th>\n",
       "      <td>AAoq6W9QR0G/kOfNZnoCPg==</td>\n",
       "      <td>2018-06-04 00:00:00</td>\n",
       "      <td>2018-06-04 00:00:00</td>\n",
       "      <td>OTH</td>\n",
       "      <td>NaN</td>\n",
       "      <td>No</td>\n",
       "      <td>N</td>\n",
       "      <td>62.0</td>\n",
       "      <td>0</td>\n",
       "      <td>1</td>\n",
       "    </tr>\n",
       "    <tr>\n",
       "      <th>2</th>\n",
       "      <td>AAoq6W9QR0G/kOfNZnoCPg==</td>\n",
       "      <td>2018-06-18 00:00:00</td>\n",
       "      <td>2018-06-18 00:00:00</td>\n",
       "      <td>OTH</td>\n",
       "      <td>NaN</td>\n",
       "      <td>No</td>\n",
       "      <td>N</td>\n",
       "      <td>14.0</td>\n",
       "      <td>0</td>\n",
       "      <td>1</td>\n",
       "    </tr>\n",
       "    <tr>\n",
       "      <th>3</th>\n",
       "      <td>AAoq6W9QR0G/kOfNZnoCPg==</td>\n",
       "      <td>2018-10-11 00:00:00</td>\n",
       "      <td>2018-10-11 00:00:00</td>\n",
       "      <td>OTH</td>\n",
       "      <td>NaN</td>\n",
       "      <td>No</td>\n",
       "      <td>N</td>\n",
       "      <td>115.0</td>\n",
       "      <td>0</td>\n",
       "      <td>1</td>\n",
       "    </tr>\n",
       "    <tr>\n",
       "      <th>4</th>\n",
       "      <td>AAoq6W9QR0G/kOfNZnoCPg==</td>\n",
       "      <td>2018-11-02 00:00:00</td>\n",
       "      <td>2018-11-02 00:00:00</td>\n",
       "      <td>OTH</td>\n",
       "      <td>NaN</td>\n",
       "      <td>No</td>\n",
       "      <td>N</td>\n",
       "      <td>22.0</td>\n",
       "      <td>0</td>\n",
       "      <td>1</td>\n",
       "    </tr>\n",
       "    <tr>\n",
       "      <th>5</th>\n",
       "      <td>AAoq6W9QR0G/kOfNZnoCPg==</td>\n",
       "      <td>2018-11-27 00:00:00</td>\n",
       "      <td>2018-11-27 00:00:00</td>\n",
       "      <td>OTH</td>\n",
       "      <td>NaN</td>\n",
       "      <td>No</td>\n",
       "      <td>N</td>\n",
       "      <td>25.0</td>\n",
       "      <td>0</td>\n",
       "      <td>1</td>\n",
       "    </tr>\n",
       "    <tr>\n",
       "      <th>6</th>\n",
       "      <td>ABVROrC0SFCeFKI7k2dCLg==</td>\n",
       "      <td>2018-03-30 00:00:00</td>\n",
       "      <td>2018-03-30 00:00:00</td>\n",
       "      <td>INP</td>\n",
       "      <td>R55</td>\n",
       "      <td>No</td>\n",
       "      <td>N</td>\n",
       "      <td>NaN</td>\n",
       "      <td>0</td>\n",
       "      <td>1</td>\n",
       "    </tr>\n",
       "    <tr>\n",
       "      <th>7</th>\n",
       "      <td>ABounsImR7yi6ARWw/pLkQ==</td>\n",
       "      <td>2019-12-30 00:00:00</td>\n",
       "      <td>2019-12-30 00:00:00</td>\n",
       "      <td>ER</td>\n",
       "      <td>NaN</td>\n",
       "      <td>No</td>\n",
       "      <td>N</td>\n",
       "      <td>NaN</td>\n",
       "      <td>0</td>\n",
       "      <td>1</td>\n",
       "    </tr>\n",
       "    <tr>\n",
       "      <th>8</th>\n",
       "      <td>ACKVU9XTTqKWeNs8SZmUkg==</td>\n",
       "      <td>2019-03-28 00:00:00</td>\n",
       "      <td>2019-03-28 00:00:00</td>\n",
       "      <td>ER</td>\n",
       "      <td>NaN</td>\n",
       "      <td>No</td>\n",
       "      <td>N</td>\n",
       "      <td>NaN</td>\n",
       "      <td>0</td>\n",
       "      <td>1</td>\n",
       "    </tr>\n",
       "    <tr>\n",
       "      <th>9</th>\n",
       "      <td>ACKVU9XTTqKWeNs8SZmUkg==</td>\n",
       "      <td>2019-04-03 00:00:00</td>\n",
       "      <td>2019-04-08 00:00:00</td>\n",
       "      <td>ER</td>\n",
       "      <td>K8020;I4891</td>\n",
       "      <td>Yes</td>\n",
       "      <td>Y</td>\n",
       "      <td>6.0</td>\n",
       "      <td>5</td>\n",
       "      <td>6</td>\n",
       "    </tr>\n",
       "  </tbody>\n",
       "</table>\n",
       "</div>"
      ],
      "text/plain": [
       "                  member_id       admission_date       discharge_date  \\\n",
       "0  AAoq6W9QR0G/kOfNZnoCPg==  2018-04-03 00:00:00  2018-04-03 00:00:00   \n",
       "1  AAoq6W9QR0G/kOfNZnoCPg==  2018-06-04 00:00:00  2018-06-04 00:00:00   \n",
       "2  AAoq6W9QR0G/kOfNZnoCPg==  2018-06-18 00:00:00  2018-06-18 00:00:00   \n",
       "3  AAoq6W9QR0G/kOfNZnoCPg==  2018-10-11 00:00:00  2018-10-11 00:00:00   \n",
       "4  AAoq6W9QR0G/kOfNZnoCPg==  2018-11-02 00:00:00  2018-11-02 00:00:00   \n",
       "5  AAoq6W9QR0G/kOfNZnoCPg==  2018-11-27 00:00:00  2018-11-27 00:00:00   \n",
       "6  ABVROrC0SFCeFKI7k2dCLg==  2018-03-30 00:00:00  2018-03-30 00:00:00   \n",
       "7  ABounsImR7yi6ARWw/pLkQ==  2019-12-30 00:00:00  2019-12-30 00:00:00   \n",
       "8  ACKVU9XTTqKWeNs8SZmUkg==  2019-03-28 00:00:00  2019-03-28 00:00:00   \n",
       "9  ACKVU9XTTqKWeNs8SZmUkg==  2019-04-03 00:00:00  2019-04-08 00:00:00   \n",
       "\n",
       "  admission_type     icd_code is_readmission er_to_inp_admission_transfer  \\\n",
       "0            OTH          NaN             No                            N   \n",
       "1            OTH          NaN             No                            N   \n",
       "2            OTH          NaN             No                            N   \n",
       "3            OTH          NaN             No                            N   \n",
       "4            OTH          NaN             No                            N   \n",
       "5            OTH          NaN             No                            N   \n",
       "6            INP          R55             No                            N   \n",
       "7             ER          NaN             No                            N   \n",
       "8             ER          NaN             No                            N   \n",
       "9             ER  K8020;I4891            Yes                            Y   \n",
       "\n",
       "   days_to_prev_admission  visit_duration  visit_duration_updated  \n",
       "0                     NaN               0                       1  \n",
       "1                    62.0               0                       1  \n",
       "2                    14.0               0                       1  \n",
       "3                   115.0               0                       1  \n",
       "4                    22.0               0                       1  \n",
       "5                    25.0               0                       1  \n",
       "6                     NaN               0                       1  \n",
       "7                     NaN               0                       1  \n",
       "8                     NaN               0                       1  \n",
       "9                     6.0               5                       6  "
      ]
     },
     "execution_count": 14,
     "metadata": {},
     "output_type": "execute_result"
    }
   ],
   "source": [
    "df1['visit_duration_updated']=df1['visit_duration']+1\n",
    "df1.head(10) # check the update"
   ]
  },
  {
   "cell_type": "code",
   "execution_count": 15,
   "metadata": {},
   "outputs": [
    {
     "data": {
      "text/plain": [
       "array([  0,   5,   2,  15,  10,  28,   1,   3,  23,  42,   8,   6,  11,\n",
       "         9,   4,  19,  18,   7,  27,  12,  16,  20,  13,  31,  88,  52,\n",
       "        17,  36,  21,  14,  22,  38,  24,  26,  29,  30,  41,  33,  32,\n",
       "        25,  39,  35,  51,  44,  37,  43,  40,  53,  57,  46, 114,  73,\n",
       "        34,  66,  64,  54,  92,  63,  69,  45,  83,  50,  56,  55,  62,\n",
       "        48,  47, 142, 160, 116,  71,  81, 122, 121,  49,  59,  78,  58,\n",
       "        70,  65,  67, 156, 108, 303, 113])"
      ]
     },
     "execution_count": 15,
     "metadata": {},
     "output_type": "execute_result"
    }
   ],
   "source": [
    "df1['visit_duration'].unique() # check the update"
   ]
  },
  {
   "cell_type": "markdown",
   "metadata": {},
   "source": [
    "Furthermore, `icd_code` column has 3 main types of values: null, a single icd code, or two or more icd codes joint with a (or multiple) semicolon(s) (see below). "
   ]
  },
  {
   "cell_type": "code",
   "execution_count": 16,
   "metadata": {},
   "outputs": [
    {
     "data": {
      "text/plain": [
       "array([nan, 'R55', 'K8020;I4891', ..., 'K810;Z833', 'G459;I509',\n",
       "       'R0602;J9600'], dtype=object)"
      ]
     },
     "execution_count": 16,
     "metadata": {},
     "output_type": "execute_result"
    }
   ],
   "source": [
    "df1['icd_code'].unique()"
   ]
  },
  {
   "cell_type": "markdown",
   "metadata": {},
   "source": [
    "Using `icd_code` column of df1 we will make a dictionary that has member ids as its keys, and a list containing all the icd codes assigned to the member id. We will use a function called  'extract_icd_code' for this task (see below). The dictionary will be saved for future use. "
   ]
  },
  {
   "cell_type": "code",
   "execution_count": 17,
   "metadata": {},
   "outputs": [],
   "source": [
    "df1_icd_codes=extract_icd_code(df1)"
   ]
  },
  {
   "cell_type": "code",
   "execution_count": 18,
   "metadata": {},
   "outputs": [],
   "source": [
    "# df1_icd_codes is a very large dictionary so we will not show it here."
   ]
  },
  {
   "cell_type": "markdown",
   "metadata": {},
   "source": [
    " "
   ]
  },
  {
   "cell_type": "code",
   "execution_count": 19,
   "metadata": {},
   "outputs": [
    {
     "data": {
      "text/plain": [
       "['I6522', 'J449', 'R0602', 'G8918', 'I509']"
      ]
     },
     "execution_count": 19,
     "metadata": {},
     "output_type": "execute_result"
    }
   ],
   "source": [
    "# to see how an item in df1_icd_codes dictionary looks like\n",
    "df1_icd_codes['AEeiIrq1RKOuuHYqsgeVJg==']"
   ]
  },
  {
   "cell_type": "markdown",
   "metadata": {},
   "source": [
    "We observe that most of values for `days_to_prev_admission` is null."
   ]
  },
  {
   "cell_type": "code",
   "execution_count": 20,
   "metadata": {},
   "outputs": [
    {
     "data": {
      "text/plain": [
       "NaN       14903\n",
       "0.0         677\n",
       "5.0         203\n",
       "4.0         195\n",
       "6.0         194\n",
       "          ...  \n",
       "888.0         1\n",
       "1004.0        1\n",
       "860.0         1\n",
       "988.0         1\n",
       "1031.0        1\n",
       "Name: days_to_prev_admission, Length: 849, dtype: int64"
      ]
     },
     "execution_count": 20,
     "metadata": {},
     "output_type": "execute_result"
    }
   ],
   "source": [
    "df1['days_to_prev_admission'].value_counts(dropna=False)"
   ]
  },
  {
   "cell_type": "code",
   "execution_count": 21,
   "metadata": {},
   "outputs": [
    {
     "data": {
      "text/html": [
       "<div>\n",
       "<style scoped>\n",
       "    .dataframe tbody tr th:only-of-type {\n",
       "        vertical-align: middle;\n",
       "    }\n",
       "\n",
       "    .dataframe tbody tr th {\n",
       "        vertical-align: top;\n",
       "    }\n",
       "\n",
       "    .dataframe thead th {\n",
       "        text-align: right;\n",
       "    }\n",
       "</style>\n",
       "<table border=\"1\" class=\"dataframe\">\n",
       "  <thead>\n",
       "    <tr style=\"text-align: right;\">\n",
       "      <th></th>\n",
       "      <th>member_id</th>\n",
       "      <th>admission_date</th>\n",
       "      <th>discharge_date</th>\n",
       "      <th>admission_type</th>\n",
       "      <th>icd_code</th>\n",
       "      <th>is_readmission</th>\n",
       "      <th>er_to_inp_admission_transfer</th>\n",
       "      <th>days_to_prev_admission</th>\n",
       "      <th>visit_duration</th>\n",
       "      <th>visit_duration_updated</th>\n",
       "      <th>nth_visit</th>\n",
       "    </tr>\n",
       "  </thead>\n",
       "  <tbody>\n",
       "    <tr>\n",
       "      <th>0</th>\n",
       "      <td>AAoq6W9QR0G/kOfNZnoCPg==</td>\n",
       "      <td>2018-04-03</td>\n",
       "      <td>2018-04-03 00:00:00</td>\n",
       "      <td>OTH</td>\n",
       "      <td>NaN</td>\n",
       "      <td>No</td>\n",
       "      <td>N</td>\n",
       "      <td>NaN</td>\n",
       "      <td>0</td>\n",
       "      <td>1</td>\n",
       "      <td>1</td>\n",
       "    </tr>\n",
       "    <tr>\n",
       "      <th>1</th>\n",
       "      <td>AAoq6W9QR0G/kOfNZnoCPg==</td>\n",
       "      <td>2018-06-04</td>\n",
       "      <td>2018-06-04 00:00:00</td>\n",
       "      <td>OTH</td>\n",
       "      <td>NaN</td>\n",
       "      <td>No</td>\n",
       "      <td>N</td>\n",
       "      <td>62.0</td>\n",
       "      <td>0</td>\n",
       "      <td>1</td>\n",
       "      <td>2</td>\n",
       "    </tr>\n",
       "    <tr>\n",
       "      <th>2</th>\n",
       "      <td>AAoq6W9QR0G/kOfNZnoCPg==</td>\n",
       "      <td>2018-06-18</td>\n",
       "      <td>2018-06-18 00:00:00</td>\n",
       "      <td>OTH</td>\n",
       "      <td>NaN</td>\n",
       "      <td>No</td>\n",
       "      <td>N</td>\n",
       "      <td>14.0</td>\n",
       "      <td>0</td>\n",
       "      <td>1</td>\n",
       "      <td>3</td>\n",
       "    </tr>\n",
       "  </tbody>\n",
       "</table>\n",
       "</div>"
      ],
      "text/plain": [
       "                  member_id admission_date       discharge_date  \\\n",
       "0  AAoq6W9QR0G/kOfNZnoCPg==     2018-04-03  2018-04-03 00:00:00   \n",
       "1  AAoq6W9QR0G/kOfNZnoCPg==     2018-06-04  2018-06-04 00:00:00   \n",
       "2  AAoq6W9QR0G/kOfNZnoCPg==     2018-06-18  2018-06-18 00:00:00   \n",
       "\n",
       "  admission_type icd_code is_readmission er_to_inp_admission_transfer  \\\n",
       "0            OTH      NaN             No                            N   \n",
       "1            OTH      NaN             No                            N   \n",
       "2            OTH      NaN             No                            N   \n",
       "\n",
       "   days_to_prev_admission  visit_duration  visit_duration_updated  nth_visit  \n",
       "0                     NaN               0                       1          1  \n",
       "1                    62.0               0                       1          2  \n",
       "2                    14.0               0                       1          3  "
      ]
     },
     "execution_count": 21,
     "metadata": {},
     "output_type": "execute_result"
    }
   ],
   "source": [
    "df1['admission_date']=pd.to_datetime(df1['admission_date'])\n",
    "df1['nth_visit']=df1.groupby('member_id')['admission_date'].rank(method='first')\n",
    "df1['nth_visit']=df1['nth_visit'].astype(int)\n",
    "df1.head(3)"
   ]
  },
  {
   "cell_type": "markdown",
   "metadata": {},
   "source": [
    "Next we will drop the columns that we will not consider for our model. "
   ]
  },
  {
   "cell_type": "code",
   "execution_count": 22,
   "metadata": {},
   "outputs": [
    {
     "data": {
      "text/html": [
       "<div>\n",
       "<style scoped>\n",
       "    .dataframe tbody tr th:only-of-type {\n",
       "        vertical-align: middle;\n",
       "    }\n",
       "\n",
       "    .dataframe tbody tr th {\n",
       "        vertical-align: top;\n",
       "    }\n",
       "\n",
       "    .dataframe thead th {\n",
       "        text-align: right;\n",
       "    }\n",
       "</style>\n",
       "<table border=\"1\" class=\"dataframe\">\n",
       "  <thead>\n",
       "    <tr style=\"text-align: right;\">\n",
       "      <th></th>\n",
       "      <th>member_id</th>\n",
       "      <th>admission_type</th>\n",
       "      <th>is_readmission</th>\n",
       "      <th>er_to_inp_admission_transfer</th>\n",
       "      <th>days_to_prev_admission</th>\n",
       "      <th>visit_duration</th>\n",
       "      <th>visit_duration_updated</th>\n",
       "      <th>nth_visit</th>\n",
       "    </tr>\n",
       "  </thead>\n",
       "  <tbody>\n",
       "    <tr>\n",
       "      <th>0</th>\n",
       "      <td>AAoq6W9QR0G/kOfNZnoCPg==</td>\n",
       "      <td>OTH</td>\n",
       "      <td>No</td>\n",
       "      <td>N</td>\n",
       "      <td>NaN</td>\n",
       "      <td>0</td>\n",
       "      <td>1</td>\n",
       "      <td>1</td>\n",
       "    </tr>\n",
       "    <tr>\n",
       "      <th>1</th>\n",
       "      <td>AAoq6W9QR0G/kOfNZnoCPg==</td>\n",
       "      <td>OTH</td>\n",
       "      <td>No</td>\n",
       "      <td>N</td>\n",
       "      <td>62.0</td>\n",
       "      <td>0</td>\n",
       "      <td>1</td>\n",
       "      <td>2</td>\n",
       "    </tr>\n",
       "    <tr>\n",
       "      <th>2</th>\n",
       "      <td>AAoq6W9QR0G/kOfNZnoCPg==</td>\n",
       "      <td>OTH</td>\n",
       "      <td>No</td>\n",
       "      <td>N</td>\n",
       "      <td>14.0</td>\n",
       "      <td>0</td>\n",
       "      <td>1</td>\n",
       "      <td>3</td>\n",
       "    </tr>\n",
       "    <tr>\n",
       "      <th>3</th>\n",
       "      <td>AAoq6W9QR0G/kOfNZnoCPg==</td>\n",
       "      <td>OTH</td>\n",
       "      <td>No</td>\n",
       "      <td>N</td>\n",
       "      <td>115.0</td>\n",
       "      <td>0</td>\n",
       "      <td>1</td>\n",
       "      <td>4</td>\n",
       "    </tr>\n",
       "    <tr>\n",
       "      <th>4</th>\n",
       "      <td>AAoq6W9QR0G/kOfNZnoCPg==</td>\n",
       "      <td>OTH</td>\n",
       "      <td>No</td>\n",
       "      <td>N</td>\n",
       "      <td>22.0</td>\n",
       "      <td>0</td>\n",
       "      <td>1</td>\n",
       "      <td>5</td>\n",
       "    </tr>\n",
       "  </tbody>\n",
       "</table>\n",
       "</div>"
      ],
      "text/plain": [
       "                  member_id admission_type is_readmission  \\\n",
       "0  AAoq6W9QR0G/kOfNZnoCPg==            OTH             No   \n",
       "1  AAoq6W9QR0G/kOfNZnoCPg==            OTH             No   \n",
       "2  AAoq6W9QR0G/kOfNZnoCPg==            OTH             No   \n",
       "3  AAoq6W9QR0G/kOfNZnoCPg==            OTH             No   \n",
       "4  AAoq6W9QR0G/kOfNZnoCPg==            OTH             No   \n",
       "\n",
       "  er_to_inp_admission_transfer  days_to_prev_admission  visit_duration  \\\n",
       "0                            N                     NaN               0   \n",
       "1                            N                    62.0               0   \n",
       "2                            N                    14.0               0   \n",
       "3                            N                   115.0               0   \n",
       "4                            N                    22.0               0   \n",
       "\n",
       "   visit_duration_updated  nth_visit  \n",
       "0                       1          1  \n",
       "1                       1          2  \n",
       "2                       1          3  \n",
       "3                       1          4  \n",
       "4                       1          5  "
      ]
     },
     "execution_count": 22,
     "metadata": {},
     "output_type": "execute_result"
    }
   ],
   "source": [
    "df1.drop(['admission_date', 'discharge_date', 'icd_code'], axis=1, inplace=True)\n",
    "df1.head()"
   ]
  },
  {
   "cell_type": "code",
   "execution_count": 23,
   "metadata": {},
   "outputs": [
    {
     "data": {
      "text/html": [
       "<div>\n",
       "<style scoped>\n",
       "    .dataframe tbody tr th:only-of-type {\n",
       "        vertical-align: middle;\n",
       "    }\n",
       "\n",
       "    .dataframe tbody tr th {\n",
       "        vertical-align: top;\n",
       "    }\n",
       "\n",
       "    .dataframe thead th {\n",
       "        text-align: right;\n",
       "    }\n",
       "</style>\n",
       "<table border=\"1\" class=\"dataframe\">\n",
       "  <thead>\n",
       "    <tr style=\"text-align: right;\">\n",
       "      <th></th>\n",
       "      <th>member_id</th>\n",
       "      <th>admission_type</th>\n",
       "      <th>is_readmission</th>\n",
       "      <th>er_to_inp_admission_transfer</th>\n",
       "      <th>days_to_prev_admission</th>\n",
       "      <th>visit_duration</th>\n",
       "      <th>visit_duration_updated</th>\n",
       "      <th>nth_visit</th>\n",
       "    </tr>\n",
       "  </thead>\n",
       "  <tbody>\n",
       "  </tbody>\n",
       "</table>\n",
       "</div>"
      ],
      "text/plain": [
       "Empty DataFrame\n",
       "Columns: [member_id, admission_type, is_readmission, er_to_inp_admission_transfer, days_to_prev_admission, visit_duration, visit_duration_updated, nth_visit]\n",
       "Index: []"
      ]
     },
     "execution_count": 23,
     "metadata": {},
     "output_type": "execute_result"
    }
   ],
   "source": [
    "df1_duplicates=df1[df1.duplicated()]\n",
    "df1_duplicates # check duplicates"
   ]
  },
  {
   "cell_type": "markdown",
   "metadata": {},
   "source": [
    "### 2.7.2 Disease Data<a id='2.7.2_Disease_Data'></a>"
   ]
  },
  {
   "cell_type": "code",
   "execution_count": 24,
   "metadata": {},
   "outputs": [
    {
     "data": {
      "text/html": [
       "<div>\n",
       "<style scoped>\n",
       "    .dataframe tbody tr th:only-of-type {\n",
       "        vertical-align: middle;\n",
       "    }\n",
       "\n",
       "    .dataframe tbody tr th {\n",
       "        vertical-align: top;\n",
       "    }\n",
       "\n",
       "    .dataframe thead th {\n",
       "        text-align: right;\n",
       "    }\n",
       "</style>\n",
       "<table border=\"1\" class=\"dataframe\">\n",
       "  <thead>\n",
       "    <tr style=\"text-align: right;\">\n",
       "      <th></th>\n",
       "      <th>member_id</th>\n",
       "      <th>year_of_service</th>\n",
       "      <th>icd_code</th>\n",
       "      <th>icd_chronic_or_acute</th>\n",
       "      <th>hcc_code</th>\n",
       "      <th>hcc_chronic_or_acute</th>\n",
       "    </tr>\n",
       "  </thead>\n",
       "  <tbody>\n",
       "    <tr>\n",
       "      <th>0</th>\n",
       "      <td>AAHLhKW7RYOEQIemWrh/1w==</td>\n",
       "      <td>2018</td>\n",
       "      <td>I739</td>\n",
       "      <td>Chronic</td>\n",
       "      <td>108.0</td>\n",
       "      <td>Chronic</td>\n",
       "    </tr>\n",
       "    <tr>\n",
       "      <th>1</th>\n",
       "      <td>AAHLhKW7RYOEQIemWrh/1w==</td>\n",
       "      <td>2018</td>\n",
       "      <td>M545</td>\n",
       "      <td>Unknown</td>\n",
       "      <td>NaN</td>\n",
       "      <td>NaN</td>\n",
       "    </tr>\n",
       "    <tr>\n",
       "      <th>2</th>\n",
       "      <td>AAHLhKW7RYOEQIemWrh/1w==</td>\n",
       "      <td>2019</td>\n",
       "      <td>N183</td>\n",
       "      <td>Chronic</td>\n",
       "      <td>138.0</td>\n",
       "      <td>Chronic</td>\n",
       "    </tr>\n",
       "    <tr>\n",
       "      <th>3</th>\n",
       "      <td>AAHLhKW7RYOEQIemWrh/1w==</td>\n",
       "      <td>2019</td>\n",
       "      <td>E6601</td>\n",
       "      <td>Chronic</td>\n",
       "      <td>22.0</td>\n",
       "      <td>Chronic</td>\n",
       "    </tr>\n",
       "    <tr>\n",
       "      <th>4</th>\n",
       "      <td>AAHLhKW7RYOEQIemWrh/1w==</td>\n",
       "      <td>2019</td>\n",
       "      <td>J8410</td>\n",
       "      <td>Chronic</td>\n",
       "      <td>112.0</td>\n",
       "      <td>Chronic</td>\n",
       "    </tr>\n",
       "  </tbody>\n",
       "</table>\n",
       "</div>"
      ],
      "text/plain": [
       "                  member_id  year_of_service icd_code icd_chronic_or_acute  \\\n",
       "0  AAHLhKW7RYOEQIemWrh/1w==             2018     I739              Chronic   \n",
       "1  AAHLhKW7RYOEQIemWrh/1w==             2018     M545              Unknown   \n",
       "2  AAHLhKW7RYOEQIemWrh/1w==             2019     N183              Chronic   \n",
       "3  AAHLhKW7RYOEQIemWrh/1w==             2019    E6601              Chronic   \n",
       "4  AAHLhKW7RYOEQIemWrh/1w==             2019    J8410              Chronic   \n",
       "\n",
       "   hcc_code hcc_chronic_or_acute  \n",
       "0     108.0              Chronic  \n",
       "1       NaN                  NaN  \n",
       "2     138.0              Chronic  \n",
       "3      22.0              Chronic  \n",
       "4     112.0              Chronic  "
      ]
     },
     "execution_count": 24,
     "metadata": {},
     "output_type": "execute_result"
    }
   ],
   "source": [
    "df2.head()"
   ]
  },
  {
   "cell_type": "code",
   "execution_count": 25,
   "metadata": {},
   "outputs": [
    {
     "name": "stdout",
     "output_type": "stream",
     "text": [
      "<class 'pandas.core.frame.DataFrame'>\n",
      "RangeIndex: 1022161 entries, 0 to 1022160\n",
      "Data columns (total 6 columns):\n",
      " #   Column                Non-Null Count    Dtype  \n",
      "---  ------                --------------    -----  \n",
      " 0   member_id             1022161 non-null  object \n",
      " 1   year_of_service       1022161 non-null  int64  \n",
      " 2   icd_code              1022154 non-null  object \n",
      " 3   icd_chronic_or_acute  1022161 non-null  object \n",
      " 4   hcc_code              320286 non-null   float64\n",
      " 5   hcc_chronic_or_acute  320286 non-null   object \n",
      "dtypes: float64(1), int64(1), object(4)\n",
      "memory usage: 46.8+ MB\n"
     ]
    }
   ],
   "source": [
    "df2.info()"
   ]
  },
  {
   "cell_type": "code",
   "execution_count": 26,
   "metadata": {
    "scrolled": true
   },
   "outputs": [
    {
     "data": {
      "text/plain": [
       "member_id               37071\n",
       "year_of_service             3\n",
       "icd_code                12959\n",
       "icd_chronic_or_acute        3\n",
       "hcc_code                   68\n",
       "hcc_chronic_or_acute        2\n",
       "dtype: int64"
      ]
     },
     "execution_count": 26,
     "metadata": {},
     "output_type": "execute_result"
    }
   ],
   "source": [
    "df2.nunique()"
   ]
  },
  {
   "cell_type": "markdown",
   "metadata": {},
   "source": [
    "We have some records from 2021 besides 2018 and 2019. Since our analysis focuses on 2018 and 2019 only, we will ignore the records with the year 2021."
   ]
  },
  {
   "cell_type": "code",
   "execution_count": 27,
   "metadata": {},
   "outputs": [
    {
     "data": {
      "text/plain": [
       "array([2018, 2019, 2021])"
      ]
     },
     "execution_count": 27,
     "metadata": {},
     "output_type": "execute_result"
    }
   ],
   "source": [
    "df2['year_of_service'].unique()"
   ]
  },
  {
   "cell_type": "code",
   "execution_count": 28,
   "metadata": {},
   "outputs": [
    {
     "data": {
      "text/plain": [
       "array([2018, 2019])"
      ]
     },
     "execution_count": 28,
     "metadata": {},
     "output_type": "execute_result"
    }
   ],
   "source": [
    "df2=df2[df2['year_of_service']< 2021] # eliminate records from 2021\n",
    "df2['year_of_service'].unique()"
   ]
  },
  {
   "cell_type": "markdown",
   "metadata": {},
   "source": [
    "Also, we will drop `year_of_service` column all together since we will not consider the date and time in our model."
   ]
  },
  {
   "cell_type": "code",
   "execution_count": 29,
   "metadata": {},
   "outputs": [
    {
     "data": {
      "text/html": [
       "<div>\n",
       "<style scoped>\n",
       "    .dataframe tbody tr th:only-of-type {\n",
       "        vertical-align: middle;\n",
       "    }\n",
       "\n",
       "    .dataframe tbody tr th {\n",
       "        vertical-align: top;\n",
       "    }\n",
       "\n",
       "    .dataframe thead th {\n",
       "        text-align: right;\n",
       "    }\n",
       "</style>\n",
       "<table border=\"1\" class=\"dataframe\">\n",
       "  <thead>\n",
       "    <tr style=\"text-align: right;\">\n",
       "      <th></th>\n",
       "      <th>member_id</th>\n",
       "      <th>icd_code</th>\n",
       "      <th>icd_chronic_or_acute</th>\n",
       "      <th>hcc_code</th>\n",
       "      <th>hcc_chronic_or_acute</th>\n",
       "    </tr>\n",
       "  </thead>\n",
       "  <tbody>\n",
       "    <tr>\n",
       "      <th>0</th>\n",
       "      <td>AAHLhKW7RYOEQIemWrh/1w==</td>\n",
       "      <td>I739</td>\n",
       "      <td>Chronic</td>\n",
       "      <td>108.0</td>\n",
       "      <td>Chronic</td>\n",
       "    </tr>\n",
       "    <tr>\n",
       "      <th>1</th>\n",
       "      <td>AAHLhKW7RYOEQIemWrh/1w==</td>\n",
       "      <td>M545</td>\n",
       "      <td>Unknown</td>\n",
       "      <td>NaN</td>\n",
       "      <td>NaN</td>\n",
       "    </tr>\n",
       "    <tr>\n",
       "      <th>2</th>\n",
       "      <td>AAHLhKW7RYOEQIemWrh/1w==</td>\n",
       "      <td>N183</td>\n",
       "      <td>Chronic</td>\n",
       "      <td>138.0</td>\n",
       "      <td>Chronic</td>\n",
       "    </tr>\n",
       "    <tr>\n",
       "      <th>3</th>\n",
       "      <td>AAHLhKW7RYOEQIemWrh/1w==</td>\n",
       "      <td>E6601</td>\n",
       "      <td>Chronic</td>\n",
       "      <td>22.0</td>\n",
       "      <td>Chronic</td>\n",
       "    </tr>\n",
       "    <tr>\n",
       "      <th>4</th>\n",
       "      <td>AAHLhKW7RYOEQIemWrh/1w==</td>\n",
       "      <td>J8410</td>\n",
       "      <td>Chronic</td>\n",
       "      <td>112.0</td>\n",
       "      <td>Chronic</td>\n",
       "    </tr>\n",
       "  </tbody>\n",
       "</table>\n",
       "</div>"
      ],
      "text/plain": [
       "                  member_id icd_code icd_chronic_or_acute  hcc_code  \\\n",
       "0  AAHLhKW7RYOEQIemWrh/1w==     I739              Chronic     108.0   \n",
       "1  AAHLhKW7RYOEQIemWrh/1w==     M545              Unknown       NaN   \n",
       "2  AAHLhKW7RYOEQIemWrh/1w==     N183              Chronic     138.0   \n",
       "3  AAHLhKW7RYOEQIemWrh/1w==    E6601              Chronic      22.0   \n",
       "4  AAHLhKW7RYOEQIemWrh/1w==    J8410              Chronic     112.0   \n",
       "\n",
       "  hcc_chronic_or_acute  \n",
       "0              Chronic  \n",
       "1                  NaN  \n",
       "2              Chronic  \n",
       "3              Chronic  \n",
       "4              Chronic  "
      ]
     },
     "execution_count": 29,
     "metadata": {},
     "output_type": "execute_result"
    }
   ],
   "source": [
    "df2.drop(['year_of_service'], axis=1, inplace=True)\n",
    "df2.head() # check the update"
   ]
  },
  {
   "cell_type": "markdown",
   "metadata": {},
   "source": [
    "We observed that more than 68% of `icd_chronic_or_acute` is null (entered as 'Unknown') and the rest of the values are chronic except 2 of them (see below). The column `hcc_chronic_or_acute` is NaN whenever `icd_chronic_or_acute` is 'Unknown'. Also we have 2584 (approximately 0.002 % of the total) records where `icd_chronic_or_acute` is 'Chronic' but `hcc_chronic_or_acute` is 'Acute'. We will not make any changes on these records since there are only a few of them. Consequently, we will eliminate `hcc_chronic_or_acute` column entirely and include only `icd_chronic_or_acute` based on these findings. "
   ]
  },
  {
   "cell_type": "code",
   "execution_count": 30,
   "metadata": {},
   "outputs": [
    {
     "data": {
      "text/plain": [
       "Unknown    698326\n",
       "Chronic    320828\n",
       "Acute           2\n",
       "Name: icd_chronic_or_acute, dtype: int64"
      ]
     },
     "execution_count": 30,
     "metadata": {},
     "output_type": "execute_result"
    }
   ],
   "source": [
    "df2['icd_chronic_or_acute'].value_counts()"
   ]
  },
  {
   "cell_type": "code",
   "execution_count": 31,
   "metadata": {},
   "outputs": [
    {
     "data": {
      "text/plain": [
       "Series([], Name: hcc_chronic_or_acute, dtype: int64)"
      ]
     },
     "execution_count": 31,
     "metadata": {},
     "output_type": "execute_result"
    }
   ],
   "source": [
    "df2[df2['icd_chronic_or_acute']=='Unknown']['hcc_chronic_or_acute'].value_counts()"
   ]
  },
  {
   "cell_type": "code",
   "execution_count": 32,
   "metadata": {},
   "outputs": [
    {
     "data": {
      "text/plain": [
       "Chronic    317700\n",
       "Acute        2584\n",
       "Name: hcc_chronic_or_acute, dtype: int64"
      ]
     },
     "execution_count": 32,
     "metadata": {},
     "output_type": "execute_result"
    }
   ],
   "source": [
    "df2[df2['icd_chronic_or_acute']=='Chronic']['hcc_chronic_or_acute'].value_counts()"
   ]
  },
  {
   "cell_type": "code",
   "execution_count": 33,
   "metadata": {},
   "outputs": [
    {
     "data": {
      "text/plain": [
       "Chronic    2\n",
       "Name: hcc_chronic_or_acute, dtype: int64"
      ]
     },
     "execution_count": 33,
     "metadata": {},
     "output_type": "execute_result"
    }
   ],
   "source": [
    "df2[df2['icd_chronic_or_acute']=='Acute']['hcc_chronic_or_acute'].value_counts()"
   ]
  },
  {
   "cell_type": "markdown",
   "metadata": {},
   "source": [
    "The distribution of the values of `hcc_chronic_or_acute` is as follows:"
   ]
  },
  {
   "cell_type": "code",
   "execution_count": 34,
   "metadata": {},
   "outputs": [
    {
     "data": {
      "text/plain": [
       "Unknown    698326\n",
       "Chronic    320828\n",
       "Acute           2\n",
       "Name: icd_chronic_or_acute, dtype: int64"
      ]
     },
     "execution_count": 34,
     "metadata": {},
     "output_type": "execute_result"
    }
   ],
   "source": [
    "df2['icd_chronic_or_acute'].value_counts()"
   ]
  },
  {
   "cell_type": "code",
   "execution_count": 35,
   "metadata": {},
   "outputs": [
    {
     "data": {
      "text/html": [
       "<div>\n",
       "<style scoped>\n",
       "    .dataframe tbody tr th:only-of-type {\n",
       "        vertical-align: middle;\n",
       "    }\n",
       "\n",
       "    .dataframe tbody tr th {\n",
       "        vertical-align: top;\n",
       "    }\n",
       "\n",
       "    .dataframe thead th {\n",
       "        text-align: right;\n",
       "    }\n",
       "</style>\n",
       "<table border=\"1\" class=\"dataframe\">\n",
       "  <thead>\n",
       "    <tr style=\"text-align: right;\">\n",
       "      <th></th>\n",
       "      <th>member_id</th>\n",
       "      <th>icd_code</th>\n",
       "      <th>icd_chronic_or_acute</th>\n",
       "      <th>hcc_code</th>\n",
       "    </tr>\n",
       "  </thead>\n",
       "  <tbody>\n",
       "    <tr>\n",
       "      <th>0</th>\n",
       "      <td>AAHLhKW7RYOEQIemWrh/1w==</td>\n",
       "      <td>I739</td>\n",
       "      <td>Chronic</td>\n",
       "      <td>108.0</td>\n",
       "    </tr>\n",
       "    <tr>\n",
       "      <th>1</th>\n",
       "      <td>AAHLhKW7RYOEQIemWrh/1w==</td>\n",
       "      <td>M545</td>\n",
       "      <td>Unknown</td>\n",
       "      <td>NaN</td>\n",
       "    </tr>\n",
       "    <tr>\n",
       "      <th>2</th>\n",
       "      <td>AAHLhKW7RYOEQIemWrh/1w==</td>\n",
       "      <td>N183</td>\n",
       "      <td>Chronic</td>\n",
       "      <td>138.0</td>\n",
       "    </tr>\n",
       "  </tbody>\n",
       "</table>\n",
       "</div>"
      ],
      "text/plain": [
       "                  member_id icd_code icd_chronic_or_acute  hcc_code\n",
       "0  AAHLhKW7RYOEQIemWrh/1w==     I739              Chronic     108.0\n",
       "1  AAHLhKW7RYOEQIemWrh/1w==     M545              Unknown       NaN\n",
       "2  AAHLhKW7RYOEQIemWrh/1w==     N183              Chronic     138.0"
      ]
     },
     "execution_count": 35,
     "metadata": {},
     "output_type": "execute_result"
    }
   ],
   "source": [
    "df2.drop(['hcc_chronic_or_acute'], axis=1, inplace=True)\n",
    "df2.head(3) # check the update"
   ]
  },
  {
   "cell_type": "markdown",
   "metadata": {},
   "source": [
    "Our ultimate goal is to predict hcc codes assigned to each patient. However, hcc codes are determined based on icd codes. We will drop `hcc_code` column to avoid any potential issues caused by the correlation. Once we determine the icd codes we will retrieve hcc codes using the icd codes."
   ]
  },
  {
   "cell_type": "code",
   "execution_count": 36,
   "metadata": {},
   "outputs": [
    {
     "data": {
      "text/html": [
       "<div>\n",
       "<style scoped>\n",
       "    .dataframe tbody tr th:only-of-type {\n",
       "        vertical-align: middle;\n",
       "    }\n",
       "\n",
       "    .dataframe tbody tr th {\n",
       "        vertical-align: top;\n",
       "    }\n",
       "\n",
       "    .dataframe thead th {\n",
       "        text-align: right;\n",
       "    }\n",
       "</style>\n",
       "<table border=\"1\" class=\"dataframe\">\n",
       "  <thead>\n",
       "    <tr style=\"text-align: right;\">\n",
       "      <th></th>\n",
       "      <th>member_id</th>\n",
       "      <th>icd_code</th>\n",
       "      <th>icd_chronic_or_acute</th>\n",
       "    </tr>\n",
       "  </thead>\n",
       "  <tbody>\n",
       "    <tr>\n",
       "      <th>0</th>\n",
       "      <td>AAHLhKW7RYOEQIemWrh/1w==</td>\n",
       "      <td>I739</td>\n",
       "      <td>Chronic</td>\n",
       "    </tr>\n",
       "    <tr>\n",
       "      <th>1</th>\n",
       "      <td>AAHLhKW7RYOEQIemWrh/1w==</td>\n",
       "      <td>M545</td>\n",
       "      <td>Unknown</td>\n",
       "    </tr>\n",
       "    <tr>\n",
       "      <th>2</th>\n",
       "      <td>AAHLhKW7RYOEQIemWrh/1w==</td>\n",
       "      <td>N183</td>\n",
       "      <td>Chronic</td>\n",
       "    </tr>\n",
       "    <tr>\n",
       "      <th>3</th>\n",
       "      <td>AAHLhKW7RYOEQIemWrh/1w==</td>\n",
       "      <td>E6601</td>\n",
       "      <td>Chronic</td>\n",
       "    </tr>\n",
       "    <tr>\n",
       "      <th>4</th>\n",
       "      <td>AAHLhKW7RYOEQIemWrh/1w==</td>\n",
       "      <td>J8410</td>\n",
       "      <td>Chronic</td>\n",
       "    </tr>\n",
       "  </tbody>\n",
       "</table>\n",
       "</div>"
      ],
      "text/plain": [
       "                  member_id icd_code icd_chronic_or_acute\n",
       "0  AAHLhKW7RYOEQIemWrh/1w==     I739              Chronic\n",
       "1  AAHLhKW7RYOEQIemWrh/1w==     M545              Unknown\n",
       "2  AAHLhKW7RYOEQIemWrh/1w==     N183              Chronic\n",
       "3  AAHLhKW7RYOEQIemWrh/1w==    E6601              Chronic\n",
       "4  AAHLhKW7RYOEQIemWrh/1w==    J8410              Chronic"
      ]
     },
     "execution_count": 36,
     "metadata": {},
     "output_type": "execute_result"
    }
   ],
   "source": [
    "df2.drop(['hcc_code'], axis=1, inplace=True)\n",
    "df2.head() # check the update "
   ]
  },
  {
   "cell_type": "code",
   "execution_count": 37,
   "metadata": {},
   "outputs": [
    {
     "name": "stdout",
     "output_type": "stream",
     "text": [
      "A file already exists with this name.\n",
      "\n",
      "Do you want to overwrite? (Y/N)Y\n",
      "Writing file.  \"../Outputs/df2_final.csv\"\n"
     ]
    }
   ],
   "source": [
    "# save the data to a new csv file\n",
    "datapath = '../Outputs'\n",
    "save_file(df2, 'df2_final.csv', datapath)"
   ]
  },
  {
   "cell_type": "code",
   "execution_count": 38,
   "metadata": {},
   "outputs": [
    {
     "data": {
      "text/html": [
       "<div>\n",
       "<style scoped>\n",
       "    .dataframe tbody tr th:only-of-type {\n",
       "        vertical-align: middle;\n",
       "    }\n",
       "\n",
       "    .dataframe tbody tr th {\n",
       "        vertical-align: top;\n",
       "    }\n",
       "\n",
       "    .dataframe thead th {\n",
       "        text-align: right;\n",
       "    }\n",
       "</style>\n",
       "<table border=\"1\" class=\"dataframe\">\n",
       "  <thead>\n",
       "    <tr style=\"text-align: right;\">\n",
       "      <th></th>\n",
       "      <th>member_id</th>\n",
       "      <th>icd_code</th>\n",
       "      <th>icd_chronic_or_acute</th>\n",
       "    </tr>\n",
       "  </thead>\n",
       "  <tbody>\n",
       "    <tr>\n",
       "      <th>5</th>\n",
       "      <td>AAHLhKW7RYOEQIemWrh/1w==</td>\n",
       "      <td>I739</td>\n",
       "      <td>Chronic</td>\n",
       "    </tr>\n",
       "    <tr>\n",
       "      <th>61</th>\n",
       "      <td>AAKW/PKhRva+ZS2B4s0AmA==</td>\n",
       "      <td>M792</td>\n",
       "      <td>Unknown</td>\n",
       "    </tr>\n",
       "    <tr>\n",
       "      <th>64</th>\n",
       "      <td>AAKW/PKhRva+ZS2B4s0AmA==</td>\n",
       "      <td>R5383</td>\n",
       "      <td>Unknown</td>\n",
       "    </tr>\n",
       "    <tr>\n",
       "      <th>66</th>\n",
       "      <td>AAKW/PKhRva+ZS2B4s0AmA==</td>\n",
       "      <td>I25810</td>\n",
       "      <td>Unknown</td>\n",
       "    </tr>\n",
       "    <tr>\n",
       "      <th>67</th>\n",
       "      <td>AAKW/PKhRva+ZS2B4s0AmA==</td>\n",
       "      <td>E1142</td>\n",
       "      <td>Chronic</td>\n",
       "    </tr>\n",
       "  </tbody>\n",
       "</table>\n",
       "</div>"
      ],
      "text/plain": [
       "                   member_id icd_code icd_chronic_or_acute\n",
       "5   AAHLhKW7RYOEQIemWrh/1w==     I739              Chronic\n",
       "61  AAKW/PKhRva+ZS2B4s0AmA==     M792              Unknown\n",
       "64  AAKW/PKhRva+ZS2B4s0AmA==    R5383              Unknown\n",
       "66  AAKW/PKhRva+ZS2B4s0AmA==   I25810              Unknown\n",
       "67  AAKW/PKhRva+ZS2B4s0AmA==    E1142              Chronic"
      ]
     },
     "execution_count": 38,
     "metadata": {},
     "output_type": "execute_result"
    }
   ],
   "source": [
    "df2_duplicates=df2[df2.duplicated()]\n",
    "df2_duplicates.head() # ??? these are not duplicates?? check the duplicates"
   ]
  },
  {
   "cell_type": "code",
   "execution_count": 39,
   "metadata": {},
   "outputs": [
    {
     "data": {
      "text/html": [
       "<div>\n",
       "<style scoped>\n",
       "    .dataframe tbody tr th:only-of-type {\n",
       "        vertical-align: middle;\n",
       "    }\n",
       "\n",
       "    .dataframe tbody tr th {\n",
       "        vertical-align: top;\n",
       "    }\n",
       "\n",
       "    .dataframe thead th {\n",
       "        text-align: right;\n",
       "    }\n",
       "</style>\n",
       "<table border=\"1\" class=\"dataframe\">\n",
       "  <thead>\n",
       "    <tr style=\"text-align: right;\">\n",
       "      <th></th>\n",
       "      <th>member_id</th>\n",
       "      <th>icd_code</th>\n",
       "      <th>icd_chronic_or_acute</th>\n",
       "    </tr>\n",
       "  </thead>\n",
       "  <tbody>\n",
       "    <tr>\n",
       "      <th>0</th>\n",
       "      <td>AAHLhKW7RYOEQIemWrh/1w==</td>\n",
       "      <td>I739</td>\n",
       "      <td>Chronic</td>\n",
       "    </tr>\n",
       "    <tr>\n",
       "      <th>1</th>\n",
       "      <td>AAHLhKW7RYOEQIemWrh/1w==</td>\n",
       "      <td>M545</td>\n",
       "      <td>Unknown</td>\n",
       "    </tr>\n",
       "    <tr>\n",
       "      <th>2</th>\n",
       "      <td>AAHLhKW7RYOEQIemWrh/1w==</td>\n",
       "      <td>N183</td>\n",
       "      <td>Chronic</td>\n",
       "    </tr>\n",
       "    <tr>\n",
       "      <th>3</th>\n",
       "      <td>AAHLhKW7RYOEQIemWrh/1w==</td>\n",
       "      <td>E6601</td>\n",
       "      <td>Chronic</td>\n",
       "    </tr>\n",
       "    <tr>\n",
       "      <th>4</th>\n",
       "      <td>AAHLhKW7RYOEQIemWrh/1w==</td>\n",
       "      <td>J8410</td>\n",
       "      <td>Chronic</td>\n",
       "    </tr>\n",
       "    <tr>\n",
       "      <th>5</th>\n",
       "      <td>AAHLhKW7RYOEQIemWrh/1w==</td>\n",
       "      <td>I739</td>\n",
       "      <td>Chronic</td>\n",
       "    </tr>\n",
       "    <tr>\n",
       "      <th>6</th>\n",
       "      <td>AAHLhKW7RYOEQIemWrh/1w==</td>\n",
       "      <td>L4050</td>\n",
       "      <td>Chronic</td>\n",
       "    </tr>\n",
       "  </tbody>\n",
       "</table>\n",
       "</div>"
      ],
      "text/plain": [
       "                  member_id icd_code icd_chronic_or_acute\n",
       "0  AAHLhKW7RYOEQIemWrh/1w==     I739              Chronic\n",
       "1  AAHLhKW7RYOEQIemWrh/1w==     M545              Unknown\n",
       "2  AAHLhKW7RYOEQIemWrh/1w==     N183              Chronic\n",
       "3  AAHLhKW7RYOEQIemWrh/1w==    E6601              Chronic\n",
       "4  AAHLhKW7RYOEQIemWrh/1w==    J8410              Chronic\n",
       "5  AAHLhKW7RYOEQIemWrh/1w==     I739              Chronic\n",
       "6  AAHLhKW7RYOEQIemWrh/1w==    L4050              Chronic"
      ]
     },
     "execution_count": 39,
     "metadata": {},
     "output_type": "execute_result"
    }
   ],
   "source": [
    "df2[df2['member_id']=='AAHLhKW7RYOEQIemWrh/1w==']"
   ]
  },
  {
   "cell_type": "markdown",
   "metadata": {},
   "source": [
    "### 2.7.3 Labs Data<a id='2.7.3_Labs_Data'></a>"
   ]
  },
  {
   "cell_type": "code",
   "execution_count": 40,
   "metadata": {},
   "outputs": [
    {
     "data": {
      "text/html": [
       "<div>\n",
       "<style scoped>\n",
       "    .dataframe tbody tr th:only-of-type {\n",
       "        vertical-align: middle;\n",
       "    }\n",
       "\n",
       "    .dataframe tbody tr th {\n",
       "        vertical-align: top;\n",
       "    }\n",
       "\n",
       "    .dataframe thead th {\n",
       "        text-align: right;\n",
       "    }\n",
       "</style>\n",
       "<table border=\"1\" class=\"dataframe\">\n",
       "  <thead>\n",
       "    <tr style=\"text-align: right;\">\n",
       "      <th></th>\n",
       "      <th>member_id</th>\n",
       "      <th>date_of_service</th>\n",
       "      <th>loinc_code</th>\n",
       "      <th>performed_test_name</th>\n",
       "      <th>abnormal_code</th>\n",
       "      <th>result_value</th>\n",
       "      <th>normal_low_value_numeric</th>\n",
       "      <th>normal_high_value_numeric</th>\n",
       "    </tr>\n",
       "  </thead>\n",
       "  <tbody>\n",
       "    <tr>\n",
       "      <th>0</th>\n",
       "      <td>OEQjkMBoTqK7YmVc02NQDQ==</td>\n",
       "      <td>2018-10-25</td>\n",
       "      <td>13457-7</td>\n",
       "      <td>LIPID PANEL WITH REFLEX TO DIRECT LDL</td>\n",
       "      <td>NaN</td>\n",
       "      <td>85000.0</td>\n",
       "      <td>0.0</td>\n",
       "      <td>99.0</td>\n",
       "    </tr>\n",
       "    <tr>\n",
       "      <th>1</th>\n",
       "      <td>OEQjkMBoTqK7YmVc02NQDQ==</td>\n",
       "      <td>2018-10-25</td>\n",
       "      <td>17861-6</td>\n",
       "      <td>CALCIUM</td>\n",
       "      <td>NaN</td>\n",
       "      <td>9600.0</td>\n",
       "      <td>8.6</td>\n",
       "      <td>10.4</td>\n",
       "    </tr>\n",
       "    <tr>\n",
       "      <th>2</th>\n",
       "      <td>OEQjkMBoTqK7YmVc02NQDQ==</td>\n",
       "      <td>2018-10-25</td>\n",
       "      <td>33914-3</td>\n",
       "      <td>EGFR NON-AFR. AMERICAN</td>\n",
       "      <td>NaN</td>\n",
       "      <td>91000.0</td>\n",
       "      <td>60.0</td>\n",
       "      <td>0.0</td>\n",
       "    </tr>\n",
       "    <tr>\n",
       "      <th>3</th>\n",
       "      <td>OEQjkMBoTqK7YmVc02NQDQ==</td>\n",
       "      <td>2018-10-25</td>\n",
       "      <td>4544-3</td>\n",
       "      <td>HEMATOCRIT</td>\n",
       "      <td>NaN</td>\n",
       "      <td>42800.0</td>\n",
       "      <td>35.0</td>\n",
       "      <td>45.0</td>\n",
       "    </tr>\n",
       "    <tr>\n",
       "      <th>4</th>\n",
       "      <td>OEQjkMBoTqK7YmVc02NQDQ==</td>\n",
       "      <td>2018-10-25</td>\n",
       "      <td>713-8</td>\n",
       "      <td>EOSINOPHILS</td>\n",
       "      <td>NaN</td>\n",
       "      <td>6800.0</td>\n",
       "      <td>0.0</td>\n",
       "      <td>0.0</td>\n",
       "    </tr>\n",
       "  </tbody>\n",
       "</table>\n",
       "</div>"
      ],
      "text/plain": [
       "                  member_id date_of_service loinc_code  \\\n",
       "0  OEQjkMBoTqK7YmVc02NQDQ==      2018-10-25    13457-7   \n",
       "1  OEQjkMBoTqK7YmVc02NQDQ==      2018-10-25    17861-6   \n",
       "2  OEQjkMBoTqK7YmVc02NQDQ==      2018-10-25    33914-3   \n",
       "3  OEQjkMBoTqK7YmVc02NQDQ==      2018-10-25     4544-3   \n",
       "4  OEQjkMBoTqK7YmVc02NQDQ==      2018-10-25      713-8   \n",
       "\n",
       "                     performed_test_name abnormal_code  result_value  \\\n",
       "0  LIPID PANEL WITH REFLEX TO DIRECT LDL           NaN       85000.0   \n",
       "1                                CALCIUM           NaN        9600.0   \n",
       "2                 EGFR NON-AFR. AMERICAN           NaN       91000.0   \n",
       "3                             HEMATOCRIT           NaN       42800.0   \n",
       "4                            EOSINOPHILS           NaN        6800.0   \n",
       "\n",
       "   normal_low_value_numeric  normal_high_value_numeric  \n",
       "0                       0.0                       99.0  \n",
       "1                       8.6                       10.4  \n",
       "2                      60.0                        0.0  \n",
       "3                      35.0                       45.0  \n",
       "4                       0.0                        0.0  "
      ]
     },
     "execution_count": 40,
     "metadata": {},
     "output_type": "execute_result"
    }
   ],
   "source": [
    "df3.head()"
   ]
  },
  {
   "cell_type": "code",
   "execution_count": 41,
   "metadata": {},
   "outputs": [
    {
     "name": "stdout",
     "output_type": "stream",
     "text": [
      "<class 'pandas.core.frame.DataFrame'>\n",
      "RangeIndex: 5918612 entries, 0 to 5918611\n",
      "Data columns (total 8 columns):\n",
      " #   Column                     Non-Null Count    Dtype  \n",
      "---  ------                     --------------    -----  \n",
      " 0   member_id                  5918612 non-null  object \n",
      " 1   date_of_service            5918612 non-null  object \n",
      " 2   loinc_code                 5918612 non-null  object \n",
      " 3   performed_test_name        5915984 non-null  object \n",
      " 4   abnormal_code              993458 non-null   object \n",
      " 5   result_value               4977832 non-null  float64\n",
      " 6   normal_low_value_numeric   5123901 non-null  float64\n",
      " 7   normal_high_value_numeric  5257167 non-null  float64\n",
      "dtypes: float64(3), object(5)\n",
      "memory usage: 361.2+ MB\n"
     ]
    }
   ],
   "source": [
    "df3.info(verbose=True, null_counts=True)"
   ]
  },
  {
   "cell_type": "code",
   "execution_count": 42,
   "metadata": {},
   "outputs": [
    {
     "data": {
      "text/plain": [
       "member_id                    24483\n",
       "date_of_service                706\n",
       "loinc_code                    3078\n",
       "performed_test_name           5895\n",
       "abnormal_code                   26\n",
       "result_value                 15861\n",
       "normal_low_value_numeric       365\n",
       "normal_high_value_numeric      613\n",
       "dtype: int64"
      ]
     },
     "execution_count": 42,
     "metadata": {},
     "output_type": "execute_result"
    }
   ],
   "source": [
    "df3.nunique()"
   ]
  },
  {
   "cell_type": "markdown",
   "metadata": {},
   "source": [
    "We will convert the data type of `date_of_service` into an appropriate format for additional analysis."
   ]
  },
  {
   "cell_type": "code",
   "execution_count": 43,
   "metadata": {},
   "outputs": [],
   "source": [
    "df3['date_of_service']=pd.to_datetime(df3['date_of_service'])"
   ]
  },
  {
   "cell_type": "code",
   "execution_count": 44,
   "metadata": {},
   "outputs": [
    {
     "name": "stdout",
     "output_type": "stream",
     "text": [
      "<class 'pandas.core.frame.DataFrame'>\n",
      "RangeIndex: 5918612 entries, 0 to 5918611\n",
      "Data columns (total 8 columns):\n",
      " #   Column                     Non-Null Count    Dtype         \n",
      "---  ------                     --------------    -----         \n",
      " 0   member_id                  5918612 non-null  object        \n",
      " 1   date_of_service            5918612 non-null  datetime64[ns]\n",
      " 2   loinc_code                 5918612 non-null  object        \n",
      " 3   performed_test_name        5915984 non-null  object        \n",
      " 4   abnormal_code              993458 non-null   object        \n",
      " 5   result_value               4977832 non-null  float64       \n",
      " 6   normal_low_value_numeric   5123901 non-null  float64       \n",
      " 7   normal_high_value_numeric  5257167 non-null  float64       \n",
      "dtypes: datetime64[ns](1), float64(3), object(4)\n",
      "memory usage: 361.2+ MB\n"
     ]
    }
   ],
   "source": [
    "df3.info(verbose=True, null_counts=True) #check the update"
   ]
  },
  {
   "cell_type": "markdown",
   "metadata": {},
   "source": [
    "Below we checked years of services. As hoped for, we only have records from 2018 and 2019.  "
   ]
  },
  {
   "cell_type": "code",
   "execution_count": 45,
   "metadata": {},
   "outputs": [
    {
     "data": {
      "text/plain": [
       "Int64Index([2018, 2019], dtype='int64', name='date_of_service')"
      ]
     },
     "execution_count": 45,
     "metadata": {},
     "output_type": "execute_result"
    }
   ],
   "source": [
    "pd.DatetimeIndex(df3['date_of_service']).year.unique()"
   ]
  },
  {
   "cell_type": "markdown",
   "metadata": {},
   "source": [
    "`loinc_code` column contains codes for the performed laboratory tests. `performed_test_name`  column contains the names of the performed laboratory tests. We will drop `performed_test_name` column since `loinc_code` is enough to encode the performed lab tests. "
   ]
  },
  {
   "cell_type": "code",
   "execution_count": 46,
   "metadata": {},
   "outputs": [
    {
     "data": {
      "text/html": [
       "<div>\n",
       "<style scoped>\n",
       "    .dataframe tbody tr th:only-of-type {\n",
       "        vertical-align: middle;\n",
       "    }\n",
       "\n",
       "    .dataframe tbody tr th {\n",
       "        vertical-align: top;\n",
       "    }\n",
       "\n",
       "    .dataframe thead th {\n",
       "        text-align: right;\n",
       "    }\n",
       "</style>\n",
       "<table border=\"1\" class=\"dataframe\">\n",
       "  <thead>\n",
       "    <tr style=\"text-align: right;\">\n",
       "      <th></th>\n",
       "      <th>member_id</th>\n",
       "      <th>date_of_service</th>\n",
       "      <th>loinc_code</th>\n",
       "      <th>abnormal_code</th>\n",
       "      <th>result_value</th>\n",
       "      <th>normal_low_value_numeric</th>\n",
       "      <th>normal_high_value_numeric</th>\n",
       "    </tr>\n",
       "  </thead>\n",
       "  <tbody>\n",
       "    <tr>\n",
       "      <th>0</th>\n",
       "      <td>OEQjkMBoTqK7YmVc02NQDQ==</td>\n",
       "      <td>2018-10-25</td>\n",
       "      <td>13457-7</td>\n",
       "      <td>NaN</td>\n",
       "      <td>85000.0</td>\n",
       "      <td>0.0</td>\n",
       "      <td>99.0</td>\n",
       "    </tr>\n",
       "    <tr>\n",
       "      <th>1</th>\n",
       "      <td>OEQjkMBoTqK7YmVc02NQDQ==</td>\n",
       "      <td>2018-10-25</td>\n",
       "      <td>17861-6</td>\n",
       "      <td>NaN</td>\n",
       "      <td>9600.0</td>\n",
       "      <td>8.6</td>\n",
       "      <td>10.4</td>\n",
       "    </tr>\n",
       "    <tr>\n",
       "      <th>2</th>\n",
       "      <td>OEQjkMBoTqK7YmVc02NQDQ==</td>\n",
       "      <td>2018-10-25</td>\n",
       "      <td>33914-3</td>\n",
       "      <td>NaN</td>\n",
       "      <td>91000.0</td>\n",
       "      <td>60.0</td>\n",
       "      <td>0.0</td>\n",
       "    </tr>\n",
       "  </tbody>\n",
       "</table>\n",
       "</div>"
      ],
      "text/plain": [
       "                  member_id date_of_service loinc_code abnormal_code  \\\n",
       "0  OEQjkMBoTqK7YmVc02NQDQ==      2018-10-25    13457-7           NaN   \n",
       "1  OEQjkMBoTqK7YmVc02NQDQ==      2018-10-25    17861-6           NaN   \n",
       "2  OEQjkMBoTqK7YmVc02NQDQ==      2018-10-25    33914-3           NaN   \n",
       "\n",
       "   result_value  normal_low_value_numeric  normal_high_value_numeric  \n",
       "0       85000.0                       0.0                       99.0  \n",
       "1        9600.0                       8.6                       10.4  \n",
       "2       91000.0                      60.0                        0.0  "
      ]
     },
     "execution_count": 46,
     "metadata": {},
     "output_type": "execute_result"
    }
   ],
   "source": [
    "df3.drop(['performed_test_name'], axis=1, inplace=True)\n",
    "df3.head(3) # check the update"
   ]
  },
  {
   "cell_type": "markdown",
   "metadata": {},
   "source": [
    "The result values are significantly bigger than both normal low and normal high values. The following cell is justifying that this is a trend overall; the average of `result_value` column is 1,312,4710. However, the averages of `normal_low_value_numeric` and `normal_high_value_numeric` are ~54.5 and ~213.7, respectively. \n",
    "\n",
    "* After some careful examination we saw that each result value multiplied by 1000 before entered, which caused the issue. We divided each result value by 1000 to correct this abnormality. \n"
   ]
  },
  {
   "cell_type": "code",
   "execution_count": 47,
   "metadata": {},
   "outputs": [
    {
     "data": {
      "text/html": [
       "<div>\n",
       "<style scoped>\n",
       "    .dataframe tbody tr th:only-of-type {\n",
       "        vertical-align: middle;\n",
       "    }\n",
       "\n",
       "    .dataframe tbody tr th {\n",
       "        vertical-align: top;\n",
       "    }\n",
       "\n",
       "    .dataframe thead th {\n",
       "        text-align: right;\n",
       "    }\n",
       "</style>\n",
       "<table border=\"1\" class=\"dataframe\">\n",
       "  <thead>\n",
       "    <tr style=\"text-align: right;\">\n",
       "      <th></th>\n",
       "      <th>result_value</th>\n",
       "      <th>normal_low_value_numeric</th>\n",
       "      <th>normal_high_value_numeric</th>\n",
       "    </tr>\n",
       "  </thead>\n",
       "  <tbody>\n",
       "    <tr>\n",
       "      <th>count</th>\n",
       "      <td>4.977832e+06</td>\n",
       "      <td>5.123901e+06</td>\n",
       "      <td>5.257167e+06</td>\n",
       "    </tr>\n",
       "    <tr>\n",
       "      <th>mean</th>\n",
       "      <td>1.312471e+07</td>\n",
       "      <td>5.455767e+01</td>\n",
       "      <td>2.137437e+02</td>\n",
       "    </tr>\n",
       "    <tr>\n",
       "      <th>std</th>\n",
       "      <td>2.868435e+10</td>\n",
       "      <td>3.353208e+02</td>\n",
       "      <td>1.960277e+03</td>\n",
       "    </tr>\n",
       "    <tr>\n",
       "      <th>min</th>\n",
       "      <td>-2.200000e+03</td>\n",
       "      <td>0.000000e+00</td>\n",
       "      <td>0.000000e+00</td>\n",
       "    </tr>\n",
       "    <tr>\n",
       "      <th>25%</th>\n",
       "      <td>4.500000e+03</td>\n",
       "      <td>0.000000e+00</td>\n",
       "      <td>1.035000e+00</td>\n",
       "    </tr>\n",
       "    <tr>\n",
       "      <th>50%</th>\n",
       "      <td>1.970000e+04</td>\n",
       "      <td>6.000000e+00</td>\n",
       "      <td>1.080000e+01</td>\n",
       "    </tr>\n",
       "    <tr>\n",
       "      <th>75%</th>\n",
       "      <td>8.300000e+04</td>\n",
       "      <td>3.200000e+01</td>\n",
       "      <td>9.900000e+01</td>\n",
       "    </tr>\n",
       "    <tr>\n",
       "      <th>max</th>\n",
       "      <td>6.399757e+13</td>\n",
       "      <td>2.500000e+04</td>\n",
       "      <td>9.999990e+05</td>\n",
       "    </tr>\n",
       "  </tbody>\n",
       "</table>\n",
       "</div>"
      ],
      "text/plain": [
       "       result_value  normal_low_value_numeric  normal_high_value_numeric\n",
       "count  4.977832e+06              5.123901e+06               5.257167e+06\n",
       "mean   1.312471e+07              5.455767e+01               2.137437e+02\n",
       "std    2.868435e+10              3.353208e+02               1.960277e+03\n",
       "min   -2.200000e+03              0.000000e+00               0.000000e+00\n",
       "25%    4.500000e+03              0.000000e+00               1.035000e+00\n",
       "50%    1.970000e+04              6.000000e+00               1.080000e+01\n",
       "75%    8.300000e+04              3.200000e+01               9.900000e+01\n",
       "max    6.399757e+13              2.500000e+04               9.999990e+05"
      ]
     },
     "execution_count": 47,
     "metadata": {},
     "output_type": "execute_result"
    }
   ],
   "source": [
    "df3.describe()"
   ]
  },
  {
   "cell_type": "code",
   "execution_count": 48,
   "metadata": {},
   "outputs": [
    {
     "data": {
      "text/html": [
       "<div>\n",
       "<style scoped>\n",
       "    .dataframe tbody tr th:only-of-type {\n",
       "        vertical-align: middle;\n",
       "    }\n",
       "\n",
       "    .dataframe tbody tr th {\n",
       "        vertical-align: top;\n",
       "    }\n",
       "\n",
       "    .dataframe thead th {\n",
       "        text-align: right;\n",
       "    }\n",
       "</style>\n",
       "<table border=\"1\" class=\"dataframe\">\n",
       "  <thead>\n",
       "    <tr style=\"text-align: right;\">\n",
       "      <th></th>\n",
       "      <th>member_id</th>\n",
       "      <th>date_of_service</th>\n",
       "      <th>loinc_code</th>\n",
       "      <th>abnormal_code</th>\n",
       "      <th>result_value</th>\n",
       "      <th>normal_low_value_numeric</th>\n",
       "      <th>normal_high_value_numeric</th>\n",
       "    </tr>\n",
       "  </thead>\n",
       "  <tbody>\n",
       "    <tr>\n",
       "      <th>0</th>\n",
       "      <td>OEQjkMBoTqK7YmVc02NQDQ==</td>\n",
       "      <td>2018-10-25</td>\n",
       "      <td>13457-7</td>\n",
       "      <td>NaN</td>\n",
       "      <td>85.0</td>\n",
       "      <td>0.0</td>\n",
       "      <td>99.0</td>\n",
       "    </tr>\n",
       "    <tr>\n",
       "      <th>1</th>\n",
       "      <td>OEQjkMBoTqK7YmVc02NQDQ==</td>\n",
       "      <td>2018-10-25</td>\n",
       "      <td>17861-6</td>\n",
       "      <td>NaN</td>\n",
       "      <td>9.6</td>\n",
       "      <td>8.6</td>\n",
       "      <td>10.4</td>\n",
       "    </tr>\n",
       "    <tr>\n",
       "      <th>2</th>\n",
       "      <td>OEQjkMBoTqK7YmVc02NQDQ==</td>\n",
       "      <td>2018-10-25</td>\n",
       "      <td>33914-3</td>\n",
       "      <td>NaN</td>\n",
       "      <td>91.0</td>\n",
       "      <td>60.0</td>\n",
       "      <td>0.0</td>\n",
       "    </tr>\n",
       "  </tbody>\n",
       "</table>\n",
       "</div>"
      ],
      "text/plain": [
       "                  member_id date_of_service loinc_code abnormal_code  \\\n",
       "0  OEQjkMBoTqK7YmVc02NQDQ==      2018-10-25    13457-7           NaN   \n",
       "1  OEQjkMBoTqK7YmVc02NQDQ==      2018-10-25    17861-6           NaN   \n",
       "2  OEQjkMBoTqK7YmVc02NQDQ==      2018-10-25    33914-3           NaN   \n",
       "\n",
       "   result_value  normal_low_value_numeric  normal_high_value_numeric  \n",
       "0          85.0                       0.0                       99.0  \n",
       "1           9.6                       8.6                       10.4  \n",
       "2          91.0                      60.0                        0.0  "
      ]
     },
     "execution_count": 48,
     "metadata": {},
     "output_type": "execute_result"
    }
   ],
   "source": [
    "df3['result_value']=df3['result_value']/1000.0\n",
    "df3.head(3) # check the update"
   ]
  },
  {
   "cell_type": "markdown",
   "metadata": {},
   "source": [
    "We examined the negative values entered for `result_value`, see the next cell."
   ]
  },
  {
   "cell_type": "code",
   "execution_count": 175,
   "metadata": {},
   "outputs": [
    {
     "ename": "KeyError",
     "evalue": "'result_value'",
     "output_type": "error",
     "traceback": [
      "\u001b[0;31m---------------------------------------------------------------------------\u001b[0m",
      "\u001b[0;31mKeyError\u001b[0m                                  Traceback (most recent call last)",
      "\u001b[0;32m~/opt/anaconda3/lib/python3.8/site-packages/pandas/core/indexes/base.py\u001b[0m in \u001b[0;36mget_loc\u001b[0;34m(self, key, method, tolerance)\u001b[0m\n\u001b[1;32m   2894\u001b[0m             \u001b[0;32mtry\u001b[0m\u001b[0;34m:\u001b[0m\u001b[0;34m\u001b[0m\u001b[0;34m\u001b[0m\u001b[0m\n\u001b[0;32m-> 2895\u001b[0;31m                 \u001b[0;32mreturn\u001b[0m \u001b[0mself\u001b[0m\u001b[0;34m.\u001b[0m\u001b[0m_engine\u001b[0m\u001b[0;34m.\u001b[0m\u001b[0mget_loc\u001b[0m\u001b[0;34m(\u001b[0m\u001b[0mcasted_key\u001b[0m\u001b[0;34m)\u001b[0m\u001b[0;34m\u001b[0m\u001b[0;34m\u001b[0m\u001b[0m\n\u001b[0m\u001b[1;32m   2896\u001b[0m             \u001b[0;32mexcept\u001b[0m \u001b[0mKeyError\u001b[0m \u001b[0;32mas\u001b[0m \u001b[0merr\u001b[0m\u001b[0;34m:\u001b[0m\u001b[0;34m\u001b[0m\u001b[0;34m\u001b[0m\u001b[0m\n",
      "\u001b[0;32mpandas/_libs/index.pyx\u001b[0m in \u001b[0;36mpandas._libs.index.IndexEngine.get_loc\u001b[0;34m()\u001b[0m\n",
      "\u001b[0;32mpandas/_libs/index.pyx\u001b[0m in \u001b[0;36mpandas._libs.index.IndexEngine.get_loc\u001b[0;34m()\u001b[0m\n",
      "\u001b[0;32mpandas/_libs/hashtable_class_helper.pxi\u001b[0m in \u001b[0;36mpandas._libs.hashtable.PyObjectHashTable.get_item\u001b[0;34m()\u001b[0m\n",
      "\u001b[0;32mpandas/_libs/hashtable_class_helper.pxi\u001b[0m in \u001b[0;36mpandas._libs.hashtable.PyObjectHashTable.get_item\u001b[0;34m()\u001b[0m\n",
      "\u001b[0;31mKeyError\u001b[0m: 'result_value'",
      "\nThe above exception was the direct cause of the following exception:\n",
      "\u001b[0;31mKeyError\u001b[0m                                  Traceback (most recent call last)",
      "\u001b[0;32m<ipython-input-175-6caead98dda8>\u001b[0m in \u001b[0;36m<module>\u001b[0;34m\u001b[0m\n\u001b[0;32m----> 1\u001b[0;31m \u001b[0mdf3\u001b[0m\u001b[0;34m[\u001b[0m\u001b[0mdf3\u001b[0m\u001b[0;34m[\u001b[0m\u001b[0;34m'result_value'\u001b[0m\u001b[0;34m]\u001b[0m\u001b[0;34m<\u001b[0m\u001b[0;36m0\u001b[0m\u001b[0;34m]\u001b[0m\u001b[0;34m.\u001b[0m\u001b[0mhead\u001b[0m\u001b[0;34m(\u001b[0m\u001b[0;36m3\u001b[0m\u001b[0;34m)\u001b[0m\u001b[0;34m\u001b[0m\u001b[0;34m\u001b[0m\u001b[0m\n\u001b[0m",
      "\u001b[0;32m~/opt/anaconda3/lib/python3.8/site-packages/pandas/core/frame.py\u001b[0m in \u001b[0;36m__getitem__\u001b[0;34m(self, key)\u001b[0m\n\u001b[1;32m   2900\u001b[0m             \u001b[0;32mif\u001b[0m \u001b[0mself\u001b[0m\u001b[0;34m.\u001b[0m\u001b[0mcolumns\u001b[0m\u001b[0;34m.\u001b[0m\u001b[0mnlevels\u001b[0m \u001b[0;34m>\u001b[0m \u001b[0;36m1\u001b[0m\u001b[0;34m:\u001b[0m\u001b[0;34m\u001b[0m\u001b[0;34m\u001b[0m\u001b[0m\n\u001b[1;32m   2901\u001b[0m                 \u001b[0;32mreturn\u001b[0m \u001b[0mself\u001b[0m\u001b[0;34m.\u001b[0m\u001b[0m_getitem_multilevel\u001b[0m\u001b[0;34m(\u001b[0m\u001b[0mkey\u001b[0m\u001b[0;34m)\u001b[0m\u001b[0;34m\u001b[0m\u001b[0;34m\u001b[0m\u001b[0m\n\u001b[0;32m-> 2902\u001b[0;31m             \u001b[0mindexer\u001b[0m \u001b[0;34m=\u001b[0m \u001b[0mself\u001b[0m\u001b[0;34m.\u001b[0m\u001b[0mcolumns\u001b[0m\u001b[0;34m.\u001b[0m\u001b[0mget_loc\u001b[0m\u001b[0;34m(\u001b[0m\u001b[0mkey\u001b[0m\u001b[0;34m)\u001b[0m\u001b[0;34m\u001b[0m\u001b[0;34m\u001b[0m\u001b[0m\n\u001b[0m\u001b[1;32m   2903\u001b[0m             \u001b[0;32mif\u001b[0m \u001b[0mis_integer\u001b[0m\u001b[0;34m(\u001b[0m\u001b[0mindexer\u001b[0m\u001b[0;34m)\u001b[0m\u001b[0;34m:\u001b[0m\u001b[0;34m\u001b[0m\u001b[0;34m\u001b[0m\u001b[0m\n\u001b[1;32m   2904\u001b[0m                 \u001b[0mindexer\u001b[0m \u001b[0;34m=\u001b[0m \u001b[0;34m[\u001b[0m\u001b[0mindexer\u001b[0m\u001b[0;34m]\u001b[0m\u001b[0;34m\u001b[0m\u001b[0;34m\u001b[0m\u001b[0m\n",
      "\u001b[0;32m~/opt/anaconda3/lib/python3.8/site-packages/pandas/core/indexes/base.py\u001b[0m in \u001b[0;36mget_loc\u001b[0;34m(self, key, method, tolerance)\u001b[0m\n\u001b[1;32m   2895\u001b[0m                 \u001b[0;32mreturn\u001b[0m \u001b[0mself\u001b[0m\u001b[0;34m.\u001b[0m\u001b[0m_engine\u001b[0m\u001b[0;34m.\u001b[0m\u001b[0mget_loc\u001b[0m\u001b[0;34m(\u001b[0m\u001b[0mcasted_key\u001b[0m\u001b[0;34m)\u001b[0m\u001b[0;34m\u001b[0m\u001b[0;34m\u001b[0m\u001b[0m\n\u001b[1;32m   2896\u001b[0m             \u001b[0;32mexcept\u001b[0m \u001b[0mKeyError\u001b[0m \u001b[0;32mas\u001b[0m \u001b[0merr\u001b[0m\u001b[0;34m:\u001b[0m\u001b[0;34m\u001b[0m\u001b[0;34m\u001b[0m\u001b[0m\n\u001b[0;32m-> 2897\u001b[0;31m                 \u001b[0;32mraise\u001b[0m \u001b[0mKeyError\u001b[0m\u001b[0;34m(\u001b[0m\u001b[0mkey\u001b[0m\u001b[0;34m)\u001b[0m \u001b[0;32mfrom\u001b[0m \u001b[0merr\u001b[0m\u001b[0;34m\u001b[0m\u001b[0;34m\u001b[0m\u001b[0m\n\u001b[0m\u001b[1;32m   2898\u001b[0m \u001b[0;34m\u001b[0m\u001b[0m\n\u001b[1;32m   2899\u001b[0m         \u001b[0;32mif\u001b[0m \u001b[0mtolerance\u001b[0m \u001b[0;32mis\u001b[0m \u001b[0;32mnot\u001b[0m \u001b[0;32mNone\u001b[0m\u001b[0;34m:\u001b[0m\u001b[0;34m\u001b[0m\u001b[0;34m\u001b[0m\u001b[0m\n",
      "\u001b[0;31mKeyError\u001b[0m: 'result_value'"
     ]
    }
   ],
   "source": [
    "df3[df3['result_value']<0].head(3)"
   ]
  },
  {
   "cell_type": "code",
   "execution_count": 50,
   "metadata": {},
   "outputs": [
    {
     "name": "stdout",
     "output_type": "stream",
     "text": [
      "<class 'pandas.core.frame.DataFrame'>\n",
      "Int64Index: 16 entries, 1770719 to 5903684\n",
      "Data columns (total 7 columns):\n",
      " #   Column                     Non-Null Count  Dtype         \n",
      "---  ------                     --------------  -----         \n",
      " 0   member_id                  16 non-null     object        \n",
      " 1   date_of_service            16 non-null     datetime64[ns]\n",
      " 2   loinc_code                 16 non-null     object        \n",
      " 3   abnormal_code              3 non-null      object        \n",
      " 4   result_value               16 non-null     float64       \n",
      " 5   normal_low_value_numeric   13 non-null     float64       \n",
      " 6   normal_high_value_numeric  15 non-null     float64       \n",
      "dtypes: datetime64[ns](1), float64(3), object(3)\n",
      "memory usage: 1.0+ KB\n"
     ]
    }
   ],
   "source": [
    "df3[df3['result_value']<0].info()"
   ]
  },
  {
   "cell_type": "code",
   "execution_count": 51,
   "metadata": {},
   "outputs": [
    {
     "data": {
      "text/plain": [
       "73561-3    15\n",
       "64084-7     1\n",
       "Name: loinc_code, dtype: int64"
      ]
     },
     "execution_count": 51,
     "metadata": {},
     "output_type": "execute_result"
    }
   ],
   "source": [
    "df3[df3['result_value']<0]['loinc_code'].value_counts()"
   ]
  },
  {
   "cell_type": "markdown",
   "metadata": {},
   "source": [
    "The previous two cells show that we have 16 records where result value is a negative number. In all these records normal low and high values are not provided. Most of these records (15 out of 16) are lab test '73561-3', which has [-2,2] as its normal range of values. The remaining record belongs to lab test '64084-7', which must be higher than 0.5 to be considered as normal. We will fill the values accordingly, see the next cell. "
   ]
  },
  {
   "cell_type": "code",
   "execution_count": 52,
   "metadata": {},
   "outputs": [
    {
     "data": {
      "text/html": [
       "<div>\n",
       "<style scoped>\n",
       "    .dataframe tbody tr th:only-of-type {\n",
       "        vertical-align: middle;\n",
       "    }\n",
       "\n",
       "    .dataframe tbody tr th {\n",
       "        vertical-align: top;\n",
       "    }\n",
       "\n",
       "    .dataframe thead th {\n",
       "        text-align: right;\n",
       "    }\n",
       "</style>\n",
       "<table border=\"1\" class=\"dataframe\">\n",
       "  <thead>\n",
       "    <tr style=\"text-align: right;\">\n",
       "      <th></th>\n",
       "      <th>member_id</th>\n",
       "      <th>date_of_service</th>\n",
       "      <th>loinc_code</th>\n",
       "      <th>abnormal_code</th>\n",
       "      <th>result_value</th>\n",
       "      <th>normal_low_value_numeric</th>\n",
       "      <th>normal_high_value_numeric</th>\n",
       "    </tr>\n",
       "  </thead>\n",
       "  <tbody>\n",
       "    <tr>\n",
       "      <th>17342</th>\n",
       "      <td>ORbIz1E4TFemyCvm7xl++w==</td>\n",
       "      <td>2019-10-28</td>\n",
       "      <td>64084-7</td>\n",
       "      <td>NaN</td>\n",
       "      <td>0.00</td>\n",
       "      <td>0.5</td>\n",
       "      <td>0.0</td>\n",
       "    </tr>\n",
       "    <tr>\n",
       "      <th>39165</th>\n",
       "      <td>OhpzMiWgReGqqZnFhq+cdg==</td>\n",
       "      <td>2018-12-27</td>\n",
       "      <td>64084-7</td>\n",
       "      <td>NaN</td>\n",
       "      <td>0.00</td>\n",
       "      <td>0.5</td>\n",
       "      <td>0.0</td>\n",
       "    </tr>\n",
       "    <tr>\n",
       "      <th>39171</th>\n",
       "      <td>OhpzMiWgReGqqZnFhq+cdg==</td>\n",
       "      <td>2018-12-27</td>\n",
       "      <td>64084-7</td>\n",
       "      <td>NaN</td>\n",
       "      <td>0.01</td>\n",
       "      <td>0.5</td>\n",
       "      <td>0.0</td>\n",
       "    </tr>\n",
       "    <tr>\n",
       "      <th>47910</th>\n",
       "      <td>OoBZBWT+QmCare0g+wFYyw==</td>\n",
       "      <td>2018-07-19</td>\n",
       "      <td>64084-7</td>\n",
       "      <td>NaN</td>\n",
       "      <td>0.38</td>\n",
       "      <td>0.5</td>\n",
       "      <td>0.0</td>\n",
       "    </tr>\n",
       "    <tr>\n",
       "      <th>71885</th>\n",
       "      <td>O55M4HBYSRCh2jilMoUyWQ==</td>\n",
       "      <td>2019-12-19</td>\n",
       "      <td>64084-7</td>\n",
       "      <td></td>\n",
       "      <td>0.04</td>\n",
       "      <td>0.5</td>\n",
       "      <td>NaN</td>\n",
       "    </tr>\n",
       "  </tbody>\n",
       "</table>\n",
       "</div>"
      ],
      "text/plain": [
       "                      member_id date_of_service loinc_code abnormal_code  \\\n",
       "17342  ORbIz1E4TFemyCvm7xl++w==      2019-10-28    64084-7           NaN   \n",
       "39165  OhpzMiWgReGqqZnFhq+cdg==      2018-12-27    64084-7           NaN   \n",
       "39171  OhpzMiWgReGqqZnFhq+cdg==      2018-12-27    64084-7           NaN   \n",
       "47910  OoBZBWT+QmCare0g+wFYyw==      2018-07-19    64084-7           NaN   \n",
       "71885  O55M4HBYSRCh2jilMoUyWQ==      2019-12-19    64084-7                 \n",
       "\n",
       "       result_value  normal_low_value_numeric  normal_high_value_numeric  \n",
       "17342          0.00                       0.5                        0.0  \n",
       "39165          0.00                       0.5                        0.0  \n",
       "39171          0.01                       0.5                        0.0  \n",
       "47910          0.38                       0.5                        0.0  \n",
       "71885          0.04                       0.5                        NaN  "
      ]
     },
     "execution_count": 52,
     "metadata": {},
     "output_type": "execute_result"
    }
   ],
   "source": [
    "df3.loc[df3['loinc_code']=='73561-3','normal_low_value_numeric']=-2.0\n",
    "df3.loc[df3['loinc_code']=='73561-3','normal_high_value_numeric']=2.0 # whether the result value is negative or not\n",
    "df3.loc[df3['loinc_code']=='64084-7','normal_low_value_numeric']=0.5\n",
    "df3[(df3['loinc_code']=='73561-3') | (df3['loinc_code']=='64084-7')].head() # check the update"
   ]
  },
  {
   "cell_type": "code",
   "execution_count": 53,
   "metadata": {},
   "outputs": [
    {
     "data": {
      "text/plain": [
       "array([nan, 'H', 'L', '     ', 'H    ', 'L    ', 'A', 'A    ', '<', '-',\n",
       "       'HH', '>', 'LL', '<    ', 'Y', '>    ', '+', 'N    ', 'Y    ',\n",
       "       'NORMA', 'HIGH ', 'BELOW', 'ABOVE', 'N', '+    ', '*    ', '-    '],\n",
       "      dtype=object)"
      ]
     },
     "execution_count": 53,
     "metadata": {},
     "output_type": "execute_result"
    }
   ],
   "source": [
    "df3['abnormal_code'].unique()"
   ]
  },
  {
   "cell_type": "markdown",
   "metadata": {},
   "source": [
    "Now notice that `abnormal_code` has values that are not consistent (see the previous cell). We will update the values to 'H' and 'L' accordingly. We will also keep a copy of the column with the original values. "
   ]
  },
  {
   "cell_type": "code",
   "execution_count": 54,
   "metadata": {},
   "outputs": [
    {
     "data": {
      "text/html": [
       "<div>\n",
       "<style scoped>\n",
       "    .dataframe tbody tr th:only-of-type {\n",
       "        vertical-align: middle;\n",
       "    }\n",
       "\n",
       "    .dataframe tbody tr th {\n",
       "        vertical-align: top;\n",
       "    }\n",
       "\n",
       "    .dataframe thead th {\n",
       "        text-align: right;\n",
       "    }\n",
       "</style>\n",
       "<table border=\"1\" class=\"dataframe\">\n",
       "  <thead>\n",
       "    <tr style=\"text-align: right;\">\n",
       "      <th></th>\n",
       "      <th>member_id</th>\n",
       "      <th>date_of_service</th>\n",
       "      <th>loinc_code</th>\n",
       "      <th>abnormal_code</th>\n",
       "      <th>result_value</th>\n",
       "      <th>normal_low_value_numeric</th>\n",
       "      <th>normal_high_value_numeric</th>\n",
       "      <th>abnormal_code_updated</th>\n",
       "    </tr>\n",
       "  </thead>\n",
       "  <tbody>\n",
       "    <tr>\n",
       "      <th>0</th>\n",
       "      <td>OEQjkMBoTqK7YmVc02NQDQ==</td>\n",
       "      <td>2018-10-25</td>\n",
       "      <td>13457-7</td>\n",
       "      <td>NaN</td>\n",
       "      <td>85.0</td>\n",
       "      <td>0.0</td>\n",
       "      <td>99.0</td>\n",
       "      <td>NaN</td>\n",
       "    </tr>\n",
       "    <tr>\n",
       "      <th>1</th>\n",
       "      <td>OEQjkMBoTqK7YmVc02NQDQ==</td>\n",
       "      <td>2018-10-25</td>\n",
       "      <td>17861-6</td>\n",
       "      <td>NaN</td>\n",
       "      <td>9.6</td>\n",
       "      <td>8.6</td>\n",
       "      <td>10.4</td>\n",
       "      <td>NaN</td>\n",
       "    </tr>\n",
       "    <tr>\n",
       "      <th>2</th>\n",
       "      <td>OEQjkMBoTqK7YmVc02NQDQ==</td>\n",
       "      <td>2018-10-25</td>\n",
       "      <td>33914-3</td>\n",
       "      <td>NaN</td>\n",
       "      <td>91.0</td>\n",
       "      <td>60.0</td>\n",
       "      <td>0.0</td>\n",
       "      <td>NaN</td>\n",
       "    </tr>\n",
       "    <tr>\n",
       "      <th>3</th>\n",
       "      <td>OEQjkMBoTqK7YmVc02NQDQ==</td>\n",
       "      <td>2018-10-25</td>\n",
       "      <td>4544-3</td>\n",
       "      <td>NaN</td>\n",
       "      <td>42.8</td>\n",
       "      <td>35.0</td>\n",
       "      <td>45.0</td>\n",
       "      <td>NaN</td>\n",
       "    </tr>\n",
       "    <tr>\n",
       "      <th>4</th>\n",
       "      <td>OEQjkMBoTqK7YmVc02NQDQ==</td>\n",
       "      <td>2018-10-25</td>\n",
       "      <td>713-8</td>\n",
       "      <td>NaN</td>\n",
       "      <td>6.8</td>\n",
       "      <td>0.0</td>\n",
       "      <td>0.0</td>\n",
       "      <td>NaN</td>\n",
       "    </tr>\n",
       "  </tbody>\n",
       "</table>\n",
       "</div>"
      ],
      "text/plain": [
       "                  member_id date_of_service loinc_code abnormal_code  \\\n",
       "0  OEQjkMBoTqK7YmVc02NQDQ==      2018-10-25    13457-7           NaN   \n",
       "1  OEQjkMBoTqK7YmVc02NQDQ==      2018-10-25    17861-6           NaN   \n",
       "2  OEQjkMBoTqK7YmVc02NQDQ==      2018-10-25    33914-3           NaN   \n",
       "3  OEQjkMBoTqK7YmVc02NQDQ==      2018-10-25     4544-3           NaN   \n",
       "4  OEQjkMBoTqK7YmVc02NQDQ==      2018-10-25      713-8           NaN   \n",
       "\n",
       "   result_value  normal_low_value_numeric  normal_high_value_numeric  \\\n",
       "0          85.0                       0.0                       99.0   \n",
       "1           9.6                       8.6                       10.4   \n",
       "2          91.0                      60.0                        0.0   \n",
       "3          42.8                      35.0                       45.0   \n",
       "4           6.8                       0.0                        0.0   \n",
       "\n",
       "  abnormal_code_updated  \n",
       "0                   NaN  \n",
       "1                   NaN  \n",
       "2                   NaN  \n",
       "3                   NaN  \n",
       "4                   NaN  "
      ]
     },
     "execution_count": 54,
     "metadata": {},
     "output_type": "execute_result"
    }
   ],
   "source": [
    "df3['abnormal_code_updated']=df3['abnormal_code']\n",
    "df3.head() # check the update"
   ]
  },
  {
   "cell_type": "code",
   "execution_count": 55,
   "metadata": {},
   "outputs": [
    {
     "data": {
      "text/plain": [
       "[(nan, 3),\n",
       " ('H', 1),\n",
       " ('L', 1),\n",
       " ('     ', 5),\n",
       " ('H    ', 5),\n",
       " ('L    ', 5),\n",
       " ('A', 1),\n",
       " ('A    ', 5),\n",
       " ('<', 1),\n",
       " ('-', 1),\n",
       " ('HH', 2),\n",
       " ('>', 1),\n",
       " ('LL', 2),\n",
       " ('<    ', 5),\n",
       " ('Y', 1),\n",
       " ('>    ', 5),\n",
       " ('+', 1),\n",
       " ('N    ', 5),\n",
       " ('Y    ', 5),\n",
       " ('NORMA', 5),\n",
       " ('HIGH ', 5),\n",
       " ('BELOW', 5),\n",
       " ('ABOVE', 5),\n",
       " ('N', 1),\n",
       " ('+    ', 5),\n",
       " ('*    ', 5),\n",
       " ('-    ', 5)]"
      ]
     },
     "execution_count": 55,
     "metadata": {},
     "output_type": "execute_result"
    }
   ],
   "source": [
    "list_values=df3['abnormal_code'].unique()\n",
    "lst=[]\n",
    "for i in list_values:\n",
    "    lst.append((i, len(str(i))))\n",
    "lst "
   ]
  },
  {
   "cell_type": "code",
   "execution_count": 56,
   "metadata": {},
   "outputs": [
    {
     "data": {
      "text/plain": [
       "array([nan, 'H', 'L', '     ', 'ABNORM', 'NORM'], dtype=object)"
      ]
     },
     "execution_count": 56,
     "metadata": {},
     "output_type": "execute_result"
    }
   ],
   "source": [
    "df3['abnormal_code'].replace({'H    ': 'H', 'ABOVE': 'H', 'HIGH ':'H', '>    ': 'H', 'HH': 'H', '>': 'H', '+': 'H', '+    ': 'H'}, inplace=True)\n",
    "\n",
    "df3['abnormal_code'].replace({'L    ': 'L', 'BELOW': 'L', '<    ': 'L', 'LL': 'L', '<': 'L', '-': 'L', '-    ': 'L'}, inplace=True)\n",
    "\n",
    "df3['abnormal_code'].replace({'A    ': 'ABNORM', 'A': 'ABNORM', 'Y    ': 'ABNORM', 'Y': 'ABNORM', '*    ': 'ABNORM'}, inplace=True)\n",
    "\n",
    "df3['abnormal_code'].replace({'NORMA': 'NORM', 'N': 'NORM', 'N    ': 'NORM'}, inplace=True)\n",
    "\n",
    "df3['abnormal_code'].unique()\n"
   ]
  },
  {
   "cell_type": "markdown",
   "metadata": {},
   "source": [
    "We observed that some of the records where `abnormal_code` entered as a string with 5 white space are in fact results that must be entered as normal, and some others can't be determined since either lower bound or the upper bound is null. We will not update any of these values to keep the column with the original values. However, for the sake of readability we will change this string to 'DNE'  We will add another column called `abnormal_code_updated` where we update values accordingly.  "
   ]
  },
  {
   "cell_type": "code",
   "execution_count": 57,
   "metadata": {},
   "outputs": [
    {
     "name": "stdout",
     "output_type": "stream",
     "text": [
      "<class 'pandas.core.frame.DataFrame'>\n",
      "Int64Index: 239541 entries, 55 to 5917885\n",
      "Data columns (total 8 columns):\n",
      " #   Column                     Non-Null Count   Dtype         \n",
      "---  ------                     --------------   -----         \n",
      " 0   member_id                  239541 non-null  object        \n",
      " 1   date_of_service            239541 non-null  datetime64[ns]\n",
      " 2   loinc_code                 239541 non-null  object        \n",
      " 3   abnormal_code              239541 non-null  object        \n",
      " 4   result_value               193370 non-null  float64       \n",
      " 5   normal_low_value_numeric   108243 non-null  float64       \n",
      " 6   normal_high_value_numeric  108199 non-null  float64       \n",
      " 7   abnormal_code_updated      239541 non-null  object        \n",
      "dtypes: datetime64[ns](1), float64(3), object(4)\n",
      "memory usage: 16.4+ MB\n"
     ]
    }
   ],
   "source": [
    "df3[df3['abnormal_code']=='     '].info()"
   ]
  },
  {
   "cell_type": "code",
   "execution_count": 58,
   "metadata": {},
   "outputs": [
    {
     "name": "stdout",
     "output_type": "stream",
     "text": [
      "<class 'pandas.core.frame.DataFrame'>\n",
      "Int64Index: 131294 entries, 55 to 5917883\n",
      "Data columns (total 8 columns):\n",
      " #   Column                     Non-Null Count   Dtype         \n",
      "---  ------                     --------------   -----         \n",
      " 0   member_id                  131294 non-null  object        \n",
      " 1   date_of_service            131294 non-null  datetime64[ns]\n",
      " 2   loinc_code                 131294 non-null  object        \n",
      " 3   abnormal_code              131294 non-null  object        \n",
      " 4   result_value               85407 non-null   float64       \n",
      " 5   normal_low_value_numeric   0 non-null       float64       \n",
      " 6   normal_high_value_numeric  0 non-null       float64       \n",
      " 7   abnormal_code_updated      131294 non-null  object        \n",
      "dtypes: datetime64[ns](1), float64(3), object(4)\n",
      "memory usage: 9.0+ MB\n"
     ]
    }
   ],
   "source": [
    "a=df3[df3['abnormal_code']=='     ']\n",
    "a[(a['normal_low_value_numeric'].isna()) & (a['normal_high_value_numeric'].isna())].info()"
   ]
  },
  {
   "cell_type": "code",
   "execution_count": 59,
   "metadata": {},
   "outputs": [
    {
     "name": "stdout",
     "output_type": "stream",
     "text": [
      "<class 'pandas.core.frame.DataFrame'>\n",
      "Int64Index: 108195 entries, 110 to 5917885\n",
      "Data columns (total 8 columns):\n",
      " #   Column                     Non-Null Count   Dtype         \n",
      "---  ------                     --------------   -----         \n",
      " 0   member_id                  108195 non-null  object        \n",
      " 1   date_of_service            108195 non-null  datetime64[ns]\n",
      " 2   loinc_code                 108195 non-null  object        \n",
      " 3   abnormal_code              108195 non-null  object        \n",
      " 4   result_value               107920 non-null  float64       \n",
      " 5   normal_low_value_numeric   108195 non-null  float64       \n",
      " 6   normal_high_value_numeric  108195 non-null  float64       \n",
      " 7   abnormal_code_updated      108195 non-null  object        \n",
      "dtypes: datetime64[ns](1), float64(3), object(4)\n",
      "memory usage: 7.4+ MB\n"
     ]
    }
   ],
   "source": [
    "a=df3[df3['abnormal_code_updated']=='     ']\n",
    "a[(a['normal_low_value_numeric'].notna()) & (a['normal_high_value_numeric'].notna())].info()"
   ]
  },
  {
   "cell_type": "code",
   "execution_count": 60,
   "metadata": {},
   "outputs": [
    {
     "data": {
      "text/html": [
       "<div>\n",
       "<style scoped>\n",
       "    .dataframe tbody tr th:only-of-type {\n",
       "        vertical-align: middle;\n",
       "    }\n",
       "\n",
       "    .dataframe tbody tr th {\n",
       "        vertical-align: top;\n",
       "    }\n",
       "\n",
       "    .dataframe thead th {\n",
       "        text-align: right;\n",
       "    }\n",
       "</style>\n",
       "<table border=\"1\" class=\"dataframe\">\n",
       "  <thead>\n",
       "    <tr style=\"text-align: right;\">\n",
       "      <th></th>\n",
       "      <th>member_id</th>\n",
       "      <th>date_of_service</th>\n",
       "      <th>loinc_code</th>\n",
       "      <th>abnormal_code</th>\n",
       "      <th>result_value</th>\n",
       "      <th>normal_low_value_numeric</th>\n",
       "      <th>normal_high_value_numeric</th>\n",
       "      <th>abnormal_code_updated</th>\n",
       "    </tr>\n",
       "  </thead>\n",
       "  <tbody>\n",
       "    <tr>\n",
       "      <th>110</th>\n",
       "      <td>OEQjkMBoTqK7YmVc02NQDQ==</td>\n",
       "      <td>2019-04-11</td>\n",
       "      <td>17861-6</td>\n",
       "      <td></td>\n",
       "      <td>9.70</td>\n",
       "      <td>8.6</td>\n",
       "      <td>10.40</td>\n",
       "      <td></td>\n",
       "    </tr>\n",
       "    <tr>\n",
       "      <th>111</th>\n",
       "      <td>OEQjkMBoTqK7YmVc02NQDQ==</td>\n",
       "      <td>2019-04-11</td>\n",
       "      <td>777-3</td>\n",
       "      <td></td>\n",
       "      <td>228.00</td>\n",
       "      <td>140.0</td>\n",
       "      <td>400.00</td>\n",
       "      <td></td>\n",
       "    </tr>\n",
       "    <tr>\n",
       "      <th>116</th>\n",
       "      <td>OEQjkMBoTqK7YmVc02NQDQ==</td>\n",
       "      <td>2019-04-11</td>\n",
       "      <td>1751-7</td>\n",
       "      <td></td>\n",
       "      <td>4.20</td>\n",
       "      <td>3.6</td>\n",
       "      <td>5.10</td>\n",
       "      <td></td>\n",
       "    </tr>\n",
       "    <tr>\n",
       "      <th>117</th>\n",
       "      <td>OEQjkMBoTqK7YmVc02NQDQ==</td>\n",
       "      <td>2019-04-11</td>\n",
       "      <td>3016-3</td>\n",
       "      <td></td>\n",
       "      <td>4.11</td>\n",
       "      <td>0.4</td>\n",
       "      <td>4.50</td>\n",
       "      <td></td>\n",
       "    </tr>\n",
       "    <tr>\n",
       "      <th>118</th>\n",
       "      <td>OEQjkMBoTqK7YmVc02NQDQ==</td>\n",
       "      <td>2019-04-11</td>\n",
       "      <td>2160-0</td>\n",
       "      <td></td>\n",
       "      <td>0.68</td>\n",
       "      <td>0.5</td>\n",
       "      <td>0.99</td>\n",
       "      <td></td>\n",
       "    </tr>\n",
       "  </tbody>\n",
       "</table>\n",
       "</div>"
      ],
      "text/plain": [
       "                    member_id date_of_service loinc_code abnormal_code  \\\n",
       "110  OEQjkMBoTqK7YmVc02NQDQ==      2019-04-11    17861-6                 \n",
       "111  OEQjkMBoTqK7YmVc02NQDQ==      2019-04-11      777-3                 \n",
       "116  OEQjkMBoTqK7YmVc02NQDQ==      2019-04-11     1751-7                 \n",
       "117  OEQjkMBoTqK7YmVc02NQDQ==      2019-04-11     3016-3                 \n",
       "118  OEQjkMBoTqK7YmVc02NQDQ==      2019-04-11     2160-0                 \n",
       "\n",
       "     result_value  normal_low_value_numeric  normal_high_value_numeric  \\\n",
       "110          9.70                       8.6                      10.40   \n",
       "111        228.00                     140.0                     400.00   \n",
       "116          4.20                       3.6                       5.10   \n",
       "117          4.11                       0.4                       4.50   \n",
       "118          0.68                       0.5                       0.99   \n",
       "\n",
       "    abnormal_code_updated  \n",
       "110                        \n",
       "111                        \n",
       "116                        \n",
       "117                        \n",
       "118                        "
      ]
     },
     "execution_count": 60,
     "metadata": {},
     "output_type": "execute_result"
    }
   ],
   "source": [
    "a=df3[df3['abnormal_code_updated']=='     ']\n",
    "a[(a['normal_low_value_numeric'].notna()) & (a['normal_high_value_numeric'].notna())].head()"
   ]
  },
  {
   "cell_type": "code",
   "execution_count": 61,
   "metadata": {},
   "outputs": [
    {
     "data": {
      "text/plain": [
       "array([nan, 'H', 'L', 'DNE', 'ABNORM', 'NORM'], dtype=object)"
      ]
     },
     "execution_count": 61,
     "metadata": {},
     "output_type": "execute_result"
    }
   ],
   "source": [
    "df3.loc[(df3['abnormal_code']=='     '),'abnormal_code']='DNE'\n",
    "df3['abnormal_code'].unique() # check the update"
   ]
  },
  {
   "cell_type": "code",
   "execution_count": 62,
   "metadata": {},
   "outputs": [
    {
     "data": {
      "text/plain": [
       "NaN       4925154\n",
       "H          443730\n",
       "L          249975\n",
       "DNE        239541\n",
       "ABNORM      59967\n",
       "NORM          245\n",
       "Name: abnormal_code, dtype: int64"
      ]
     },
     "execution_count": 62,
     "metadata": {},
     "output_type": "execute_result"
    }
   ],
   "source": [
    "df3['abnormal_code'].value_counts(dropna=False)"
   ]
  },
  {
   "cell_type": "code",
   "execution_count": 63,
   "metadata": {},
   "outputs": [],
   "source": [
    "df3['abnormal_code_updated']=df3['abnormal_code']"
   ]
  },
  {
   "cell_type": "markdown",
   "metadata": {},
   "source": [
    "If a result value lies in the reference interval we will label it as 'NORM' in the `abnormal_code_updated`. Similarly, a result value will be labelled as 'L' ('H') if it is strictly smaller (bigger) than the lower bound (upper bound)."
   ]
  },
  {
   "cell_type": "code",
   "execution_count": 64,
   "metadata": {},
   "outputs": [],
   "source": [
    "df3.loc[(df3['normal_low_value_numeric']<= df3['result_value']) & (df3['result_value']<=df3['normal_high_value_numeric']),'abnormal_code_updated']='NORM'\n",
    "\n",
    "df3.loc[(df3['result_value']< df3['normal_low_value_numeric']), 'abnormal_code_updated']='L'\n",
    "\n",
    "df3.loc[(df3['normal_high_value_numeric']!=0.0) & (df3['result_value']> df3['normal_high_value_numeric']), 'abnormal_code_updated']='H'"
   ]
  },
  {
   "cell_type": "code",
   "execution_count": 65,
   "metadata": {},
   "outputs": [
    {
     "data": {
      "text/plain": [
       "NORM      3378798\n",
       "NaN       1653917\n",
       "H          443858\n",
       "L          250496\n",
       "DNE        131583\n",
       "ABNORM      59960\n",
       "Name: abnormal_code_updated, dtype: int64"
      ]
     },
     "execution_count": 65,
     "metadata": {},
     "output_type": "execute_result"
    }
   ],
   "source": [
    "df3['abnormal_code_updated'].value_counts(dropna=False)"
   ]
  },
  {
   "cell_type": "markdown",
   "metadata": {},
   "source": [
    "Now notice that we have have no way of knowing the actual abnormal code for the remaining records entered as DNE, therefore we will convert them into null. "
   ]
  },
  {
   "cell_type": "code",
   "execution_count": 66,
   "metadata": {},
   "outputs": [],
   "source": [
    "df3.loc[df3['abnormal_code_updated']=='DNE', 'abnormal_code_updated']=np.nan"
   ]
  },
  {
   "cell_type": "code",
   "execution_count": 67,
   "metadata": {},
   "outputs": [
    {
     "data": {
      "text/plain": [
       "NORM      3378798\n",
       "NaN       1785500\n",
       "H          443858\n",
       "L          250496\n",
       "ABNORM      59960\n",
       "Name: abnormal_code_updated, dtype: int64"
      ]
     },
     "execution_count": 67,
     "metadata": {},
     "output_type": "execute_result"
    }
   ],
   "source": [
    "df3['abnormal_code_updated'].value_counts(dropna=False)"
   ]
  },
  {
   "cell_type": "code",
   "execution_count": 68,
   "metadata": {},
   "outputs": [
    {
     "name": "stdout",
     "output_type": "stream",
     "text": [
      "<class 'pandas.core.frame.DataFrame'>\n",
      "RangeIndex: 5918612 entries, 0 to 5918611\n",
      "Data columns (total 8 columns):\n",
      " #   Column                     Non-Null Count    Dtype         \n",
      "---  ------                     --------------    -----         \n",
      " 0   member_id                  5918612 non-null  object        \n",
      " 1   date_of_service            5918612 non-null  datetime64[ns]\n",
      " 2   loinc_code                 5918612 non-null  object        \n",
      " 3   abnormal_code              993458 non-null   object        \n",
      " 4   result_value               4977832 non-null  float64       \n",
      " 5   normal_low_value_numeric   5124027 non-null  float64       \n",
      " 6   normal_high_value_numeric  5257167 non-null  float64       \n",
      " 7   abnormal_code_updated      4133112 non-null  object        \n",
      "dtypes: datetime64[ns](1), float64(3), object(4)\n",
      "memory usage: 361.2+ MB\n"
     ]
    }
   ],
   "source": [
    "df3.info(verbose=True, null_counts=True)"
   ]
  },
  {
   "cell_type": "markdown",
   "metadata": {},
   "source": [
    "Next, we will copy `abnormal_code_updated`  and update the values abnormal vs normal. If a value is 'H', or 'L' it will be updated to 'ABNORM'."
   ]
  },
  {
   "cell_type": "code",
   "execution_count": 69,
   "metadata": {},
   "outputs": [
    {
     "data": {
      "text/html": [
       "<div>\n",
       "<style scoped>\n",
       "    .dataframe tbody tr th:only-of-type {\n",
       "        vertical-align: middle;\n",
       "    }\n",
       "\n",
       "    .dataframe tbody tr th {\n",
       "        vertical-align: top;\n",
       "    }\n",
       "\n",
       "    .dataframe thead th {\n",
       "        text-align: right;\n",
       "    }\n",
       "</style>\n",
       "<table border=\"1\" class=\"dataframe\">\n",
       "  <thead>\n",
       "    <tr style=\"text-align: right;\">\n",
       "      <th></th>\n",
       "      <th>member_id</th>\n",
       "      <th>date_of_service</th>\n",
       "      <th>loinc_code</th>\n",
       "      <th>abnormal_code</th>\n",
       "      <th>result_value</th>\n",
       "      <th>normal_low_value_numeric</th>\n",
       "      <th>normal_high_value_numeric</th>\n",
       "      <th>abnormal_code_updated</th>\n",
       "      <th>abnormal_vs_normal</th>\n",
       "    </tr>\n",
       "  </thead>\n",
       "  <tbody>\n",
       "    <tr>\n",
       "      <th>0</th>\n",
       "      <td>OEQjkMBoTqK7YmVc02NQDQ==</td>\n",
       "      <td>2018-10-25</td>\n",
       "      <td>13457-7</td>\n",
       "      <td>NaN</td>\n",
       "      <td>85.0</td>\n",
       "      <td>0.0</td>\n",
       "      <td>99.0</td>\n",
       "      <td>NORM</td>\n",
       "      <td>NORM</td>\n",
       "    </tr>\n",
       "    <tr>\n",
       "      <th>1</th>\n",
       "      <td>OEQjkMBoTqK7YmVc02NQDQ==</td>\n",
       "      <td>2018-10-25</td>\n",
       "      <td>17861-6</td>\n",
       "      <td>NaN</td>\n",
       "      <td>9.6</td>\n",
       "      <td>8.6</td>\n",
       "      <td>10.4</td>\n",
       "      <td>NORM</td>\n",
       "      <td>NORM</td>\n",
       "    </tr>\n",
       "    <tr>\n",
       "      <th>2</th>\n",
       "      <td>OEQjkMBoTqK7YmVc02NQDQ==</td>\n",
       "      <td>2018-10-25</td>\n",
       "      <td>33914-3</td>\n",
       "      <td>NaN</td>\n",
       "      <td>91.0</td>\n",
       "      <td>60.0</td>\n",
       "      <td>0.0</td>\n",
       "      <td>NaN</td>\n",
       "      <td>NaN</td>\n",
       "    </tr>\n",
       "    <tr>\n",
       "      <th>3</th>\n",
       "      <td>OEQjkMBoTqK7YmVc02NQDQ==</td>\n",
       "      <td>2018-10-25</td>\n",
       "      <td>4544-3</td>\n",
       "      <td>NaN</td>\n",
       "      <td>42.8</td>\n",
       "      <td>35.0</td>\n",
       "      <td>45.0</td>\n",
       "      <td>NORM</td>\n",
       "      <td>NORM</td>\n",
       "    </tr>\n",
       "    <tr>\n",
       "      <th>4</th>\n",
       "      <td>OEQjkMBoTqK7YmVc02NQDQ==</td>\n",
       "      <td>2018-10-25</td>\n",
       "      <td>713-8</td>\n",
       "      <td>NaN</td>\n",
       "      <td>6.8</td>\n",
       "      <td>0.0</td>\n",
       "      <td>0.0</td>\n",
       "      <td>NaN</td>\n",
       "      <td>NaN</td>\n",
       "    </tr>\n",
       "  </tbody>\n",
       "</table>\n",
       "</div>"
      ],
      "text/plain": [
       "                  member_id date_of_service loinc_code abnormal_code  \\\n",
       "0  OEQjkMBoTqK7YmVc02NQDQ==      2018-10-25    13457-7           NaN   \n",
       "1  OEQjkMBoTqK7YmVc02NQDQ==      2018-10-25    17861-6           NaN   \n",
       "2  OEQjkMBoTqK7YmVc02NQDQ==      2018-10-25    33914-3           NaN   \n",
       "3  OEQjkMBoTqK7YmVc02NQDQ==      2018-10-25     4544-3           NaN   \n",
       "4  OEQjkMBoTqK7YmVc02NQDQ==      2018-10-25      713-8           NaN   \n",
       "\n",
       "   result_value  normal_low_value_numeric  normal_high_value_numeric  \\\n",
       "0          85.0                       0.0                       99.0   \n",
       "1           9.6                       8.6                       10.4   \n",
       "2          91.0                      60.0                        0.0   \n",
       "3          42.8                      35.0                       45.0   \n",
       "4           6.8                       0.0                        0.0   \n",
       "\n",
       "  abnormal_code_updated abnormal_vs_normal  \n",
       "0                  NORM               NORM  \n",
       "1                  NORM               NORM  \n",
       "2                   NaN                NaN  \n",
       "3                  NORM               NORM  \n",
       "4                   NaN                NaN  "
      ]
     },
     "execution_count": 69,
     "metadata": {},
     "output_type": "execute_result"
    }
   ],
   "source": [
    "df3['abnormal_vs_normal']=df3['abnormal_code_updated']\n",
    "df3.head() #check the update"
   ]
  },
  {
   "cell_type": "code",
   "execution_count": 70,
   "metadata": {},
   "outputs": [
    {
     "data": {
      "text/plain": [
       "NORM      3378798\n",
       "NaN       1785500\n",
       "ABNORM     754314\n",
       "Name: abnormal_vs_normal, dtype: int64"
      ]
     },
     "execution_count": 70,
     "metadata": {},
     "output_type": "execute_result"
    }
   ],
   "source": [
    "df3['abnormal_vs_normal'].replace({'H': 'ABNORM', 'L': 'ABNORM'}, inplace=True)\n",
    "df3['abnormal_vs_normal'].value_counts(dropna=False)"
   ]
  },
  {
   "cell_type": "code",
   "execution_count": 71,
   "metadata": {},
   "outputs": [
    {
     "name": "stdout",
     "output_type": "stream",
     "text": [
      "<class 'pandas.core.frame.DataFrame'>\n",
      "RangeIndex: 5918612 entries, 0 to 5918611\n",
      "Data columns (total 9 columns):\n",
      " #   Column                     Non-Null Count    Dtype         \n",
      "---  ------                     --------------    -----         \n",
      " 0   member_id                  5918612 non-null  object        \n",
      " 1   date_of_service            5918612 non-null  datetime64[ns]\n",
      " 2   loinc_code                 5918612 non-null  object        \n",
      " 3   abnormal_code              993458 non-null   object        \n",
      " 4   result_value               4977832 non-null  float64       \n",
      " 5   normal_low_value_numeric   5124027 non-null  float64       \n",
      " 6   normal_high_value_numeric  5257167 non-null  float64       \n",
      " 7   abnormal_code_updated      4133112 non-null  object        \n",
      " 8   abnormal_vs_normal         4133112 non-null  object        \n",
      "dtypes: datetime64[ns](1), float64(3), object(5)\n",
      "memory usage: 406.4+ MB\n"
     ]
    }
   ],
   "source": [
    "df3.info(verbose=True, null_counts=True)"
   ]
  },
  {
   "cell_type": "code",
   "execution_count": 72,
   "metadata": {},
   "outputs": [
    {
     "data": {
      "text/html": [
       "<div>\n",
       "<style scoped>\n",
       "    .dataframe tbody tr th:only-of-type {\n",
       "        vertical-align: middle;\n",
       "    }\n",
       "\n",
       "    .dataframe tbody tr th {\n",
       "        vertical-align: top;\n",
       "    }\n",
       "\n",
       "    .dataframe thead th {\n",
       "        text-align: right;\n",
       "    }\n",
       "</style>\n",
       "<table border=\"1\" class=\"dataframe\">\n",
       "  <thead>\n",
       "    <tr style=\"text-align: right;\">\n",
       "      <th></th>\n",
       "      <th>member_id</th>\n",
       "      <th>loinc_code</th>\n",
       "      <th>abnormal_code</th>\n",
       "      <th>result_value</th>\n",
       "      <th>normal_low_value_numeric</th>\n",
       "      <th>normal_high_value_numeric</th>\n",
       "      <th>abnormal_code_updated</th>\n",
       "      <th>abnormal_vs_normal</th>\n",
       "    </tr>\n",
       "  </thead>\n",
       "  <tbody>\n",
       "    <tr>\n",
       "      <th>0</th>\n",
       "      <td>OEQjkMBoTqK7YmVc02NQDQ==</td>\n",
       "      <td>13457-7</td>\n",
       "      <td>NaN</td>\n",
       "      <td>85.0</td>\n",
       "      <td>0.0</td>\n",
       "      <td>99.0</td>\n",
       "      <td>NORM</td>\n",
       "      <td>NORM</td>\n",
       "    </tr>\n",
       "    <tr>\n",
       "      <th>1</th>\n",
       "      <td>OEQjkMBoTqK7YmVc02NQDQ==</td>\n",
       "      <td>17861-6</td>\n",
       "      <td>NaN</td>\n",
       "      <td>9.6</td>\n",
       "      <td>8.6</td>\n",
       "      <td>10.4</td>\n",
       "      <td>NORM</td>\n",
       "      <td>NORM</td>\n",
       "    </tr>\n",
       "    <tr>\n",
       "      <th>2</th>\n",
       "      <td>OEQjkMBoTqK7YmVc02NQDQ==</td>\n",
       "      <td>33914-3</td>\n",
       "      <td>NaN</td>\n",
       "      <td>91.0</td>\n",
       "      <td>60.0</td>\n",
       "      <td>0.0</td>\n",
       "      <td>NaN</td>\n",
       "      <td>NaN</td>\n",
       "    </tr>\n",
       "  </tbody>\n",
       "</table>\n",
       "</div>"
      ],
      "text/plain": [
       "                  member_id loinc_code abnormal_code  result_value  \\\n",
       "0  OEQjkMBoTqK7YmVc02NQDQ==    13457-7           NaN          85.0   \n",
       "1  OEQjkMBoTqK7YmVc02NQDQ==    17861-6           NaN           9.6   \n",
       "2  OEQjkMBoTqK7YmVc02NQDQ==    33914-3           NaN          91.0   \n",
       "\n",
       "   normal_low_value_numeric  normal_high_value_numeric abnormal_code_updated  \\\n",
       "0                       0.0                       99.0                  NORM   \n",
       "1                       8.6                       10.4                  NORM   \n",
       "2                      60.0                        0.0                   NaN   \n",
       "\n",
       "  abnormal_vs_normal  \n",
       "0               NORM  \n",
       "1               NORM  \n",
       "2                NaN  "
      ]
     },
     "execution_count": 72,
     "metadata": {},
     "output_type": "execute_result"
    }
   ],
   "source": [
    "df3.drop(['date_of_service'], axis=1, inplace=True)\n",
    "df3.head(3)# check the update"
   ]
  },
  {
   "cell_type": "markdown",
   "metadata": {},
   "source": [
    "We will drop `abnormal_code`,`result_value`,`normal_low_value_numeric`, `normal_high_value_numeric`,`abnormal_vs_normal` since `abnormal_code_updated` will capture the information we need."
   ]
  },
  {
   "cell_type": "code",
   "execution_count": 73,
   "metadata": {},
   "outputs": [
    {
     "data": {
      "text/html": [
       "<div>\n",
       "<style scoped>\n",
       "    .dataframe tbody tr th:only-of-type {\n",
       "        vertical-align: middle;\n",
       "    }\n",
       "\n",
       "    .dataframe tbody tr th {\n",
       "        vertical-align: top;\n",
       "    }\n",
       "\n",
       "    .dataframe thead th {\n",
       "        text-align: right;\n",
       "    }\n",
       "</style>\n",
       "<table border=\"1\" class=\"dataframe\">\n",
       "  <thead>\n",
       "    <tr style=\"text-align: right;\">\n",
       "      <th></th>\n",
       "      <th>member_id</th>\n",
       "      <th>loinc_code</th>\n",
       "      <th>abnormal_code_updated</th>\n",
       "    </tr>\n",
       "  </thead>\n",
       "  <tbody>\n",
       "    <tr>\n",
       "      <th>0</th>\n",
       "      <td>OEQjkMBoTqK7YmVc02NQDQ==</td>\n",
       "      <td>13457-7</td>\n",
       "      <td>NORM</td>\n",
       "    </tr>\n",
       "    <tr>\n",
       "      <th>1</th>\n",
       "      <td>OEQjkMBoTqK7YmVc02NQDQ==</td>\n",
       "      <td>17861-6</td>\n",
       "      <td>NORM</td>\n",
       "    </tr>\n",
       "    <tr>\n",
       "      <th>2</th>\n",
       "      <td>OEQjkMBoTqK7YmVc02NQDQ==</td>\n",
       "      <td>33914-3</td>\n",
       "      <td>NaN</td>\n",
       "    </tr>\n",
       "    <tr>\n",
       "      <th>3</th>\n",
       "      <td>OEQjkMBoTqK7YmVc02NQDQ==</td>\n",
       "      <td>4544-3</td>\n",
       "      <td>NORM</td>\n",
       "    </tr>\n",
       "    <tr>\n",
       "      <th>4</th>\n",
       "      <td>OEQjkMBoTqK7YmVc02NQDQ==</td>\n",
       "      <td>713-8</td>\n",
       "      <td>NaN</td>\n",
       "    </tr>\n",
       "  </tbody>\n",
       "</table>\n",
       "</div>"
      ],
      "text/plain": [
       "                  member_id loinc_code abnormal_code_updated\n",
       "0  OEQjkMBoTqK7YmVc02NQDQ==    13457-7                  NORM\n",
       "1  OEQjkMBoTqK7YmVc02NQDQ==    17861-6                  NORM\n",
       "2  OEQjkMBoTqK7YmVc02NQDQ==    33914-3                   NaN\n",
       "3  OEQjkMBoTqK7YmVc02NQDQ==     4544-3                  NORM\n",
       "4  OEQjkMBoTqK7YmVc02NQDQ==      713-8                   NaN"
      ]
     },
     "execution_count": 73,
     "metadata": {},
     "output_type": "execute_result"
    }
   ],
   "source": [
    "df3.drop(['abnormal_code', 'result_value','normal_low_value_numeric', 'normal_high_value_numeric', 'abnormal_vs_normal'], axis=1, inplace=True)\n",
    "df3.head() # check the update"
   ]
  },
  {
   "cell_type": "code",
   "execution_count": 74,
   "metadata": {},
   "outputs": [
    {
     "name": "stdout",
     "output_type": "stream",
     "text": [
      "A file already exists with this name.\n",
      "\n",
      "Do you want to overwrite? (Y/N)Y\n",
      "Writing file.  \"../Outputs/df3_final.csv\"\n"
     ]
    }
   ],
   "source": [
    "# save the data to a new csv file\n",
    "datapath = '../Outputs'\n",
    "save_file(df3, 'df3_final.csv', datapath)"
   ]
  },
  {
   "cell_type": "markdown",
   "metadata": {},
   "source": [
    "### 2.7.4 Patients Data<a id='2.7.4_Patients_Data'></a>"
   ]
  },
  {
   "cell_type": "code",
   "execution_count": 75,
   "metadata": {},
   "outputs": [
    {
     "data": {
      "text/html": [
       "<div>\n",
       "<style scoped>\n",
       "    .dataframe tbody tr th:only-of-type {\n",
       "        vertical-align: middle;\n",
       "    }\n",
       "\n",
       "    .dataframe tbody tr th {\n",
       "        vertical-align: top;\n",
       "    }\n",
       "\n",
       "    .dataframe thead th {\n",
       "        text-align: right;\n",
       "    }\n",
       "</style>\n",
       "<table border=\"1\" class=\"dataframe\">\n",
       "  <thead>\n",
       "    <tr style=\"text-align: right;\">\n",
       "      <th></th>\n",
       "      <th>member_id</th>\n",
       "      <th>patient_age</th>\n",
       "      <th>patient_gender</th>\n",
       "      <th>dual_status</th>\n",
       "      <th>insurance_company</th>\n",
       "      <th>insurance_type</th>\n",
       "      <th>pbp_type</th>\n",
       "      <th>county</th>\n",
       "      <th>city</th>\n",
       "    </tr>\n",
       "  </thead>\n",
       "  <tbody>\n",
       "    <tr>\n",
       "      <th>0</th>\n",
       "      <td>AAHLhKW7RYOEQIemWrh/1w==</td>\n",
       "      <td>72</td>\n",
       "      <td>M</td>\n",
       "      <td>DYoOR0bMMk3HRSo8sSPjUw==</td>\n",
       "      <td>GUD2qR6A4Wd2L73mE5cXSw==</td>\n",
       "      <td>0EM/AFr1Il2Z8J30Yadekw==</td>\n",
       "      <td>0EM/AFr1Il2Z8J30Yadekw==</td>\n",
       "      <td>UejZIiyN0zMFVlUbJl9WMw==</td>\n",
       "      <td>JcyeVCRLiLD21PlyRx0v3w==</td>\n",
       "    </tr>\n",
       "    <tr>\n",
       "      <th>1</th>\n",
       "      <td>AAKW/PKhRva+ZS2B4s0AmA==</td>\n",
       "      <td>72</td>\n",
       "      <td>M</td>\n",
       "      <td>tMEZlLbu7jT3s3qXZC+gWQ==</td>\n",
       "      <td>rOCadimmYUC//TJHZzkvRg==</td>\n",
       "      <td>0EM/AFr1Il2Z8J30Yadekw==</td>\n",
       "      <td>a85jcyRlCtomarSMXXjFbg==</td>\n",
       "      <td>1S4k4hzgPOiWaL9v6ChejA==</td>\n",
       "      <td>btsrhf68Jq+yI/2V8QTMMw==</td>\n",
       "    </tr>\n",
       "    <tr>\n",
       "      <th>2</th>\n",
       "      <td>AAT/v3ExQAyfas8Ov5JevA==</td>\n",
       "      <td>75</td>\n",
       "      <td>F</td>\n",
       "      <td>tMEZlLbu7jT3s3qXZC+gWQ==</td>\n",
       "      <td>rOCadimmYUC//TJHZzkvRg==</td>\n",
       "      <td>0EM/AFr1Il2Z8J30Yadekw==</td>\n",
       "      <td>9Ro3ya9jPvS3mg+7vLpsgg==</td>\n",
       "      <td>1S4k4hzgPOiWaL9v6ChejA==</td>\n",
       "      <td>btsrhf68Jq+yI/2V8QTMMw==</td>\n",
       "    </tr>\n",
       "    <tr>\n",
       "      <th>3</th>\n",
       "      <td>AAoq6W9QR0G/kOfNZnoCPg==</td>\n",
       "      <td>62</td>\n",
       "      <td>M</td>\n",
       "      <td>cxTcUuoRUVTg+SSt7OlnXg==</td>\n",
       "      <td>hdbB94EoBNp2gZ5k2t6eLw==</td>\n",
       "      <td>0EM/AFr1Il2Z8J30Yadekw==</td>\n",
       "      <td>9Ro3ya9jPvS3mg+7vLpsgg==</td>\n",
       "      <td>EvFxDbLnPKOa13Yw9vDU4A==</td>\n",
       "      <td>xg5tPYYDxhRt10rlHSQG3A==</td>\n",
       "    </tr>\n",
       "    <tr>\n",
       "      <th>4</th>\n",
       "      <td>AAu2+UMHSpK6gVYffGi4pw==</td>\n",
       "      <td>54</td>\n",
       "      <td>F</td>\n",
       "      <td>tMEZlLbu7jT3s3qXZC+gWQ==</td>\n",
       "      <td>rOCadimmYUC//TJHZzkvRg==</td>\n",
       "      <td>0EM/AFr1Il2Z8J30Yadekw==</td>\n",
       "      <td>0EM/AFr1Il2Z8J30Yadekw==</td>\n",
       "      <td>EvFxDbLnPKOa13Yw9vDU4A==</td>\n",
       "      <td>yjYhcMttIqpWhMY2PuP8Sg==</td>\n",
       "    </tr>\n",
       "  </tbody>\n",
       "</table>\n",
       "</div>"
      ],
      "text/plain": [
       "                  member_id  patient_age patient_gender  \\\n",
       "0  AAHLhKW7RYOEQIemWrh/1w==           72              M   \n",
       "1  AAKW/PKhRva+ZS2B4s0AmA==           72              M   \n",
       "2  AAT/v3ExQAyfas8Ov5JevA==           75              F   \n",
       "3  AAoq6W9QR0G/kOfNZnoCPg==           62              M   \n",
       "4  AAu2+UMHSpK6gVYffGi4pw==           54              F   \n",
       "\n",
       "                dual_status         insurance_company  \\\n",
       "0  DYoOR0bMMk3HRSo8sSPjUw==  GUD2qR6A4Wd2L73mE5cXSw==   \n",
       "1  tMEZlLbu7jT3s3qXZC+gWQ==  rOCadimmYUC//TJHZzkvRg==   \n",
       "2  tMEZlLbu7jT3s3qXZC+gWQ==  rOCadimmYUC//TJHZzkvRg==   \n",
       "3  cxTcUuoRUVTg+SSt7OlnXg==  hdbB94EoBNp2gZ5k2t6eLw==   \n",
       "4  tMEZlLbu7jT3s3qXZC+gWQ==  rOCadimmYUC//TJHZzkvRg==   \n",
       "\n",
       "             insurance_type                  pbp_type  \\\n",
       "0  0EM/AFr1Il2Z8J30Yadekw==  0EM/AFr1Il2Z8J30Yadekw==   \n",
       "1  0EM/AFr1Il2Z8J30Yadekw==  a85jcyRlCtomarSMXXjFbg==   \n",
       "2  0EM/AFr1Il2Z8J30Yadekw==  9Ro3ya9jPvS3mg+7vLpsgg==   \n",
       "3  0EM/AFr1Il2Z8J30Yadekw==  9Ro3ya9jPvS3mg+7vLpsgg==   \n",
       "4  0EM/AFr1Il2Z8J30Yadekw==  0EM/AFr1Il2Z8J30Yadekw==   \n",
       "\n",
       "                     county                      city  \n",
       "0  UejZIiyN0zMFVlUbJl9WMw==  JcyeVCRLiLD21PlyRx0v3w==  \n",
       "1  1S4k4hzgPOiWaL9v6ChejA==  btsrhf68Jq+yI/2V8QTMMw==  \n",
       "2  1S4k4hzgPOiWaL9v6ChejA==  btsrhf68Jq+yI/2V8QTMMw==  \n",
       "3  EvFxDbLnPKOa13Yw9vDU4A==  xg5tPYYDxhRt10rlHSQG3A==  \n",
       "4  EvFxDbLnPKOa13Yw9vDU4A==  yjYhcMttIqpWhMY2PuP8Sg==  "
      ]
     },
     "execution_count": 75,
     "metadata": {},
     "output_type": "execute_result"
    }
   ],
   "source": [
    "df4.head(5)"
   ]
  },
  {
   "cell_type": "code",
   "execution_count": 76,
   "metadata": {},
   "outputs": [
    {
     "name": "stdout",
     "output_type": "stream",
     "text": [
      "<class 'pandas.core.frame.DataFrame'>\n",
      "RangeIndex: 26559 entries, 0 to 26558\n",
      "Data columns (total 9 columns):\n",
      " #   Column             Non-Null Count  Dtype \n",
      "---  ------             --------------  ----- \n",
      " 0   member_id          26559 non-null  object\n",
      " 1   patient_age        26559 non-null  int64 \n",
      " 2   patient_gender     26559 non-null  object\n",
      " 3   dual_status        26559 non-null  object\n",
      " 4   insurance_company  26559 non-null  object\n",
      " 5   insurance_type     26559 non-null  object\n",
      " 6   pbp_type           26558 non-null  object\n",
      " 7   county             26547 non-null  object\n",
      " 8   city               26552 non-null  object\n",
      "dtypes: int64(1), object(8)\n",
      "memory usage: 1.8+ MB\n"
     ]
    }
   ],
   "source": [
    "df4.info()"
   ]
  },
  {
   "cell_type": "code",
   "execution_count": 77,
   "metadata": {},
   "outputs": [
    {
     "data": {
      "text/plain": [
       "member_id            26559\n",
       "patient_age             83\n",
       "patient_gender           2\n",
       "dual_status              9\n",
       "insurance_company       12\n",
       "insurance_type           2\n",
       "pbp_type                10\n",
       "county                  48\n",
       "city                   499\n",
       "dtype: int64"
      ]
     },
     "execution_count": 77,
     "metadata": {},
     "output_type": "execute_result"
    }
   ],
   "source": [
    "df4.nunique()"
   ]
  },
  {
   "cell_type": "markdown",
   "metadata": {},
   "source": [
    "We need to change most values in 'df4' for readability purposes, as seen below."
   ]
  },
  {
   "cell_type": "code",
   "execution_count": 78,
   "metadata": {},
   "outputs": [
    {
     "data": {
      "text/plain": [
       "array(['DYoOR0bMMk3HRSo8sSPjUw==', 'tMEZlLbu7jT3s3qXZC+gWQ==',\n",
       "       'cxTcUuoRUVTg+SSt7OlnXg==', 'D7HF1L7pKm0+yiZHnui7hQ==',\n",
       "       'K3iVxpF0tRf+h5l85tlfpA==', 'ssNL6tTkjkgJfijNgtfX1Q==',\n",
       "       'GwdXg8Z44j4sOkS6HTTM3A==', 'MKqEIzoTiCq5E7Rp2PAR0w==',\n",
       "       'xTNihcc8vr7yvMoWJBWwvA=='], dtype=object)"
      ]
     },
     "execution_count": 78,
     "metadata": {},
     "output_type": "execute_result"
    }
   ],
   "source": [
    "df4['dual_status'].unique()"
   ]
  },
  {
   "cell_type": "markdown",
   "metadata": {},
   "source": [
    "We will next create some dictionaries for the new values of 'df4'."
   ]
  },
  {
   "cell_type": "code",
   "execution_count": 79,
   "metadata": {},
   "outputs": [],
   "source": [
    "#-------------------------------------------------------------------------\n",
    "\n",
    "list_new_values_df4=[]\n",
    "\n",
    "#-------------------------------------------------------------------------\n",
    "\n",
    "dict_new_values_dual_status={} \n",
    "a=0\n",
    "for item in df4['dual_status'].unique():\n",
    "    a=a+1\n",
    "    dict_new_values_dual_status[item]=str(a)\n",
    "list_new_values_df4.append(dict_new_values_dual_status)\n",
    "\n",
    "#-------------------------------------------------------------------------\n",
    "\n",
    "dict_new_values_insurance_company={}\n",
    "a=0\n",
    "for item in df4['insurance_company'].unique():\n",
    "    a=a+1\n",
    "    dict_new_values_insurance_company[item]=str(a)\n",
    "list_new_values_df4.append(dict_new_values_insurance_company)\n",
    "\n",
    "#-------------------------------------------------------------------------\n",
    "\n",
    "dict_new_values_insurance_type={}\n",
    "a=0\n",
    "for item in df4['insurance_type'].unique():\n",
    "    a=a+1\n",
    "    dict_new_values_insurance_type[item]=str(a)\n",
    "list_new_values_df4.append(dict_new_values_insurance_type)\n",
    "\n",
    "#-------------------------------------------------------------------------\n",
    "\n",
    "dict_new_values_pbp_type={}\n",
    "a=0\n",
    "for item in df4['pbp_type'].unique():\n",
    "    a=a+1\n",
    "    dict_new_values_pbp_type[item]=str(a)\n",
    "list_new_values_df4.append(dict_new_values_pbp_type)    \n",
    "\n",
    "#-------------------------------------------------------------------------\n",
    "\n",
    "dict_new_values_county={}\n",
    "a=0\n",
    "for item in df4['county'].unique():\n",
    "    a=a+1\n",
    "    dict_new_values_county[item]=str(a)\n",
    "list_new_values_df4.append(dict_new_values_county)    \n",
    "\n",
    "\n",
    "#-------------------------------------------------------------------------\n",
    "\n",
    "dict_new_values_city={}\n",
    "a=0\n",
    "for item in df4['city'].unique():\n",
    "    a=a+1\n",
    "    dict_new_values_city[item]=str(a)\n",
    "list_new_values_df4.append(dict_new_values_city)    \n",
    "\n",
    "#-------------------------------------------------------------------------\n",
    "\n",
    "#list_new_values_df4"
   ]
  },
  {
   "cell_type": "markdown",
   "metadata": {},
   "source": [
    "Values of all columns of 'df4' will be updated except `patient_age` and `patient_gender`."
   ]
  },
  {
   "cell_type": "code",
   "execution_count": 80,
   "metadata": {},
   "outputs": [
    {
     "data": {
      "text/html": [
       "<div>\n",
       "<style scoped>\n",
       "    .dataframe tbody tr th:only-of-type {\n",
       "        vertical-align: middle;\n",
       "    }\n",
       "\n",
       "    .dataframe tbody tr th {\n",
       "        vertical-align: top;\n",
       "    }\n",
       "\n",
       "    .dataframe thead th {\n",
       "        text-align: right;\n",
       "    }\n",
       "</style>\n",
       "<table border=\"1\" class=\"dataframe\">\n",
       "  <thead>\n",
       "    <tr style=\"text-align: right;\">\n",
       "      <th></th>\n",
       "      <th>member_id</th>\n",
       "      <th>patient_age</th>\n",
       "      <th>patient_gender</th>\n",
       "      <th>dual_status</th>\n",
       "      <th>insurance_company</th>\n",
       "      <th>insurance_type</th>\n",
       "      <th>pbp_type</th>\n",
       "      <th>county</th>\n",
       "      <th>city</th>\n",
       "    </tr>\n",
       "  </thead>\n",
       "  <tbody>\n",
       "    <tr>\n",
       "      <th>0</th>\n",
       "      <td>AAHLhKW7RYOEQIemWrh/1w==</td>\n",
       "      <td>72</td>\n",
       "      <td>M</td>\n",
       "      <td>1</td>\n",
       "      <td>1</td>\n",
       "      <td>1</td>\n",
       "      <td>1</td>\n",
       "      <td>1</td>\n",
       "      <td>1</td>\n",
       "    </tr>\n",
       "    <tr>\n",
       "      <th>1</th>\n",
       "      <td>AAKW/PKhRva+ZS2B4s0AmA==</td>\n",
       "      <td>72</td>\n",
       "      <td>M</td>\n",
       "      <td>2</td>\n",
       "      <td>2</td>\n",
       "      <td>1</td>\n",
       "      <td>2</td>\n",
       "      <td>2</td>\n",
       "      <td>2</td>\n",
       "    </tr>\n",
       "    <tr>\n",
       "      <th>2</th>\n",
       "      <td>AAT/v3ExQAyfas8Ov5JevA==</td>\n",
       "      <td>75</td>\n",
       "      <td>F</td>\n",
       "      <td>2</td>\n",
       "      <td>2</td>\n",
       "      <td>1</td>\n",
       "      <td>3</td>\n",
       "      <td>2</td>\n",
       "      <td>2</td>\n",
       "    </tr>\n",
       "    <tr>\n",
       "      <th>3</th>\n",
       "      <td>AAoq6W9QR0G/kOfNZnoCPg==</td>\n",
       "      <td>62</td>\n",
       "      <td>M</td>\n",
       "      <td>3</td>\n",
       "      <td>3</td>\n",
       "      <td>1</td>\n",
       "      <td>3</td>\n",
       "      <td>3</td>\n",
       "      <td>3</td>\n",
       "    </tr>\n",
       "    <tr>\n",
       "      <th>4</th>\n",
       "      <td>AAu2+UMHSpK6gVYffGi4pw==</td>\n",
       "      <td>54</td>\n",
       "      <td>F</td>\n",
       "      <td>2</td>\n",
       "      <td>2</td>\n",
       "      <td>1</td>\n",
       "      <td>1</td>\n",
       "      <td>3</td>\n",
       "      <td>4</td>\n",
       "    </tr>\n",
       "  </tbody>\n",
       "</table>\n",
       "</div>"
      ],
      "text/plain": [
       "                  member_id  patient_age patient_gender dual_status  \\\n",
       "0  AAHLhKW7RYOEQIemWrh/1w==           72              M           1   \n",
       "1  AAKW/PKhRva+ZS2B4s0AmA==           72              M           2   \n",
       "2  AAT/v3ExQAyfas8Ov5JevA==           75              F           2   \n",
       "3  AAoq6W9QR0G/kOfNZnoCPg==           62              M           3   \n",
       "4  AAu2+UMHSpK6gVYffGi4pw==           54              F           2   \n",
       "\n",
       "  insurance_company insurance_type pbp_type county city  \n",
       "0                 1              1        1      1    1  \n",
       "1                 2              1        2      2    2  \n",
       "2                 2              1        3      2    2  \n",
       "3                 3              1        3      3    3  \n",
       "4                 2              1        1      3    4  "
      ]
     },
     "execution_count": 80,
     "metadata": {},
     "output_type": "execute_result"
    }
   ],
   "source": [
    "df4['dual_status'].replace(dict_new_values_dual_status, inplace=True)\n",
    "\n",
    "df4['insurance_company'].replace(dict_new_values_insurance_company, inplace=True)\n",
    "\n",
    "df4['insurance_type'].replace(dict_new_values_insurance_type, inplace=True)\n",
    "\n",
    "df4['pbp_type'].replace(dict_new_values_pbp_type, inplace=True)\n",
    "\n",
    "df4['county'].replace(dict_new_values_county, inplace=True)\n",
    "\n",
    "df4['city'].replace(dict_new_values_city, inplace=True)\n",
    "\n",
    "df4.head() # check the update"
   ]
  },
  {
   "cell_type": "markdown",
   "metadata": {},
   "source": [
    "Last we will change the name of `patient_age` and `patient_gender`. "
   ]
  },
  {
   "cell_type": "code",
   "execution_count": 81,
   "metadata": {},
   "outputs": [
    {
     "data": {
      "text/html": [
       "<div>\n",
       "<style scoped>\n",
       "    .dataframe tbody tr th:only-of-type {\n",
       "        vertical-align: middle;\n",
       "    }\n",
       "\n",
       "    .dataframe tbody tr th {\n",
       "        vertical-align: top;\n",
       "    }\n",
       "\n",
       "    .dataframe thead th {\n",
       "        text-align: right;\n",
       "    }\n",
       "</style>\n",
       "<table border=\"1\" class=\"dataframe\">\n",
       "  <thead>\n",
       "    <tr style=\"text-align: right;\">\n",
       "      <th></th>\n",
       "      <th>member_id</th>\n",
       "      <th>age</th>\n",
       "      <th>sex</th>\n",
       "      <th>dual_status</th>\n",
       "      <th>insurance_company</th>\n",
       "      <th>insurance_type</th>\n",
       "      <th>pbp_type</th>\n",
       "      <th>county</th>\n",
       "      <th>city</th>\n",
       "    </tr>\n",
       "  </thead>\n",
       "  <tbody>\n",
       "    <tr>\n",
       "      <th>0</th>\n",
       "      <td>AAHLhKW7RYOEQIemWrh/1w==</td>\n",
       "      <td>72</td>\n",
       "      <td>M</td>\n",
       "      <td>1</td>\n",
       "      <td>1</td>\n",
       "      <td>1</td>\n",
       "      <td>1</td>\n",
       "      <td>1</td>\n",
       "      <td>1</td>\n",
       "    </tr>\n",
       "    <tr>\n",
       "      <th>1</th>\n",
       "      <td>AAKW/PKhRva+ZS2B4s0AmA==</td>\n",
       "      <td>72</td>\n",
       "      <td>M</td>\n",
       "      <td>2</td>\n",
       "      <td>2</td>\n",
       "      <td>1</td>\n",
       "      <td>2</td>\n",
       "      <td>2</td>\n",
       "      <td>2</td>\n",
       "    </tr>\n",
       "    <tr>\n",
       "      <th>2</th>\n",
       "      <td>AAT/v3ExQAyfas8Ov5JevA==</td>\n",
       "      <td>75</td>\n",
       "      <td>F</td>\n",
       "      <td>2</td>\n",
       "      <td>2</td>\n",
       "      <td>1</td>\n",
       "      <td>3</td>\n",
       "      <td>2</td>\n",
       "      <td>2</td>\n",
       "    </tr>\n",
       "  </tbody>\n",
       "</table>\n",
       "</div>"
      ],
      "text/plain": [
       "                  member_id  age sex dual_status insurance_company  \\\n",
       "0  AAHLhKW7RYOEQIemWrh/1w==   72   M           1                 1   \n",
       "1  AAKW/PKhRva+ZS2B4s0AmA==   72   M           2                 2   \n",
       "2  AAT/v3ExQAyfas8Ov5JevA==   75   F           2                 2   \n",
       "\n",
       "  insurance_type pbp_type county city  \n",
       "0              1        1      1    1  \n",
       "1              1        2      2    2  \n",
       "2              1        3      2    2  "
      ]
     },
     "execution_count": 81,
     "metadata": {},
     "output_type": "execute_result"
    }
   ],
   "source": [
    "df4.rename(columns={'patient_age': 'age', 'patient_gender': 'sex'}, inplace=True)\n",
    "df4.head(3) # check the update"
   ]
  },
  {
   "cell_type": "code",
   "execution_count": 82,
   "metadata": {},
   "outputs": [
    {
     "name": "stdout",
     "output_type": "stream",
     "text": [
      "A file already exists with this name.\n",
      "\n",
      "Do you want to overwrite? (Y/N)Y\n",
      "Writing file.  \"../Outputs/df4_final.csv\"\n"
     ]
    }
   ],
   "source": [
    "# save the data to a new csv file\n",
    "datapath = '../Outputs'\n",
    "save_file(df4, 'df4_final.csv', datapath)"
   ]
  },
  {
   "cell_type": "markdown",
   "metadata": {},
   "source": [
    "### 2.7.5 Prescriptions Data<a id='2.7.5_Prescriptions_Data'></a>"
   ]
  },
  {
   "cell_type": "code",
   "execution_count": 83,
   "metadata": {},
   "outputs": [
    {
     "data": {
      "text/html": [
       "<div>\n",
       "<style scoped>\n",
       "    .dataframe tbody tr th:only-of-type {\n",
       "        vertical-align: middle;\n",
       "    }\n",
       "\n",
       "    .dataframe tbody tr th {\n",
       "        vertical-align: top;\n",
       "    }\n",
       "\n",
       "    .dataframe thead th {\n",
       "        text-align: right;\n",
       "    }\n",
       "</style>\n",
       "<table border=\"1\" class=\"dataframe\">\n",
       "  <thead>\n",
       "    <tr style=\"text-align: right;\">\n",
       "      <th></th>\n",
       "      <th>member_id</th>\n",
       "      <th>date_filled</th>\n",
       "      <th>ndc_number</th>\n",
       "      <th>days_supply</th>\n",
       "      <th>drug_name</th>\n",
       "      <th>metric_quantity</th>\n",
       "      <th>new_or_refill</th>\n",
       "    </tr>\n",
       "  </thead>\n",
       "  <tbody>\n",
       "    <tr>\n",
       "      <th>0</th>\n",
       "      <td>AAHLhKW7RYOEQIemWrh/1w==</td>\n",
       "      <td>2018-01-13</td>\n",
       "      <td>60505013400</td>\n",
       "      <td>60.0</td>\n",
       "      <td>CYCLOSPORINE 100 MG CAPS@100 M</td>\n",
       "      <td>60</td>\n",
       "      <td>N</td>\n",
       "    </tr>\n",
       "    <tr>\n",
       "      <th>1</th>\n",
       "      <td>AAHLhKW7RYOEQIemWrh/1w==</td>\n",
       "      <td>2018-01-16</td>\n",
       "      <td>62175013643</td>\n",
       "      <td>90.0</td>\n",
       "      <td>OMEPRAZOLE DR 40 MG CAPS@40 MG</td>\n",
       "      <td>90</td>\n",
       "      <td>N</td>\n",
       "    </tr>\n",
       "    <tr>\n",
       "      <th>2</th>\n",
       "      <td>AAHLhKW7RYOEQIemWrh/1w==</td>\n",
       "      <td>2018-02-06</td>\n",
       "      <td>50742013510</td>\n",
       "      <td>90.0</td>\n",
       "      <td>ALLOPURINOL 100 MG TABLE@100 M</td>\n",
       "      <td>90</td>\n",
       "      <td>N</td>\n",
       "    </tr>\n",
       "  </tbody>\n",
       "</table>\n",
       "</div>"
      ],
      "text/plain": [
       "                  member_id date_filled   ndc_number  days_supply  \\\n",
       "0  AAHLhKW7RYOEQIemWrh/1w==  2018-01-13  60505013400         60.0   \n",
       "1  AAHLhKW7RYOEQIemWrh/1w==  2018-01-16  62175013643         90.0   \n",
       "2  AAHLhKW7RYOEQIemWrh/1w==  2018-02-06  50742013510         90.0   \n",
       "\n",
       "                        drug_name  metric_quantity new_or_refill  \n",
       "0  CYCLOSPORINE 100 MG CAPS@100 M               60             N  \n",
       "1  OMEPRAZOLE DR 40 MG CAPS@40 MG               90             N  \n",
       "2  ALLOPURINOL 100 MG TABLE@100 M               90             N  "
      ]
     },
     "execution_count": 83,
     "metadata": {},
     "output_type": "execute_result"
    }
   ],
   "source": [
    "df5.head(3)"
   ]
  },
  {
   "cell_type": "code",
   "execution_count": 84,
   "metadata": {},
   "outputs": [
    {
     "name": "stdout",
     "output_type": "stream",
     "text": [
      "<class 'pandas.core.frame.DataFrame'>\n",
      "RangeIndex: 1740855 entries, 0 to 1740854\n",
      "Data columns (total 7 columns):\n",
      " #   Column           Non-Null Count    Dtype  \n",
      "---  ------           --------------    -----  \n",
      " 0   member_id        1740855 non-null  object \n",
      " 1   date_filled      1740855 non-null  object \n",
      " 2   ndc_number       1732568 non-null  object \n",
      " 3   days_supply      1720363 non-null  float64\n",
      " 4   drug_name        1738236 non-null  object \n",
      " 5   metric_quantity  1740855 non-null  int64  \n",
      " 6   new_or_refill    1290968 non-null  object \n",
      "dtypes: float64(1), int64(1), object(5)\n",
      "memory usage: 93.0+ MB\n"
     ]
    }
   ],
   "source": [
    "df5.info(verbose=True, null_counts=True)"
   ]
  },
  {
   "cell_type": "code",
   "execution_count": 85,
   "metadata": {},
   "outputs": [
    {
     "data": {
      "text/plain": [
       "member_id          26090\n",
       "date_filled          730\n",
       "ndc_number         15915\n",
       "days_supply          360\n",
       "drug_name          10297\n",
       "metric_quantity      648\n",
       "new_or_refill          2\n",
       "dtype: int64"
      ]
     },
     "execution_count": 85,
     "metadata": {},
     "output_type": "execute_result"
    }
   ],
   "source": [
    "df5.nunique()"
   ]
  },
  {
   "cell_type": "markdown",
   "metadata": {},
   "source": [
    "We convert `date_filled` into datetime dtype. We will also check years of the services to eliminate any year other than 2018 and 2019."
   ]
  },
  {
   "cell_type": "code",
   "execution_count": 86,
   "metadata": {},
   "outputs": [
    {
     "name": "stdout",
     "output_type": "stream",
     "text": [
      "<class 'pandas.core.frame.DataFrame'>\n",
      "RangeIndex: 1740855 entries, 0 to 1740854\n",
      "Data columns (total 7 columns):\n",
      " #   Column           Dtype         \n",
      "---  ------           -----         \n",
      " 0   member_id        object        \n",
      " 1   date_filled      datetime64[ns]\n",
      " 2   ndc_number       object        \n",
      " 3   days_supply      float64       \n",
      " 4   drug_name        object        \n",
      " 5   metric_quantity  int64         \n",
      " 6   new_or_refill    object        \n",
      "dtypes: datetime64[ns](1), float64(1), int64(1), object(4)\n",
      "memory usage: 93.0+ MB\n"
     ]
    }
   ],
   "source": [
    "df5['date_filled']=pd.to_datetime(df5['date_filled'])\n",
    "df5.info() # check the update"
   ]
  },
  {
   "cell_type": "code",
   "execution_count": 87,
   "metadata": {},
   "outputs": [
    {
     "data": {
      "text/plain": [
       "Int64Index([2018, 2019], dtype='int64', name='date_filled')"
      ]
     },
     "execution_count": 87,
     "metadata": {},
     "output_type": "execute_result"
    }
   ],
   "source": [
    "pd.DatetimeIndex(df5['date_filled']).year.unique()"
   ]
  },
  {
   "cell_type": "code",
   "execution_count": 88,
   "metadata": {},
   "outputs": [
    {
     "data": {
      "text/html": [
       "<div>\n",
       "<style scoped>\n",
       "    .dataframe tbody tr th:only-of-type {\n",
       "        vertical-align: middle;\n",
       "    }\n",
       "\n",
       "    .dataframe tbody tr th {\n",
       "        vertical-align: top;\n",
       "    }\n",
       "\n",
       "    .dataframe thead th {\n",
       "        text-align: right;\n",
       "    }\n",
       "</style>\n",
       "<table border=\"1\" class=\"dataframe\">\n",
       "  <thead>\n",
       "    <tr style=\"text-align: right;\">\n",
       "      <th></th>\n",
       "      <th>days_supply</th>\n",
       "      <th>metric_quantity</th>\n",
       "    </tr>\n",
       "  </thead>\n",
       "  <tbody>\n",
       "    <tr>\n",
       "      <th>count</th>\n",
       "      <td>1.720363e+06</td>\n",
       "      <td>1.740855e+06</td>\n",
       "    </tr>\n",
       "    <tr>\n",
       "      <th>mean</th>\n",
       "      <td>5.301320e+01</td>\n",
       "      <td>7.891937e+01</td>\n",
       "    </tr>\n",
       "    <tr>\n",
       "      <th>std</th>\n",
       "      <td>4.598313e+01</td>\n",
       "      <td>1.815798e+02</td>\n",
       "    </tr>\n",
       "    <tr>\n",
       "      <th>min</th>\n",
       "      <td>-5.450000e+02</td>\n",
       "      <td>-7.500000e+03</td>\n",
       "    </tr>\n",
       "    <tr>\n",
       "      <th>25%</th>\n",
       "      <td>2.800000e+01</td>\n",
       "      <td>2.800000e+01</td>\n",
       "    </tr>\n",
       "    <tr>\n",
       "      <th>50%</th>\n",
       "      <td>4.500000e+01</td>\n",
       "      <td>9.000000e+01</td>\n",
       "    </tr>\n",
       "    <tr>\n",
       "      <th>75%</th>\n",
       "      <td>9.000000e+01</td>\n",
       "      <td>9.000000e+01</td>\n",
       "    </tr>\n",
       "    <tr>\n",
       "      <th>max</th>\n",
       "      <td>9.990000e+02</td>\n",
       "      <td>2.430000e+04</td>\n",
       "    </tr>\n",
       "  </tbody>\n",
       "</table>\n",
       "</div>"
      ],
      "text/plain": [
       "        days_supply  metric_quantity\n",
       "count  1.720363e+06     1.740855e+06\n",
       "mean   5.301320e+01     7.891937e+01\n",
       "std    4.598313e+01     1.815798e+02\n",
       "min   -5.450000e+02    -7.500000e+03\n",
       "25%    2.800000e+01     2.800000e+01\n",
       "50%    4.500000e+01     9.000000e+01\n",
       "75%    9.000000e+01     9.000000e+01\n",
       "max    9.990000e+02     2.430000e+04"
      ]
     },
     "execution_count": 88,
     "metadata": {},
     "output_type": "execute_result"
    }
   ],
   "source": [
    "df5.describe()"
   ]
  },
  {
   "cell_type": "code",
   "execution_count": 89,
   "metadata": {},
   "outputs": [
    {
     "data": {
      "text/plain": [
       "gkCu8pm2RKalgzZod7DsMw==    820\n",
       "bLFxKbJ4TriTMvxbMK1wLQ==    657\n",
       "UzDCsdfZRNG3HcQ3H1oJmA==    601\n",
       "3rtr5jzqTHKCkD+Ibb3MTQ==    585\n",
       "tqv0K291SoidlMklCGDYGA==    580\n",
       "                           ... \n",
       "3FxbW6wqRoq1c//b5sqJNQ==      1\n",
       "3LAM+HWMR5qyP2dfFslF/w==      1\n",
       "p7E5nBOtR5iwpmlQ8btfNw==      1\n",
       "xH4cw1GaTP+nRhem4zZ83g==      1\n",
       "ZwI456tWT12l0YRBC1QHZA==      1\n",
       "Name: member_id, Length: 26090, dtype: int64"
      ]
     },
     "execution_count": 89,
     "metadata": {},
     "output_type": "execute_result"
    }
   ],
   "source": [
    "df5['member_id'].value_counts()"
   ]
  },
  {
   "cell_type": "markdown",
   "metadata": {},
   "source": [
    "We will create a column called `drug_quantity_rate` to record `days_supply` divided by `metric_quantity`. This will indicate how much medicine was given to the patient for each medicine prescribed. "
   ]
  },
  {
   "cell_type": "code",
   "execution_count": 90,
   "metadata": {},
   "outputs": [],
   "source": [
    "df5['drug_quantity_rate']=df5['days_supply']/df5['metric_quantity']"
   ]
  },
  {
   "cell_type": "markdown",
   "metadata": {},
   "source": [
    "The column `ndc_number`contains the unique drug id which is sufficient to identify prescribed medicine for each patient. We will drop `drug_name` since it is no longer needed. We will also drop `date_filled` column since we will not consider the dates in our model."
   ]
  },
  {
   "cell_type": "code",
   "execution_count": 91,
   "metadata": {},
   "outputs": [
    {
     "data": {
      "text/html": [
       "<div>\n",
       "<style scoped>\n",
       "    .dataframe tbody tr th:only-of-type {\n",
       "        vertical-align: middle;\n",
       "    }\n",
       "\n",
       "    .dataframe tbody tr th {\n",
       "        vertical-align: top;\n",
       "    }\n",
       "\n",
       "    .dataframe thead th {\n",
       "        text-align: right;\n",
       "    }\n",
       "</style>\n",
       "<table border=\"1\" class=\"dataframe\">\n",
       "  <thead>\n",
       "    <tr style=\"text-align: right;\">\n",
       "      <th></th>\n",
       "      <th>member_id</th>\n",
       "      <th>ndc_number</th>\n",
       "      <th>days_supply</th>\n",
       "      <th>metric_quantity</th>\n",
       "      <th>new_or_refill</th>\n",
       "      <th>drug_quantity_rate</th>\n",
       "    </tr>\n",
       "  </thead>\n",
       "  <tbody>\n",
       "    <tr>\n",
       "      <th>0</th>\n",
       "      <td>AAHLhKW7RYOEQIemWrh/1w==</td>\n",
       "      <td>60505013400</td>\n",
       "      <td>60.0</td>\n",
       "      <td>60</td>\n",
       "      <td>N</td>\n",
       "      <td>1.0</td>\n",
       "    </tr>\n",
       "    <tr>\n",
       "      <th>1</th>\n",
       "      <td>AAHLhKW7RYOEQIemWrh/1w==</td>\n",
       "      <td>62175013643</td>\n",
       "      <td>90.0</td>\n",
       "      <td>90</td>\n",
       "      <td>N</td>\n",
       "      <td>1.0</td>\n",
       "    </tr>\n",
       "    <tr>\n",
       "      <th>2</th>\n",
       "      <td>AAHLhKW7RYOEQIemWrh/1w==</td>\n",
       "      <td>50742013510</td>\n",
       "      <td>90.0</td>\n",
       "      <td>90</td>\n",
       "      <td>N</td>\n",
       "      <td>1.0</td>\n",
       "    </tr>\n",
       "  </tbody>\n",
       "</table>\n",
       "</div>"
      ],
      "text/plain": [
       "                  member_id   ndc_number  days_supply  metric_quantity  \\\n",
       "0  AAHLhKW7RYOEQIemWrh/1w==  60505013400         60.0               60   \n",
       "1  AAHLhKW7RYOEQIemWrh/1w==  62175013643         90.0               90   \n",
       "2  AAHLhKW7RYOEQIemWrh/1w==  50742013510         90.0               90   \n",
       "\n",
       "  new_or_refill  drug_quantity_rate  \n",
       "0             N                 1.0  \n",
       "1             N                 1.0  \n",
       "2             N                 1.0  "
      ]
     },
     "execution_count": 91,
     "metadata": {},
     "output_type": "execute_result"
    }
   ],
   "source": [
    "df5.drop(['drug_name', 'date_filled'], axis=1, inplace=True)\n",
    "df5.head(3) # check the update"
   ]
  },
  {
   "cell_type": "code",
   "execution_count": null,
   "metadata": {},
   "outputs": [],
   "source": []
  },
  {
   "cell_type": "markdown",
   "metadata": {},
   "source": [
    "Last we will drop `days_supply` and `metric_quantity` since we will record the quantity using the column `drug_quantity_rate`."
   ]
  },
  {
   "cell_type": "code",
   "execution_count": 92,
   "metadata": {},
   "outputs": [
    {
     "data": {
      "text/html": [
       "<div>\n",
       "<style scoped>\n",
       "    .dataframe tbody tr th:only-of-type {\n",
       "        vertical-align: middle;\n",
       "    }\n",
       "\n",
       "    .dataframe tbody tr th {\n",
       "        vertical-align: top;\n",
       "    }\n",
       "\n",
       "    .dataframe thead th {\n",
       "        text-align: right;\n",
       "    }\n",
       "</style>\n",
       "<table border=\"1\" class=\"dataframe\">\n",
       "  <thead>\n",
       "    <tr style=\"text-align: right;\">\n",
       "      <th></th>\n",
       "      <th>member_id</th>\n",
       "      <th>ndc_number</th>\n",
       "      <th>new_or_refill</th>\n",
       "      <th>drug_quantity_rate</th>\n",
       "    </tr>\n",
       "  </thead>\n",
       "  <tbody>\n",
       "    <tr>\n",
       "      <th>0</th>\n",
       "      <td>AAHLhKW7RYOEQIemWrh/1w==</td>\n",
       "      <td>60505013400</td>\n",
       "      <td>N</td>\n",
       "      <td>1.0</td>\n",
       "    </tr>\n",
       "    <tr>\n",
       "      <th>1</th>\n",
       "      <td>AAHLhKW7RYOEQIemWrh/1w==</td>\n",
       "      <td>62175013643</td>\n",
       "      <td>N</td>\n",
       "      <td>1.0</td>\n",
       "    </tr>\n",
       "    <tr>\n",
       "      <th>2</th>\n",
       "      <td>AAHLhKW7RYOEQIemWrh/1w==</td>\n",
       "      <td>50742013510</td>\n",
       "      <td>N</td>\n",
       "      <td>1.0</td>\n",
       "    </tr>\n",
       "  </tbody>\n",
       "</table>\n",
       "</div>"
      ],
      "text/plain": [
       "                  member_id   ndc_number new_or_refill  drug_quantity_rate\n",
       "0  AAHLhKW7RYOEQIemWrh/1w==  60505013400             N                 1.0\n",
       "1  AAHLhKW7RYOEQIemWrh/1w==  62175013643             N                 1.0\n",
       "2  AAHLhKW7RYOEQIemWrh/1w==  50742013510             N                 1.0"
      ]
     },
     "execution_count": 92,
     "metadata": {},
     "output_type": "execute_result"
    }
   ],
   "source": [
    "df5.drop(['days_supply', 'metric_quantity'], axis=1, inplace=True)\n",
    "df5.head(3) # check the update"
   ]
  },
  {
   "cell_type": "code",
   "execution_count": 93,
   "metadata": {},
   "outputs": [
    {
     "name": "stdout",
     "output_type": "stream",
     "text": [
      "A file already exists with this name.\n",
      "\n",
      "Do you want to overwrite? (Y/N)Y\n",
      "Writing file.  \"../Outputs/df5_final.csv\"\n"
     ]
    }
   ],
   "source": [
    "# save the data to a new csv file\n",
    "datapath = '../Outputs'\n",
    "save_file(df5, 'df5_final.csv', datapath)"
   ]
  },
  {
   "cell_type": "markdown",
   "metadata": {},
   "source": [
    "### 2.7.6 Train Data<a id='2.7.6_Train_Data'></a>"
   ]
  },
  {
   "cell_type": "code",
   "execution_count": 94,
   "metadata": {},
   "outputs": [
    {
     "data": {
      "text/html": [
       "<div>\n",
       "<style scoped>\n",
       "    .dataframe tbody tr th:only-of-type {\n",
       "        vertical-align: middle;\n",
       "    }\n",
       "\n",
       "    .dataframe tbody tr th {\n",
       "        vertical-align: top;\n",
       "    }\n",
       "\n",
       "    .dataframe thead th {\n",
       "        text-align: right;\n",
       "    }\n",
       "</style>\n",
       "<table border=\"1\" class=\"dataframe\">\n",
       "  <thead>\n",
       "    <tr style=\"text-align: right;\">\n",
       "      <th></th>\n",
       "      <th>member_id</th>\n",
       "      <th>hcc_9</th>\n",
       "      <th>hcc_10</th>\n",
       "      <th>hcc_11</th>\n",
       "      <th>hcc_12</th>\n",
       "      <th>hcc_18</th>\n",
       "      <th>hcc_19</th>\n",
       "      <th>hcc_21</th>\n",
       "      <th>hcc_22</th>\n",
       "      <th>hcc_23</th>\n",
       "      <th>...</th>\n",
       "      <th>hcc_88</th>\n",
       "      <th>hcc_96</th>\n",
       "      <th>hcc_103</th>\n",
       "      <th>hcc_108</th>\n",
       "      <th>hcc_111</th>\n",
       "      <th>hcc_112</th>\n",
       "      <th>hcc_124</th>\n",
       "      <th>hcc_137</th>\n",
       "      <th>hcc_138</th>\n",
       "      <th>hcc_161</th>\n",
       "    </tr>\n",
       "  </thead>\n",
       "  <tbody>\n",
       "    <tr>\n",
       "      <th>0</th>\n",
       "      <td>c5xNoBb+QoCII8LRiNnScg==</td>\n",
       "      <td>0</td>\n",
       "      <td>0</td>\n",
       "      <td>0</td>\n",
       "      <td>0</td>\n",
       "      <td>0</td>\n",
       "      <td>0</td>\n",
       "      <td>0</td>\n",
       "      <td>1</td>\n",
       "      <td>0</td>\n",
       "      <td>...</td>\n",
       "      <td>0</td>\n",
       "      <td>1</td>\n",
       "      <td>0</td>\n",
       "      <td>1</td>\n",
       "      <td>1</td>\n",
       "      <td>0</td>\n",
       "      <td>0</td>\n",
       "      <td>0</td>\n",
       "      <td>1</td>\n",
       "      <td>0</td>\n",
       "    </tr>\n",
       "    <tr>\n",
       "      <th>1</th>\n",
       "      <td>rofIXF8fT9CAAtouT8yPSQ==</td>\n",
       "      <td>0</td>\n",
       "      <td>0</td>\n",
       "      <td>0</td>\n",
       "      <td>0</td>\n",
       "      <td>1</td>\n",
       "      <td>0</td>\n",
       "      <td>0</td>\n",
       "      <td>0</td>\n",
       "      <td>0</td>\n",
       "      <td>...</td>\n",
       "      <td>1</td>\n",
       "      <td>1</td>\n",
       "      <td>0</td>\n",
       "      <td>0</td>\n",
       "      <td>0</td>\n",
       "      <td>0</td>\n",
       "      <td>0</td>\n",
       "      <td>1</td>\n",
       "      <td>1</td>\n",
       "      <td>0</td>\n",
       "    </tr>\n",
       "    <tr>\n",
       "      <th>2</th>\n",
       "      <td>7Rs4fvk6TJG2rYLiXGLFnQ==</td>\n",
       "      <td>0</td>\n",
       "      <td>0</td>\n",
       "      <td>0</td>\n",
       "      <td>1</td>\n",
       "      <td>0</td>\n",
       "      <td>0</td>\n",
       "      <td>0</td>\n",
       "      <td>0</td>\n",
       "      <td>0</td>\n",
       "      <td>...</td>\n",
       "      <td>0</td>\n",
       "      <td>0</td>\n",
       "      <td>0</td>\n",
       "      <td>0</td>\n",
       "      <td>0</td>\n",
       "      <td>0</td>\n",
       "      <td>0</td>\n",
       "      <td>0</td>\n",
       "      <td>0</td>\n",
       "      <td>0</td>\n",
       "    </tr>\n",
       "  </tbody>\n",
       "</table>\n",
       "<p>3 rows × 31 columns</p>\n",
       "</div>"
      ],
      "text/plain": [
       "                  member_id  hcc_9  hcc_10  hcc_11  hcc_12  hcc_18  hcc_19  \\\n",
       "0  c5xNoBb+QoCII8LRiNnScg==      0       0       0       0       0       0   \n",
       "1  rofIXF8fT9CAAtouT8yPSQ==      0       0       0       0       1       0   \n",
       "2  7Rs4fvk6TJG2rYLiXGLFnQ==      0       0       0       1       0       0   \n",
       "\n",
       "   hcc_21  hcc_22  hcc_23  ...  hcc_88  hcc_96  hcc_103  hcc_108  hcc_111  \\\n",
       "0       0       1       0  ...       0       1        0        1        1   \n",
       "1       0       0       0  ...       1       1        0        0        0   \n",
       "2       0       0       0  ...       0       0        0        0        0   \n",
       "\n",
       "   hcc_112  hcc_124  hcc_137  hcc_138  hcc_161  \n",
       "0        0        0        0        1        0  \n",
       "1        0        0        1        1        0  \n",
       "2        0        0        0        0        0  \n",
       "\n",
       "[3 rows x 31 columns]"
      ]
     },
     "execution_count": 94,
     "metadata": {},
     "output_type": "execute_result"
    }
   ],
   "source": [
    "df6.head(3)"
   ]
  },
  {
   "cell_type": "code",
   "execution_count": 95,
   "metadata": {},
   "outputs": [
    {
     "name": "stdout",
     "output_type": "stream",
     "text": [
      "<class 'pandas.core.frame.DataFrame'>\n",
      "RangeIndex: 26559 entries, 0 to 26558\n",
      "Data columns (total 31 columns):\n",
      " #   Column     Non-Null Count  Dtype \n",
      "---  ------     --------------  ----- \n",
      " 0   member_id  26559 non-null  object\n",
      " 1   hcc_9      26559 non-null  int64 \n",
      " 2   hcc_10     26559 non-null  int64 \n",
      " 3   hcc_11     26559 non-null  int64 \n",
      " 4   hcc_12     26559 non-null  int64 \n",
      " 5   hcc_18     26559 non-null  int64 \n",
      " 6   hcc_19     26559 non-null  int64 \n",
      " 7   hcc_21     26559 non-null  int64 \n",
      " 8   hcc_22     26559 non-null  int64 \n",
      " 9   hcc_23     26559 non-null  int64 \n",
      " 10  hcc_40     26559 non-null  int64 \n",
      " 11  hcc_47     26559 non-null  int64 \n",
      " 12  hcc_48     26559 non-null  int64 \n",
      " 13  hcc_51     26559 non-null  int64 \n",
      " 14  hcc_52     26559 non-null  int64 \n",
      " 15  hcc_55     26559 non-null  int64 \n",
      " 16  hcc_59     26559 non-null  int64 \n",
      " 17  hcc_75     26559 non-null  int64 \n",
      " 18  hcc_79     26559 non-null  int64 \n",
      " 19  hcc_84     26559 non-null  int64 \n",
      " 20  hcc_85     26559 non-null  int64 \n",
      " 21  hcc_88     26559 non-null  int64 \n",
      " 22  hcc_96     26559 non-null  int64 \n",
      " 23  hcc_103    26559 non-null  int64 \n",
      " 24  hcc_108    26559 non-null  int64 \n",
      " 25  hcc_111    26559 non-null  int64 \n",
      " 26  hcc_112    26559 non-null  int64 \n",
      " 27  hcc_124    26559 non-null  int64 \n",
      " 28  hcc_137    26559 non-null  int64 \n",
      " 29  hcc_138    26559 non-null  int64 \n",
      " 30  hcc_161    26559 non-null  int64 \n",
      "dtypes: int64(30), object(1)\n",
      "memory usage: 6.3+ MB\n"
     ]
    }
   ],
   "source": [
    "df6.info()"
   ]
  },
  {
   "cell_type": "code",
   "execution_count": 96,
   "metadata": {},
   "outputs": [
    {
     "data": {
      "text/plain": [
       "member_id    26559\n",
       "hcc_9            2\n",
       "hcc_10           2\n",
       "hcc_11           2\n",
       "hcc_12           2\n",
       "hcc_18           2\n",
       "hcc_19           2\n",
       "hcc_21           2\n",
       "hcc_22           2\n",
       "hcc_23           2\n",
       "hcc_40           2\n",
       "hcc_47           2\n",
       "hcc_48           2\n",
       "hcc_51           2\n",
       "hcc_52           2\n",
       "hcc_55           2\n",
       "hcc_59           2\n",
       "hcc_75           2\n",
       "hcc_79           2\n",
       "hcc_84           2\n",
       "hcc_85           2\n",
       "hcc_88           2\n",
       "hcc_96           2\n",
       "hcc_103          2\n",
       "hcc_108          2\n",
       "hcc_111          2\n",
       "hcc_112          2\n",
       "hcc_124          2\n",
       "hcc_137          2\n",
       "hcc_138          2\n",
       "hcc_161          2\n",
       "dtype: int64"
      ]
     },
     "execution_count": 96,
     "metadata": {},
     "output_type": "execute_result"
    }
   ],
   "source": [
    "df6.nunique()"
   ]
  },
  {
   "cell_type": "markdown",
   "metadata": {},
   "source": [
    "### Part B <a id='Part_B'></a> "
   ]
  },
  {
   "cell_type": "markdown",
   "metadata": {},
   "source": [
    "### 2.8 Subset the Data<a id='2.8_Subset_the_Data'></a>"
   ]
  },
  {
   "cell_type": "markdown",
   "metadata": {},
   "source": [
    "* The size of our data is very large. This can cause some issues with the implementations of our algorithms. In this part, we will subset all the dataframes to make sure that we will not run into an issue.\n",
    "\n",
    "* We will filter the data with respect to the patients who have illnesses 'I10' and/or 'I739' or neither. Therefore our goal is to classify patients based on whether they have one, both, or neither of these illnesses. "
   ]
  },
  {
   "cell_type": "markdown",
   "metadata": {},
   "source": [
    "### 2.8.1 Subset Disease Data<a id='2.8.1_Subset_Disease_Data'></a>"
   ]
  },
  {
   "cell_type": "code",
   "execution_count": 97,
   "metadata": {},
   "outputs": [
    {
     "data": {
      "text/plain": [
       "I10        29172\n",
       "I739       18791\n",
       "E1151      18603\n",
       "J449       16953\n",
       "E785       14982\n",
       "           ...  \n",
       "Z965           1\n",
       "E0969          1\n",
       "M84433A        1\n",
       "S52691A        1\n",
       "M80051S        1\n",
       "Name: icd_code, Length: 12951, dtype: int64"
      ]
     },
     "execution_count": 97,
     "metadata": {},
     "output_type": "execute_result"
    }
   ],
   "source": [
    "df2['icd_code'].value_counts()"
   ]
  },
  {
   "cell_type": "code",
   "execution_count": 98,
   "metadata": {},
   "outputs": [
    {
     "data": {
      "text/plain": [
       "member_id               19940\n",
       "icd_code                    1\n",
       "icd_chronic_or_acute        1\n",
       "dtype: int64"
      ]
     },
     "execution_count": 98,
     "metadata": {},
     "output_type": "execute_result"
    }
   ],
   "source": [
    "df2[df2['icd_code']=='I10'].nunique()"
   ]
  },
  {
   "cell_type": "code",
   "execution_count": 99,
   "metadata": {},
   "outputs": [
    {
     "data": {
      "text/plain": [
       "member_id               13404\n",
       "icd_code                    1\n",
       "icd_chronic_or_acute        1\n",
       "dtype: int64"
      ]
     },
     "execution_count": 99,
     "metadata": {},
     "output_type": "execute_result"
    }
   ],
   "source": [
    "df2[df2['icd_code']=='I739'].nunique()"
   ]
  },
  {
   "cell_type": "code",
   "execution_count": 100,
   "metadata": {},
   "outputs": [
    {
     "name": "stdout",
     "output_type": "stream",
     "text": [
      "<class 'pandas.core.frame.DataFrame'>\n",
      "Int64Index: 47963 entries, 0 to 1022148\n",
      "Data columns (total 3 columns):\n",
      " #   Column                Non-Null Count  Dtype \n",
      "---  ------                --------------  ----- \n",
      " 0   member_id             47963 non-null  object\n",
      " 1   icd_code              47963 non-null  object\n",
      " 2   icd_chronic_or_acute  47963 non-null  object\n",
      "dtypes: object(3)\n",
      "memory usage: 1.5+ MB\n"
     ]
    }
   ],
   "source": [
    "df2_I10_I739=df2[(df2['icd_code']=='I10') | (df2['icd_code']=='I739')]\n",
    "df2_I10_I739.info()"
   ]
  },
  {
   "cell_type": "code",
   "execution_count": 101,
   "metadata": {},
   "outputs": [
    {
     "data": {
      "text/html": [
       "<div>\n",
       "<style scoped>\n",
       "    .dataframe tbody tr th:only-of-type {\n",
       "        vertical-align: middle;\n",
       "    }\n",
       "\n",
       "    .dataframe tbody tr th {\n",
       "        vertical-align: top;\n",
       "    }\n",
       "\n",
       "    .dataframe thead th {\n",
       "        text-align: right;\n",
       "    }\n",
       "</style>\n",
       "<table border=\"1\" class=\"dataframe\">\n",
       "  <thead>\n",
       "    <tr style=\"text-align: right;\">\n",
       "      <th></th>\n",
       "      <th>member_id</th>\n",
       "      <th>icd_code</th>\n",
       "      <th>icd_chronic_or_acute</th>\n",
       "    </tr>\n",
       "  </thead>\n",
       "  <tbody>\n",
       "    <tr>\n",
       "      <th>0</th>\n",
       "      <td>AAHLhKW7RYOEQIemWrh/1w==</td>\n",
       "      <td>I739</td>\n",
       "      <td>Chronic</td>\n",
       "    </tr>\n",
       "    <tr>\n",
       "      <th>5</th>\n",
       "      <td>AAHLhKW7RYOEQIemWrh/1w==</td>\n",
       "      <td>I739</td>\n",
       "      <td>Chronic</td>\n",
       "    </tr>\n",
       "    <tr>\n",
       "      <th>36</th>\n",
       "      <td>AAKW/PKhRva+ZS2B4s0AmA==</td>\n",
       "      <td>I10</td>\n",
       "      <td>Unknown</td>\n",
       "    </tr>\n",
       "    <tr>\n",
       "      <th>45</th>\n",
       "      <td>AAKW/PKhRva+ZS2B4s0AmA==</td>\n",
       "      <td>I739</td>\n",
       "      <td>Chronic</td>\n",
       "    </tr>\n",
       "    <tr>\n",
       "      <th>106</th>\n",
       "      <td>AAlNgHwPRw2nNdCnsEKnyA==</td>\n",
       "      <td>I10</td>\n",
       "      <td>Unknown</td>\n",
       "    </tr>\n",
       "  </tbody>\n",
       "</table>\n",
       "</div>"
      ],
      "text/plain": [
       "                    member_id icd_code icd_chronic_or_acute\n",
       "0    AAHLhKW7RYOEQIemWrh/1w==     I739              Chronic\n",
       "5    AAHLhKW7RYOEQIemWrh/1w==     I739              Chronic\n",
       "36   AAKW/PKhRva+ZS2B4s0AmA==      I10              Unknown\n",
       "45   AAKW/PKhRva+ZS2B4s0AmA==     I739              Chronic\n",
       "106  AAlNgHwPRw2nNdCnsEKnyA==      I10              Unknown"
      ]
     },
     "execution_count": 101,
     "metadata": {},
     "output_type": "execute_result"
    }
   ],
   "source": [
    "df2_I10_I739.head()"
   ]
  },
  {
   "cell_type": "code",
   "execution_count": 102,
   "metadata": {},
   "outputs": [
    {
     "data": {
      "text/html": [
       "<div>\n",
       "<style scoped>\n",
       "    .dataframe tbody tr th:only-of-type {\n",
       "        vertical-align: middle;\n",
       "    }\n",
       "\n",
       "    .dataframe tbody tr th {\n",
       "        vertical-align: top;\n",
       "    }\n",
       "\n",
       "    .dataframe thead th {\n",
       "        text-align: right;\n",
       "    }\n",
       "</style>\n",
       "<table border=\"1\" class=\"dataframe\">\n",
       "  <thead>\n",
       "    <tr style=\"text-align: right;\">\n",
       "      <th></th>\n",
       "      <th>member_id</th>\n",
       "      <th>icd_code</th>\n",
       "      <th>icd_chronic_or_acute</th>\n",
       "    </tr>\n",
       "  </thead>\n",
       "  <tbody>\n",
       "    <tr>\n",
       "      <th>1</th>\n",
       "      <td>AAHLhKW7RYOEQIemWrh/1w==</td>\n",
       "      <td>M545</td>\n",
       "      <td>Unknown</td>\n",
       "    </tr>\n",
       "    <tr>\n",
       "      <th>2</th>\n",
       "      <td>AAHLhKW7RYOEQIemWrh/1w==</td>\n",
       "      <td>N183</td>\n",
       "      <td>Chronic</td>\n",
       "    </tr>\n",
       "    <tr>\n",
       "      <th>3</th>\n",
       "      <td>AAHLhKW7RYOEQIemWrh/1w==</td>\n",
       "      <td>E6601</td>\n",
       "      <td>Chronic</td>\n",
       "    </tr>\n",
       "    <tr>\n",
       "      <th>4</th>\n",
       "      <td>AAHLhKW7RYOEQIemWrh/1w==</td>\n",
       "      <td>J8410</td>\n",
       "      <td>Chronic</td>\n",
       "    </tr>\n",
       "    <tr>\n",
       "      <th>6</th>\n",
       "      <td>AAHLhKW7RYOEQIemWrh/1w==</td>\n",
       "      <td>L4050</td>\n",
       "      <td>Chronic</td>\n",
       "    </tr>\n",
       "  </tbody>\n",
       "</table>\n",
       "</div>"
      ],
      "text/plain": [
       "                  member_id icd_code icd_chronic_or_acute\n",
       "1  AAHLhKW7RYOEQIemWrh/1w==     M545              Unknown\n",
       "2  AAHLhKW7RYOEQIemWrh/1w==     N183              Chronic\n",
       "3  AAHLhKW7RYOEQIemWrh/1w==    E6601              Chronic\n",
       "4  AAHLhKW7RYOEQIemWrh/1w==    J8410              Chronic\n",
       "6  AAHLhKW7RYOEQIemWrh/1w==    L4050              Chronic"
      ]
     },
     "execution_count": 102,
     "metadata": {},
     "output_type": "execute_result"
    }
   ],
   "source": [
    "df2_neither_I10_nor_I739=df2[(df2['icd_code']!='I10') & (df2['icd_code']!='I739')]\n",
    "df2_neither_I10_nor_I739.head()"
   ]
  },
  {
   "cell_type": "code",
   "execution_count": null,
   "metadata": {},
   "outputs": [],
   "source": []
  },
  {
   "cell_type": "code",
   "execution_count": 103,
   "metadata": {},
   "outputs": [],
   "source": [
    "df2_I10_I739_subset=df2_I10_I739.sample(n=2000, random_state=12)\n"
   ]
  },
  {
   "cell_type": "code",
   "execution_count": 104,
   "metadata": {},
   "outputs": [
    {
     "data": {
      "text/plain": [
       "member_id               973\n",
       "icd_code                505\n",
       "icd_chronic_or_acute      2\n",
       "dtype: int64"
      ]
     },
     "execution_count": 104,
     "metadata": {},
     "output_type": "execute_result"
    }
   ],
   "source": [
    "df2_neither_I10_nor_I739_subset=df2_neither_I10_nor_I739.sample(n=1000, random_state=24)\n",
    "df2_neither_I10_nor_I739_subset.nunique()"
   ]
  },
  {
   "cell_type": "code",
   "execution_count": 105,
   "metadata": {},
   "outputs": [
    {
     "data": {
      "text/html": [
       "<div>\n",
       "<style scoped>\n",
       "    .dataframe tbody tr th:only-of-type {\n",
       "        vertical-align: middle;\n",
       "    }\n",
       "\n",
       "    .dataframe tbody tr th {\n",
       "        vertical-align: top;\n",
       "    }\n",
       "\n",
       "    .dataframe thead th {\n",
       "        text-align: right;\n",
       "    }\n",
       "</style>\n",
       "<table border=\"1\" class=\"dataframe\">\n",
       "  <thead>\n",
       "    <tr style=\"text-align: right;\">\n",
       "      <th></th>\n",
       "      <th>member_id</th>\n",
       "      <th>icd_code</th>\n",
       "      <th>icd_chronic_or_acute</th>\n",
       "    </tr>\n",
       "  </thead>\n",
       "  <tbody>\n",
       "    <tr>\n",
       "      <th>138401</th>\n",
       "      <td>Ijv6AOBzRkOayI4etpUHNg==</td>\n",
       "      <td>R001</td>\n",
       "      <td>Unknown</td>\n",
       "    </tr>\n",
       "    <tr>\n",
       "      <th>595281</th>\n",
       "      <td>lElruXemQ+GpMN8bO5JFmQ==</td>\n",
       "      <td>I5022</td>\n",
       "      <td>Chronic</td>\n",
       "    </tr>\n",
       "    <tr>\n",
       "      <th>438652</th>\n",
       "      <td>bSd+vF+sQiasYTeTPei1WQ==</td>\n",
       "      <td>E041</td>\n",
       "      <td>Unknown</td>\n",
       "    </tr>\n",
       "    <tr>\n",
       "      <th>162828</th>\n",
       "      <td>KHtFM1ZURCitgf1nBedVQw==</td>\n",
       "      <td>E1151</td>\n",
       "      <td>Chronic</td>\n",
       "    </tr>\n",
       "    <tr>\n",
       "      <th>684767</th>\n",
       "      <td>qn1yWe2iTr2hj2W91DwxLg==</td>\n",
       "      <td>R739</td>\n",
       "      <td>Unknown</td>\n",
       "    </tr>\n",
       "  </tbody>\n",
       "</table>\n",
       "</div>"
      ],
      "text/plain": [
       "                       member_id icd_code icd_chronic_or_acute\n",
       "138401  Ijv6AOBzRkOayI4etpUHNg==     R001              Unknown\n",
       "595281  lElruXemQ+GpMN8bO5JFmQ==    I5022              Chronic\n",
       "438652  bSd+vF+sQiasYTeTPei1WQ==     E041              Unknown\n",
       "162828  KHtFM1ZURCitgf1nBedVQw==    E1151              Chronic\n",
       "684767  qn1yWe2iTr2hj2W91DwxLg==     R739              Unknown"
      ]
     },
     "execution_count": 105,
     "metadata": {},
     "output_type": "execute_result"
    }
   ],
   "source": [
    "df2_neither_I10_nor_I739_subset.head()"
   ]
  },
  {
   "cell_type": "code",
   "execution_count": 106,
   "metadata": {},
   "outputs": [
    {
     "data": {
      "text/html": [
       "<div>\n",
       "<style scoped>\n",
       "    .dataframe tbody tr th:only-of-type {\n",
       "        vertical-align: middle;\n",
       "    }\n",
       "\n",
       "    .dataframe tbody tr th {\n",
       "        vertical-align: top;\n",
       "    }\n",
       "\n",
       "    .dataframe thead th {\n",
       "        text-align: right;\n",
       "    }\n",
       "</style>\n",
       "<table border=\"1\" class=\"dataframe\">\n",
       "  <thead>\n",
       "    <tr style=\"text-align: right;\">\n",
       "      <th></th>\n",
       "      <th>member_id</th>\n",
       "      <th>icd_code</th>\n",
       "      <th>icd_chronic_or_acute</th>\n",
       "    </tr>\n",
       "  </thead>\n",
       "  <tbody>\n",
       "    <tr>\n",
       "      <th>138401</th>\n",
       "      <td>Ijv6AOBzRkOayI4etpUHNg==</td>\n",
       "      <td>neither</td>\n",
       "      <td>Unknown</td>\n",
       "    </tr>\n",
       "    <tr>\n",
       "      <th>595281</th>\n",
       "      <td>lElruXemQ+GpMN8bO5JFmQ==</td>\n",
       "      <td>neither</td>\n",
       "      <td>Chronic</td>\n",
       "    </tr>\n",
       "    <tr>\n",
       "      <th>438652</th>\n",
       "      <td>bSd+vF+sQiasYTeTPei1WQ==</td>\n",
       "      <td>neither</td>\n",
       "      <td>Unknown</td>\n",
       "    </tr>\n",
       "    <tr>\n",
       "      <th>162828</th>\n",
       "      <td>KHtFM1ZURCitgf1nBedVQw==</td>\n",
       "      <td>neither</td>\n",
       "      <td>Chronic</td>\n",
       "    </tr>\n",
       "    <tr>\n",
       "      <th>684767</th>\n",
       "      <td>qn1yWe2iTr2hj2W91DwxLg==</td>\n",
       "      <td>neither</td>\n",
       "      <td>Unknown</td>\n",
       "    </tr>\n",
       "  </tbody>\n",
       "</table>\n",
       "</div>"
      ],
      "text/plain": [
       "                       member_id icd_code icd_chronic_or_acute\n",
       "138401  Ijv6AOBzRkOayI4etpUHNg==  neither              Unknown\n",
       "595281  lElruXemQ+GpMN8bO5JFmQ==  neither              Chronic\n",
       "438652  bSd+vF+sQiasYTeTPei1WQ==  neither              Unknown\n",
       "162828  KHtFM1ZURCitgf1nBedVQw==  neither              Chronic\n",
       "684767  qn1yWe2iTr2hj2W91DwxLg==  neither              Unknown"
      ]
     },
     "execution_count": 106,
     "metadata": {},
     "output_type": "execute_result"
    }
   ],
   "source": [
    "df2_neither_I10_nor_I739_subset['icd_code']='neither'\n",
    "df2_neither_I10_nor_I739_subset.head()"
   ]
  },
  {
   "cell_type": "code",
   "execution_count": 107,
   "metadata": {},
   "outputs": [
    {
     "data": {
      "text/plain": [
       "member_id               2842\n",
       "icd_code                   3\n",
       "icd_chronic_or_acute       2\n",
       "dtype: int64"
      ]
     },
     "execution_count": 107,
     "metadata": {},
     "output_type": "execute_result"
    }
   ],
   "source": [
    "df2_subset=pd.concat([df2_I10_I739_subset,df2_neither_I10_nor_I739_subset ])\n",
    "df2_subset.nunique()"
   ]
  },
  {
   "cell_type": "code",
   "execution_count": 108,
   "metadata": {},
   "outputs": [
    {
     "data": {
      "text/plain": [
       "29"
      ]
     },
     "execution_count": 108,
     "metadata": {},
     "output_type": "execute_result"
    }
   ],
   "source": [
    "a=df2_subset[df2_subset['icd_code']=='I10']['member_id']\n",
    "b=df2_subset[df2_subset['icd_code']=='I739']['member_id']\n",
    "len(set(a).intersection(set(b)))"
   ]
  },
  {
   "cell_type": "code",
   "execution_count": 109,
   "metadata": {},
   "outputs": [
    {
     "data": {
      "text/plain": [
       "I10        1233\n",
       "neither    1000\n",
       "I739        767\n",
       "Name: icd_code, dtype: int64"
      ]
     },
     "execution_count": 109,
     "metadata": {},
     "output_type": "execute_result"
    }
   ],
   "source": [
    "df2_subset['icd_code'].value_counts()"
   ]
  },
  {
   "cell_type": "markdown",
   "metadata": {},
   "source": [
    "### 2.8.2 Subset Admissions Data<a id='2.8.2_Subset_Admissions_Data'></a>"
   ]
  },
  {
   "cell_type": "code",
   "execution_count": 110,
   "metadata": {},
   "outputs": [],
   "source": [
    "df1_subset=df1[df1['member_id'].isin(df2_subset['member_id'])]"
   ]
  },
  {
   "cell_type": "code",
   "execution_count": 111,
   "metadata": {},
   "outputs": [
    {
     "data": {
      "text/plain": [
       "3LEtcGKvR964GbMQrmOtAQ==    41\n",
       "2nPEQV1GRB+Qa0RVvzmvgA==    24\n",
       "Bz9tfw7BRxKLOSNubZ6LZA==    24\n",
       "LyMK/mSlTXS3C1kUqyA0ng==    24\n",
       "ieyPtRprQxu3bqDUTn8GPg==    20\n",
       "                            ..\n",
       "hFuUp9gWSdap66KZDJkw7A==     1\n",
       "WASM0ASgQYOH+DvqFvE5wg==     1\n",
       "TUCuqazwS/6noTFSyXgPIg==     1\n",
       "1wwAFJXHSaae7wOvqU6RuQ==     1\n",
       "dCNookl8R6mDKIogYpAEnw==     1\n",
       "Name: member_id, Length: 1137, dtype: int64"
      ]
     },
     "execution_count": 111,
     "metadata": {},
     "output_type": "execute_result"
    }
   ],
   "source": [
    "df1_subset['member_id'].value_counts()"
   ]
  },
  {
   "cell_type": "markdown",
   "metadata": {},
   "source": [
    "We will remove the member id that shows up 41 times in all dataframes since this is an outlier (see above cell)."
   ]
  },
  {
   "cell_type": "code",
   "execution_count": 112,
   "metadata": {},
   "outputs": [
    {
     "data": {
      "text/plain": [
       "LyMK/mSlTXS3C1kUqyA0ng==    24\n",
       "2nPEQV1GRB+Qa0RVvzmvgA==    24\n",
       "Bz9tfw7BRxKLOSNubZ6LZA==    24\n",
       "ieyPtRprQxu3bqDUTn8GPg==    20\n",
       "E3UDCgfGTzO/1+vKcb12tQ==    18\n",
       "                            ..\n",
       "Ayok9jOETJq8z1VzpBuY7A==     1\n",
       "EmNCXBc3Q8+nQy5KetkMMg==     1\n",
       "EN7I7oktTRWJnOPaFO6xkg==     1\n",
       "9xopV+I8Qci7ZiCz/jGhAw==     1\n",
       "Qdy+MT5nQwitlQK4m+E9Cg==     1\n",
       "Name: member_id, Length: 1136, dtype: int64"
      ]
     },
     "execution_count": 112,
     "metadata": {},
     "output_type": "execute_result"
    }
   ],
   "source": [
    "df1_subset=df1_subset[~(df1_subset['member_id']=='3LEtcGKvR964GbMQrmOtAQ==')]\n",
    "df1_subset['member_id'].value_counts() # check the update"
   ]
  },
  {
   "cell_type": "code",
   "execution_count": 113,
   "metadata": {},
   "outputs": [
    {
     "data": {
      "text/html": [
       "<div>\n",
       "<style scoped>\n",
       "    .dataframe tbody tr th:only-of-type {\n",
       "        vertical-align: middle;\n",
       "    }\n",
       "\n",
       "    .dataframe tbody tr th {\n",
       "        vertical-align: top;\n",
       "    }\n",
       "\n",
       "    .dataframe thead th {\n",
       "        text-align: right;\n",
       "    }\n",
       "</style>\n",
       "<table border=\"1\" class=\"dataframe\">\n",
       "  <thead>\n",
       "    <tr style=\"text-align: right;\">\n",
       "      <th></th>\n",
       "      <th>member_id</th>\n",
       "      <th>icd_code</th>\n",
       "      <th>icd_chronic_or_acute</th>\n",
       "    </tr>\n",
       "  </thead>\n",
       "  <tbody>\n",
       "  </tbody>\n",
       "</table>\n",
       "</div>"
      ],
      "text/plain": [
       "Empty DataFrame\n",
       "Columns: [member_id, icd_code, icd_chronic_or_acute]\n",
       "Index: []"
      ]
     },
     "execution_count": 113,
     "metadata": {},
     "output_type": "execute_result"
    }
   ],
   "source": [
    "df2_subset=df2_subset[~(df2_subset['member_id']=='3LEtcGKvR964GbMQrmOtAQ==')]\n",
    "df2_subset[df2_subset['member_id']=='3LEtcGKvR964GbMQrmOtAQ=='] # check the update"
   ]
  },
  {
   "cell_type": "code",
   "execution_count": 114,
   "metadata": {},
   "outputs": [
    {
     "name": "stdout",
     "output_type": "stream",
     "text": [
      "A file already exists with this name.\n",
      "\n",
      "Do you want to overwrite? (Y/N)Y\n",
      "Writing file.  \"../Outputs/df1_subset.csv\"\n"
     ]
    }
   ],
   "source": [
    "# save the data to a new csv file\n",
    "datapath = '../Outputs'\n",
    "save_file(df1_subset, 'df1_subset.csv', datapath)"
   ]
  },
  {
   "cell_type": "markdown",
   "metadata": {},
   "source": [
    "### 2.8.3 Subset Labs Data<a id='2.8.3_Subset_Labs_Data'></a>"
   ]
  },
  {
   "cell_type": "code",
   "execution_count": 115,
   "metadata": {},
   "outputs": [
    {
     "name": "stdout",
     "output_type": "stream",
     "text": [
      "<class 'pandas.core.frame.DataFrame'>\n",
      "Int64Index: 620077 entries, 531 to 5918611\n",
      "Data columns (total 3 columns):\n",
      " #   Column                 Non-Null Count   Dtype \n",
      "---  ------                 --------------   ----- \n",
      " 0   member_id              620077 non-null  object\n",
      " 1   loinc_code             620077 non-null  object\n",
      " 2   abnormal_code_updated  432566 non-null  object\n",
      "dtypes: object(3)\n",
      "memory usage: 18.9+ MB\n"
     ]
    }
   ],
   "source": [
    "df3_subset=df3[df3['member_id'].isin(df2_subset['member_id'])]\n",
    "df3_subset.info()"
   ]
  },
  {
   "cell_type": "code",
   "execution_count": 116,
   "metadata": {},
   "outputs": [
    {
     "data": {
      "text/plain": [
       "member_id                2290\n",
       "loinc_code               1659\n",
       "abnormal_code_updated       4\n",
       "dtype: int64"
      ]
     },
     "execution_count": 116,
     "metadata": {},
     "output_type": "execute_result"
    }
   ],
   "source": [
    "df3_subset.nunique()"
   ]
  },
  {
   "cell_type": "code",
   "execution_count": 117,
   "metadata": {},
   "outputs": [
    {
     "data": {
      "text/html": [
       "<div>\n",
       "<style scoped>\n",
       "    .dataframe tbody tr th:only-of-type {\n",
       "        vertical-align: middle;\n",
       "    }\n",
       "\n",
       "    .dataframe tbody tr th {\n",
       "        vertical-align: top;\n",
       "    }\n",
       "\n",
       "    .dataframe thead th {\n",
       "        text-align: right;\n",
       "    }\n",
       "</style>\n",
       "<table border=\"1\" class=\"dataframe\">\n",
       "  <thead>\n",
       "    <tr style=\"text-align: right;\">\n",
       "      <th></th>\n",
       "      <th>member_id</th>\n",
       "      <th>loinc_code</th>\n",
       "      <th>abnormal_code_updated</th>\n",
       "    </tr>\n",
       "  </thead>\n",
       "  <tbody>\n",
       "  </tbody>\n",
       "</table>\n",
       "</div>"
      ],
      "text/plain": [
       "Empty DataFrame\n",
       "Columns: [member_id, loinc_code, abnormal_code_updated]\n",
       "Index: []"
      ]
     },
     "execution_count": 117,
     "metadata": {},
     "output_type": "execute_result"
    }
   ],
   "source": [
    "df3_subset=df3_subset[~(df3_subset['member_id']=='3LEtcGKvR964GbMQrmOtAQ==')]\n",
    "df3_subset[df3_subset['member_id']=='3LEtcGKvR964GbMQrmOtAQ=='] # check the update"
   ]
  },
  {
   "cell_type": "markdown",
   "metadata": {},
   "source": [
    "### 2.8.4 Subset Patients Data<a id='2.8.4_Subset_Patients_Data'></a>"
   ]
  },
  {
   "cell_type": "code",
   "execution_count": 118,
   "metadata": {},
   "outputs": [
    {
     "name": "stdout",
     "output_type": "stream",
     "text": [
      "<class 'pandas.core.frame.DataFrame'>\n",
      "Int64Index: 2444 entries, 0 to 26558\n",
      "Data columns (total 9 columns):\n",
      " #   Column             Non-Null Count  Dtype \n",
      "---  ------             --------------  ----- \n",
      " 0   member_id          2444 non-null   object\n",
      " 1   age                2444 non-null   int64 \n",
      " 2   sex                2444 non-null   object\n",
      " 3   dual_status        2444 non-null   object\n",
      " 4   insurance_company  2444 non-null   object\n",
      " 5   insurance_type     2444 non-null   object\n",
      " 6   pbp_type           2444 non-null   object\n",
      " 7   county             2444 non-null   object\n",
      " 8   city               2444 non-null   object\n",
      "dtypes: int64(1), object(8)\n",
      "memory usage: 190.9+ KB\n"
     ]
    }
   ],
   "source": [
    "df4_subset=df4[df4['member_id'].isin(df2_subset['member_id'])]\n",
    "df4_subset.info()"
   ]
  },
  {
   "cell_type": "code",
   "execution_count": 119,
   "metadata": {},
   "outputs": [
    {
     "data": {
      "text/html": [
       "<div>\n",
       "<style scoped>\n",
       "    .dataframe tbody tr th:only-of-type {\n",
       "        vertical-align: middle;\n",
       "    }\n",
       "\n",
       "    .dataframe tbody tr th {\n",
       "        vertical-align: top;\n",
       "    }\n",
       "\n",
       "    .dataframe thead th {\n",
       "        text-align: right;\n",
       "    }\n",
       "</style>\n",
       "<table border=\"1\" class=\"dataframe\">\n",
       "  <thead>\n",
       "    <tr style=\"text-align: right;\">\n",
       "      <th></th>\n",
       "      <th>member_id</th>\n",
       "      <th>age</th>\n",
       "      <th>sex</th>\n",
       "      <th>dual_status</th>\n",
       "      <th>insurance_company</th>\n",
       "      <th>insurance_type</th>\n",
       "      <th>pbp_type</th>\n",
       "      <th>county</th>\n",
       "      <th>city</th>\n",
       "    </tr>\n",
       "  </thead>\n",
       "  <tbody>\n",
       "  </tbody>\n",
       "</table>\n",
       "</div>"
      ],
      "text/plain": [
       "Empty DataFrame\n",
       "Columns: [member_id, age, sex, dual_status, insurance_company, insurance_type, pbp_type, county, city]\n",
       "Index: []"
      ]
     },
     "execution_count": 119,
     "metadata": {},
     "output_type": "execute_result"
    }
   ],
   "source": [
    "df4_subset=df4_subset[~(df4_subset['member_id']=='3LEtcGKvR964GbMQrmOtAQ==')]\n",
    "df4_subset[df4_subset['member_id']=='3LEtcGKvR964GbMQrmOtAQ=='] # check the update"
   ]
  },
  {
   "cell_type": "markdown",
   "metadata": {},
   "source": [
    "### 2.8.5 Subset Prescriptions Data<a id='2.8.5_Subset_Prescriptions_Data'></a>"
   ]
  },
  {
   "cell_type": "code",
   "execution_count": 120,
   "metadata": {},
   "outputs": [
    {
     "name": "stdout",
     "output_type": "stream",
     "text": [
      "<class 'pandas.core.frame.DataFrame'>\n",
      "Int64Index: 179827 entries, 0 to 1740854\n",
      "Data columns (total 4 columns):\n",
      " #   Column              Non-Null Count   Dtype  \n",
      "---  ------              --------------   -----  \n",
      " 0   member_id           179827 non-null  object \n",
      " 1   ndc_number          179423 non-null  object \n",
      " 2   new_or_refill       139794 non-null  object \n",
      " 3   drug_quantity_rate  168040 non-null  float64\n",
      "dtypes: float64(1), object(3)\n",
      "memory usage: 6.9+ MB\n"
     ]
    }
   ],
   "source": [
    "df5_subset=df5[df5['member_id'].isin(df2_subset['member_id'])]\n",
    "df5_subset.info()"
   ]
  },
  {
   "cell_type": "code",
   "execution_count": 121,
   "metadata": {},
   "outputs": [
    {
     "data": {
      "text/plain": [
       "member_id             2410\n",
       "ndc_number            7483\n",
       "new_or_refill            2\n",
       "drug_quantity_rate    1074\n",
       "dtype: int64"
      ]
     },
     "execution_count": 121,
     "metadata": {},
     "output_type": "execute_result"
    }
   ],
   "source": [
    "df5_subset.nunique()"
   ]
  },
  {
   "cell_type": "code",
   "execution_count": 122,
   "metadata": {},
   "outputs": [
    {
     "data": {
      "text/html": [
       "<div>\n",
       "<style scoped>\n",
       "    .dataframe tbody tr th:only-of-type {\n",
       "        vertical-align: middle;\n",
       "    }\n",
       "\n",
       "    .dataframe tbody tr th {\n",
       "        vertical-align: top;\n",
       "    }\n",
       "\n",
       "    .dataframe thead th {\n",
       "        text-align: right;\n",
       "    }\n",
       "</style>\n",
       "<table border=\"1\" class=\"dataframe\">\n",
       "  <thead>\n",
       "    <tr style=\"text-align: right;\">\n",
       "      <th></th>\n",
       "      <th>member_id</th>\n",
       "      <th>ndc_number</th>\n",
       "      <th>new_or_refill</th>\n",
       "      <th>drug_quantity_rate</th>\n",
       "    </tr>\n",
       "  </thead>\n",
       "  <tbody>\n",
       "  </tbody>\n",
       "</table>\n",
       "</div>"
      ],
      "text/plain": [
       "Empty DataFrame\n",
       "Columns: [member_id, ndc_number, new_or_refill, drug_quantity_rate]\n",
       "Index: []"
      ]
     },
     "execution_count": 122,
     "metadata": {},
     "output_type": "execute_result"
    }
   ],
   "source": [
    "df5_subset=df5_subset[~(df5_subset['member_id']=='3LEtcGKvR964GbMQrmOtAQ==')]\n",
    "df5_subset[df5_subset['member_id']=='3LEtcGKvR964GbMQrmOtAQ=='] # check the update"
   ]
  },
  {
   "cell_type": "markdown",
   "metadata": {},
   "source": [
    "### 2.9 One Record per Member Id<a id='2.9_One_Record_per_Member_Id'></a>"
   ]
  },
  {
   "cell_type": "markdown",
   "metadata": {},
   "source": [
    "In this section we will convert each dataframe into a new dataframe where we have exactly one record per patient/member id. "
   ]
  },
  {
   "cell_type": "markdown",
   "metadata": {},
   "source": [
    "### 2.9.1 Admissions Data Converted<a id='2.9.1_Admissions_Data'></a>"
   ]
  },
  {
   "cell_type": "code",
   "execution_count": 123,
   "metadata": {},
   "outputs": [
    {
     "data": {
      "text/html": [
       "<div>\n",
       "<style scoped>\n",
       "    .dataframe tbody tr th:only-of-type {\n",
       "        vertical-align: middle;\n",
       "    }\n",
       "\n",
       "    .dataframe tbody tr th {\n",
       "        vertical-align: top;\n",
       "    }\n",
       "\n",
       "    .dataframe thead th {\n",
       "        text-align: right;\n",
       "    }\n",
       "</style>\n",
       "<table border=\"1\" class=\"dataframe\">\n",
       "  <thead>\n",
       "    <tr style=\"text-align: right;\">\n",
       "      <th></th>\n",
       "      <th>member_id</th>\n",
       "      <th>admission_type</th>\n",
       "      <th>is_readmission</th>\n",
       "      <th>er_to_inp_admission_transfer</th>\n",
       "      <th>days_to_prev_admission</th>\n",
       "      <th>visit_duration</th>\n",
       "      <th>visit_duration_updated</th>\n",
       "      <th>nth_visit</th>\n",
       "    </tr>\n",
       "  </thead>\n",
       "  <tbody>\n",
       "    <tr>\n",
       "      <th>17</th>\n",
       "      <td>ADD7uXD9TBOUjJD43H3tNw==</td>\n",
       "      <td>ER</td>\n",
       "      <td>No</td>\n",
       "      <td>N</td>\n",
       "      <td>NaN</td>\n",
       "      <td>0</td>\n",
       "      <td>1</td>\n",
       "      <td>1</td>\n",
       "    </tr>\n",
       "    <tr>\n",
       "      <th>18</th>\n",
       "      <td>ADD7uXD9TBOUjJD43H3tNw==</td>\n",
       "      <td>ER</td>\n",
       "      <td>No</td>\n",
       "      <td>N</td>\n",
       "      <td>45.0</td>\n",
       "      <td>0</td>\n",
       "      <td>1</td>\n",
       "      <td>2</td>\n",
       "    </tr>\n",
       "    <tr>\n",
       "      <th>19</th>\n",
       "      <td>ADD7uXD9TBOUjJD43H3tNw==</td>\n",
       "      <td>ER</td>\n",
       "      <td>No</td>\n",
       "      <td>N</td>\n",
       "      <td>47.0</td>\n",
       "      <td>0</td>\n",
       "      <td>1</td>\n",
       "      <td>3</td>\n",
       "    </tr>\n",
       "    <tr>\n",
       "      <th>53</th>\n",
       "      <td>AH8v69t8QBW1u2Iuh/5qlQ==</td>\n",
       "      <td>ER</td>\n",
       "      <td>No</td>\n",
       "      <td>Y</td>\n",
       "      <td>NaN</td>\n",
       "      <td>0</td>\n",
       "      <td>1</td>\n",
       "      <td>1</td>\n",
       "    </tr>\n",
       "    <tr>\n",
       "      <th>54</th>\n",
       "      <td>AH8v69t8QBW1u2Iuh/5qlQ==</td>\n",
       "      <td>INP</td>\n",
       "      <td>Yes</td>\n",
       "      <td>Y</td>\n",
       "      <td>NaN</td>\n",
       "      <td>0</td>\n",
       "      <td>1</td>\n",
       "      <td>2</td>\n",
       "    </tr>\n",
       "    <tr>\n",
       "      <th>55</th>\n",
       "      <td>AIEq/y06TGOCCjwkDzmaeA==</td>\n",
       "      <td>INP</td>\n",
       "      <td>Yes</td>\n",
       "      <td>Y</td>\n",
       "      <td>NaN</td>\n",
       "      <td>2</td>\n",
       "      <td>3</td>\n",
       "      <td>1</td>\n",
       "    </tr>\n",
       "    <tr>\n",
       "      <th>56</th>\n",
       "      <td>AIEq/y06TGOCCjwkDzmaeA==</td>\n",
       "      <td>ER</td>\n",
       "      <td>Yes</td>\n",
       "      <td>Y</td>\n",
       "      <td>NaN</td>\n",
       "      <td>2</td>\n",
       "      <td>3</td>\n",
       "      <td>2</td>\n",
       "    </tr>\n",
       "    <tr>\n",
       "      <th>57</th>\n",
       "      <td>AIEq/y06TGOCCjwkDzmaeA==</td>\n",
       "      <td>INP</td>\n",
       "      <td>No</td>\n",
       "      <td>N</td>\n",
       "      <td>NaN</td>\n",
       "      <td>2</td>\n",
       "      <td>3</td>\n",
       "      <td>3</td>\n",
       "    </tr>\n",
       "    <tr>\n",
       "      <th>58</th>\n",
       "      <td>AInQlUfTRjSpklIOiuCifg==</td>\n",
       "      <td>ER</td>\n",
       "      <td>No</td>\n",
       "      <td>N</td>\n",
       "      <td>NaN</td>\n",
       "      <td>0</td>\n",
       "      <td>1</td>\n",
       "      <td>1</td>\n",
       "    </tr>\n",
       "    <tr>\n",
       "      <th>64</th>\n",
       "      <td>AK/yuahPR3Gx6dUrPtptzw==</td>\n",
       "      <td>OUT</td>\n",
       "      <td>No</td>\n",
       "      <td>N</td>\n",
       "      <td>NaN</td>\n",
       "      <td>0</td>\n",
       "      <td>1</td>\n",
       "      <td>1</td>\n",
       "    </tr>\n",
       "  </tbody>\n",
       "</table>\n",
       "</div>"
      ],
      "text/plain": [
       "                   member_id admission_type is_readmission  \\\n",
       "17  ADD7uXD9TBOUjJD43H3tNw==             ER             No   \n",
       "18  ADD7uXD9TBOUjJD43H3tNw==             ER             No   \n",
       "19  ADD7uXD9TBOUjJD43H3tNw==             ER             No   \n",
       "53  AH8v69t8QBW1u2Iuh/5qlQ==             ER             No   \n",
       "54  AH8v69t8QBW1u2Iuh/5qlQ==            INP            Yes   \n",
       "55  AIEq/y06TGOCCjwkDzmaeA==            INP            Yes   \n",
       "56  AIEq/y06TGOCCjwkDzmaeA==             ER            Yes   \n",
       "57  AIEq/y06TGOCCjwkDzmaeA==            INP             No   \n",
       "58  AInQlUfTRjSpklIOiuCifg==             ER             No   \n",
       "64  AK/yuahPR3Gx6dUrPtptzw==            OUT             No   \n",
       "\n",
       "   er_to_inp_admission_transfer  days_to_prev_admission  visit_duration  \\\n",
       "17                            N                     NaN               0   \n",
       "18                            N                    45.0               0   \n",
       "19                            N                    47.0               0   \n",
       "53                            Y                     NaN               0   \n",
       "54                            Y                     NaN               0   \n",
       "55                            Y                     NaN               2   \n",
       "56                            Y                     NaN               2   \n",
       "57                            N                     NaN               2   \n",
       "58                            N                     NaN               0   \n",
       "64                            N                     NaN               0   \n",
       "\n",
       "    visit_duration_updated  nth_visit  \n",
       "17                       1          1  \n",
       "18                       1          2  \n",
       "19                       1          3  \n",
       "53                       1          1  \n",
       "54                       1          2  \n",
       "55                       3          1  \n",
       "56                       3          2  \n",
       "57                       3          3  \n",
       "58                       1          1  \n",
       "64                       1          1  "
      ]
     },
     "execution_count": 123,
     "metadata": {},
     "output_type": "execute_result"
    }
   ],
   "source": [
    "df1_subset.head(10)"
   ]
  },
  {
   "cell_type": "markdown",
   "metadata": {},
   "source": [
    "To have one row per patient we will use two functions that we wrote; `df1_one_record_per_member_id()` and `fill_df1_res()`, see the auxiliary_functions.ipynb.  We consider each visit without any aggregation. The maximum number of visits among all patients is 24 (see below). \n",
    "\n",
    " * We will create 24 columms called `v1`, `v2`, ..., `v_24` where we keep the records whether the patient had a visit or not. For instance, a patient with only 5 visits will have 1 for all columns `v1` through `v5` and nulls in all other columns `v6` through`v_24`. \n",
    "\n",
    "* We will also have the columns `vi_re_adm`, `vi_er_to_inp`, `vi_days_to_prev`, `vi_len`, `vi_len_pos`, `vi_ER`,..., `vi_INP REHAB` for each i=1,2,...,24 to include all the information for ith visit.  \n",
    " "
   ]
  },
  {
   "cell_type": "code",
   "execution_count": 124,
   "metadata": {},
   "outputs": [],
   "source": [
    "df1_res=df1_one_record_per_member_id(df1_subset)"
   ]
  },
  {
   "cell_type": "code",
   "execution_count": 125,
   "metadata": {},
   "outputs": [
    {
     "data": {
      "text/html": [
       "<div>\n",
       "<style scoped>\n",
       "    .dataframe tbody tr th:only-of-type {\n",
       "        vertical-align: middle;\n",
       "    }\n",
       "\n",
       "    .dataframe tbody tr th {\n",
       "        vertical-align: top;\n",
       "    }\n",
       "\n",
       "    .dataframe thead th {\n",
       "        text-align: right;\n",
       "    }\n",
       "</style>\n",
       "<table border=\"1\" class=\"dataframe\">\n",
       "  <thead>\n",
       "    <tr style=\"text-align: right;\">\n",
       "      <th></th>\n",
       "      <th>member_id</th>\n",
       "      <th>num_of_visit</th>\n",
       "      <th>v1</th>\n",
       "      <th>v1_re_adm</th>\n",
       "      <th>v1_er_to_inp</th>\n",
       "      <th>v1_days_to_prev</th>\n",
       "      <th>v1_len</th>\n",
       "      <th>v1_len_pos</th>\n",
       "      <th>v1_ER</th>\n",
       "      <th>v1_INP</th>\n",
       "      <th>...</th>\n",
       "      <th>v24_len</th>\n",
       "      <th>v24_len_pos</th>\n",
       "      <th>v24_ER</th>\n",
       "      <th>v24_INP</th>\n",
       "      <th>v24_OUT</th>\n",
       "      <th>v24_OTH</th>\n",
       "      <th>v24_OBS</th>\n",
       "      <th>v24_SNF</th>\n",
       "      <th>v24_INP REHAB</th>\n",
       "      <th>v24_HOSPICE</th>\n",
       "    </tr>\n",
       "  </thead>\n",
       "  <tbody>\n",
       "    <tr>\n",
       "      <th>0</th>\n",
       "      <td>ADD7uXD9TBOUjJD43H3tNw==</td>\n",
       "      <td>0</td>\n",
       "      <td>0</td>\n",
       "      <td>0</td>\n",
       "      <td>0</td>\n",
       "      <td>0</td>\n",
       "      <td>0</td>\n",
       "      <td>0</td>\n",
       "      <td>0</td>\n",
       "      <td>0</td>\n",
       "      <td>...</td>\n",
       "      <td>0</td>\n",
       "      <td>0</td>\n",
       "      <td>0</td>\n",
       "      <td>0</td>\n",
       "      <td>0</td>\n",
       "      <td>0</td>\n",
       "      <td>0</td>\n",
       "      <td>0</td>\n",
       "      <td>0</td>\n",
       "      <td>0</td>\n",
       "    </tr>\n",
       "    <tr>\n",
       "      <th>1</th>\n",
       "      <td>AH8v69t8QBW1u2Iuh/5qlQ==</td>\n",
       "      <td>0</td>\n",
       "      <td>0</td>\n",
       "      <td>0</td>\n",
       "      <td>0</td>\n",
       "      <td>0</td>\n",
       "      <td>0</td>\n",
       "      <td>0</td>\n",
       "      <td>0</td>\n",
       "      <td>0</td>\n",
       "      <td>...</td>\n",
       "      <td>0</td>\n",
       "      <td>0</td>\n",
       "      <td>0</td>\n",
       "      <td>0</td>\n",
       "      <td>0</td>\n",
       "      <td>0</td>\n",
       "      <td>0</td>\n",
       "      <td>0</td>\n",
       "      <td>0</td>\n",
       "      <td>0</td>\n",
       "    </tr>\n",
       "    <tr>\n",
       "      <th>2</th>\n",
       "      <td>AIEq/y06TGOCCjwkDzmaeA==</td>\n",
       "      <td>0</td>\n",
       "      <td>0</td>\n",
       "      <td>0</td>\n",
       "      <td>0</td>\n",
       "      <td>0</td>\n",
       "      <td>0</td>\n",
       "      <td>0</td>\n",
       "      <td>0</td>\n",
       "      <td>0</td>\n",
       "      <td>...</td>\n",
       "      <td>0</td>\n",
       "      <td>0</td>\n",
       "      <td>0</td>\n",
       "      <td>0</td>\n",
       "      <td>0</td>\n",
       "      <td>0</td>\n",
       "      <td>0</td>\n",
       "      <td>0</td>\n",
       "      <td>0</td>\n",
       "      <td>0</td>\n",
       "    </tr>\n",
       "    <tr>\n",
       "      <th>3</th>\n",
       "      <td>AInQlUfTRjSpklIOiuCifg==</td>\n",
       "      <td>0</td>\n",
       "      <td>0</td>\n",
       "      <td>0</td>\n",
       "      <td>0</td>\n",
       "      <td>0</td>\n",
       "      <td>0</td>\n",
       "      <td>0</td>\n",
       "      <td>0</td>\n",
       "      <td>0</td>\n",
       "      <td>...</td>\n",
       "      <td>0</td>\n",
       "      <td>0</td>\n",
       "      <td>0</td>\n",
       "      <td>0</td>\n",
       "      <td>0</td>\n",
       "      <td>0</td>\n",
       "      <td>0</td>\n",
       "      <td>0</td>\n",
       "      <td>0</td>\n",
       "      <td>0</td>\n",
       "    </tr>\n",
       "    <tr>\n",
       "      <th>4</th>\n",
       "      <td>AK/yuahPR3Gx6dUrPtptzw==</td>\n",
       "      <td>0</td>\n",
       "      <td>0</td>\n",
       "      <td>0</td>\n",
       "      <td>0</td>\n",
       "      <td>0</td>\n",
       "      <td>0</td>\n",
       "      <td>0</td>\n",
       "      <td>0</td>\n",
       "      <td>0</td>\n",
       "      <td>...</td>\n",
       "      <td>0</td>\n",
       "      <td>0</td>\n",
       "      <td>0</td>\n",
       "      <td>0</td>\n",
       "      <td>0</td>\n",
       "      <td>0</td>\n",
       "      <td>0</td>\n",
       "      <td>0</td>\n",
       "      <td>0</td>\n",
       "      <td>0</td>\n",
       "    </tr>\n",
       "  </tbody>\n",
       "</table>\n",
       "<p>5 rows × 338 columns</p>\n",
       "</div>"
      ],
      "text/plain": [
       "                  member_id  num_of_visit  v1  v1_re_adm  v1_er_to_inp  \\\n",
       "0  ADD7uXD9TBOUjJD43H3tNw==             0   0          0             0   \n",
       "1  AH8v69t8QBW1u2Iuh/5qlQ==             0   0          0             0   \n",
       "2  AIEq/y06TGOCCjwkDzmaeA==             0   0          0             0   \n",
       "3  AInQlUfTRjSpklIOiuCifg==             0   0          0             0   \n",
       "4  AK/yuahPR3Gx6dUrPtptzw==             0   0          0             0   \n",
       "\n",
       "   v1_days_to_prev  v1_len  v1_len_pos  v1_ER  v1_INP  ...  v24_len  \\\n",
       "0                0       0           0      0       0  ...        0   \n",
       "1                0       0           0      0       0  ...        0   \n",
       "2                0       0           0      0       0  ...        0   \n",
       "3                0       0           0      0       0  ...        0   \n",
       "4                0       0           0      0       0  ...        0   \n",
       "\n",
       "   v24_len_pos  v24_ER  v24_INP  v24_OUT  v24_OTH  v24_OBS  v24_SNF  \\\n",
       "0            0       0        0        0        0        0        0   \n",
       "1            0       0        0        0        0        0        0   \n",
       "2            0       0        0        0        0        0        0   \n",
       "3            0       0        0        0        0        0        0   \n",
       "4            0       0        0        0        0        0        0   \n",
       "\n",
       "   v24_INP REHAB  v24_HOSPICE  \n",
       "0              0            0  \n",
       "1              0            0  \n",
       "2              0            0  \n",
       "3              0            0  \n",
       "4              0            0  \n",
       "\n",
       "[5 rows x 338 columns]"
      ]
     },
     "execution_count": 125,
     "metadata": {},
     "output_type": "execute_result"
    }
   ],
   "source": [
    "df1_res.head()"
   ]
  },
  {
   "cell_type": "markdown",
   "metadata": {},
   "source": [
    "Now we will fill 'df1_res' accordingly using the function 'fill_df1_res()'."
   ]
  },
  {
   "cell_type": "code",
   "execution_count": 126,
   "metadata": {},
   "outputs": [],
   "source": [
    "df1_res=fill_df1_res(df1_res, df1_subset)"
   ]
  },
  {
   "cell_type": "code",
   "execution_count": 127,
   "metadata": {},
   "outputs": [
    {
     "data": {
      "text/html": [
       "<div>\n",
       "<style scoped>\n",
       "    .dataframe tbody tr th:only-of-type {\n",
       "        vertical-align: middle;\n",
       "    }\n",
       "\n",
       "    .dataframe tbody tr th {\n",
       "        vertical-align: top;\n",
       "    }\n",
       "\n",
       "    .dataframe thead th {\n",
       "        text-align: right;\n",
       "    }\n",
       "</style>\n",
       "<table border=\"1\" class=\"dataframe\">\n",
       "  <thead>\n",
       "    <tr style=\"text-align: right;\">\n",
       "      <th></th>\n",
       "      <th>member_id</th>\n",
       "      <th>num_of_visit</th>\n",
       "      <th>v1</th>\n",
       "      <th>v1_re_adm</th>\n",
       "      <th>v1_er_to_inp</th>\n",
       "      <th>v1_days_to_prev</th>\n",
       "      <th>v1_len</th>\n",
       "      <th>v1_len_pos</th>\n",
       "      <th>v1_ER</th>\n",
       "      <th>v1_INP</th>\n",
       "      <th>...</th>\n",
       "      <th>v24_len</th>\n",
       "      <th>v24_len_pos</th>\n",
       "      <th>v24_ER</th>\n",
       "      <th>v24_INP</th>\n",
       "      <th>v24_OUT</th>\n",
       "      <th>v24_OTH</th>\n",
       "      <th>v24_OBS</th>\n",
       "      <th>v24_SNF</th>\n",
       "      <th>v24_INP REHAB</th>\n",
       "      <th>v24_HOSPICE</th>\n",
       "    </tr>\n",
       "  </thead>\n",
       "  <tbody>\n",
       "    <tr>\n",
       "      <th>0</th>\n",
       "      <td>ADD7uXD9TBOUjJD43H3tNw==</td>\n",
       "      <td>3</td>\n",
       "      <td>1</td>\n",
       "      <td>0</td>\n",
       "      <td>0</td>\n",
       "      <td>NaN</td>\n",
       "      <td>0</td>\n",
       "      <td>1</td>\n",
       "      <td>1</td>\n",
       "      <td>0</td>\n",
       "      <td>...</td>\n",
       "      <td>0</td>\n",
       "      <td>0</td>\n",
       "      <td>0</td>\n",
       "      <td>0</td>\n",
       "      <td>0</td>\n",
       "      <td>0</td>\n",
       "      <td>0</td>\n",
       "      <td>0</td>\n",
       "      <td>0</td>\n",
       "      <td>0</td>\n",
       "    </tr>\n",
       "    <tr>\n",
       "      <th>1</th>\n",
       "      <td>AH8v69t8QBW1u2Iuh/5qlQ==</td>\n",
       "      <td>2</td>\n",
       "      <td>1</td>\n",
       "      <td>0</td>\n",
       "      <td>1</td>\n",
       "      <td>NaN</td>\n",
       "      <td>0</td>\n",
       "      <td>1</td>\n",
       "      <td>1</td>\n",
       "      <td>0</td>\n",
       "      <td>...</td>\n",
       "      <td>0</td>\n",
       "      <td>0</td>\n",
       "      <td>0</td>\n",
       "      <td>0</td>\n",
       "      <td>0</td>\n",
       "      <td>0</td>\n",
       "      <td>0</td>\n",
       "      <td>0</td>\n",
       "      <td>0</td>\n",
       "      <td>0</td>\n",
       "    </tr>\n",
       "    <tr>\n",
       "      <th>2</th>\n",
       "      <td>AIEq/y06TGOCCjwkDzmaeA==</td>\n",
       "      <td>3</td>\n",
       "      <td>1</td>\n",
       "      <td>1</td>\n",
       "      <td>1</td>\n",
       "      <td>NaN</td>\n",
       "      <td>2</td>\n",
       "      <td>3</td>\n",
       "      <td>0</td>\n",
       "      <td>1</td>\n",
       "      <td>...</td>\n",
       "      <td>0</td>\n",
       "      <td>0</td>\n",
       "      <td>0</td>\n",
       "      <td>0</td>\n",
       "      <td>0</td>\n",
       "      <td>0</td>\n",
       "      <td>0</td>\n",
       "      <td>0</td>\n",
       "      <td>0</td>\n",
       "      <td>0</td>\n",
       "    </tr>\n",
       "    <tr>\n",
       "      <th>3</th>\n",
       "      <td>AInQlUfTRjSpklIOiuCifg==</td>\n",
       "      <td>1</td>\n",
       "      <td>1</td>\n",
       "      <td>0</td>\n",
       "      <td>0</td>\n",
       "      <td>NaN</td>\n",
       "      <td>0</td>\n",
       "      <td>1</td>\n",
       "      <td>1</td>\n",
       "      <td>0</td>\n",
       "      <td>...</td>\n",
       "      <td>0</td>\n",
       "      <td>0</td>\n",
       "      <td>0</td>\n",
       "      <td>0</td>\n",
       "      <td>0</td>\n",
       "      <td>0</td>\n",
       "      <td>0</td>\n",
       "      <td>0</td>\n",
       "      <td>0</td>\n",
       "      <td>0</td>\n",
       "    </tr>\n",
       "    <tr>\n",
       "      <th>4</th>\n",
       "      <td>AK/yuahPR3Gx6dUrPtptzw==</td>\n",
       "      <td>8</td>\n",
       "      <td>1</td>\n",
       "      <td>0</td>\n",
       "      <td>0</td>\n",
       "      <td>NaN</td>\n",
       "      <td>0</td>\n",
       "      <td>1</td>\n",
       "      <td>0</td>\n",
       "      <td>0</td>\n",
       "      <td>...</td>\n",
       "      <td>0</td>\n",
       "      <td>0</td>\n",
       "      <td>0</td>\n",
       "      <td>0</td>\n",
       "      <td>0</td>\n",
       "      <td>0</td>\n",
       "      <td>0</td>\n",
       "      <td>0</td>\n",
       "      <td>0</td>\n",
       "      <td>0</td>\n",
       "    </tr>\n",
       "  </tbody>\n",
       "</table>\n",
       "<p>5 rows × 338 columns</p>\n",
       "</div>"
      ],
      "text/plain": [
       "                  member_id  num_of_visit  v1  v1_re_adm  v1_er_to_inp  \\\n",
       "0  ADD7uXD9TBOUjJD43H3tNw==             3   1          0             0   \n",
       "1  AH8v69t8QBW1u2Iuh/5qlQ==             2   1          0             1   \n",
       "2  AIEq/y06TGOCCjwkDzmaeA==             3   1          1             1   \n",
       "3  AInQlUfTRjSpklIOiuCifg==             1   1          0             0   \n",
       "4  AK/yuahPR3Gx6dUrPtptzw==             8   1          0             0   \n",
       "\n",
       "   v1_days_to_prev  v1_len  v1_len_pos  v1_ER  v1_INP  ...  v24_len  \\\n",
       "0              NaN       0           1      1       0  ...        0   \n",
       "1              NaN       0           1      1       0  ...        0   \n",
       "2              NaN       2           3      0       1  ...        0   \n",
       "3              NaN       0           1      1       0  ...        0   \n",
       "4              NaN       0           1      0       0  ...        0   \n",
       "\n",
       "   v24_len_pos  v24_ER  v24_INP  v24_OUT  v24_OTH  v24_OBS  v24_SNF  \\\n",
       "0            0       0        0        0        0        0        0   \n",
       "1            0       0        0        0        0        0        0   \n",
       "2            0       0        0        0        0        0        0   \n",
       "3            0       0        0        0        0        0        0   \n",
       "4            0       0        0        0        0        0        0   \n",
       "\n",
       "   v24_INP REHAB  v24_HOSPICE  \n",
       "0              0            0  \n",
       "1              0            0  \n",
       "2              0            0  \n",
       "3              0            0  \n",
       "4              0            0  \n",
       "\n",
       "[5 rows x 338 columns]"
      ]
     },
     "execution_count": 127,
     "metadata": {},
     "output_type": "execute_result"
    }
   ],
   "source": [
    "df1_res.head()"
   ]
  },
  {
   "cell_type": "code",
   "execution_count": 128,
   "metadata": {},
   "outputs": [
    {
     "name": "stdout",
     "output_type": "stream",
     "text": [
      "<class 'pandas.core.frame.DataFrame'>\n",
      "RangeIndex: 1136 entries, 0 to 1135\n",
      "Columns: 338 entries, member_id to v24_HOSPICE\n",
      "dtypes: float64(14), int64(323), object(1)\n",
      "memory usage: 2.9+ MB\n"
     ]
    }
   ],
   "source": [
    "df1_res.info()"
   ]
  },
  {
   "cell_type": "code",
   "execution_count": null,
   "metadata": {},
   "outputs": [],
   "source": []
  },
  {
   "cell_type": "code",
   "execution_count": 129,
   "metadata": {},
   "outputs": [
    {
     "name": "stdout",
     "output_type": "stream",
     "text": [
      "A file already exists with this name.\n",
      "\n",
      "Do you want to overwrite? (Y/N)Y\n",
      "Writing file.  \"../Outputs/df1_res.csv\"\n"
     ]
    }
   ],
   "source": [
    "# save the data to a new csv file\n",
    "datapath = '../Outputs'\n",
    "save_file(df1_res, 'df1_res.csv', datapath)"
   ]
  },
  {
   "cell_type": "code",
   "execution_count": 130,
   "metadata": {},
   "outputs": [
    {
     "data": {
      "text/plain": [
       "member_id        1136\n",
       "num_of_visit       19\n",
       "v1                  1\n",
       "v1_re_adm           2\n",
       "v1_er_to_inp        2\n",
       "                 ... \n",
       "v24_OTH             1\n",
       "v24_OBS             1\n",
       "v24_SNF             1\n",
       "v24_INP REHAB       2\n",
       "v24_HOSPICE         1\n",
       "Length: 338, dtype: int64"
      ]
     },
     "execution_count": 130,
     "metadata": {},
     "output_type": "execute_result"
    }
   ],
   "source": [
    "df1_res.nunique() # check df1_res"
   ]
  },
  {
   "cell_type": "code",
   "execution_count": 131,
   "metadata": {},
   "outputs": [
    {
     "data": {
      "text/plain": [
       "1    1\n",
       "Name: v1_ER, dtype: int64"
      ]
     },
     "execution_count": 131,
     "metadata": {},
     "output_type": "execute_result"
    }
   ],
   "source": [
    "df1_res[df1_res['member_id']=='AH8v69t8QBW1u2Iuh/5qlQ==']['v1_ER']\n",
    "# check the df1_res"
   ]
  },
  {
   "cell_type": "code",
   "execution_count": 132,
   "metadata": {},
   "outputs": [
    {
     "data": {
      "text/plain": [
       "2    0\n",
       "Name: v3_ER, dtype: int64"
      ]
     },
     "execution_count": 132,
     "metadata": {},
     "output_type": "execute_result"
    }
   ],
   "source": [
    "df1_res[df1_res['member_id']=='AIEq/y06TGOCCjwkDzmaeA==']['v3_ER']\n",
    "# check df1_res"
   ]
  },
  {
   "cell_type": "markdown",
   "metadata": {},
   "source": [
    "### 2.9.2 Disease Data Converted<a id='2.9.2_Disease_Data'></a>"
   ]
  },
  {
   "cell_type": "code",
   "execution_count": 133,
   "metadata": {},
   "outputs": [
    {
     "data": {
      "text/html": [
       "<div>\n",
       "<style scoped>\n",
       "    .dataframe tbody tr th:only-of-type {\n",
       "        vertical-align: middle;\n",
       "    }\n",
       "\n",
       "    .dataframe tbody tr th {\n",
       "        vertical-align: top;\n",
       "    }\n",
       "\n",
       "    .dataframe thead th {\n",
       "        text-align: right;\n",
       "    }\n",
       "</style>\n",
       "<table border=\"1\" class=\"dataframe\">\n",
       "  <thead>\n",
       "    <tr style=\"text-align: right;\">\n",
       "      <th></th>\n",
       "      <th>member_id</th>\n",
       "      <th>icd_code</th>\n",
       "      <th>icd_chronic_or_acute</th>\n",
       "    </tr>\n",
       "  </thead>\n",
       "  <tbody>\n",
       "    <tr>\n",
       "      <th>636201</th>\n",
       "      <td>nr+43zfHQPKSwx2IJuJI5Q==</td>\n",
       "      <td>I10</td>\n",
       "      <td>Unknown</td>\n",
       "    </tr>\n",
       "    <tr>\n",
       "      <th>351311</th>\n",
       "      <td>Vwf7mI0tTGC4amYJPD6uJg==</td>\n",
       "      <td>I739</td>\n",
       "      <td>Chronic</td>\n",
       "    </tr>\n",
       "    <tr>\n",
       "      <th>310891</th>\n",
       "      <td>TRudRczSQt6dwb6EeZ1RLA==</td>\n",
       "      <td>I739</td>\n",
       "      <td>Chronic</td>\n",
       "    </tr>\n",
       "    <tr>\n",
       "      <th>347932</th>\n",
       "      <td>VjG87+cBSB2B1+loMmoHCg==</td>\n",
       "      <td>I739</td>\n",
       "      <td>Chronic</td>\n",
       "    </tr>\n",
       "    <tr>\n",
       "      <th>943332</th>\n",
       "      <td>7CfP6Hq5Qy6J0rXIuTc7kw==</td>\n",
       "      <td>I10</td>\n",
       "      <td>Unknown</td>\n",
       "    </tr>\n",
       "  </tbody>\n",
       "</table>\n",
       "</div>"
      ],
      "text/plain": [
       "                       member_id icd_code icd_chronic_or_acute\n",
       "636201  nr+43zfHQPKSwx2IJuJI5Q==      I10              Unknown\n",
       "351311  Vwf7mI0tTGC4amYJPD6uJg==     I739              Chronic\n",
       "310891  TRudRczSQt6dwb6EeZ1RLA==     I739              Chronic\n",
       "347932  VjG87+cBSB2B1+loMmoHCg==     I739              Chronic\n",
       "943332  7CfP6Hq5Qy6J0rXIuTc7kw==      I10              Unknown"
      ]
     },
     "execution_count": 133,
     "metadata": {},
     "output_type": "execute_result"
    }
   ],
   "source": [
    "df2_subset.head()"
   ]
  },
  {
   "cell_type": "code",
   "execution_count": 134,
   "metadata": {},
   "outputs": [
    {
     "data": {
      "text/plain": [
       "array(['nr+43zfHQPKSwx2IJuJI5Q==', 'Vwf7mI0tTGC4amYJPD6uJg==',\n",
       "       'TRudRczSQt6dwb6EeZ1RLA==', ..., '71rJt0vGQTaGp1yQ9jBB/g==',\n",
       "       'lzOoZy24Qc2CxCC1i1wsEA==', '3uE+j85IT8yqQhaDQ2Pe7Q=='],\n",
       "      dtype=object)"
      ]
     },
     "execution_count": 134,
     "metadata": {},
     "output_type": "execute_result"
    }
   ],
   "source": [
    "df2_subset['member_id'].unique()"
   ]
  },
  {
   "cell_type": "code",
   "execution_count": 135,
   "metadata": {},
   "outputs": [
    {
     "name": "stdout",
     "output_type": "stream",
     "text": [
      "A file already exists with this name.\n",
      "\n",
      "Do you want to overwrite? (Y/N)Y\n",
      "Writing file.  \"../Outputs/df2_subset.csv\"\n"
     ]
    }
   ],
   "source": [
    "# save the data to a new csv file\n",
    "datapath = '../Outputs'\n",
    "save_file(df2_subset, 'df2_subset.csv', datapath)"
   ]
  },
  {
   "cell_type": "code",
   "execution_count": 136,
   "metadata": {},
   "outputs": [],
   "source": [
    "df2_res=df2_one_record_per_member_id(df2_subset)"
   ]
  },
  {
   "cell_type": "code",
   "execution_count": 137,
   "metadata": {},
   "outputs": [
    {
     "data": {
      "text/html": [
       "<div>\n",
       "<style scoped>\n",
       "    .dataframe tbody tr th:only-of-type {\n",
       "        vertical-align: middle;\n",
       "    }\n",
       "\n",
       "    .dataframe tbody tr th {\n",
       "        vertical-align: top;\n",
       "    }\n",
       "\n",
       "    .dataframe thead th {\n",
       "        text-align: right;\n",
       "    }\n",
       "</style>\n",
       "<table border=\"1\" class=\"dataframe\">\n",
       "  <thead>\n",
       "    <tr style=\"text-align: right;\">\n",
       "      <th></th>\n",
       "      <th>member_id</th>\n",
       "      <th>icd_I10</th>\n",
       "      <th>icd_I10_chronic</th>\n",
       "      <th>icd_I739</th>\n",
       "      <th>icd_I739_chronic</th>\n",
       "      <th>icd_neither</th>\n",
       "      <th>icd_neither_chronic</th>\n",
       "    </tr>\n",
       "  </thead>\n",
       "  <tbody>\n",
       "    <tr>\n",
       "      <th>0</th>\n",
       "      <td>nr+43zfHQPKSwx2IJuJI5Q==</td>\n",
       "      <td>0</td>\n",
       "      <td>0</td>\n",
       "      <td>0</td>\n",
       "      <td>0</td>\n",
       "      <td>0</td>\n",
       "      <td>0</td>\n",
       "    </tr>\n",
       "    <tr>\n",
       "      <th>1</th>\n",
       "      <td>Vwf7mI0tTGC4amYJPD6uJg==</td>\n",
       "      <td>0</td>\n",
       "      <td>0</td>\n",
       "      <td>0</td>\n",
       "      <td>0</td>\n",
       "      <td>0</td>\n",
       "      <td>0</td>\n",
       "    </tr>\n",
       "    <tr>\n",
       "      <th>2</th>\n",
       "      <td>TRudRczSQt6dwb6EeZ1RLA==</td>\n",
       "      <td>0</td>\n",
       "      <td>0</td>\n",
       "      <td>0</td>\n",
       "      <td>0</td>\n",
       "      <td>0</td>\n",
       "      <td>0</td>\n",
       "    </tr>\n",
       "    <tr>\n",
       "      <th>3</th>\n",
       "      <td>VjG87+cBSB2B1+loMmoHCg==</td>\n",
       "      <td>0</td>\n",
       "      <td>0</td>\n",
       "      <td>0</td>\n",
       "      <td>0</td>\n",
       "      <td>0</td>\n",
       "      <td>0</td>\n",
       "    </tr>\n",
       "    <tr>\n",
       "      <th>4</th>\n",
       "      <td>7CfP6Hq5Qy6J0rXIuTc7kw==</td>\n",
       "      <td>0</td>\n",
       "      <td>0</td>\n",
       "      <td>0</td>\n",
       "      <td>0</td>\n",
       "      <td>0</td>\n",
       "      <td>0</td>\n",
       "    </tr>\n",
       "  </tbody>\n",
       "</table>\n",
       "</div>"
      ],
      "text/plain": [
       "                  member_id  icd_I10  icd_I10_chronic  icd_I739  \\\n",
       "0  nr+43zfHQPKSwx2IJuJI5Q==        0                0         0   \n",
       "1  Vwf7mI0tTGC4amYJPD6uJg==        0                0         0   \n",
       "2  TRudRczSQt6dwb6EeZ1RLA==        0                0         0   \n",
       "3  VjG87+cBSB2B1+loMmoHCg==        0                0         0   \n",
       "4  7CfP6Hq5Qy6J0rXIuTc7kw==        0                0         0   \n",
       "\n",
       "   icd_I739_chronic  icd_neither  icd_neither_chronic  \n",
       "0                 0            0                    0  \n",
       "1                 0            0                    0  \n",
       "2                 0            0                    0  \n",
       "3                 0            0                    0  \n",
       "4                 0            0                    0  "
      ]
     },
     "execution_count": 137,
     "metadata": {},
     "output_type": "execute_result"
    }
   ],
   "source": [
    "df2_res.head()"
   ]
  },
  {
   "cell_type": "code",
   "execution_count": 138,
   "metadata": {},
   "outputs": [],
   "source": [
    "df2_res=fill_df2_res(df2_res, df2_subset)"
   ]
  },
  {
   "cell_type": "code",
   "execution_count": 139,
   "metadata": {},
   "outputs": [
    {
     "data": {
      "text/html": [
       "<div>\n",
       "<style scoped>\n",
       "    .dataframe tbody tr th:only-of-type {\n",
       "        vertical-align: middle;\n",
       "    }\n",
       "\n",
       "    .dataframe tbody tr th {\n",
       "        vertical-align: top;\n",
       "    }\n",
       "\n",
       "    .dataframe thead th {\n",
       "        text-align: right;\n",
       "    }\n",
       "</style>\n",
       "<table border=\"1\" class=\"dataframe\">\n",
       "  <thead>\n",
       "    <tr style=\"text-align: right;\">\n",
       "      <th></th>\n",
       "      <th>member_id</th>\n",
       "      <th>icd_I10</th>\n",
       "      <th>icd_I10_chronic</th>\n",
       "      <th>icd_I739</th>\n",
       "      <th>icd_I739_chronic</th>\n",
       "      <th>icd_neither</th>\n",
       "      <th>icd_neither_chronic</th>\n",
       "    </tr>\n",
       "  </thead>\n",
       "  <tbody>\n",
       "    <tr>\n",
       "      <th>0</th>\n",
       "      <td>nr+43zfHQPKSwx2IJuJI5Q==</td>\n",
       "      <td>1</td>\n",
       "      <td>0</td>\n",
       "      <td>0</td>\n",
       "      <td>0</td>\n",
       "      <td>0</td>\n",
       "      <td>0</td>\n",
       "    </tr>\n",
       "    <tr>\n",
       "      <th>1</th>\n",
       "      <td>Vwf7mI0tTGC4amYJPD6uJg==</td>\n",
       "      <td>0</td>\n",
       "      <td>0</td>\n",
       "      <td>1</td>\n",
       "      <td>1</td>\n",
       "      <td>0</td>\n",
       "      <td>0</td>\n",
       "    </tr>\n",
       "    <tr>\n",
       "      <th>2</th>\n",
       "      <td>TRudRczSQt6dwb6EeZ1RLA==</td>\n",
       "      <td>0</td>\n",
       "      <td>0</td>\n",
       "      <td>1</td>\n",
       "      <td>1</td>\n",
       "      <td>0</td>\n",
       "      <td>0</td>\n",
       "    </tr>\n",
       "    <tr>\n",
       "      <th>3</th>\n",
       "      <td>VjG87+cBSB2B1+loMmoHCg==</td>\n",
       "      <td>0</td>\n",
       "      <td>0</td>\n",
       "      <td>1</td>\n",
       "      <td>1</td>\n",
       "      <td>0</td>\n",
       "      <td>0</td>\n",
       "    </tr>\n",
       "    <tr>\n",
       "      <th>4</th>\n",
       "      <td>7CfP6Hq5Qy6J0rXIuTc7kw==</td>\n",
       "      <td>1</td>\n",
       "      <td>0</td>\n",
       "      <td>0</td>\n",
       "      <td>0</td>\n",
       "      <td>0</td>\n",
       "      <td>0</td>\n",
       "    </tr>\n",
       "  </tbody>\n",
       "</table>\n",
       "</div>"
      ],
      "text/plain": [
       "                  member_id  icd_I10  icd_I10_chronic  icd_I739  \\\n",
       "0  nr+43zfHQPKSwx2IJuJI5Q==        1                0         0   \n",
       "1  Vwf7mI0tTGC4amYJPD6uJg==        0                0         1   \n",
       "2  TRudRczSQt6dwb6EeZ1RLA==        0                0         1   \n",
       "3  VjG87+cBSB2B1+loMmoHCg==        0                0         1   \n",
       "4  7CfP6Hq5Qy6J0rXIuTc7kw==        1                0         0   \n",
       "\n",
       "   icd_I739_chronic  icd_neither  icd_neither_chronic  \n",
       "0                 0            0                    0  \n",
       "1                 1            0                    0  \n",
       "2                 1            0                    0  \n",
       "3                 1            0                    0  \n",
       "4                 0            0                    0  "
      ]
     },
     "execution_count": 139,
     "metadata": {},
     "output_type": "execute_result"
    }
   ],
   "source": [
    "df2_res.head()"
   ]
  },
  {
   "cell_type": "code",
   "execution_count": 140,
   "metadata": {},
   "outputs": [
    {
     "name": "stdout",
     "output_type": "stream",
     "text": [
      "<class 'pandas.core.frame.DataFrame'>\n",
      "RangeIndex: 2841 entries, 0 to 2840\n",
      "Data columns (total 7 columns):\n",
      " #   Column               Non-Null Count  Dtype \n",
      "---  ------               --------------  ----- \n",
      " 0   member_id            2841 non-null   object\n",
      " 1   icd_I10              2841 non-null   int64 \n",
      " 2   icd_I10_chronic      2841 non-null   int64 \n",
      " 3   icd_I739             2841 non-null   int64 \n",
      " 4   icd_I739_chronic     2841 non-null   int64 \n",
      " 5   icd_neither          2841 non-null   int64 \n",
      " 6   icd_neither_chronic  2841 non-null   int64 \n",
      "dtypes: int64(6), object(1)\n",
      "memory usage: 155.5+ KB\n"
     ]
    }
   ],
   "source": [
    "df2_res.info()"
   ]
  },
  {
   "cell_type": "code",
   "execution_count": 141,
   "metadata": {},
   "outputs": [
    {
     "data": {
      "text/plain": [
       "array([0, 1])"
      ]
     },
     "execution_count": 141,
     "metadata": {},
     "output_type": "execute_result"
    }
   ],
   "source": [
    "df2_res['icd_neither'].unique()"
   ]
  },
  {
   "cell_type": "code",
   "execution_count": 142,
   "metadata": {},
   "outputs": [
    {
     "name": "stdout",
     "output_type": "stream",
     "text": [
      "A file already exists with this name.\n",
      "\n",
      "Do you want to overwrite? (Y/N)Y\n",
      "Writing file.  \"../Outputs/df2_res.csv\"\n"
     ]
    }
   ],
   "source": [
    "# save the data to a new csv file\n",
    "datapath = '../Outputs'\n",
    "save_file(df2_res, 'df2_res.csv', datapath)"
   ]
  },
  {
   "cell_type": "code",
   "execution_count": 143,
   "metadata": {},
   "outputs": [
    {
     "data": {
      "text/plain": [
       "member_id              2841\n",
       "icd_I10                   2\n",
       "icd_I10_chronic           1\n",
       "icd_I739                  2\n",
       "icd_I739_chronic          2\n",
       "icd_neither               2\n",
       "icd_neither_chronic       2\n",
       "dtype: int64"
      ]
     },
     "execution_count": 143,
     "metadata": {},
     "output_type": "execute_result"
    }
   ],
   "source": [
    "df2_res.nunique() # check df2_res"
   ]
  },
  {
   "cell_type": "code",
   "execution_count": 144,
   "metadata": {},
   "outputs": [
    {
     "name": "stdout",
     "output_type": "stream",
     "text": [
      "<class 'pandas.core.frame.DataFrame'>\n",
      "RangeIndex: 2841 entries, 0 to 2840\n",
      "Data columns (total 7 columns):\n",
      " #   Column               Non-Null Count  Dtype \n",
      "---  ------               --------------  ----- \n",
      " 0   member_id            2841 non-null   object\n",
      " 1   icd_I10              2841 non-null   int64 \n",
      " 2   icd_I10_chronic      2841 non-null   int64 \n",
      " 3   icd_I739             2841 non-null   int64 \n",
      " 4   icd_I739_chronic     2841 non-null   int64 \n",
      " 5   icd_neither          2841 non-null   int64 \n",
      " 6   icd_neither_chronic  2841 non-null   int64 \n",
      "dtypes: int64(6), object(1)\n",
      "memory usage: 155.5+ KB\n"
     ]
    }
   ],
   "source": [
    "df2_res.info()"
   ]
  },
  {
   "cell_type": "markdown",
   "metadata": {},
   "source": [
    "Notice that `icd_I10_chronic` has only one value, which is zero. We check the dataframe 'df2_subset' to see whether this is correct. What we find below shows that our function 'fill_df2_res()' works fine."
   ]
  },
  {
   "cell_type": "code",
   "execution_count": 145,
   "metadata": {},
   "outputs": [
    {
     "data": {
      "text/plain": [
       "Unknown    1232\n",
       "Name: icd_chronic_or_acute, dtype: int64"
      ]
     },
     "execution_count": 145,
     "metadata": {},
     "output_type": "execute_result"
    }
   ],
   "source": [
    "df2_subset[df2_subset['icd_code']=='I10']['icd_chronic_or_acute'].value_counts()"
   ]
  },
  {
   "cell_type": "markdown",
   "metadata": {},
   "source": [
    "### 2.9.3 Labs Data Converted<a id='2.9.3_Labs_Data'></a>"
   ]
  },
  {
   "cell_type": "code",
   "execution_count": 146,
   "metadata": {},
   "outputs": [
    {
     "data": {
      "text/html": [
       "<div>\n",
       "<style scoped>\n",
       "    .dataframe tbody tr th:only-of-type {\n",
       "        vertical-align: middle;\n",
       "    }\n",
       "\n",
       "    .dataframe tbody tr th {\n",
       "        vertical-align: top;\n",
       "    }\n",
       "\n",
       "    .dataframe thead th {\n",
       "        text-align: right;\n",
       "    }\n",
       "</style>\n",
       "<table border=\"1\" class=\"dataframe\">\n",
       "  <thead>\n",
       "    <tr style=\"text-align: right;\">\n",
       "      <th></th>\n",
       "      <th>member_id</th>\n",
       "      <th>loinc_code</th>\n",
       "      <th>abnormal_code_updated</th>\n",
       "    </tr>\n",
       "  </thead>\n",
       "  <tbody>\n",
       "    <tr>\n",
       "      <th>531</th>\n",
       "      <td>OEcf/fmaTq+aPoYfknZK3A==</td>\n",
       "      <td>4548-4</td>\n",
       "      <td>H</td>\n",
       "    </tr>\n",
       "    <tr>\n",
       "      <th>532</th>\n",
       "      <td>OEcf/fmaTq+aPoYfknZK3A==</td>\n",
       "      <td>2161-8</td>\n",
       "      <td>NORM</td>\n",
       "    </tr>\n",
       "    <tr>\n",
       "      <th>533</th>\n",
       "      <td>OEcf/fmaTq+aPoYfknZK3A==</td>\n",
       "      <td>742-7</td>\n",
       "      <td>NORM</td>\n",
       "    </tr>\n",
       "    <tr>\n",
       "      <th>534</th>\n",
       "      <td>OEcf/fmaTq+aPoYfknZK3A==</td>\n",
       "      <td>777-3</td>\n",
       "      <td>H</td>\n",
       "    </tr>\n",
       "    <tr>\n",
       "      <th>535</th>\n",
       "      <td>OEcf/fmaTq+aPoYfknZK3A==</td>\n",
       "      <td>2028-9</td>\n",
       "      <td>NORM</td>\n",
       "    </tr>\n",
       "  </tbody>\n",
       "</table>\n",
       "</div>"
      ],
      "text/plain": [
       "                    member_id loinc_code abnormal_code_updated\n",
       "531  OEcf/fmaTq+aPoYfknZK3A==     4548-4                     H\n",
       "532  OEcf/fmaTq+aPoYfknZK3A==     2161-8                  NORM\n",
       "533  OEcf/fmaTq+aPoYfknZK3A==      742-7                  NORM\n",
       "534  OEcf/fmaTq+aPoYfknZK3A==      777-3                     H\n",
       "535  OEcf/fmaTq+aPoYfknZK3A==     2028-9                  NORM"
      ]
     },
     "execution_count": 146,
     "metadata": {},
     "output_type": "execute_result"
    }
   ],
   "source": [
    "df3_subset.head()"
   ]
  },
  {
   "cell_type": "code",
   "execution_count": 147,
   "metadata": {},
   "outputs": [
    {
     "name": "stdout",
     "output_type": "stream",
     "text": [
      "A file already exists with this name.\n",
      "\n",
      "Do you want to overwrite? (Y/N)Y\n",
      "Writing file.  \"../Outputs/df3_subset.csv\"\n"
     ]
    }
   ],
   "source": [
    "# save the data to a new csv file\n",
    "datapath = '../Outputs'\n",
    "save_file(df3_subset, 'df3_subset.csv', datapath)"
   ]
  },
  {
   "cell_type": "code",
   "execution_count": 149,
   "metadata": {},
   "outputs": [],
   "source": [
    "df3_res=df3_one_record_per_member_id(df3_subset)"
   ]
  },
  {
   "cell_type": "code",
   "execution_count": 150,
   "metadata": {},
   "outputs": [
    {
     "data": {
      "text/html": [
       "<div>\n",
       "<style scoped>\n",
       "    .dataframe tbody tr th:only-of-type {\n",
       "        vertical-align: middle;\n",
       "    }\n",
       "\n",
       "    .dataframe tbody tr th {\n",
       "        vertical-align: top;\n",
       "    }\n",
       "\n",
       "    .dataframe thead th {\n",
       "        text-align: right;\n",
       "    }\n",
       "</style>\n",
       "<table border=\"1\" class=\"dataframe\">\n",
       "  <thead>\n",
       "    <tr style=\"text-align: right;\">\n",
       "      <th></th>\n",
       "      <th>member_id</th>\n",
       "      <th>lab_4548-4</th>\n",
       "      <th>lab_4548-4_res</th>\n",
       "      <th>lab_2161-8</th>\n",
       "      <th>lab_2161-8_res</th>\n",
       "      <th>lab_742-7</th>\n",
       "      <th>lab_742-7_res</th>\n",
       "      <th>lab_777-3</th>\n",
       "      <th>lab_777-3_res</th>\n",
       "      <th>lab_2028-9</th>\n",
       "      <th>...</th>\n",
       "      <th>lab_6821-3</th>\n",
       "      <th>lab_6821-3_res</th>\n",
       "      <th>lab_6152-3</th>\n",
       "      <th>lab_6152-3_res</th>\n",
       "      <th>lab_47365-2</th>\n",
       "      <th>lab_47365-2_res</th>\n",
       "      <th>lab_32769-2</th>\n",
       "      <th>lab_32769-2_res</th>\n",
       "      <th>lab_74678-4</th>\n",
       "      <th>lab_74678-4_res</th>\n",
       "    </tr>\n",
       "  </thead>\n",
       "  <tbody>\n",
       "    <tr>\n",
       "      <th>0</th>\n",
       "      <td>OEcf/fmaTq+aPoYfknZK3A==</td>\n",
       "      <td>0</td>\n",
       "      <td>0</td>\n",
       "      <td>0</td>\n",
       "      <td>0</td>\n",
       "      <td>0</td>\n",
       "      <td>0</td>\n",
       "      <td>0</td>\n",
       "      <td>0</td>\n",
       "      <td>0</td>\n",
       "      <td>...</td>\n",
       "      <td>0</td>\n",
       "      <td>0</td>\n",
       "      <td>0</td>\n",
       "      <td>0</td>\n",
       "      <td>0</td>\n",
       "      <td>0</td>\n",
       "      <td>0</td>\n",
       "      <td>0</td>\n",
       "      <td>0</td>\n",
       "      <td>0</td>\n",
       "    </tr>\n",
       "    <tr>\n",
       "      <th>1</th>\n",
       "      <td>OHAaSbjjQquqw750i32wuA==</td>\n",
       "      <td>0</td>\n",
       "      <td>0</td>\n",
       "      <td>0</td>\n",
       "      <td>0</td>\n",
       "      <td>0</td>\n",
       "      <td>0</td>\n",
       "      <td>0</td>\n",
       "      <td>0</td>\n",
       "      <td>0</td>\n",
       "      <td>...</td>\n",
       "      <td>0</td>\n",
       "      <td>0</td>\n",
       "      <td>0</td>\n",
       "      <td>0</td>\n",
       "      <td>0</td>\n",
       "      <td>0</td>\n",
       "      <td>0</td>\n",
       "      <td>0</td>\n",
       "      <td>0</td>\n",
       "      <td>0</td>\n",
       "    </tr>\n",
       "    <tr>\n",
       "      <th>2</th>\n",
       "      <td>OIW4s4BKSo+YALd/7/FNlw==</td>\n",
       "      <td>0</td>\n",
       "      <td>0</td>\n",
       "      <td>0</td>\n",
       "      <td>0</td>\n",
       "      <td>0</td>\n",
       "      <td>0</td>\n",
       "      <td>0</td>\n",
       "      <td>0</td>\n",
       "      <td>0</td>\n",
       "      <td>...</td>\n",
       "      <td>0</td>\n",
       "      <td>0</td>\n",
       "      <td>0</td>\n",
       "      <td>0</td>\n",
       "      <td>0</td>\n",
       "      <td>0</td>\n",
       "      <td>0</td>\n",
       "      <td>0</td>\n",
       "      <td>0</td>\n",
       "      <td>0</td>\n",
       "    </tr>\n",
       "    <tr>\n",
       "      <th>3</th>\n",
       "      <td>OKbldt8uTDOJhCtD5OrD7A==</td>\n",
       "      <td>0</td>\n",
       "      <td>0</td>\n",
       "      <td>0</td>\n",
       "      <td>0</td>\n",
       "      <td>0</td>\n",
       "      <td>0</td>\n",
       "      <td>0</td>\n",
       "      <td>0</td>\n",
       "      <td>0</td>\n",
       "      <td>...</td>\n",
       "      <td>0</td>\n",
       "      <td>0</td>\n",
       "      <td>0</td>\n",
       "      <td>0</td>\n",
       "      <td>0</td>\n",
       "      <td>0</td>\n",
       "      <td>0</td>\n",
       "      <td>0</td>\n",
       "      <td>0</td>\n",
       "      <td>0</td>\n",
       "    </tr>\n",
       "    <tr>\n",
       "      <th>4</th>\n",
       "      <td>OLXnSA0JSzGQhBaRRowhQw==</td>\n",
       "      <td>0</td>\n",
       "      <td>0</td>\n",
       "      <td>0</td>\n",
       "      <td>0</td>\n",
       "      <td>0</td>\n",
       "      <td>0</td>\n",
       "      <td>0</td>\n",
       "      <td>0</td>\n",
       "      <td>0</td>\n",
       "      <td>...</td>\n",
       "      <td>0</td>\n",
       "      <td>0</td>\n",
       "      <td>0</td>\n",
       "      <td>0</td>\n",
       "      <td>0</td>\n",
       "      <td>0</td>\n",
       "      <td>0</td>\n",
       "      <td>0</td>\n",
       "      <td>0</td>\n",
       "      <td>0</td>\n",
       "    </tr>\n",
       "  </tbody>\n",
       "</table>\n",
       "<p>5 rows × 3319 columns</p>\n",
       "</div>"
      ],
      "text/plain": [
       "                  member_id  lab_4548-4  lab_4548-4_res  lab_2161-8  \\\n",
       "0  OEcf/fmaTq+aPoYfknZK3A==           0               0           0   \n",
       "1  OHAaSbjjQquqw750i32wuA==           0               0           0   \n",
       "2  OIW4s4BKSo+YALd/7/FNlw==           0               0           0   \n",
       "3  OKbldt8uTDOJhCtD5OrD7A==           0               0           0   \n",
       "4  OLXnSA0JSzGQhBaRRowhQw==           0               0           0   \n",
       "\n",
       "   lab_2161-8_res  lab_742-7  lab_742-7_res  lab_777-3  lab_777-3_res  \\\n",
       "0               0          0              0          0              0   \n",
       "1               0          0              0          0              0   \n",
       "2               0          0              0          0              0   \n",
       "3               0          0              0          0              0   \n",
       "4               0          0              0          0              0   \n",
       "\n",
       "   lab_2028-9  ...  lab_6821-3  lab_6821-3_res  lab_6152-3  lab_6152-3_res  \\\n",
       "0           0  ...           0               0           0               0   \n",
       "1           0  ...           0               0           0               0   \n",
       "2           0  ...           0               0           0               0   \n",
       "3           0  ...           0               0           0               0   \n",
       "4           0  ...           0               0           0               0   \n",
       "\n",
       "   lab_47365-2  lab_47365-2_res  lab_32769-2  lab_32769-2_res  lab_74678-4  \\\n",
       "0            0                0            0                0            0   \n",
       "1            0                0            0                0            0   \n",
       "2            0                0            0                0            0   \n",
       "3            0                0            0                0            0   \n",
       "4            0                0            0                0            0   \n",
       "\n",
       "   lab_74678-4_res  \n",
       "0                0  \n",
       "1                0  \n",
       "2                0  \n",
       "3                0  \n",
       "4                0  \n",
       "\n",
       "[5 rows x 3319 columns]"
      ]
     },
     "execution_count": 150,
     "metadata": {},
     "output_type": "execute_result"
    }
   ],
   "source": [
    "df3_res.head()"
   ]
  },
  {
   "cell_type": "code",
   "execution_count": 150,
   "metadata": {},
   "outputs": [],
   "source": [
    "#df3_res=fill_df3_res(df3_res, df3_subset)"
   ]
  },
  {
   "cell_type": "code",
   "execution_count": 154,
   "metadata": {},
   "outputs": [
    {
     "data": {
      "text/html": [
       "<div>\n",
       "<style scoped>\n",
       "    .dataframe tbody tr th:only-of-type {\n",
       "        vertical-align: middle;\n",
       "    }\n",
       "\n",
       "    .dataframe tbody tr th {\n",
       "        vertical-align: top;\n",
       "    }\n",
       "\n",
       "    .dataframe thead th {\n",
       "        text-align: right;\n",
       "    }\n",
       "</style>\n",
       "<table border=\"1\" class=\"dataframe\">\n",
       "  <thead>\n",
       "    <tr style=\"text-align: right;\">\n",
       "      <th></th>\n",
       "      <th>member_id</th>\n",
       "      <th>lab_4548-4</th>\n",
       "      <th>lab_4548-4_res</th>\n",
       "      <th>lab_2161-8</th>\n",
       "      <th>lab_2161-8_res</th>\n",
       "      <th>lab_742-7</th>\n",
       "      <th>lab_742-7_res</th>\n",
       "      <th>lab_777-3</th>\n",
       "      <th>lab_777-3_res</th>\n",
       "      <th>lab_2028-9</th>\n",
       "      <th>...</th>\n",
       "      <th>lab_6821-3</th>\n",
       "      <th>lab_6821-3_res</th>\n",
       "      <th>lab_6152-3</th>\n",
       "      <th>lab_6152-3_res</th>\n",
       "      <th>lab_47365-2</th>\n",
       "      <th>lab_47365-2_res</th>\n",
       "      <th>lab_32769-2</th>\n",
       "      <th>lab_32769-2_res</th>\n",
       "      <th>lab_74678-4</th>\n",
       "      <th>lab_74678-4_res</th>\n",
       "    </tr>\n",
       "  </thead>\n",
       "  <tbody>\n",
       "    <tr>\n",
       "      <th>0</th>\n",
       "      <td>OEcf/fmaTq+aPoYfknZK3A==</td>\n",
       "      <td>1</td>\n",
       "      <td>3.0</td>\n",
       "      <td>1</td>\n",
       "      <td>2.0</td>\n",
       "      <td>1</td>\n",
       "      <td>2.0</td>\n",
       "      <td>1</td>\n",
       "      <td>3.0</td>\n",
       "      <td>1</td>\n",
       "      <td>...</td>\n",
       "      <td>0</td>\n",
       "      <td>0.0</td>\n",
       "      <td>0</td>\n",
       "      <td>0.0</td>\n",
       "      <td>0</td>\n",
       "      <td>0.0</td>\n",
       "      <td>0</td>\n",
       "      <td>0.0</td>\n",
       "      <td>0</td>\n",
       "      <td>0.0</td>\n",
       "    </tr>\n",
       "    <tr>\n",
       "      <th>1</th>\n",
       "      <td>OHAaSbjjQquqw750i32wuA==</td>\n",
       "      <td>1</td>\n",
       "      <td>2.0</td>\n",
       "      <td>0</td>\n",
       "      <td>0.0</td>\n",
       "      <td>1</td>\n",
       "      <td>2.0</td>\n",
       "      <td>1</td>\n",
       "      <td>2.0</td>\n",
       "      <td>1</td>\n",
       "      <td>...</td>\n",
       "      <td>0</td>\n",
       "      <td>0.0</td>\n",
       "      <td>0</td>\n",
       "      <td>0.0</td>\n",
       "      <td>0</td>\n",
       "      <td>0.0</td>\n",
       "      <td>0</td>\n",
       "      <td>0.0</td>\n",
       "      <td>0</td>\n",
       "      <td>0.0</td>\n",
       "    </tr>\n",
       "    <tr>\n",
       "      <th>2</th>\n",
       "      <td>OIW4s4BKSo+YALd/7/FNlw==</td>\n",
       "      <td>1</td>\n",
       "      <td>3.0</td>\n",
       "      <td>1</td>\n",
       "      <td>2.0</td>\n",
       "      <td>1</td>\n",
       "      <td>2.0</td>\n",
       "      <td>1</td>\n",
       "      <td>2.0</td>\n",
       "      <td>1</td>\n",
       "      <td>...</td>\n",
       "      <td>0</td>\n",
       "      <td>0.0</td>\n",
       "      <td>0</td>\n",
       "      <td>0.0</td>\n",
       "      <td>0</td>\n",
       "      <td>0.0</td>\n",
       "      <td>0</td>\n",
       "      <td>0.0</td>\n",
       "      <td>0</td>\n",
       "      <td>0.0</td>\n",
       "    </tr>\n",
       "    <tr>\n",
       "      <th>3</th>\n",
       "      <td>OKbldt8uTDOJhCtD5OrD7A==</td>\n",
       "      <td>1</td>\n",
       "      <td>3.0</td>\n",
       "      <td>0</td>\n",
       "      <td>0.0</td>\n",
       "      <td>1</td>\n",
       "      <td>2.0</td>\n",
       "      <td>1</td>\n",
       "      <td>2.0</td>\n",
       "      <td>1</td>\n",
       "      <td>...</td>\n",
       "      <td>0</td>\n",
       "      <td>0.0</td>\n",
       "      <td>0</td>\n",
       "      <td>0.0</td>\n",
       "      <td>0</td>\n",
       "      <td>0.0</td>\n",
       "      <td>0</td>\n",
       "      <td>0.0</td>\n",
       "      <td>0</td>\n",
       "      <td>0.0</td>\n",
       "    </tr>\n",
       "    <tr>\n",
       "      <th>4</th>\n",
       "      <td>OLXnSA0JSzGQhBaRRowhQw==</td>\n",
       "      <td>1</td>\n",
       "      <td>2.0</td>\n",
       "      <td>0</td>\n",
       "      <td>0.0</td>\n",
       "      <td>1</td>\n",
       "      <td>2.0</td>\n",
       "      <td>1</td>\n",
       "      <td>2.0</td>\n",
       "      <td>1</td>\n",
       "      <td>...</td>\n",
       "      <td>0</td>\n",
       "      <td>0.0</td>\n",
       "      <td>0</td>\n",
       "      <td>0.0</td>\n",
       "      <td>0</td>\n",
       "      <td>0.0</td>\n",
       "      <td>0</td>\n",
       "      <td>0.0</td>\n",
       "      <td>0</td>\n",
       "      <td>0.0</td>\n",
       "    </tr>\n",
       "  </tbody>\n",
       "</table>\n",
       "<p>5 rows × 3319 columns</p>\n",
       "</div>"
      ],
      "text/plain": [
       "                  member_id  lab_4548-4  lab_4548-4_res  lab_2161-8  \\\n",
       "0  OEcf/fmaTq+aPoYfknZK3A==           1             3.0           1   \n",
       "1  OHAaSbjjQquqw750i32wuA==           1             2.0           0   \n",
       "2  OIW4s4BKSo+YALd/7/FNlw==           1             3.0           1   \n",
       "3  OKbldt8uTDOJhCtD5OrD7A==           1             3.0           0   \n",
       "4  OLXnSA0JSzGQhBaRRowhQw==           1             2.0           0   \n",
       "\n",
       "   lab_2161-8_res  lab_742-7  lab_742-7_res  lab_777-3  lab_777-3_res  \\\n",
       "0             2.0          1            2.0          1            3.0   \n",
       "1             0.0          1            2.0          1            2.0   \n",
       "2             2.0          1            2.0          1            2.0   \n",
       "3             0.0          1            2.0          1            2.0   \n",
       "4             0.0          1            2.0          1            2.0   \n",
       "\n",
       "   lab_2028-9  ...  lab_6821-3  lab_6821-3_res  lab_6152-3  lab_6152-3_res  \\\n",
       "0           1  ...           0             0.0           0             0.0   \n",
       "1           1  ...           0             0.0           0             0.0   \n",
       "2           1  ...           0             0.0           0             0.0   \n",
       "3           1  ...           0             0.0           0             0.0   \n",
       "4           1  ...           0             0.0           0             0.0   \n",
       "\n",
       "   lab_47365-2  lab_47365-2_res  lab_32769-2  lab_32769-2_res  lab_74678-4  \\\n",
       "0            0              0.0            0              0.0            0   \n",
       "1            0              0.0            0              0.0            0   \n",
       "2            0              0.0            0              0.0            0   \n",
       "3            0              0.0            0              0.0            0   \n",
       "4            0              0.0            0              0.0            0   \n",
       "\n",
       "   lab_74678-4_res  \n",
       "0              0.0  \n",
       "1              0.0  \n",
       "2              0.0  \n",
       "3              0.0  \n",
       "4              0.0  \n",
       "\n",
       "[5 rows x 3319 columns]"
      ]
     },
     "execution_count": 154,
     "metadata": {},
     "output_type": "execute_result"
    }
   ],
   "source": [
    "df3_res=pd.read_csv('../Outputs/df3_res.csv')\n",
    "df3_res.head()"
   ]
  },
  {
   "cell_type": "code",
   "execution_count": 155,
   "metadata": {},
   "outputs": [],
   "source": [
    "df3_res.replace({'L': 1, 'NORM':2, 'H': 3, 'ABNORM':4 }, inplace=True)"
   ]
  },
  {
   "cell_type": "code",
   "execution_count": 156,
   "metadata": {},
   "outputs": [
    {
     "data": {
      "text/html": [
       "<div>\n",
       "<style scoped>\n",
       "    .dataframe tbody tr th:only-of-type {\n",
       "        vertical-align: middle;\n",
       "    }\n",
       "\n",
       "    .dataframe tbody tr th {\n",
       "        vertical-align: top;\n",
       "    }\n",
       "\n",
       "    .dataframe thead th {\n",
       "        text-align: right;\n",
       "    }\n",
       "</style>\n",
       "<table border=\"1\" class=\"dataframe\">\n",
       "  <thead>\n",
       "    <tr style=\"text-align: right;\">\n",
       "      <th></th>\n",
       "      <th>member_id</th>\n",
       "      <th>lab_4548-4</th>\n",
       "      <th>lab_4548-4_res</th>\n",
       "      <th>lab_2161-8</th>\n",
       "      <th>lab_2161-8_res</th>\n",
       "      <th>lab_742-7</th>\n",
       "      <th>lab_742-7_res</th>\n",
       "      <th>lab_777-3</th>\n",
       "      <th>lab_777-3_res</th>\n",
       "      <th>lab_2028-9</th>\n",
       "      <th>...</th>\n",
       "      <th>lab_6821-3</th>\n",
       "      <th>lab_6821-3_res</th>\n",
       "      <th>lab_6152-3</th>\n",
       "      <th>lab_6152-3_res</th>\n",
       "      <th>lab_47365-2</th>\n",
       "      <th>lab_47365-2_res</th>\n",
       "      <th>lab_32769-2</th>\n",
       "      <th>lab_32769-2_res</th>\n",
       "      <th>lab_74678-4</th>\n",
       "      <th>lab_74678-4_res</th>\n",
       "    </tr>\n",
       "  </thead>\n",
       "  <tbody>\n",
       "    <tr>\n",
       "      <th>0</th>\n",
       "      <td>OEcf/fmaTq+aPoYfknZK3A==</td>\n",
       "      <td>1</td>\n",
       "      <td>3.0</td>\n",
       "      <td>1</td>\n",
       "      <td>2.0</td>\n",
       "      <td>1</td>\n",
       "      <td>2.0</td>\n",
       "      <td>1</td>\n",
       "      <td>3.0</td>\n",
       "      <td>1</td>\n",
       "      <td>...</td>\n",
       "      <td>0</td>\n",
       "      <td>0.0</td>\n",
       "      <td>0</td>\n",
       "      <td>0.0</td>\n",
       "      <td>0</td>\n",
       "      <td>0.0</td>\n",
       "      <td>0</td>\n",
       "      <td>0.0</td>\n",
       "      <td>0</td>\n",
       "      <td>0.0</td>\n",
       "    </tr>\n",
       "    <tr>\n",
       "      <th>1</th>\n",
       "      <td>OHAaSbjjQquqw750i32wuA==</td>\n",
       "      <td>1</td>\n",
       "      <td>2.0</td>\n",
       "      <td>0</td>\n",
       "      <td>0.0</td>\n",
       "      <td>1</td>\n",
       "      <td>2.0</td>\n",
       "      <td>1</td>\n",
       "      <td>2.0</td>\n",
       "      <td>1</td>\n",
       "      <td>...</td>\n",
       "      <td>0</td>\n",
       "      <td>0.0</td>\n",
       "      <td>0</td>\n",
       "      <td>0.0</td>\n",
       "      <td>0</td>\n",
       "      <td>0.0</td>\n",
       "      <td>0</td>\n",
       "      <td>0.0</td>\n",
       "      <td>0</td>\n",
       "      <td>0.0</td>\n",
       "    </tr>\n",
       "    <tr>\n",
       "      <th>2</th>\n",
       "      <td>OIW4s4BKSo+YALd/7/FNlw==</td>\n",
       "      <td>1</td>\n",
       "      <td>3.0</td>\n",
       "      <td>1</td>\n",
       "      <td>2.0</td>\n",
       "      <td>1</td>\n",
       "      <td>2.0</td>\n",
       "      <td>1</td>\n",
       "      <td>2.0</td>\n",
       "      <td>1</td>\n",
       "      <td>...</td>\n",
       "      <td>0</td>\n",
       "      <td>0.0</td>\n",
       "      <td>0</td>\n",
       "      <td>0.0</td>\n",
       "      <td>0</td>\n",
       "      <td>0.0</td>\n",
       "      <td>0</td>\n",
       "      <td>0.0</td>\n",
       "      <td>0</td>\n",
       "      <td>0.0</td>\n",
       "    </tr>\n",
       "    <tr>\n",
       "      <th>3</th>\n",
       "      <td>OKbldt8uTDOJhCtD5OrD7A==</td>\n",
       "      <td>1</td>\n",
       "      <td>3.0</td>\n",
       "      <td>0</td>\n",
       "      <td>0.0</td>\n",
       "      <td>1</td>\n",
       "      <td>2.0</td>\n",
       "      <td>1</td>\n",
       "      <td>2.0</td>\n",
       "      <td>1</td>\n",
       "      <td>...</td>\n",
       "      <td>0</td>\n",
       "      <td>0.0</td>\n",
       "      <td>0</td>\n",
       "      <td>0.0</td>\n",
       "      <td>0</td>\n",
       "      <td>0.0</td>\n",
       "      <td>0</td>\n",
       "      <td>0.0</td>\n",
       "      <td>0</td>\n",
       "      <td>0.0</td>\n",
       "    </tr>\n",
       "    <tr>\n",
       "      <th>4</th>\n",
       "      <td>OLXnSA0JSzGQhBaRRowhQw==</td>\n",
       "      <td>1</td>\n",
       "      <td>2.0</td>\n",
       "      <td>0</td>\n",
       "      <td>0.0</td>\n",
       "      <td>1</td>\n",
       "      <td>2.0</td>\n",
       "      <td>1</td>\n",
       "      <td>2.0</td>\n",
       "      <td>1</td>\n",
       "      <td>...</td>\n",
       "      <td>0</td>\n",
       "      <td>0.0</td>\n",
       "      <td>0</td>\n",
       "      <td>0.0</td>\n",
       "      <td>0</td>\n",
       "      <td>0.0</td>\n",
       "      <td>0</td>\n",
       "      <td>0.0</td>\n",
       "      <td>0</td>\n",
       "      <td>0.0</td>\n",
       "    </tr>\n",
       "  </tbody>\n",
       "</table>\n",
       "<p>5 rows × 3319 columns</p>\n",
       "</div>"
      ],
      "text/plain": [
       "                  member_id  lab_4548-4  lab_4548-4_res  lab_2161-8  \\\n",
       "0  OEcf/fmaTq+aPoYfknZK3A==           1             3.0           1   \n",
       "1  OHAaSbjjQquqw750i32wuA==           1             2.0           0   \n",
       "2  OIW4s4BKSo+YALd/7/FNlw==           1             3.0           1   \n",
       "3  OKbldt8uTDOJhCtD5OrD7A==           1             3.0           0   \n",
       "4  OLXnSA0JSzGQhBaRRowhQw==           1             2.0           0   \n",
       "\n",
       "   lab_2161-8_res  lab_742-7  lab_742-7_res  lab_777-3  lab_777-3_res  \\\n",
       "0             2.0          1            2.0          1            3.0   \n",
       "1             0.0          1            2.0          1            2.0   \n",
       "2             2.0          1            2.0          1            2.0   \n",
       "3             0.0          1            2.0          1            2.0   \n",
       "4             0.0          1            2.0          1            2.0   \n",
       "\n",
       "   lab_2028-9  ...  lab_6821-3  lab_6821-3_res  lab_6152-3  lab_6152-3_res  \\\n",
       "0           1  ...           0             0.0           0             0.0   \n",
       "1           1  ...           0             0.0           0             0.0   \n",
       "2           1  ...           0             0.0           0             0.0   \n",
       "3           1  ...           0             0.0           0             0.0   \n",
       "4           1  ...           0             0.0           0             0.0   \n",
       "\n",
       "   lab_47365-2  lab_47365-2_res  lab_32769-2  lab_32769-2_res  lab_74678-4  \\\n",
       "0            0              0.0            0              0.0            0   \n",
       "1            0              0.0            0              0.0            0   \n",
       "2            0              0.0            0              0.0            0   \n",
       "3            0              0.0            0              0.0            0   \n",
       "4            0              0.0            0              0.0            0   \n",
       "\n",
       "   lab_74678-4_res  \n",
       "0              0.0  \n",
       "1              0.0  \n",
       "2              0.0  \n",
       "3              0.0  \n",
       "4              0.0  \n",
       "\n",
       "[5 rows x 3319 columns]"
      ]
     },
     "execution_count": 156,
     "metadata": {},
     "output_type": "execute_result"
    }
   ],
   "source": [
    "df3_res.head()"
   ]
  },
  {
   "cell_type": "code",
   "execution_count": 157,
   "metadata": {},
   "outputs": [
    {
     "name": "stdout",
     "output_type": "stream",
     "text": [
      "<class 'pandas.core.frame.DataFrame'>\n",
      "RangeIndex: 2290 entries, 0 to 2289\n",
      "Columns: 3319 entries, member_id to lab_74678-4_res\n",
      "dtypes: float64(1457), int64(1861), object(1)\n",
      "memory usage: 58.0+ MB\n"
     ]
    }
   ],
   "source": [
    "df3_res.info()"
   ]
  },
  {
   "cell_type": "markdown",
   "metadata": {},
   "source": [
    "Next, we will change the object dtypes to 'float64' for all columns except for `member_id`."
   ]
  },
  {
   "cell_type": "code",
   "execution_count": 158,
   "metadata": {},
   "outputs": [
    {
     "data": {
      "text/html": [
       "<div>\n",
       "<style scoped>\n",
       "    .dataframe tbody tr th:only-of-type {\n",
       "        vertical-align: middle;\n",
       "    }\n",
       "\n",
       "    .dataframe tbody tr th {\n",
       "        vertical-align: top;\n",
       "    }\n",
       "\n",
       "    .dataframe thead th {\n",
       "        text-align: right;\n",
       "    }\n",
       "</style>\n",
       "<table border=\"1\" class=\"dataframe\">\n",
       "  <thead>\n",
       "    <tr style=\"text-align: right;\">\n",
       "      <th></th>\n",
       "      <th>member_id</th>\n",
       "      <th>lab_4548-4</th>\n",
       "      <th>lab_4548-4_res</th>\n",
       "      <th>lab_2161-8</th>\n",
       "      <th>lab_2161-8_res</th>\n",
       "      <th>lab_742-7</th>\n",
       "      <th>lab_742-7_res</th>\n",
       "      <th>lab_777-3</th>\n",
       "      <th>lab_777-3_res</th>\n",
       "      <th>lab_2028-9</th>\n",
       "      <th>...</th>\n",
       "      <th>lab_6821-3</th>\n",
       "      <th>lab_6821-3_res</th>\n",
       "      <th>lab_6152-3</th>\n",
       "      <th>lab_6152-3_res</th>\n",
       "      <th>lab_47365-2</th>\n",
       "      <th>lab_47365-2_res</th>\n",
       "      <th>lab_32769-2</th>\n",
       "      <th>lab_32769-2_res</th>\n",
       "      <th>lab_74678-4</th>\n",
       "      <th>lab_74678-4_res</th>\n",
       "    </tr>\n",
       "  </thead>\n",
       "  <tbody>\n",
       "    <tr>\n",
       "      <th>0</th>\n",
       "      <td>OEcf/fmaTq+aPoYfknZK3A==</td>\n",
       "      <td>1</td>\n",
       "      <td>3.0</td>\n",
       "      <td>1</td>\n",
       "      <td>2.0</td>\n",
       "      <td>1</td>\n",
       "      <td>2.0</td>\n",
       "      <td>1</td>\n",
       "      <td>3.0</td>\n",
       "      <td>1</td>\n",
       "      <td>...</td>\n",
       "      <td>0</td>\n",
       "      <td>0.0</td>\n",
       "      <td>0</td>\n",
       "      <td>0.0</td>\n",
       "      <td>0</td>\n",
       "      <td>0.0</td>\n",
       "      <td>0</td>\n",
       "      <td>0.0</td>\n",
       "      <td>0</td>\n",
       "      <td>0.0</td>\n",
       "    </tr>\n",
       "    <tr>\n",
       "      <th>1</th>\n",
       "      <td>OHAaSbjjQquqw750i32wuA==</td>\n",
       "      <td>1</td>\n",
       "      <td>2.0</td>\n",
       "      <td>0</td>\n",
       "      <td>0.0</td>\n",
       "      <td>1</td>\n",
       "      <td>2.0</td>\n",
       "      <td>1</td>\n",
       "      <td>2.0</td>\n",
       "      <td>1</td>\n",
       "      <td>...</td>\n",
       "      <td>0</td>\n",
       "      <td>0.0</td>\n",
       "      <td>0</td>\n",
       "      <td>0.0</td>\n",
       "      <td>0</td>\n",
       "      <td>0.0</td>\n",
       "      <td>0</td>\n",
       "      <td>0.0</td>\n",
       "      <td>0</td>\n",
       "      <td>0.0</td>\n",
       "    </tr>\n",
       "    <tr>\n",
       "      <th>2</th>\n",
       "      <td>OIW4s4BKSo+YALd/7/FNlw==</td>\n",
       "      <td>1</td>\n",
       "      <td>3.0</td>\n",
       "      <td>1</td>\n",
       "      <td>2.0</td>\n",
       "      <td>1</td>\n",
       "      <td>2.0</td>\n",
       "      <td>1</td>\n",
       "      <td>2.0</td>\n",
       "      <td>1</td>\n",
       "      <td>...</td>\n",
       "      <td>0</td>\n",
       "      <td>0.0</td>\n",
       "      <td>0</td>\n",
       "      <td>0.0</td>\n",
       "      <td>0</td>\n",
       "      <td>0.0</td>\n",
       "      <td>0</td>\n",
       "      <td>0.0</td>\n",
       "      <td>0</td>\n",
       "      <td>0.0</td>\n",
       "    </tr>\n",
       "    <tr>\n",
       "      <th>3</th>\n",
       "      <td>OKbldt8uTDOJhCtD5OrD7A==</td>\n",
       "      <td>1</td>\n",
       "      <td>3.0</td>\n",
       "      <td>0</td>\n",
       "      <td>0.0</td>\n",
       "      <td>1</td>\n",
       "      <td>2.0</td>\n",
       "      <td>1</td>\n",
       "      <td>2.0</td>\n",
       "      <td>1</td>\n",
       "      <td>...</td>\n",
       "      <td>0</td>\n",
       "      <td>0.0</td>\n",
       "      <td>0</td>\n",
       "      <td>0.0</td>\n",
       "      <td>0</td>\n",
       "      <td>0.0</td>\n",
       "      <td>0</td>\n",
       "      <td>0.0</td>\n",
       "      <td>0</td>\n",
       "      <td>0.0</td>\n",
       "    </tr>\n",
       "    <tr>\n",
       "      <th>4</th>\n",
       "      <td>OLXnSA0JSzGQhBaRRowhQw==</td>\n",
       "      <td>1</td>\n",
       "      <td>2.0</td>\n",
       "      <td>0</td>\n",
       "      <td>0.0</td>\n",
       "      <td>1</td>\n",
       "      <td>2.0</td>\n",
       "      <td>1</td>\n",
       "      <td>2.0</td>\n",
       "      <td>1</td>\n",
       "      <td>...</td>\n",
       "      <td>0</td>\n",
       "      <td>0.0</td>\n",
       "      <td>0</td>\n",
       "      <td>0.0</td>\n",
       "      <td>0</td>\n",
       "      <td>0.0</td>\n",
       "      <td>0</td>\n",
       "      <td>0.0</td>\n",
       "      <td>0</td>\n",
       "      <td>0.0</td>\n",
       "    </tr>\n",
       "    <tr>\n",
       "      <th>...</th>\n",
       "      <td>...</td>\n",
       "      <td>...</td>\n",
       "      <td>...</td>\n",
       "      <td>...</td>\n",
       "      <td>...</td>\n",
       "      <td>...</td>\n",
       "      <td>...</td>\n",
       "      <td>...</td>\n",
       "      <td>...</td>\n",
       "      <td>...</td>\n",
       "      <td>...</td>\n",
       "      <td>...</td>\n",
       "      <td>...</td>\n",
       "      <td>...</td>\n",
       "      <td>...</td>\n",
       "      <td>...</td>\n",
       "      <td>...</td>\n",
       "      <td>...</td>\n",
       "      <td>...</td>\n",
       "      <td>...</td>\n",
       "      <td>...</td>\n",
       "    </tr>\n",
       "    <tr>\n",
       "      <th>2285</th>\n",
       "      <td>/2Glid0uTfiICiJpFqoRQA==</td>\n",
       "      <td>0</td>\n",
       "      <td>0.0</td>\n",
       "      <td>0</td>\n",
       "      <td>0.0</td>\n",
       "      <td>1</td>\n",
       "      <td>2.0</td>\n",
       "      <td>1</td>\n",
       "      <td>2.0</td>\n",
       "      <td>1</td>\n",
       "      <td>...</td>\n",
       "      <td>0</td>\n",
       "      <td>0.0</td>\n",
       "      <td>0</td>\n",
       "      <td>0.0</td>\n",
       "      <td>0</td>\n",
       "      <td>0.0</td>\n",
       "      <td>0</td>\n",
       "      <td>0.0</td>\n",
       "      <td>0</td>\n",
       "      <td>0.0</td>\n",
       "    </tr>\n",
       "    <tr>\n",
       "      <th>2286</th>\n",
       "      <td>/6ErI2QeS9+NYAvCfq4NEg==</td>\n",
       "      <td>0</td>\n",
       "      <td>0.0</td>\n",
       "      <td>0</td>\n",
       "      <td>0.0</td>\n",
       "      <td>0</td>\n",
       "      <td>0.0</td>\n",
       "      <td>1</td>\n",
       "      <td>2.0</td>\n",
       "      <td>1</td>\n",
       "      <td>...</td>\n",
       "      <td>0</td>\n",
       "      <td>0.0</td>\n",
       "      <td>0</td>\n",
       "      <td>0.0</td>\n",
       "      <td>0</td>\n",
       "      <td>0.0</td>\n",
       "      <td>0</td>\n",
       "      <td>0.0</td>\n",
       "      <td>0</td>\n",
       "      <td>0.0</td>\n",
       "    </tr>\n",
       "    <tr>\n",
       "      <th>2287</th>\n",
       "      <td>/6KVmD1fSLyLfmsKwAkHYA==</td>\n",
       "      <td>0</td>\n",
       "      <td>0.0</td>\n",
       "      <td>0</td>\n",
       "      <td>0.0</td>\n",
       "      <td>0</td>\n",
       "      <td>0.0</td>\n",
       "      <td>0</td>\n",
       "      <td>0.0</td>\n",
       "      <td>1</td>\n",
       "      <td>...</td>\n",
       "      <td>0</td>\n",
       "      <td>0.0</td>\n",
       "      <td>0</td>\n",
       "      <td>0.0</td>\n",
       "      <td>0</td>\n",
       "      <td>0.0</td>\n",
       "      <td>0</td>\n",
       "      <td>0.0</td>\n",
       "      <td>0</td>\n",
       "      <td>0.0</td>\n",
       "    </tr>\n",
       "    <tr>\n",
       "      <th>2288</th>\n",
       "      <td>//CCSUI/S9ucTP+bePc5bg==</td>\n",
       "      <td>1</td>\n",
       "      <td>3.0</td>\n",
       "      <td>1</td>\n",
       "      <td>NaN</td>\n",
       "      <td>1</td>\n",
       "      <td>2.0</td>\n",
       "      <td>1</td>\n",
       "      <td>2.0</td>\n",
       "      <td>1</td>\n",
       "      <td>...</td>\n",
       "      <td>0</td>\n",
       "      <td>0.0</td>\n",
       "      <td>0</td>\n",
       "      <td>0.0</td>\n",
       "      <td>0</td>\n",
       "      <td>0.0</td>\n",
       "      <td>0</td>\n",
       "      <td>0.0</td>\n",
       "      <td>1</td>\n",
       "      <td>NaN</td>\n",
       "    </tr>\n",
       "    <tr>\n",
       "      <th>2289</th>\n",
       "      <td>///uITfyRfWJWvDWJ+kZLA==</td>\n",
       "      <td>1</td>\n",
       "      <td>3.0</td>\n",
       "      <td>1</td>\n",
       "      <td>2.0</td>\n",
       "      <td>1</td>\n",
       "      <td>2.0</td>\n",
       "      <td>1</td>\n",
       "      <td>2.0</td>\n",
       "      <td>1</td>\n",
       "      <td>...</td>\n",
       "      <td>0</td>\n",
       "      <td>0.0</td>\n",
       "      <td>0</td>\n",
       "      <td>0.0</td>\n",
       "      <td>0</td>\n",
       "      <td>0.0</td>\n",
       "      <td>0</td>\n",
       "      <td>0.0</td>\n",
       "      <td>0</td>\n",
       "      <td>0.0</td>\n",
       "    </tr>\n",
       "  </tbody>\n",
       "</table>\n",
       "<p>2290 rows × 3319 columns</p>\n",
       "</div>"
      ],
      "text/plain": [
       "                     member_id  lab_4548-4  lab_4548-4_res  lab_2161-8  \\\n",
       "0     OEcf/fmaTq+aPoYfknZK3A==           1             3.0           1   \n",
       "1     OHAaSbjjQquqw750i32wuA==           1             2.0           0   \n",
       "2     OIW4s4BKSo+YALd/7/FNlw==           1             3.0           1   \n",
       "3     OKbldt8uTDOJhCtD5OrD7A==           1             3.0           0   \n",
       "4     OLXnSA0JSzGQhBaRRowhQw==           1             2.0           0   \n",
       "...                        ...         ...             ...         ...   \n",
       "2285  /2Glid0uTfiICiJpFqoRQA==           0             0.0           0   \n",
       "2286  /6ErI2QeS9+NYAvCfq4NEg==           0             0.0           0   \n",
       "2287  /6KVmD1fSLyLfmsKwAkHYA==           0             0.0           0   \n",
       "2288  //CCSUI/S9ucTP+bePc5bg==           1             3.0           1   \n",
       "2289  ///uITfyRfWJWvDWJ+kZLA==           1             3.0           1   \n",
       "\n",
       "      lab_2161-8_res  lab_742-7  lab_742-7_res  lab_777-3  lab_777-3_res  \\\n",
       "0                2.0          1            2.0          1            3.0   \n",
       "1                0.0          1            2.0          1            2.0   \n",
       "2                2.0          1            2.0          1            2.0   \n",
       "3                0.0          1            2.0          1            2.0   \n",
       "4                0.0          1            2.0          1            2.0   \n",
       "...              ...        ...            ...        ...            ...   \n",
       "2285             0.0          1            2.0          1            2.0   \n",
       "2286             0.0          0            0.0          1            2.0   \n",
       "2287             0.0          0            0.0          0            0.0   \n",
       "2288             NaN          1            2.0          1            2.0   \n",
       "2289             2.0          1            2.0          1            2.0   \n",
       "\n",
       "      lab_2028-9  ...  lab_6821-3  lab_6821-3_res  lab_6152-3  lab_6152-3_res  \\\n",
       "0              1  ...           0             0.0           0             0.0   \n",
       "1              1  ...           0             0.0           0             0.0   \n",
       "2              1  ...           0             0.0           0             0.0   \n",
       "3              1  ...           0             0.0           0             0.0   \n",
       "4              1  ...           0             0.0           0             0.0   \n",
       "...          ...  ...         ...             ...         ...             ...   \n",
       "2285           1  ...           0             0.0           0             0.0   \n",
       "2286           1  ...           0             0.0           0             0.0   \n",
       "2287           1  ...           0             0.0           0             0.0   \n",
       "2288           1  ...           0             0.0           0             0.0   \n",
       "2289           1  ...           0             0.0           0             0.0   \n",
       "\n",
       "      lab_47365-2  lab_47365-2_res  lab_32769-2  lab_32769-2_res  lab_74678-4  \\\n",
       "0               0              0.0            0              0.0            0   \n",
       "1               0              0.0            0              0.0            0   \n",
       "2               0              0.0            0              0.0            0   \n",
       "3               0              0.0            0              0.0            0   \n",
       "4               0              0.0            0              0.0            0   \n",
       "...           ...              ...          ...              ...          ...   \n",
       "2285            0              0.0            0              0.0            0   \n",
       "2286            0              0.0            0              0.0            0   \n",
       "2287            0              0.0            0              0.0            0   \n",
       "2288            0              0.0            0              0.0            1   \n",
       "2289            0              0.0            0              0.0            0   \n",
       "\n",
       "      lab_74678-4_res  \n",
       "0                 0.0  \n",
       "1                 0.0  \n",
       "2                 0.0  \n",
       "3                 0.0  \n",
       "4                 0.0  \n",
       "...               ...  \n",
       "2285              0.0  \n",
       "2286              0.0  \n",
       "2287              0.0  \n",
       "2288              NaN  \n",
       "2289              0.0  \n",
       "\n",
       "[2290 rows x 3319 columns]"
      ]
     },
     "execution_count": 158,
     "metadata": {},
     "output_type": "execute_result"
    }
   ],
   "source": [
    "lst_object_type=list(df3_res.select_dtypes(include=['object']).columns[1:])\n",
    "lst_object_type\n",
    "dict0={}\n",
    "for item in lst_object_type:\n",
    "    dict0[item]='float64'\n",
    "dict0\n",
    "df3_res.astype(dict0)"
   ]
  },
  {
   "cell_type": "code",
   "execution_count": 159,
   "metadata": {},
   "outputs": [
    {
     "name": "stdout",
     "output_type": "stream",
     "text": [
      "<class 'pandas.core.frame.DataFrame'>\n",
      "RangeIndex: 2290 entries, 0 to 2289\n",
      "Columns: 3319 entries, member_id to lab_74678-4_res\n",
      "dtypes: float64(1457), int64(1861), object(1)\n",
      "memory usage: 58.0+ MB\n"
     ]
    }
   ],
   "source": [
    "df3_res.info() # check the update"
   ]
  },
  {
   "cell_type": "code",
   "execution_count": 160,
   "metadata": {},
   "outputs": [
    {
     "name": "stdout",
     "output_type": "stream",
     "text": [
      "A file already exists with this name.\n",
      "\n",
      "Do you want to overwrite? (Y/N)Y\n",
      "Writing file.  \"../Outputs/df3_res.csv\"\n"
     ]
    }
   ],
   "source": [
    "# save the data to a new csv file\n",
    "datapath = '../Outputs'\n",
    "save_file(df3_res, 'df3_res.csv', datapath)"
   ]
  },
  {
   "cell_type": "code",
   "execution_count": null,
   "metadata": {},
   "outputs": [],
   "source": []
  },
  {
   "cell_type": "markdown",
   "metadata": {},
   "source": [
    "### 2.9.4 Patients Data Converted<a id='2.9.4_Patients_Data'></a>"
   ]
  },
  {
   "cell_type": "code",
   "execution_count": 161,
   "metadata": {},
   "outputs": [
    {
     "data": {
      "text/html": [
       "<div>\n",
       "<style scoped>\n",
       "    .dataframe tbody tr th:only-of-type {\n",
       "        vertical-align: middle;\n",
       "    }\n",
       "\n",
       "    .dataframe tbody tr th {\n",
       "        vertical-align: top;\n",
       "    }\n",
       "\n",
       "    .dataframe thead th {\n",
       "        text-align: right;\n",
       "    }\n",
       "</style>\n",
       "<table border=\"1\" class=\"dataframe\">\n",
       "  <thead>\n",
       "    <tr style=\"text-align: right;\">\n",
       "      <th></th>\n",
       "      <th>member_id</th>\n",
       "      <th>age</th>\n",
       "      <th>sex</th>\n",
       "      <th>dual_status</th>\n",
       "      <th>insurance_company</th>\n",
       "      <th>insurance_type</th>\n",
       "      <th>pbp_type</th>\n",
       "      <th>county</th>\n",
       "      <th>city</th>\n",
       "    </tr>\n",
       "  </thead>\n",
       "  <tbody>\n",
       "    <tr>\n",
       "      <th>0</th>\n",
       "      <td>AAHLhKW7RYOEQIemWrh/1w==</td>\n",
       "      <td>72</td>\n",
       "      <td>M</td>\n",
       "      <td>1</td>\n",
       "      <td>1</td>\n",
       "      <td>1</td>\n",
       "      <td>1</td>\n",
       "      <td>1</td>\n",
       "      <td>1</td>\n",
       "    </tr>\n",
       "    <tr>\n",
       "      <th>23</th>\n",
       "      <td>ADD7uXD9TBOUjJD43H3tNw==</td>\n",
       "      <td>46</td>\n",
       "      <td>F</td>\n",
       "      <td>2</td>\n",
       "      <td>2</td>\n",
       "      <td>1</td>\n",
       "      <td>3</td>\n",
       "      <td>2</td>\n",
       "      <td>2</td>\n",
       "    </tr>\n",
       "    <tr>\n",
       "      <th>56</th>\n",
       "      <td>AH8v69t8QBW1u2Iuh/5qlQ==</td>\n",
       "      <td>43</td>\n",
       "      <td>M</td>\n",
       "      <td>2</td>\n",
       "      <td>5</td>\n",
       "      <td>1</td>\n",
       "      <td>1</td>\n",
       "      <td>9</td>\n",
       "      <td>20</td>\n",
       "    </tr>\n",
       "    <tr>\n",
       "      <th>58</th>\n",
       "      <td>AIEq/y06TGOCCjwkDzmaeA==</td>\n",
       "      <td>89</td>\n",
       "      <td>M</td>\n",
       "      <td>2</td>\n",
       "      <td>2</td>\n",
       "      <td>1</td>\n",
       "      <td>2</td>\n",
       "      <td>15</td>\n",
       "      <td>35</td>\n",
       "    </tr>\n",
       "    <tr>\n",
       "      <th>60</th>\n",
       "      <td>AIfxyYzERH6jOgV6KZqn+g==</td>\n",
       "      <td>76</td>\n",
       "      <td>F</td>\n",
       "      <td>2</td>\n",
       "      <td>2</td>\n",
       "      <td>1</td>\n",
       "      <td>2</td>\n",
       "      <td>2</td>\n",
       "      <td>2</td>\n",
       "    </tr>\n",
       "    <tr>\n",
       "      <th>...</th>\n",
       "      <td>...</td>\n",
       "      <td>...</td>\n",
       "      <td>...</td>\n",
       "      <td>...</td>\n",
       "      <td>...</td>\n",
       "      <td>...</td>\n",
       "      <td>...</td>\n",
       "      <td>...</td>\n",
       "      <td>...</td>\n",
       "    </tr>\n",
       "    <tr>\n",
       "      <th>26503</th>\n",
       "      <td>/2Glid0uTfiICiJpFqoRQA==</td>\n",
       "      <td>79</td>\n",
       "      <td>F</td>\n",
       "      <td>2</td>\n",
       "      <td>2</td>\n",
       "      <td>1</td>\n",
       "      <td>5</td>\n",
       "      <td>2</td>\n",
       "      <td>82</td>\n",
       "    </tr>\n",
       "    <tr>\n",
       "      <th>26519</th>\n",
       "      <td>/6ErI2QeS9+NYAvCfq4NEg==</td>\n",
       "      <td>87</td>\n",
       "      <td>M</td>\n",
       "      <td>2</td>\n",
       "      <td>2</td>\n",
       "      <td>1</td>\n",
       "      <td>6</td>\n",
       "      <td>8</td>\n",
       "      <td>28</td>\n",
       "    </tr>\n",
       "    <tr>\n",
       "      <th>26520</th>\n",
       "      <td>/6KVmD1fSLyLfmsKwAkHYA==</td>\n",
       "      <td>71</td>\n",
       "      <td>M</td>\n",
       "      <td>6</td>\n",
       "      <td>1</td>\n",
       "      <td>1</td>\n",
       "      <td>3</td>\n",
       "      <td>18</td>\n",
       "      <td>78</td>\n",
       "    </tr>\n",
       "    <tr>\n",
       "      <th>26553</th>\n",
       "      <td>//CCSUI/S9ucTP+bePc5bg==</td>\n",
       "      <td>77</td>\n",
       "      <td>F</td>\n",
       "      <td>2</td>\n",
       "      <td>4</td>\n",
       "      <td>1</td>\n",
       "      <td>1</td>\n",
       "      <td>7</td>\n",
       "      <td>10</td>\n",
       "    </tr>\n",
       "    <tr>\n",
       "      <th>26558</th>\n",
       "      <td>///uITfyRfWJWvDWJ+kZLA==</td>\n",
       "      <td>70</td>\n",
       "      <td>M</td>\n",
       "      <td>2</td>\n",
       "      <td>2</td>\n",
       "      <td>1</td>\n",
       "      <td>6</td>\n",
       "      <td>12</td>\n",
       "      <td>64</td>\n",
       "    </tr>\n",
       "  </tbody>\n",
       "</table>\n",
       "<p>2444 rows × 9 columns</p>\n",
       "</div>"
      ],
      "text/plain": [
       "                      member_id  age sex dual_status insurance_company  \\\n",
       "0      AAHLhKW7RYOEQIemWrh/1w==   72   M           1                 1   \n",
       "23     ADD7uXD9TBOUjJD43H3tNw==   46   F           2                 2   \n",
       "56     AH8v69t8QBW1u2Iuh/5qlQ==   43   M           2                 5   \n",
       "58     AIEq/y06TGOCCjwkDzmaeA==   89   M           2                 2   \n",
       "60     AIfxyYzERH6jOgV6KZqn+g==   76   F           2                 2   \n",
       "...                         ...  ...  ..         ...               ...   \n",
       "26503  /2Glid0uTfiICiJpFqoRQA==   79   F           2                 2   \n",
       "26519  /6ErI2QeS9+NYAvCfq4NEg==   87   M           2                 2   \n",
       "26520  /6KVmD1fSLyLfmsKwAkHYA==   71   M           6                 1   \n",
       "26553  //CCSUI/S9ucTP+bePc5bg==   77   F           2                 4   \n",
       "26558  ///uITfyRfWJWvDWJ+kZLA==   70   M           2                 2   \n",
       "\n",
       "      insurance_type pbp_type county city  \n",
       "0                  1        1      1    1  \n",
       "23                 1        3      2    2  \n",
       "56                 1        1      9   20  \n",
       "58                 1        2     15   35  \n",
       "60                 1        2      2    2  \n",
       "...              ...      ...    ...  ...  \n",
       "26503              1        5      2   82  \n",
       "26519              1        6      8   28  \n",
       "26520              1        3     18   78  \n",
       "26553              1        1      7   10  \n",
       "26558              1        6     12   64  \n",
       "\n",
       "[2444 rows x 9 columns]"
      ]
     },
     "execution_count": 161,
     "metadata": {},
     "output_type": "execute_result"
    }
   ],
   "source": [
    "df4_subset"
   ]
  },
  {
   "cell_type": "code",
   "execution_count": 162,
   "metadata": {},
   "outputs": [
    {
     "data": {
      "text/plain": [
       "member_id            2444\n",
       "age                    58\n",
       "sex                     2\n",
       "dual_status             8\n",
       "insurance_company      11\n",
       "insurance_type          2\n",
       "pbp_type                9\n",
       "county                 30\n",
       "city                  202\n",
       "dtype: int64"
      ]
     },
     "execution_count": 162,
     "metadata": {},
     "output_type": "execute_result"
    }
   ],
   "source": [
    "df4_subset.nunique()"
   ]
  },
  {
   "cell_type": "markdown",
   "metadata": {},
   "source": [
    "'df4_subset' has one record per member id, which indicates that we only need to get dummy variables for the categorical columns."
   ]
  },
  {
   "cell_type": "code",
   "execution_count": 163,
   "metadata": {},
   "outputs": [],
   "source": [
    "df4_subset=df4_subset.astype({'age': 'int64', 'sex': 'category', 'dual_status':'category', 'insurance_company':'category',\n",
    "       'insurance_type': 'category', 'pbp_type': 'category', 'county': 'category', 'city': 'category'})"
   ]
  },
  {
   "cell_type": "code",
   "execution_count": 164,
   "metadata": {},
   "outputs": [
    {
     "name": "stdout",
     "output_type": "stream",
     "text": [
      "<class 'pandas.core.frame.DataFrame'>\n",
      "Int64Index: 2444 entries, 0 to 26558\n",
      "Data columns (total 9 columns):\n",
      " #   Column             Non-Null Count  Dtype   \n",
      "---  ------             --------------  -----   \n",
      " 0   member_id          2444 non-null   object  \n",
      " 1   age                2444 non-null   int64   \n",
      " 2   sex                2444 non-null   category\n",
      " 3   dual_status        2444 non-null   category\n",
      " 4   insurance_company  2444 non-null   category\n",
      " 5   insurance_type     2444 non-null   category\n",
      " 6   pbp_type           2444 non-null   category\n",
      " 7   county             2444 non-null   category\n",
      " 8   city               2444 non-null   category\n",
      "dtypes: category(7), int64(1), object(1)\n",
      "memory usage: 90.8+ KB\n"
     ]
    }
   ],
   "source": [
    "df4_subset.info() # check the update"
   ]
  },
  {
   "cell_type": "code",
   "execution_count": 165,
   "metadata": {},
   "outputs": [
    {
     "name": "stdout",
     "output_type": "stream",
     "text": [
      "A file already exists with this name.\n",
      "\n",
      "Do you want to overwrite? (Y/N)Y\n",
      "Writing file.  \"../Outputs/df4_subset.csv\"\n"
     ]
    }
   ],
   "source": [
    "# save the data to a new csv file\n",
    "datapath = '../Outputs'\n",
    "save_file(df4_subset, 'df4_subset.csv', datapath)"
   ]
  },
  {
   "cell_type": "code",
   "execution_count": 166,
   "metadata": {},
   "outputs": [],
   "source": [
    "df4_res=pd.get_dummies(df4_subset, columns=['sex', 'dual_status', 'insurance_company',\n",
    "       'insurance_type', 'pbp_type', 'county', 'city'])"
   ]
  },
  {
   "cell_type": "code",
   "execution_count": 167,
   "metadata": {},
   "outputs": [
    {
     "data": {
      "text/html": [
       "<div>\n",
       "<style scoped>\n",
       "    .dataframe tbody tr th:only-of-type {\n",
       "        vertical-align: middle;\n",
       "    }\n",
       "\n",
       "    .dataframe tbody tr th {\n",
       "        vertical-align: top;\n",
       "    }\n",
       "\n",
       "    .dataframe thead th {\n",
       "        text-align: right;\n",
       "    }\n",
       "</style>\n",
       "<table border=\"1\" class=\"dataframe\">\n",
       "  <thead>\n",
       "    <tr style=\"text-align: right;\">\n",
       "      <th></th>\n",
       "      <th>member_id</th>\n",
       "      <th>age</th>\n",
       "      <th>sex_F</th>\n",
       "      <th>sex_M</th>\n",
       "      <th>dual_status_1</th>\n",
       "      <th>dual_status_2</th>\n",
       "      <th>dual_status_3</th>\n",
       "      <th>dual_status_4</th>\n",
       "      <th>dual_status_5</th>\n",
       "      <th>dual_status_6</th>\n",
       "      <th>...</th>\n",
       "      <th>city_9</th>\n",
       "      <th>city_90</th>\n",
       "      <th>city_91</th>\n",
       "      <th>city_92</th>\n",
       "      <th>city_93</th>\n",
       "      <th>city_95</th>\n",
       "      <th>city_96</th>\n",
       "      <th>city_97</th>\n",
       "      <th>city_98</th>\n",
       "      <th>city_99</th>\n",
       "    </tr>\n",
       "  </thead>\n",
       "  <tbody>\n",
       "    <tr>\n",
       "      <th>0</th>\n",
       "      <td>AAHLhKW7RYOEQIemWrh/1w==</td>\n",
       "      <td>72</td>\n",
       "      <td>0</td>\n",
       "      <td>1</td>\n",
       "      <td>1</td>\n",
       "      <td>0</td>\n",
       "      <td>0</td>\n",
       "      <td>0</td>\n",
       "      <td>0</td>\n",
       "      <td>0</td>\n",
       "      <td>...</td>\n",
       "      <td>0</td>\n",
       "      <td>0</td>\n",
       "      <td>0</td>\n",
       "      <td>0</td>\n",
       "      <td>0</td>\n",
       "      <td>0</td>\n",
       "      <td>0</td>\n",
       "      <td>0</td>\n",
       "      <td>0</td>\n",
       "      <td>0</td>\n",
       "    </tr>\n",
       "    <tr>\n",
       "      <th>23</th>\n",
       "      <td>ADD7uXD9TBOUjJD43H3tNw==</td>\n",
       "      <td>46</td>\n",
       "      <td>1</td>\n",
       "      <td>0</td>\n",
       "      <td>0</td>\n",
       "      <td>1</td>\n",
       "      <td>0</td>\n",
       "      <td>0</td>\n",
       "      <td>0</td>\n",
       "      <td>0</td>\n",
       "      <td>...</td>\n",
       "      <td>0</td>\n",
       "      <td>0</td>\n",
       "      <td>0</td>\n",
       "      <td>0</td>\n",
       "      <td>0</td>\n",
       "      <td>0</td>\n",
       "      <td>0</td>\n",
       "      <td>0</td>\n",
       "      <td>0</td>\n",
       "      <td>0</td>\n",
       "    </tr>\n",
       "    <tr>\n",
       "      <th>56</th>\n",
       "      <td>AH8v69t8QBW1u2Iuh/5qlQ==</td>\n",
       "      <td>43</td>\n",
       "      <td>0</td>\n",
       "      <td>1</td>\n",
       "      <td>0</td>\n",
       "      <td>1</td>\n",
       "      <td>0</td>\n",
       "      <td>0</td>\n",
       "      <td>0</td>\n",
       "      <td>0</td>\n",
       "      <td>...</td>\n",
       "      <td>0</td>\n",
       "      <td>0</td>\n",
       "      <td>0</td>\n",
       "      <td>0</td>\n",
       "      <td>0</td>\n",
       "      <td>0</td>\n",
       "      <td>0</td>\n",
       "      <td>0</td>\n",
       "      <td>0</td>\n",
       "      <td>0</td>\n",
       "    </tr>\n",
       "    <tr>\n",
       "      <th>58</th>\n",
       "      <td>AIEq/y06TGOCCjwkDzmaeA==</td>\n",
       "      <td>89</td>\n",
       "      <td>0</td>\n",
       "      <td>1</td>\n",
       "      <td>0</td>\n",
       "      <td>1</td>\n",
       "      <td>0</td>\n",
       "      <td>0</td>\n",
       "      <td>0</td>\n",
       "      <td>0</td>\n",
       "      <td>...</td>\n",
       "      <td>0</td>\n",
       "      <td>0</td>\n",
       "      <td>0</td>\n",
       "      <td>0</td>\n",
       "      <td>0</td>\n",
       "      <td>0</td>\n",
       "      <td>0</td>\n",
       "      <td>0</td>\n",
       "      <td>0</td>\n",
       "      <td>0</td>\n",
       "    </tr>\n",
       "    <tr>\n",
       "      <th>60</th>\n",
       "      <td>AIfxyYzERH6jOgV6KZqn+g==</td>\n",
       "      <td>76</td>\n",
       "      <td>1</td>\n",
       "      <td>0</td>\n",
       "      <td>0</td>\n",
       "      <td>1</td>\n",
       "      <td>0</td>\n",
       "      <td>0</td>\n",
       "      <td>0</td>\n",
       "      <td>0</td>\n",
       "      <td>...</td>\n",
       "      <td>0</td>\n",
       "      <td>0</td>\n",
       "      <td>0</td>\n",
       "      <td>0</td>\n",
       "      <td>0</td>\n",
       "      <td>0</td>\n",
       "      <td>0</td>\n",
       "      <td>0</td>\n",
       "      <td>0</td>\n",
       "      <td>0</td>\n",
       "    </tr>\n",
       "  </tbody>\n",
       "</table>\n",
       "<p>5 rows × 266 columns</p>\n",
       "</div>"
      ],
      "text/plain": [
       "                   member_id  age  sex_F  sex_M  dual_status_1  dual_status_2  \\\n",
       "0   AAHLhKW7RYOEQIemWrh/1w==   72      0      1              1              0   \n",
       "23  ADD7uXD9TBOUjJD43H3tNw==   46      1      0              0              1   \n",
       "56  AH8v69t8QBW1u2Iuh/5qlQ==   43      0      1              0              1   \n",
       "58  AIEq/y06TGOCCjwkDzmaeA==   89      0      1              0              1   \n",
       "60  AIfxyYzERH6jOgV6KZqn+g==   76      1      0              0              1   \n",
       "\n",
       "    dual_status_3  dual_status_4  dual_status_5  dual_status_6  ...  city_9  \\\n",
       "0               0              0              0              0  ...       0   \n",
       "23              0              0              0              0  ...       0   \n",
       "56              0              0              0              0  ...       0   \n",
       "58              0              0              0              0  ...       0   \n",
       "60              0              0              0              0  ...       0   \n",
       "\n",
       "    city_90  city_91  city_92  city_93  city_95  city_96  city_97  city_98  \\\n",
       "0         0        0        0        0        0        0        0        0   \n",
       "23        0        0        0        0        0        0        0        0   \n",
       "56        0        0        0        0        0        0        0        0   \n",
       "58        0        0        0        0        0        0        0        0   \n",
       "60        0        0        0        0        0        0        0        0   \n",
       "\n",
       "    city_99  \n",
       "0         0  \n",
       "23        0  \n",
       "56        0  \n",
       "58        0  \n",
       "60        0  \n",
       "\n",
       "[5 rows x 266 columns]"
      ]
     },
     "execution_count": 167,
     "metadata": {},
     "output_type": "execute_result"
    }
   ],
   "source": [
    "df4_res.head()"
   ]
  },
  {
   "cell_type": "code",
   "execution_count": 168,
   "metadata": {},
   "outputs": [
    {
     "name": "stdout",
     "output_type": "stream",
     "text": [
      "A file already exists with this name.\n",
      "\n",
      "Do you want to overwrite? (Y/N)Y\n",
      "Writing file.  \"../Outputs/df4_res.csv\"\n"
     ]
    }
   ],
   "source": [
    "# save the data to a new csv file\n",
    "datapath = '../Outputs'\n",
    "save_file(df4_res, 'df4_res.csv', datapath)"
   ]
  },
  {
   "cell_type": "code",
   "execution_count": null,
   "metadata": {},
   "outputs": [],
   "source": []
  },
  {
   "cell_type": "markdown",
   "metadata": {},
   "source": [
    "### 2.9.5  Prescriptions Data Converted<a id='2.9.5_Prescriptions_Data'></a>"
   ]
  },
  {
   "cell_type": "code",
   "execution_count": 169,
   "metadata": {},
   "outputs": [
    {
     "data": {
      "text/html": [
       "<div>\n",
       "<style scoped>\n",
       "    .dataframe tbody tr th:only-of-type {\n",
       "        vertical-align: middle;\n",
       "    }\n",
       "\n",
       "    .dataframe tbody tr th {\n",
       "        vertical-align: top;\n",
       "    }\n",
       "\n",
       "    .dataframe thead th {\n",
       "        text-align: right;\n",
       "    }\n",
       "</style>\n",
       "<table border=\"1\" class=\"dataframe\">\n",
       "  <thead>\n",
       "    <tr style=\"text-align: right;\">\n",
       "      <th></th>\n",
       "      <th>member_id</th>\n",
       "      <th>ndc_number</th>\n",
       "      <th>new_or_refill</th>\n",
       "      <th>drug_quantity_rate</th>\n",
       "    </tr>\n",
       "  </thead>\n",
       "  <tbody>\n",
       "    <tr>\n",
       "      <th>0</th>\n",
       "      <td>AAHLhKW7RYOEQIemWrh/1w==</td>\n",
       "      <td>60505013400</td>\n",
       "      <td>N</td>\n",
       "      <td>1.0</td>\n",
       "    </tr>\n",
       "    <tr>\n",
       "      <th>1</th>\n",
       "      <td>AAHLhKW7RYOEQIemWrh/1w==</td>\n",
       "      <td>62175013643</td>\n",
       "      <td>N</td>\n",
       "      <td>1.0</td>\n",
       "    </tr>\n",
       "    <tr>\n",
       "      <th>2</th>\n",
       "      <td>AAHLhKW7RYOEQIemWrh/1w==</td>\n",
       "      <td>50742013510</td>\n",
       "      <td>N</td>\n",
       "      <td>1.0</td>\n",
       "    </tr>\n",
       "    <tr>\n",
       "      <th>3</th>\n",
       "      <td>AAHLhKW7RYOEQIemWrh/1w==</td>\n",
       "      <td>60505267108</td>\n",
       "      <td>N</td>\n",
       "      <td>1.0</td>\n",
       "    </tr>\n",
       "    <tr>\n",
       "      <th>4</th>\n",
       "      <td>AAHLhKW7RYOEQIemWrh/1w==</td>\n",
       "      <td>43547039910</td>\n",
       "      <td>N</td>\n",
       "      <td>1.0</td>\n",
       "    </tr>\n",
       "  </tbody>\n",
       "</table>\n",
       "</div>"
      ],
      "text/plain": [
       "                  member_id   ndc_number new_or_refill  drug_quantity_rate\n",
       "0  AAHLhKW7RYOEQIemWrh/1w==  60505013400             N                 1.0\n",
       "1  AAHLhKW7RYOEQIemWrh/1w==  62175013643             N                 1.0\n",
       "2  AAHLhKW7RYOEQIemWrh/1w==  50742013510             N                 1.0\n",
       "3  AAHLhKW7RYOEQIemWrh/1w==  60505267108             N                 1.0\n",
       "4  AAHLhKW7RYOEQIemWrh/1w==  43547039910             N                 1.0"
      ]
     },
     "execution_count": 169,
     "metadata": {},
     "output_type": "execute_result"
    }
   ],
   "source": [
    "df5_subset.head()"
   ]
  },
  {
   "cell_type": "code",
   "execution_count": 170,
   "metadata": {},
   "outputs": [
    {
     "name": "stdout",
     "output_type": "stream",
     "text": [
      "A file already exists with this name.\n",
      "\n",
      "Do you want to overwrite? (Y/N)Y\n",
      "Writing file.  \"../Outputs/df5_subset.csv\"\n"
     ]
    }
   ],
   "source": [
    "# save the data to a new csv file\n",
    "datapath = '../Outputs'\n",
    "save_file(df5_subset, 'df5_subset.csv', datapath)"
   ]
  },
  {
   "cell_type": "code",
   "execution_count": 168,
   "metadata": {},
   "outputs": [],
   "source": [
    "df5_res=df5_one_record_per_member_id(df5_subset)"
   ]
  },
  {
   "cell_type": "code",
   "execution_count": 169,
   "metadata": {},
   "outputs": [
    {
     "data": {
      "text/html": [
       "<div>\n",
       "<style scoped>\n",
       "    .dataframe tbody tr th:only-of-type {\n",
       "        vertical-align: middle;\n",
       "    }\n",
       "\n",
       "    .dataframe tbody tr th {\n",
       "        vertical-align: top;\n",
       "    }\n",
       "\n",
       "    .dataframe thead th {\n",
       "        text-align: right;\n",
       "    }\n",
       "</style>\n",
       "<table border=\"1\" class=\"dataframe\">\n",
       "  <thead>\n",
       "    <tr style=\"text-align: right;\">\n",
       "      <th></th>\n",
       "      <th>member_id</th>\n",
       "      <th>ndc#_60505013400</th>\n",
       "      <th>ndc#_60505013400_rate</th>\n",
       "      <th>ncd#_60505013400_refill</th>\n",
       "      <th>ndc#_62175013643</th>\n",
       "      <th>ndc#_62175013643_rate</th>\n",
       "      <th>ncd#_62175013643_refill</th>\n",
       "      <th>ndc#_50742013510</th>\n",
       "      <th>ndc#_50742013510_rate</th>\n",
       "      <th>ncd#_50742013510_refill</th>\n",
       "      <th>...</th>\n",
       "      <th>ncd#_93739286_refill</th>\n",
       "      <th>ndc#_40093010390</th>\n",
       "      <th>ndc#_40093010390_rate</th>\n",
       "      <th>ncd#_40093010390_refill</th>\n",
       "      <th>ndc#_50924047550</th>\n",
       "      <th>ndc#_50924047550_rate</th>\n",
       "      <th>ncd#_50924047550_refill</th>\n",
       "      <th>ndc#_66758019005</th>\n",
       "      <th>ndc#_66758019005_rate</th>\n",
       "      <th>ncd#_66758019005_refill</th>\n",
       "    </tr>\n",
       "  </thead>\n",
       "  <tbody>\n",
       "    <tr>\n",
       "      <th>0</th>\n",
       "      <td>AAHLhKW7RYOEQIemWrh/1w==</td>\n",
       "      <td>0</td>\n",
       "      <td>0</td>\n",
       "      <td>0</td>\n",
       "      <td>0</td>\n",
       "      <td>0</td>\n",
       "      <td>0</td>\n",
       "      <td>0</td>\n",
       "      <td>0</td>\n",
       "      <td>0</td>\n",
       "      <td>...</td>\n",
       "      <td>0</td>\n",
       "      <td>0</td>\n",
       "      <td>0</td>\n",
       "      <td>0</td>\n",
       "      <td>0</td>\n",
       "      <td>0</td>\n",
       "      <td>0</td>\n",
       "      <td>0</td>\n",
       "      <td>0</td>\n",
       "      <td>0</td>\n",
       "    </tr>\n",
       "    <tr>\n",
       "      <th>1</th>\n",
       "      <td>ADD7uXD9TBOUjJD43H3tNw==</td>\n",
       "      <td>0</td>\n",
       "      <td>0</td>\n",
       "      <td>0</td>\n",
       "      <td>0</td>\n",
       "      <td>0</td>\n",
       "      <td>0</td>\n",
       "      <td>0</td>\n",
       "      <td>0</td>\n",
       "      <td>0</td>\n",
       "      <td>...</td>\n",
       "      <td>0</td>\n",
       "      <td>0</td>\n",
       "      <td>0</td>\n",
       "      <td>0</td>\n",
       "      <td>0</td>\n",
       "      <td>0</td>\n",
       "      <td>0</td>\n",
       "      <td>0</td>\n",
       "      <td>0</td>\n",
       "      <td>0</td>\n",
       "    </tr>\n",
       "    <tr>\n",
       "      <th>2</th>\n",
       "      <td>AH8v69t8QBW1u2Iuh/5qlQ==</td>\n",
       "      <td>0</td>\n",
       "      <td>0</td>\n",
       "      <td>0</td>\n",
       "      <td>0</td>\n",
       "      <td>0</td>\n",
       "      <td>0</td>\n",
       "      <td>0</td>\n",
       "      <td>0</td>\n",
       "      <td>0</td>\n",
       "      <td>...</td>\n",
       "      <td>0</td>\n",
       "      <td>0</td>\n",
       "      <td>0</td>\n",
       "      <td>0</td>\n",
       "      <td>0</td>\n",
       "      <td>0</td>\n",
       "      <td>0</td>\n",
       "      <td>0</td>\n",
       "      <td>0</td>\n",
       "      <td>0</td>\n",
       "    </tr>\n",
       "    <tr>\n",
       "      <th>3</th>\n",
       "      <td>AIEq/y06TGOCCjwkDzmaeA==</td>\n",
       "      <td>0</td>\n",
       "      <td>0</td>\n",
       "      <td>0</td>\n",
       "      <td>0</td>\n",
       "      <td>0</td>\n",
       "      <td>0</td>\n",
       "      <td>0</td>\n",
       "      <td>0</td>\n",
       "      <td>0</td>\n",
       "      <td>...</td>\n",
       "      <td>0</td>\n",
       "      <td>0</td>\n",
       "      <td>0</td>\n",
       "      <td>0</td>\n",
       "      <td>0</td>\n",
       "      <td>0</td>\n",
       "      <td>0</td>\n",
       "      <td>0</td>\n",
       "      <td>0</td>\n",
       "      <td>0</td>\n",
       "    </tr>\n",
       "    <tr>\n",
       "      <th>4</th>\n",
       "      <td>AIfxyYzERH6jOgV6KZqn+g==</td>\n",
       "      <td>0</td>\n",
       "      <td>0</td>\n",
       "      <td>0</td>\n",
       "      <td>0</td>\n",
       "      <td>0</td>\n",
       "      <td>0</td>\n",
       "      <td>0</td>\n",
       "      <td>0</td>\n",
       "      <td>0</td>\n",
       "      <td>...</td>\n",
       "      <td>0</td>\n",
       "      <td>0</td>\n",
       "      <td>0</td>\n",
       "      <td>0</td>\n",
       "      <td>0</td>\n",
       "      <td>0</td>\n",
       "      <td>0</td>\n",
       "      <td>0</td>\n",
       "      <td>0</td>\n",
       "      <td>0</td>\n",
       "    </tr>\n",
       "  </tbody>\n",
       "</table>\n",
       "<p>5 rows × 22453 columns</p>\n",
       "</div>"
      ],
      "text/plain": [
       "                  member_id  ndc#_60505013400  ndc#_60505013400_rate  \\\n",
       "0  AAHLhKW7RYOEQIemWrh/1w==                 0                      0   \n",
       "1  ADD7uXD9TBOUjJD43H3tNw==                 0                      0   \n",
       "2  AH8v69t8QBW1u2Iuh/5qlQ==                 0                      0   \n",
       "3  AIEq/y06TGOCCjwkDzmaeA==                 0                      0   \n",
       "4  AIfxyYzERH6jOgV6KZqn+g==                 0                      0   \n",
       "\n",
       "   ncd#_60505013400_refill  ndc#_62175013643  ndc#_62175013643_rate  \\\n",
       "0                        0                 0                      0   \n",
       "1                        0                 0                      0   \n",
       "2                        0                 0                      0   \n",
       "3                        0                 0                      0   \n",
       "4                        0                 0                      0   \n",
       "\n",
       "   ncd#_62175013643_refill  ndc#_50742013510  ndc#_50742013510_rate  \\\n",
       "0                        0                 0                      0   \n",
       "1                        0                 0                      0   \n",
       "2                        0                 0                      0   \n",
       "3                        0                 0                      0   \n",
       "4                        0                 0                      0   \n",
       "\n",
       "   ncd#_50742013510_refill  ...  ncd#_93739286_refill  ndc#_40093010390  \\\n",
       "0                        0  ...                     0                 0   \n",
       "1                        0  ...                     0                 0   \n",
       "2                        0  ...                     0                 0   \n",
       "3                        0  ...                     0                 0   \n",
       "4                        0  ...                     0                 0   \n",
       "\n",
       "   ndc#_40093010390_rate  ncd#_40093010390_refill  ndc#_50924047550  \\\n",
       "0                      0                        0                 0   \n",
       "1                      0                        0                 0   \n",
       "2                      0                        0                 0   \n",
       "3                      0                        0                 0   \n",
       "4                      0                        0                 0   \n",
       "\n",
       "   ndc#_50924047550_rate  ncd#_50924047550_refill  ndc#_66758019005  \\\n",
       "0                      0                        0                 0   \n",
       "1                      0                        0                 0   \n",
       "2                      0                        0                 0   \n",
       "3                      0                        0                 0   \n",
       "4                      0                        0                 0   \n",
       "\n",
       "   ndc#_66758019005_rate  ncd#_66758019005_refill  \n",
       "0                      0                        0  \n",
       "1                      0                        0  \n",
       "2                      0                        0  \n",
       "3                      0                        0  \n",
       "4                      0                        0  \n",
       "\n",
       "[5 rows x 22453 columns]"
      ]
     },
     "execution_count": 169,
     "metadata": {},
     "output_type": "execute_result"
    }
   ],
   "source": [
    "df5_res.head()"
   ]
  },
  {
   "cell_type": "code",
   "execution_count": 170,
   "metadata": {},
   "outputs": [],
   "source": [
    "#df5_res=fill_df5_res(df5_res, df5_subset)"
   ]
  },
  {
   "cell_type": "code",
   "execution_count": 171,
   "metadata": {},
   "outputs": [
    {
     "name": "stdout",
     "output_type": "stream",
     "text": [
      "Writing file.  \"../Outputs/df5_res.csv\"\n"
     ]
    }
   ],
   "source": [
    "# save the data to a new csv file\n",
    "datapath = '../Outputs'\n",
    "save_file(df5_res, 'df5_res.csv', datapath)"
   ]
  },
  {
   "cell_type": "code",
   "execution_count": 172,
   "metadata": {},
   "outputs": [
    {
     "data": {
      "text/plain": [
       "member_id                  2410\n",
       "ndc#_60505013400              2\n",
       "ndc#_60505013400_rate         3\n",
       "ncd#_60505013400_refill       1\n",
       "ndc#_62175013643              2\n",
       "                           ... \n",
       "ndc#_10135018210_refill       1\n",
       "ndc#_832102510_refill         1\n",
       "ndc#_71093012105_refill       1\n",
       "ndc#_43598075360_refill       1\n",
       "ndc#_64380086106_refill       1\n",
       "Length: 26503, dtype: int64"
      ]
     },
     "execution_count": 172,
     "metadata": {},
     "output_type": "execute_result"
    }
   ],
   "source": [
    "df5_res.nunique()"
   ]
  },
  {
   "cell_type": "code",
   "execution_count": 177,
   "metadata": {},
   "outputs": [
    {
     "data": {
      "text/html": [
       "<div>\n",
       "<style scoped>\n",
       "    .dataframe tbody tr th:only-of-type {\n",
       "        vertical-align: middle;\n",
       "    }\n",
       "\n",
       "    .dataframe tbody tr th {\n",
       "        vertical-align: top;\n",
       "    }\n",
       "\n",
       "    .dataframe thead th {\n",
       "        text-align: right;\n",
       "    }\n",
       "</style>\n",
       "<table border=\"1\" class=\"dataframe\">\n",
       "  <thead>\n",
       "    <tr style=\"text-align: right;\">\n",
       "      <th></th>\n",
       "      <th>member_id</th>\n",
       "      <th>ndc_number</th>\n",
       "      <th>new_or_refill</th>\n",
       "      <th>drug_quantity_rate</th>\n",
       "    </tr>\n",
       "  </thead>\n",
       "  <tbody>\n",
       "    <tr>\n",
       "      <th>0</th>\n",
       "      <td>AAHLhKW7RYOEQIemWrh/1w==</td>\n",
       "      <td>60505013400</td>\n",
       "      <td>N</td>\n",
       "      <td>1.0</td>\n",
       "    </tr>\n",
       "    <tr>\n",
       "      <th>1</th>\n",
       "      <td>AAHLhKW7RYOEQIemWrh/1w==</td>\n",
       "      <td>62175013643</td>\n",
       "      <td>N</td>\n",
       "      <td>1.0</td>\n",
       "    </tr>\n",
       "    <tr>\n",
       "      <th>2</th>\n",
       "      <td>AAHLhKW7RYOEQIemWrh/1w==</td>\n",
       "      <td>50742013510</td>\n",
       "      <td>N</td>\n",
       "      <td>1.0</td>\n",
       "    </tr>\n",
       "    <tr>\n",
       "      <th>3</th>\n",
       "      <td>AAHLhKW7RYOEQIemWrh/1w==</td>\n",
       "      <td>60505267108</td>\n",
       "      <td>N</td>\n",
       "      <td>1.0</td>\n",
       "    </tr>\n",
       "    <tr>\n",
       "      <th>4</th>\n",
       "      <td>AAHLhKW7RYOEQIemWrh/1w==</td>\n",
       "      <td>43547039910</td>\n",
       "      <td>N</td>\n",
       "      <td>1.0</td>\n",
       "    </tr>\n",
       "  </tbody>\n",
       "</table>\n",
       "</div>"
      ],
      "text/plain": [
       "                  member_id   ndc_number new_or_refill  drug_quantity_rate\n",
       "0  AAHLhKW7RYOEQIemWrh/1w==  60505013400             N                 1.0\n",
       "1  AAHLhKW7RYOEQIemWrh/1w==  62175013643             N                 1.0\n",
       "2  AAHLhKW7RYOEQIemWrh/1w==  50742013510             N                 1.0\n",
       "3  AAHLhKW7RYOEQIemWrh/1w==  60505267108             N                 1.0\n",
       "4  AAHLhKW7RYOEQIemWrh/1w==  43547039910             N                 1.0"
      ]
     },
     "execution_count": 177,
     "metadata": {},
     "output_type": "execute_result"
    }
   ],
   "source": [
    "df5.head()"
   ]
  },
  {
   "cell_type": "code",
   "execution_count": 180,
   "metadata": {},
   "outputs": [
    {
     "data": {
      "text/html": [
       "<div>\n",
       "<style scoped>\n",
       "    .dataframe tbody tr th:only-of-type {\n",
       "        vertical-align: middle;\n",
       "    }\n",
       "\n",
       "    .dataframe tbody tr th {\n",
       "        vertical-align: top;\n",
       "    }\n",
       "\n",
       "    .dataframe thead th {\n",
       "        text-align: right;\n",
       "    }\n",
       "</style>\n",
       "<table border=\"1\" class=\"dataframe\">\n",
       "  <thead>\n",
       "    <tr style=\"text-align: right;\">\n",
       "      <th></th>\n",
       "      <th>member_id</th>\n",
       "      <th>ndc_number</th>\n",
       "      <th>new_or_refill</th>\n",
       "      <th>drug_quantity_rate</th>\n",
       "    </tr>\n",
       "  </thead>\n",
       "  <tbody>\n",
       "    <tr>\n",
       "      <th>3180</th>\n",
       "      <td>AH8v69t8QBW1u2Iuh/5qlQ==</td>\n",
       "      <td>52565001480</td>\n",
       "      <td>R</td>\n",
       "      <td>0.375</td>\n",
       "    </tr>\n",
       "    <tr>\n",
       "      <th>3192</th>\n",
       "      <td>AH8v69t8QBW1u2Iuh/5qlQ==</td>\n",
       "      <td>52565001480</td>\n",
       "      <td>R</td>\n",
       "      <td>0.375</td>\n",
       "    </tr>\n",
       "    <tr>\n",
       "      <th>3202</th>\n",
       "      <td>AH8v69t8QBW1u2Iuh/5qlQ==</td>\n",
       "      <td>52565001480</td>\n",
       "      <td>R</td>\n",
       "      <td>0.375</td>\n",
       "    </tr>\n",
       "  </tbody>\n",
       "</table>\n",
       "</div>"
      ],
      "text/plain": [
       "                     member_id   ndc_number new_or_refill  drug_quantity_rate\n",
       "3180  AH8v69t8QBW1u2Iuh/5qlQ==  52565001480             R               0.375\n",
       "3192  AH8v69t8QBW1u2Iuh/5qlQ==  52565001480             R               0.375\n",
       "3202  AH8v69t8QBW1u2Iuh/5qlQ==  52565001480             R               0.375"
      ]
     },
     "execution_count": 180,
     "metadata": {},
     "output_type": "execute_result"
    }
   ],
   "source": [
    "df5[(df5['member_id']=='AH8v69t8QBW1u2Iuh/5qlQ==')& (df5['ndc_number']=='52565001480') ]"
   ]
  },
  {
   "cell_type": "code",
   "execution_count": 173,
   "metadata": {},
   "outputs": [
    {
     "name": "stdout",
     "output_type": "stream",
     "text": [
      "<class 'pandas.core.frame.DataFrame'>\n",
      "RangeIndex: 2410 entries, 0 to 2409\n",
      "Columns: 26503 entries, member_id to ndc#_64380086106_refill\n",
      "dtypes: float64(9220), int64(17282), object(1)\n",
      "memory usage: 487.3+ MB\n"
     ]
    }
   ],
   "source": [
    "df5_res.info()"
   ]
  },
  {
   "cell_type": "code",
   "execution_count": 174,
   "metadata": {},
   "outputs": [
    {
     "data": {
      "text/plain": [
       "2    0.375\n",
       "Name: ndc#_52565001480_rate, dtype: float64"
      ]
     },
     "execution_count": 174,
     "metadata": {},
     "output_type": "execute_result"
    }
   ],
   "source": [
    "df5_res[df5_res['member_id']=='AH8v69t8QBW1u2Iuh/5qlQ==']['ndc#_52565001480_rate']\n",
    "# check df5_res"
   ]
  },
  {
   "cell_type": "code",
   "execution_count": 175,
   "metadata": {},
   "outputs": [
    {
     "data": {
      "text/plain": [
       "array([nan,  1.])"
      ]
     },
     "execution_count": 175,
     "metadata": {},
     "output_type": "execute_result"
    }
   ],
   "source": [
    "df5_res['ndc#_591034301_refill'].unique()"
   ]
  },
  {
   "cell_type": "code",
   "execution_count": 171,
   "metadata": {},
   "outputs": [
    {
     "data": {
      "text/html": [
       "<div>\n",
       "<style scoped>\n",
       "    .dataframe tbody tr th:only-of-type {\n",
       "        vertical-align: middle;\n",
       "    }\n",
       "\n",
       "    .dataframe tbody tr th {\n",
       "        vertical-align: top;\n",
       "    }\n",
       "\n",
       "    .dataframe thead th {\n",
       "        text-align: right;\n",
       "    }\n",
       "</style>\n",
       "<table border=\"1\" class=\"dataframe\">\n",
       "  <thead>\n",
       "    <tr style=\"text-align: right;\">\n",
       "      <th></th>\n",
       "      <th>member_id</th>\n",
       "      <th>ndc#_60505013400</th>\n",
       "      <th>ndc#_60505013400_rate</th>\n",
       "      <th>ncd#_60505013400_refill</th>\n",
       "      <th>ndc#_62175013643</th>\n",
       "      <th>ndc#_62175013643_rate</th>\n",
       "      <th>ncd#_62175013643_refill</th>\n",
       "      <th>ndc#_50742013510</th>\n",
       "      <th>ndc#_50742013510_rate</th>\n",
       "      <th>ncd#_50742013510_refill</th>\n",
       "      <th>...</th>\n",
       "      <th>ndc#_228300311_refill</th>\n",
       "      <th>ndc#_172392760_refill</th>\n",
       "      <th>ndc#_59746038410_refill</th>\n",
       "      <th>ndc#_68382013710_refill</th>\n",
       "      <th>ndc#_16252060102_refill</th>\n",
       "      <th>ndc#_10135018210_refill</th>\n",
       "      <th>ndc#_832102510_refill</th>\n",
       "      <th>ndc#_71093012105_refill</th>\n",
       "      <th>ndc#_43598075360_refill</th>\n",
       "      <th>ndc#_64380086106_refill</th>\n",
       "    </tr>\n",
       "  </thead>\n",
       "  <tbody>\n",
       "    <tr>\n",
       "      <th>0</th>\n",
       "      <td>AAHLhKW7RYOEQIemWrh/1w==</td>\n",
       "      <td>1</td>\n",
       "      <td>1.0</td>\n",
       "      <td>0</td>\n",
       "      <td>1</td>\n",
       "      <td>1.0</td>\n",
       "      <td>0</td>\n",
       "      <td>1</td>\n",
       "      <td>1.0</td>\n",
       "      <td>0</td>\n",
       "      <td>...</td>\n",
       "      <td>NaN</td>\n",
       "      <td>NaN</td>\n",
       "      <td>NaN</td>\n",
       "      <td>NaN</td>\n",
       "      <td>NaN</td>\n",
       "      <td>NaN</td>\n",
       "      <td>NaN</td>\n",
       "      <td>NaN</td>\n",
       "      <td>NaN</td>\n",
       "      <td>NaN</td>\n",
       "    </tr>\n",
       "    <tr>\n",
       "      <th>1</th>\n",
       "      <td>ADD7uXD9TBOUjJD43H3tNw==</td>\n",
       "      <td>0</td>\n",
       "      <td>0.0</td>\n",
       "      <td>0</td>\n",
       "      <td>0</td>\n",
       "      <td>0.0</td>\n",
       "      <td>0</td>\n",
       "      <td>0</td>\n",
       "      <td>0.0</td>\n",
       "      <td>0</td>\n",
       "      <td>...</td>\n",
       "      <td>NaN</td>\n",
       "      <td>NaN</td>\n",
       "      <td>NaN</td>\n",
       "      <td>NaN</td>\n",
       "      <td>NaN</td>\n",
       "      <td>NaN</td>\n",
       "      <td>NaN</td>\n",
       "      <td>NaN</td>\n",
       "      <td>NaN</td>\n",
       "      <td>NaN</td>\n",
       "    </tr>\n",
       "    <tr>\n",
       "      <th>2</th>\n",
       "      <td>AH8v69t8QBW1u2Iuh/5qlQ==</td>\n",
       "      <td>0</td>\n",
       "      <td>0.0</td>\n",
       "      <td>0</td>\n",
       "      <td>0</td>\n",
       "      <td>0.0</td>\n",
       "      <td>0</td>\n",
       "      <td>0</td>\n",
       "      <td>0.0</td>\n",
       "      <td>0</td>\n",
       "      <td>...</td>\n",
       "      <td>NaN</td>\n",
       "      <td>NaN</td>\n",
       "      <td>NaN</td>\n",
       "      <td>NaN</td>\n",
       "      <td>NaN</td>\n",
       "      <td>NaN</td>\n",
       "      <td>NaN</td>\n",
       "      <td>NaN</td>\n",
       "      <td>NaN</td>\n",
       "      <td>NaN</td>\n",
       "    </tr>\n",
       "    <tr>\n",
       "      <th>3</th>\n",
       "      <td>AIEq/y06TGOCCjwkDzmaeA==</td>\n",
       "      <td>0</td>\n",
       "      <td>0.0</td>\n",
       "      <td>0</td>\n",
       "      <td>0</td>\n",
       "      <td>0.0</td>\n",
       "      <td>0</td>\n",
       "      <td>0</td>\n",
       "      <td>0.0</td>\n",
       "      <td>0</td>\n",
       "      <td>...</td>\n",
       "      <td>NaN</td>\n",
       "      <td>NaN</td>\n",
       "      <td>NaN</td>\n",
       "      <td>NaN</td>\n",
       "      <td>NaN</td>\n",
       "      <td>NaN</td>\n",
       "      <td>NaN</td>\n",
       "      <td>NaN</td>\n",
       "      <td>NaN</td>\n",
       "      <td>NaN</td>\n",
       "    </tr>\n",
       "    <tr>\n",
       "      <th>4</th>\n",
       "      <td>AIfxyYzERH6jOgV6KZqn+g==</td>\n",
       "      <td>0</td>\n",
       "      <td>0.0</td>\n",
       "      <td>0</td>\n",
       "      <td>0</td>\n",
       "      <td>0.0</td>\n",
       "      <td>0</td>\n",
       "      <td>0</td>\n",
       "      <td>0.0</td>\n",
       "      <td>0</td>\n",
       "      <td>...</td>\n",
       "      <td>NaN</td>\n",
       "      <td>NaN</td>\n",
       "      <td>NaN</td>\n",
       "      <td>NaN</td>\n",
       "      <td>NaN</td>\n",
       "      <td>NaN</td>\n",
       "      <td>NaN</td>\n",
       "      <td>NaN</td>\n",
       "      <td>NaN</td>\n",
       "      <td>NaN</td>\n",
       "    </tr>\n",
       "  </tbody>\n",
       "</table>\n",
       "<p>5 rows × 26503 columns</p>\n",
       "</div>"
      ],
      "text/plain": [
       "                  member_id  ndc#_60505013400  ndc#_60505013400_rate  \\\n",
       "0  AAHLhKW7RYOEQIemWrh/1w==                 1                    1.0   \n",
       "1  ADD7uXD9TBOUjJD43H3tNw==                 0                    0.0   \n",
       "2  AH8v69t8QBW1u2Iuh/5qlQ==                 0                    0.0   \n",
       "3  AIEq/y06TGOCCjwkDzmaeA==                 0                    0.0   \n",
       "4  AIfxyYzERH6jOgV6KZqn+g==                 0                    0.0   \n",
       "\n",
       "   ncd#_60505013400_refill  ndc#_62175013643  ndc#_62175013643_rate  \\\n",
       "0                        0                 1                    1.0   \n",
       "1                        0                 0                    0.0   \n",
       "2                        0                 0                    0.0   \n",
       "3                        0                 0                    0.0   \n",
       "4                        0                 0                    0.0   \n",
       "\n",
       "   ncd#_62175013643_refill  ndc#_50742013510  ndc#_50742013510_rate  \\\n",
       "0                        0                 1                    1.0   \n",
       "1                        0                 0                    0.0   \n",
       "2                        0                 0                    0.0   \n",
       "3                        0                 0                    0.0   \n",
       "4                        0                 0                    0.0   \n",
       "\n",
       "   ncd#_50742013510_refill  ...  ndc#_228300311_refill  ndc#_172392760_refill  \\\n",
       "0                        0  ...                    NaN                    NaN   \n",
       "1                        0  ...                    NaN                    NaN   \n",
       "2                        0  ...                    NaN                    NaN   \n",
       "3                        0  ...                    NaN                    NaN   \n",
       "4                        0  ...                    NaN                    NaN   \n",
       "\n",
       "   ndc#_59746038410_refill  ndc#_68382013710_refill  ndc#_16252060102_refill  \\\n",
       "0                      NaN                      NaN                      NaN   \n",
       "1                      NaN                      NaN                      NaN   \n",
       "2                      NaN                      NaN                      NaN   \n",
       "3                      NaN                      NaN                      NaN   \n",
       "4                      NaN                      NaN                      NaN   \n",
       "\n",
       "   ndc#_10135018210_refill  ndc#_832102510_refill  ndc#_71093012105_refill  \\\n",
       "0                      NaN                    NaN                      NaN   \n",
       "1                      NaN                    NaN                      NaN   \n",
       "2                      NaN                    NaN                      NaN   \n",
       "3                      NaN                    NaN                      NaN   \n",
       "4                      NaN                    NaN                      NaN   \n",
       "\n",
       "   ndc#_43598075360_refill  ndc#_64380086106_refill  \n",
       "0                      NaN                      NaN  \n",
       "1                      NaN                      NaN  \n",
       "2                      NaN                      NaN  \n",
       "3                      NaN                      NaN  \n",
       "4                      NaN                      NaN  \n",
       "\n",
       "[5 rows x 26503 columns]"
      ]
     },
     "execution_count": 171,
     "metadata": {},
     "output_type": "execute_result"
    }
   ],
   "source": [
    "df5_res=pd.read_csv('../Outputs/df5_res.csv')\n",
    "df5_res.head()"
   ]
  },
  {
   "cell_type": "markdown",
   "metadata": {},
   "source": [
    "We have nulls in our 'df5_res' dataframe, which are in fact supposed to be 0. We will replace nulls with zero. "
   ]
  },
  {
   "cell_type": "markdown",
   "metadata": {},
   "source": [
    "### Part C <a id='Part_C'></a>    "
   ]
  },
  {
   "cell_type": "markdown",
   "metadata": {},
   "source": [
    "### 2.10  Join the Converted Dataframes<a id='2.10_Join_the_Dataframes'></a>"
   ]
  },
  {
   "cell_type": "markdown",
   "metadata": {},
   "source": [
    "Here we will join the dataframes 'df1_res', 'df2_res', 'df3_res', 'df4_res', 'df5_res' to get the dataframe we will use in our model."
   ]
  },
  {
   "cell_type": "code",
   "execution_count": 172,
   "metadata": {},
   "outputs": [
    {
     "data": {
      "text/html": [
       "<div>\n",
       "<style scoped>\n",
       "    .dataframe tbody tr th:only-of-type {\n",
       "        vertical-align: middle;\n",
       "    }\n",
       "\n",
       "    .dataframe tbody tr th {\n",
       "        vertical-align: top;\n",
       "    }\n",
       "\n",
       "    .dataframe thead th {\n",
       "        text-align: right;\n",
       "    }\n",
       "</style>\n",
       "<table border=\"1\" class=\"dataframe\">\n",
       "  <thead>\n",
       "    <tr style=\"text-align: right;\">\n",
       "      <th></th>\n",
       "      <th>member_id</th>\n",
       "      <th>icd_I10</th>\n",
       "      <th>icd_I10_chronic</th>\n",
       "      <th>icd_I739</th>\n",
       "      <th>icd_I739_chronic</th>\n",
       "      <th>icd_neither</th>\n",
       "      <th>icd_neither_chronic</th>\n",
       "      <th>num_of_visit</th>\n",
       "      <th>v1</th>\n",
       "      <th>v1_re_adm</th>\n",
       "      <th>...</th>\n",
       "      <th>ndc#_228300311_refill</th>\n",
       "      <th>ndc#_172392760_refill</th>\n",
       "      <th>ndc#_59746038410_refill</th>\n",
       "      <th>ndc#_68382013710_refill</th>\n",
       "      <th>ndc#_16252060102_refill</th>\n",
       "      <th>ndc#_10135018210_refill</th>\n",
       "      <th>ndc#_832102510_refill</th>\n",
       "      <th>ndc#_71093012105_refill</th>\n",
       "      <th>ndc#_43598075360_refill</th>\n",
       "      <th>ndc#_64380086106_refill</th>\n",
       "    </tr>\n",
       "  </thead>\n",
       "  <tbody>\n",
       "    <tr>\n",
       "      <th>0</th>\n",
       "      <td>nr+43zfHQPKSwx2IJuJI5Q==</td>\n",
       "      <td>1</td>\n",
       "      <td>0</td>\n",
       "      <td>0</td>\n",
       "      <td>0</td>\n",
       "      <td>0</td>\n",
       "      <td>0</td>\n",
       "      <td>1.0</td>\n",
       "      <td>1.0</td>\n",
       "      <td>0.0</td>\n",
       "      <td>...</td>\n",
       "      <td>NaN</td>\n",
       "      <td>NaN</td>\n",
       "      <td>NaN</td>\n",
       "      <td>NaN</td>\n",
       "      <td>NaN</td>\n",
       "      <td>NaN</td>\n",
       "      <td>NaN</td>\n",
       "      <td>NaN</td>\n",
       "      <td>NaN</td>\n",
       "      <td>NaN</td>\n",
       "    </tr>\n",
       "    <tr>\n",
       "      <th>1</th>\n",
       "      <td>Vwf7mI0tTGC4amYJPD6uJg==</td>\n",
       "      <td>0</td>\n",
       "      <td>0</td>\n",
       "      <td>1</td>\n",
       "      <td>1</td>\n",
       "      <td>0</td>\n",
       "      <td>0</td>\n",
       "      <td>1.0</td>\n",
       "      <td>1.0</td>\n",
       "      <td>0.0</td>\n",
       "      <td>...</td>\n",
       "      <td>NaN</td>\n",
       "      <td>NaN</td>\n",
       "      <td>NaN</td>\n",
       "      <td>NaN</td>\n",
       "      <td>NaN</td>\n",
       "      <td>NaN</td>\n",
       "      <td>NaN</td>\n",
       "      <td>NaN</td>\n",
       "      <td>NaN</td>\n",
       "      <td>NaN</td>\n",
       "    </tr>\n",
       "    <tr>\n",
       "      <th>2</th>\n",
       "      <td>TRudRczSQt6dwb6EeZ1RLA==</td>\n",
       "      <td>0</td>\n",
       "      <td>0</td>\n",
       "      <td>1</td>\n",
       "      <td>1</td>\n",
       "      <td>0</td>\n",
       "      <td>0</td>\n",
       "      <td>NaN</td>\n",
       "      <td>NaN</td>\n",
       "      <td>NaN</td>\n",
       "      <td>...</td>\n",
       "      <td>NaN</td>\n",
       "      <td>NaN</td>\n",
       "      <td>NaN</td>\n",
       "      <td>NaN</td>\n",
       "      <td>NaN</td>\n",
       "      <td>NaN</td>\n",
       "      <td>NaN</td>\n",
       "      <td>NaN</td>\n",
       "      <td>NaN</td>\n",
       "      <td>NaN</td>\n",
       "    </tr>\n",
       "    <tr>\n",
       "      <th>3</th>\n",
       "      <td>VjG87+cBSB2B1+loMmoHCg==</td>\n",
       "      <td>0</td>\n",
       "      <td>0</td>\n",
       "      <td>1</td>\n",
       "      <td>1</td>\n",
       "      <td>0</td>\n",
       "      <td>0</td>\n",
       "      <td>2.0</td>\n",
       "      <td>1.0</td>\n",
       "      <td>0.0</td>\n",
       "      <td>...</td>\n",
       "      <td>NaN</td>\n",
       "      <td>NaN</td>\n",
       "      <td>NaN</td>\n",
       "      <td>NaN</td>\n",
       "      <td>NaN</td>\n",
       "      <td>NaN</td>\n",
       "      <td>NaN</td>\n",
       "      <td>NaN</td>\n",
       "      <td>NaN</td>\n",
       "      <td>NaN</td>\n",
       "    </tr>\n",
       "    <tr>\n",
       "      <th>4</th>\n",
       "      <td>7CfP6Hq5Qy6J0rXIuTc7kw==</td>\n",
       "      <td>1</td>\n",
       "      <td>0</td>\n",
       "      <td>0</td>\n",
       "      <td>0</td>\n",
       "      <td>0</td>\n",
       "      <td>0</td>\n",
       "      <td>NaN</td>\n",
       "      <td>NaN</td>\n",
       "      <td>NaN</td>\n",
       "      <td>...</td>\n",
       "      <td>NaN</td>\n",
       "      <td>NaN</td>\n",
       "      <td>NaN</td>\n",
       "      <td>NaN</td>\n",
       "      <td>NaN</td>\n",
       "      <td>NaN</td>\n",
       "      <td>NaN</td>\n",
       "      <td>NaN</td>\n",
       "      <td>NaN</td>\n",
       "      <td>NaN</td>\n",
       "    </tr>\n",
       "    <tr>\n",
       "      <th>...</th>\n",
       "      <td>...</td>\n",
       "      <td>...</td>\n",
       "      <td>...</td>\n",
       "      <td>...</td>\n",
       "      <td>...</td>\n",
       "      <td>...</td>\n",
       "      <td>...</td>\n",
       "      <td>...</td>\n",
       "      <td>...</td>\n",
       "      <td>...</td>\n",
       "      <td>...</td>\n",
       "      <td>...</td>\n",
       "      <td>...</td>\n",
       "      <td>...</td>\n",
       "      <td>...</td>\n",
       "      <td>...</td>\n",
       "      <td>...</td>\n",
       "      <td>...</td>\n",
       "      <td>...</td>\n",
       "      <td>...</td>\n",
       "      <td>...</td>\n",
       "    </tr>\n",
       "    <tr>\n",
       "      <th>2836</th>\n",
       "      <td>rlUlZUMgRTim7Mkdf1yaPg==</td>\n",
       "      <td>0</td>\n",
       "      <td>0</td>\n",
       "      <td>0</td>\n",
       "      <td>0</td>\n",
       "      <td>1</td>\n",
       "      <td>1</td>\n",
       "      <td>NaN</td>\n",
       "      <td>NaN</td>\n",
       "      <td>NaN</td>\n",
       "      <td>...</td>\n",
       "      <td>NaN</td>\n",
       "      <td>NaN</td>\n",
       "      <td>NaN</td>\n",
       "      <td>NaN</td>\n",
       "      <td>NaN</td>\n",
       "      <td>NaN</td>\n",
       "      <td>NaN</td>\n",
       "      <td>NaN</td>\n",
       "      <td>NaN</td>\n",
       "      <td>NaN</td>\n",
       "    </tr>\n",
       "    <tr>\n",
       "      <th>2837</th>\n",
       "      <td>KY3kRZ3uQcqW6+7kl4PbWw==</td>\n",
       "      <td>0</td>\n",
       "      <td>0</td>\n",
       "      <td>0</td>\n",
       "      <td>0</td>\n",
       "      <td>1</td>\n",
       "      <td>1</td>\n",
       "      <td>NaN</td>\n",
       "      <td>NaN</td>\n",
       "      <td>NaN</td>\n",
       "      <td>...</td>\n",
       "      <td>NaN</td>\n",
       "      <td>NaN</td>\n",
       "      <td>NaN</td>\n",
       "      <td>NaN</td>\n",
       "      <td>NaN</td>\n",
       "      <td>NaN</td>\n",
       "      <td>NaN</td>\n",
       "      <td>NaN</td>\n",
       "      <td>NaN</td>\n",
       "      <td>NaN</td>\n",
       "    </tr>\n",
       "    <tr>\n",
       "      <th>2838</th>\n",
       "      <td>71rJt0vGQTaGp1yQ9jBB/g==</td>\n",
       "      <td>0</td>\n",
       "      <td>0</td>\n",
       "      <td>0</td>\n",
       "      <td>0</td>\n",
       "      <td>1</td>\n",
       "      <td>0</td>\n",
       "      <td>4.0</td>\n",
       "      <td>1.0</td>\n",
       "      <td>0.0</td>\n",
       "      <td>...</td>\n",
       "      <td>NaN</td>\n",
       "      <td>NaN</td>\n",
       "      <td>NaN</td>\n",
       "      <td>NaN</td>\n",
       "      <td>NaN</td>\n",
       "      <td>NaN</td>\n",
       "      <td>NaN</td>\n",
       "      <td>NaN</td>\n",
       "      <td>NaN</td>\n",
       "      <td>NaN</td>\n",
       "    </tr>\n",
       "    <tr>\n",
       "      <th>2839</th>\n",
       "      <td>lzOoZy24Qc2CxCC1i1wsEA==</td>\n",
       "      <td>0</td>\n",
       "      <td>0</td>\n",
       "      <td>0</td>\n",
       "      <td>0</td>\n",
       "      <td>1</td>\n",
       "      <td>0</td>\n",
       "      <td>NaN</td>\n",
       "      <td>NaN</td>\n",
       "      <td>NaN</td>\n",
       "      <td>...</td>\n",
       "      <td>NaN</td>\n",
       "      <td>NaN</td>\n",
       "      <td>NaN</td>\n",
       "      <td>NaN</td>\n",
       "      <td>NaN</td>\n",
       "      <td>NaN</td>\n",
       "      <td>NaN</td>\n",
       "      <td>NaN</td>\n",
       "      <td>NaN</td>\n",
       "      <td>NaN</td>\n",
       "    </tr>\n",
       "    <tr>\n",
       "      <th>2840</th>\n",
       "      <td>3uE+j85IT8yqQhaDQ2Pe7Q==</td>\n",
       "      <td>0</td>\n",
       "      <td>0</td>\n",
       "      <td>0</td>\n",
       "      <td>0</td>\n",
       "      <td>1</td>\n",
       "      <td>0</td>\n",
       "      <td>9.0</td>\n",
       "      <td>1.0</td>\n",
       "      <td>0.0</td>\n",
       "      <td>...</td>\n",
       "      <td>NaN</td>\n",
       "      <td>NaN</td>\n",
       "      <td>NaN</td>\n",
       "      <td>NaN</td>\n",
       "      <td>NaN</td>\n",
       "      <td>NaN</td>\n",
       "      <td>NaN</td>\n",
       "      <td>NaN</td>\n",
       "      <td>NaN</td>\n",
       "      <td>NaN</td>\n",
       "    </tr>\n",
       "  </tbody>\n",
       "</table>\n",
       "<p>2841 rows × 30429 columns</p>\n",
       "</div>"
      ],
      "text/plain": [
       "                     member_id  icd_I10  icd_I10_chronic  icd_I739  \\\n",
       "0     nr+43zfHQPKSwx2IJuJI5Q==        1                0         0   \n",
       "1     Vwf7mI0tTGC4amYJPD6uJg==        0                0         1   \n",
       "2     TRudRczSQt6dwb6EeZ1RLA==        0                0         1   \n",
       "3     VjG87+cBSB2B1+loMmoHCg==        0                0         1   \n",
       "4     7CfP6Hq5Qy6J0rXIuTc7kw==        1                0         0   \n",
       "...                        ...      ...              ...       ...   \n",
       "2836  rlUlZUMgRTim7Mkdf1yaPg==        0                0         0   \n",
       "2837  KY3kRZ3uQcqW6+7kl4PbWw==        0                0         0   \n",
       "2838  71rJt0vGQTaGp1yQ9jBB/g==        0                0         0   \n",
       "2839  lzOoZy24Qc2CxCC1i1wsEA==        0                0         0   \n",
       "2840  3uE+j85IT8yqQhaDQ2Pe7Q==        0                0         0   \n",
       "\n",
       "      icd_I739_chronic  icd_neither  icd_neither_chronic  num_of_visit   v1  \\\n",
       "0                    0            0                    0           1.0  1.0   \n",
       "1                    1            0                    0           1.0  1.0   \n",
       "2                    1            0                    0           NaN  NaN   \n",
       "3                    1            0                    0           2.0  1.0   \n",
       "4                    0            0                    0           NaN  NaN   \n",
       "...                ...          ...                  ...           ...  ...   \n",
       "2836                 0            1                    1           NaN  NaN   \n",
       "2837                 0            1                    1           NaN  NaN   \n",
       "2838                 0            1                    0           4.0  1.0   \n",
       "2839                 0            1                    0           NaN  NaN   \n",
       "2840                 0            1                    0           9.0  1.0   \n",
       "\n",
       "      v1_re_adm  ...  ndc#_228300311_refill  ndc#_172392760_refill  \\\n",
       "0           0.0  ...                    NaN                    NaN   \n",
       "1           0.0  ...                    NaN                    NaN   \n",
       "2           NaN  ...                    NaN                    NaN   \n",
       "3           0.0  ...                    NaN                    NaN   \n",
       "4           NaN  ...                    NaN                    NaN   \n",
       "...         ...  ...                    ...                    ...   \n",
       "2836        NaN  ...                    NaN                    NaN   \n",
       "2837        NaN  ...                    NaN                    NaN   \n",
       "2838        0.0  ...                    NaN                    NaN   \n",
       "2839        NaN  ...                    NaN                    NaN   \n",
       "2840        0.0  ...                    NaN                    NaN   \n",
       "\n",
       "      ndc#_59746038410_refill  ndc#_68382013710_refill  \\\n",
       "0                         NaN                      NaN   \n",
       "1                         NaN                      NaN   \n",
       "2                         NaN                      NaN   \n",
       "3                         NaN                      NaN   \n",
       "4                         NaN                      NaN   \n",
       "...                       ...                      ...   \n",
       "2836                      NaN                      NaN   \n",
       "2837                      NaN                      NaN   \n",
       "2838                      NaN                      NaN   \n",
       "2839                      NaN                      NaN   \n",
       "2840                      NaN                      NaN   \n",
       "\n",
       "      ndc#_16252060102_refill  ndc#_10135018210_refill  ndc#_832102510_refill  \\\n",
       "0                         NaN                      NaN                    NaN   \n",
       "1                         NaN                      NaN                    NaN   \n",
       "2                         NaN                      NaN                    NaN   \n",
       "3                         NaN                      NaN                    NaN   \n",
       "4                         NaN                      NaN                    NaN   \n",
       "...                       ...                      ...                    ...   \n",
       "2836                      NaN                      NaN                    NaN   \n",
       "2837                      NaN                      NaN                    NaN   \n",
       "2838                      NaN                      NaN                    NaN   \n",
       "2839                      NaN                      NaN                    NaN   \n",
       "2840                      NaN                      NaN                    NaN   \n",
       "\n",
       "      ndc#_71093012105_refill  ndc#_43598075360_refill  \\\n",
       "0                         NaN                      NaN   \n",
       "1                         NaN                      NaN   \n",
       "2                         NaN                      NaN   \n",
       "3                         NaN                      NaN   \n",
       "4                         NaN                      NaN   \n",
       "...                       ...                      ...   \n",
       "2836                      NaN                      NaN   \n",
       "2837                      NaN                      NaN   \n",
       "2838                      NaN                      NaN   \n",
       "2839                      NaN                      NaN   \n",
       "2840                      NaN                      NaN   \n",
       "\n",
       "      ndc#_64380086106_refill  \n",
       "0                         NaN  \n",
       "1                         NaN  \n",
       "2                         NaN  \n",
       "3                         NaN  \n",
       "4                         NaN  \n",
       "...                       ...  \n",
       "2836                      NaN  \n",
       "2837                      NaN  \n",
       "2838                      NaN  \n",
       "2839                      NaN  \n",
       "2840                      NaN  \n",
       "\n",
       "[2841 rows x 30429 columns]"
      ]
     },
     "execution_count": 172,
     "metadata": {},
     "output_type": "execute_result"
    }
   ],
   "source": [
    "lst=[df1_res, df3_res, df4_res, df5_res]\n",
    "df_final=df2_res\n",
    "for df_ in lst:\n",
    "    df_final=df_final.merge(df_, how='left', on='member_id')\n",
    "df_final   "
   ]
  },
  {
   "cell_type": "markdown",
   "metadata": {},
   "source": [
    "### 2.11  Save the Final Dataframe<a id='2.11_Save_the_Data'></a>"
   ]
  },
  {
   "cell_type": "code",
   "execution_count": 173,
   "metadata": {},
   "outputs": [
    {
     "name": "stdout",
     "output_type": "stream",
     "text": [
      "Writing file.  \"../Outputs/df_final.csv\"\n"
     ]
    }
   ],
   "source": [
    "# save the data to a new csv file\n",
    "datapath = '../Outputs'\n",
    "save_file(df_final, 'df_final.csv', datapath)"
   ]
  },
  {
   "cell_type": "markdown",
   "metadata": {},
   "source": [
    "### 2.12  Final Remarks<a id='2.12_Final_Remarks'></a>"
   ]
  },
  {
   "cell_type": "markdown",
   "metadata": {},
   "source": [
    "We have answered the following questions:\n",
    "\n",
    "* Q1) What are the required target illnesses?\n",
    "* A1) We classify our patients using data from 2018-2019. Patients are classified in the following ways: patients who will have one, both, or neither of diseases 'I10' and 'I739'.\n",
    "\n",
    "\n",
    "* Q2) Are there potentially useful features?\n",
    "* A2) We have 25347 features that are potentially useful. We will use feature selection algorithms to pick the most useful of these features.\n",
    "\n",
    "\n",
    "* Q3) Are there any fundamental issues with the data?\n",
    "* A3) We had numerous issues with the data. Most are fixed. The final dataframe is sparse. We will consider this fact when we choose our model. \n",
    "   "
   ]
  },
  {
   "cell_type": "code",
   "execution_count": null,
   "metadata": {},
   "outputs": [],
   "source": []
  }
 ],
 "metadata": {
  "kernelspec": {
   "display_name": "Python 3",
   "language": "python",
   "name": "python3"
  },
  "language_info": {
   "codemirror_mode": {
    "name": "ipython",
    "version": 3
   },
   "file_extension": ".py",
   "mimetype": "text/x-python",
   "name": "python",
   "nbconvert_exporter": "python",
   "pygments_lexer": "ipython3",
   "version": "3.8.2"
  },
  "toc": {
   "base_numbering": 1,
   "nav_menu": {},
   "number_sections": true,
   "sideBar": true,
   "skip_h1_title": false,
   "title_cell": "Table of Contents",
   "title_sidebar": "Contents",
   "toc_cell": false,
   "toc_position": {},
   "toc_section_display": true,
   "toc_window_display": true
  },
  "varInspector": {
   "cols": {
    "lenName": 16,
    "lenType": 16,
    "lenVar": 40
   },
   "kernels_config": {
    "python": {
     "delete_cmd_postfix": "",
     "delete_cmd_prefix": "del ",
     "library": "var_list.py",
     "varRefreshCmd": "print(var_dic_list())"
    },
    "r": {
     "delete_cmd_postfix": ") ",
     "delete_cmd_prefix": "rm(",
     "library": "var_list.r",
     "varRefreshCmd": "cat(var_dic_list()) "
    }
   },
   "types_to_exclude": [
    "module",
    "function",
    "builtin_function_or_method",
    "instance",
    "_Feature"
   ],
   "window_display": false
  }
 },
 "nbformat": 4,
 "nbformat_minor": 4
}
